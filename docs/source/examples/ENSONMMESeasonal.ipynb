{
 "cells": [
  {
   "cell_type": "code",
   "execution_count": 1,
   "metadata": {},
   "outputs": [],
   "source": [
    "import matplotlib.pyplot as plt\n",
    "import xarray as xr\n",
    "import pandas as pd\n",
    "import numpy as np\n",
    "from climpred import HindcastEnsemble\n",
    "import climpred"
   ]
  },
  {
   "cell_type": "code",
   "execution_count": 2,
   "metadata": {},
   "outputs": [],
   "source": [
    "def decode_cf(ds, time_var):\n",
    "    if ds[time_var].attrs['calendar'] == '360':\n",
    "        ds[time_var].attrs['calendar'] = '360_day'\n",
    "    ds = xr.decode_cf(ds, decode_times=True)\n",
    "    return ds"
   ]
  },
  {
   "cell_type": "code",
   "execution_count": 3,
   "metadata": {},
   "outputs": [],
   "source": [
    "# Nino34 box\n",
    "minlon=190\n",
    "maxlon=240\n",
    "minlat=-5\n",
    "maxlat=5\n",
    "\n",
    "# Years\n",
    "yrmin = '1982-01-01'\n",
    "yrmax = '2010-12-01'\n",
    "\n",
    "# Months per year\n",
    "nmpyr=12"
   ]
  },
  {
   "cell_type": "code",
   "execution_count": 4,
   "metadata": {},
   "outputs": [],
   "source": [
    "# Get NMME data for NCEP-CFSv2, SST\n",
    "url = 'http://iridl.ldeo.columbia.edu/SOURCES/.Models/.NMME/NCEP-CFSv2/.HINDCAST/.MONTHLY/.sst/dods'\n",
    "fullda = decode_cf(xr.open_dataset(url, decode_times=False, chunks={'S': 1, 'L': 12}), 'S')"
   ]
  },
  {
   "cell_type": "code",
   "execution_count": 5,
   "metadata": {},
   "outputs": [],
   "source": [
    "# Make S (init) Dimension datetime & use first of month for date time step (e.g. Monthly Mean for Jan 1982 is 1982-01-01)\n",
    "fullda['S']=pd.to_datetime(fullda.S.values.astype(str))\n",
    "fullda['S']=pd.to_datetime(fullda['S'].dt.strftime('%Y%m01 00:00'))"
   ]
  },
  {
   "cell_type": "code",
   "execution_count": 6,
   "metadata": {},
   "outputs": [],
   "source": [
    "# Make sure lead is an integer: NMME leads are 0.5, 1.5, 2.5, etc, which correspond to 0, 1, 2, ... months since initialization, I think\n",
    "fullda['L']=(fullda['L']-0.5).astype('int')"
   ]
  },
  {
   "cell_type": "code",
   "execution_count": 7,
   "metadata": {},
   "outputs": [],
   "source": [
    "# Rename dimensions for clim pred Hindcast Ensemble object\n",
    "fcst=fullda.rename({'S': 'init','L': 'lead','M': 'member', 'X': 'lon', 'Y': 'lat'})"
   ]
  },
  {
   "cell_type": "code",
   "execution_count": 8,
   "metadata": {},
   "outputs": [],
   "source": [
    "# Calculate nino34\n",
    "fcst=fcst.sel(lat=slice(minlat,maxlat),lon=slice(minlon,maxlon)).mean(['lat','lon'])"
   ]
  },
  {
   "cell_type": "code",
   "execution_count": 9,
   "metadata": {},
   "outputs": [],
   "source": [
    "# Subset lead, and times\n",
    "fcst=fcst.sel(init=slice(yrmin,yrmax))"
   ]
  },
  {
   "cell_type": "code",
   "execution_count": 10,
   "metadata": {},
   "outputs": [],
   "source": [
    "# Make anomalies\n",
    "fcstclimo = fcst.groupby('init.month').mean('init')\n",
    "fcstanoms = (fcst.groupby('init.month') - fcstclimo)"
   ]
  },
  {
   "cell_type": "code",
   "execution_count": 11,
   "metadata": {},
   "outputs": [],
   "source": [
    "# Make Seasonal Averages for model\n",
    "fcstanoms=fcstanoms.rolling(lead=3, center=True).mean().dropna(dim='lead')\n",
    "nleads=fcstanoms['lead'][::3].size"
   ]
  },
  {
   "cell_type": "code",
   "execution_count": 12,
   "metadata": {},
   "outputs": [],
   "source": [
    "# Get verification data\n",
    "obsurl='http://iridl.ldeo.columbia.edu/SOURCES/.Models/.NMME/.OIv2_SST/.sst/dods'\n",
    "obsda = decode_cf(xr.open_dataset(obsurl, decode_times=False),'T')\n",
    "obsda['T']=pd.to_datetime(obsda.T.values.astype(str))\n",
    "obsda['T']=pd.to_datetime(obsda['T'].dt.strftime('%Y%m01 00:00'))"
   ]
  },
  {
   "cell_type": "code",
   "execution_count": 13,
   "metadata": {},
   "outputs": [],
   "source": [
    "# Rename dimensions for clim pred Hindcast Ensemble object\n",
    "obs=obsda.rename({'T': 'time','X': 'lon', 'Y': 'lat'})"
   ]
  },
  {
   "cell_type": "code",
   "execution_count": 14,
   "metadata": {},
   "outputs": [],
   "source": [
    "# Calculate nino34\n",
    "obs=obs.sel(lat=slice(minlat,maxlat),lon=slice(minlon,maxlon)).mean(['lat','lon'])"
   ]
  },
  {
   "cell_type": "code",
   "execution_count": 15,
   "metadata": {},
   "outputs": [],
   "source": [
    "# Subset data time\n",
    "obs=obs.sel(time=slice(yrmin,yrmax))"
   ]
  },
  {
   "cell_type": "code",
   "execution_count": 16,
   "metadata": {},
   "outputs": [],
   "source": [
    "# Make anomalies\n",
    "obsclimo = obs.groupby('time.month').mean('time')\n",
    "obsanoms = obs.groupby('time.month') - obsclimo"
   ]
  },
  {
   "cell_type": "code",
   "execution_count": 17,
   "metadata": {},
   "outputs": [],
   "source": [
    "# Make Seasonal Averages for obs\n",
    "obsanoms=obsanoms.rolling(time=3, center=False).mean().dropna(dim='time')"
   ]
  },
  {
   "cell_type": "code",
   "execution_count": 18,
   "metadata": {},
   "outputs": [
    {
     "name": "stdout",
     "output_type": "stream",
     "text": [
      "<xarray.Dataset>\n",
      "Dimensions:  (init: 348, lead: 8, member: 24)\n",
      "Coordinates:\n",
      "  * lead     (lead) int64 1 2 3 4 5 6 7 8\n",
      "  * member   (member) float32 1.0 2.0 3.0 4.0 5.0 ... 20.0 21.0 22.0 23.0 24.0\n",
      "  * init     (init) datetime64[ns] 1982-01-01 1982-02-01 ... 2010-12-01\n",
      "    month    (init) int64 1 2 3 4 5 6 7 8 9 10 11 ... 2 3 4 5 6 7 8 9 10 11 12\n",
      "Data variables:\n",
      "    sst      (init, lead, member) float32 dask.array<chunksize=(1, 8, 24), meta=np.ndarray>\n"
     ]
    }
   ],
   "source": [
    "print(fcstanoms)"
   ]
  },
  {
   "cell_type": "code",
   "execution_count": 19,
   "metadata": {},
   "outputs": [],
   "source": [
    "# Create new xarray DataArray with monthly data\n",
    "fcstanoms2=xr.DataArray(fcstanoms['sst'][:,::3,:], \n",
    "                           coords={'init' : fcstanoms['init'],\n",
    "                                   'lead': np.arange(0,nleads),\n",
    "                                   'member': fcstanoms['member'],\n",
    "                                   },\n",
    "                           dims=['init','lead','member'])\n",
    "fcstanoms2.name = 'sst'\n",
    "fcstanoms2['lead'].attrs={'units': 'seasons'}"
   ]
  },
  {
   "cell_type": "code",
   "execution_count": 20,
   "metadata": {},
   "outputs": [
    {
     "name": "stdout",
     "output_type": "stream",
     "text": [
      "<xarray.DataArray 'sst' (init: 348, lead: 3, member: 24)>\n",
      "array([[[ 0.08003107,  0.34436545, -0.09682973, ..., -0.0041364 ,\n",
      "          0.1379687 ,  0.10262489],\n",
      "        [ 0.60293835,  0.9097843 ,  0.37091127, ...,  0.5670357 ,\n",
      "          0.9757512 ,  0.42011452],\n",
      "        [ 1.4331284 ,  1.1431637 ,  0.3319912 , ...,  1.3245068 ,\n",
      "          1.1187019 ,  0.3438568 ]],\n",
      "\n",
      "       [[ 0.23546664,  0.6823273 ,  0.3803641 , ...,  0.2140878 ,\n",
      "         -0.00394758,  0.226916  ],\n",
      "        [ 0.9181302 ,  0.935414  ,  0.4361731 , ...,  0.04493014,\n",
      "         -0.07529577,  0.38970247],\n",
      "        [ 1.8201174 ,  0.47118887,  0.23358662, ...,  0.33039474,\n",
      "          0.3147119 ,  0.36761728]],\n",
      "\n",
      "       [[-0.26743445, -0.36520895, -0.09177971, ..., -0.22709274,\n",
      "         -0.13796806, -0.26382828],\n",
      "        [-0.4092884 , -0.5334695 ,  0.03718758, ..., -0.57399684,\n",
      "         -0.2128849 , -0.40550676],\n",
      "        [-0.1681633 , -0.34384727,  0.82539815, ..., -0.39606032,\n",
      "          0.43083826, -0.03142611]],\n",
      "\n",
      "       ...,\n",
      "\n",
      "       [[-1.1684074 , -1.065602  , -0.46288237, ..., -1.0341778 ,\n",
      "         -0.89619637, -0.79508275],\n",
      "        [-1.13716   , -0.6527303 , -0.7310708 , ..., -0.562617  ,\n",
      "         -0.8324852 , -0.5753104 ],\n",
      "        [-0.39957747,  0.378966  , -0.25247955, ...,  0.1912225 ,\n",
      "         -0.39624596, -0.07657114]],\n",
      "\n",
      "       [[-1.0057265 , -0.8900216 , -0.50378674, ..., -0.81272125,\n",
      "         -1.0011673 , -0.9837659 ],\n",
      "        [-0.42130026, -0.64278793, -0.19960213, ..., -0.36623636,\n",
      "         -0.6243432 , -1.408832  ],\n",
      "        [ 0.17004967,  0.4262638 , -0.21795654, ...,  0.7789593 ,\n",
      "         -0.4231383 , -0.9183769 ]],\n",
      "\n",
      "       [[-0.4160792 , -0.82368344, -0.83431053, ..., -0.6678524 ,\n",
      "         -0.74205464, -0.83910495],\n",
      "        [-0.00768153, -0.19804318, -0.8358548 , ..., -0.5440572 ,\n",
      "          0.06767782, -0.31259727],\n",
      "        [ 0.71270055,  0.6515719 , -0.36465582, ..., -0.07821465,\n",
      "          0.5022729 ,  0.25164923]]], dtype=float32)\n",
      "Coordinates:\n",
      "  * init     (init) datetime64[ns] 1982-01-01 1982-02-01 ... 2010-12-01\n",
      "  * lead     (lead) int64 0 1 2\n",
      "  * member   (member) float32 1.0 2.0 3.0 4.0 5.0 ... 20.0 21.0 22.0 23.0 24.0\n"
     ]
    }
   ],
   "source": [
    "print(fcstanoms2)"
   ]
  },
  {
   "cell_type": "code",
   "execution_count": 21,
   "metadata": {},
   "outputs": [],
   "source": [
    "hindcast = HindcastEnsemble(fcstanoms2)\n",
    "hindcast = hindcast.add_reference(obsanoms, 'observations')\n",
    "skillds = hindcast.compute_metric(metric='acc')"
   ]
  },
  {
   "cell_type": "code",
   "execution_count": 25,
   "metadata": {},
   "outputs": [
    {
     "data": {
      "text/plain": [
       "Text(0, 0.5, 'Lead Time (Seasons)')"
      ]
     },
     "execution_count": 25,
     "metadata": {},
     "output_type": "execute_result"
    },
    {
     "data": {
      "image/png": "[encoded data removed]",
      "text/plain": [
       "<Figure size 432x288 with 1 Axes>"
      ]
     },
     "metadata": {
      "needs_background": "light"
     },
     "output_type": "display_data"
    }
   ],
   "source": [
    "# Plot initial vs. Lead ACC Skill\n",
    "x=np.arange(1,nleads+1)\n",
    "plt.bar(x,skillds['sst'])\n",
    "plt.title('CFSv2 Nino34 ACC')\n",
    "plt.xlabel('Initial Season')\n",
    "plt.ylabel('Lead Time (Seasons)')"
   ]
  },
  {
   "cell_type": "code",
   "execution_count": null,
   "metadata": {},
   "outputs": [],
   "source": []
  }
 ],
 "metadata": {
  "kernelspec": {
   "display_name": "climpred-dev",
   "language": "python",
   "name": "climpred-dev"
  },
  "language_info": {
   "codemirror_mode": {
    "name": "ipython",
    "version": 3
   },
   "file_extension": ".py",
   "mimetype": "text/x-python",
   "name": "python",
   "nbconvert_exporter": "python",
   "pygments_lexer": "ipython3",
   "version": "3.6.7"
  }
 },
 "nbformat": 4,
 "nbformat_minor": 4
}
