{
 "cells": [
  {
   "cell_type": "markdown",
   "metadata": {},
   "source": [
    "# Object-Oriented Demo\n",
    "\n",
    "---\n",
    "\n",
    "This is a demo for the class-based features of `climpred` that are in development.\n",
    "\n",
    "Author: Riley X. Brady (riley.brady@colorado.edu)\n",
    "\n",
    "Date Last Updated: April 26th, 2019\n",
    "\n",
    "## Object Types\n",
    "\n",
    "There are two types of objects that can be used in `climpred`, and both are built on top of `xarray`'s `Dataset` and `DataArray` objects.\n",
    "\n",
    "1. `ReferenceEnsemble`: This is a climate prediction ensemble that is initialized from a \"reference.\" In other words, this can be a forecasting system initialized from observations, a reanalysis, a hindcast/reconstruction, etc.\n",
    "1. `PerfectModelEnsemble`: This is a climate prediction ensemble that is initialized from a control run, using the \"perfect model\" framework.\n",
    "\n",
    "Both the `ReferenceEnsemble` and `PerfectModelEnsemble` are sub-classes of a `PredictionEnsemble`."
   ]
  },
  {
   "cell_type": "code",
   "execution_count": 1,
   "metadata": {
    "ExecuteTime": {
     "end_time": "2019-04-26T16:40:32.547051Z",
     "start_time": "2019-04-26T16:40:32.516543Z"
    }
   },
   "outputs": [],
   "source": [
    "import numpy as np\n",
    "import xarray as xr\n",
    "import climpred as cp\n",
    "import matplotlib.pyplot as plt\n",
    "%matplotlib inline\n",
    "import proplot as plot"
   ]
  },
  {
   "cell_type": "markdown",
   "metadata": {},
   "source": [
    "# Reference Ensemble\n",
    "\n",
    "Here I will use the Community Earth System Model Decadal Prediction Large Ensemble (CESM-DPLE) for a demonstration of the `ReferenceEnsemble` capabilities. CESM-DPLE is initialized on November 1st from 1955-2017 by a Forced Ocean Sea-Ice (FOSI) reconstruction simulation. \n",
    "\n",
    "I will also use the FOSI output as a reference for potential predictability of the CESM-DPLE. Lastly, I will load in ERSST observations for a skill assessment of CESM-DPLE.\n",
    "\n",
    "## References\n",
    "\n",
    "Details on the CESM-DPLE experimental setup:\n",
    "\n",
    "1. Yeager, S. G., et al. \"Predicting near-term changes in the Earth System: A large ensemble of initialized decadal prediction simulations using the Community Earth System Model.\" Bulletin of the American Meteorological Society 99.9 (2018): 1867-1886.\n",
    "\n",
    "Details on the ERSST observations:\n",
    "\n",
    "2. https://www.ncdc.noaa.gov/data-access/marineocean-data/extended-reconstructed-sea-surface-temperature-ersst-v5"
   ]
  },
  {
   "cell_type": "markdown",
   "metadata": {},
   "source": [
    "Here we load the sample data included in `climpred`."
   ]
  },
  {
   "cell_type": "code",
   "execution_count": 9,
   "metadata": {
    "ExecuteTime": {
     "end_time": "2019-04-26T16:52:00.095282Z",
     "start_time": "2019-04-26T16:52:00.013557Z"
    }
   },
   "outputs": [],
   "source": [
    "def _load_dple():\n",
    "    dple = xr.open_dataset('../sample_data/prediction/' +\n",
    "                     'CESM-DP-LE.SST.annmean.anom.nc')['anom']\n",
    "    dple = dple.sel(S=slice(1955, 2015))\n",
    "    dple = dple.mean('M')\n",
    "    dple = dple.rename({'S': 'initialization', 'L': 'time', })\n",
    "    # detrend\n",
    "    dple = cp.stats.xr_rm_trend(dple, dim='initialization')\n",
    "    dple.name = 'SST'\n",
    "    return dple\n",
    "\n",
    "def _load_fosi():\n",
    "    fosi = xr.open_dataset('../sample_data/prediction/' +\n",
    "                       'g.e11_LENS.GECOIAF.T62_g16.009.pop.h.SST.024901-031612.nc')['SST']\n",
    "    fosi = fosi.sel(time=slice('1955', '2015'))\n",
    "    fosi = fosi.groupby('time.year').mean('time')\n",
    "    fosi = fosi.rename({'year': 'initialization'})\n",
    "    # move to anomaly space\n",
    "    fosi = fosi - fosi.sel(initialization=slice(1964, 2014)).mean('initialization')\n",
    "    # detrend\n",
    "    fosi = cp.stats.xr_rm_trend(fosi, dim='initialization')\n",
    "    fosi.name = 'SST'\n",
    "    return fosi\n",
    "\n",
    "def _load_data():\n",
    "    data = xr.open_dataset('../sample_data/prediction/' +\n",
    "                           'ERSSTv4.global.mean.nc')['sst']\n",
    "    data = data.rename({'year': 'initialization'})\n",
    "    # move to anomaly space\n",
    "    data = data - data.sel(initialization=slice(1964, 2014)).mean('initialization')\n",
    "    # detrend\n",
    "    data = cp.stats.xr_rm_trend(data, dim='initialization')\n",
    "    data.name = 'SST'\n",
    "    return data\n",
    "\n",
    "dple = _load_dple().to_dataset()\n",
    "fosi = _load_fosi().to_dataset()\n",
    "data = _load_data().to_dataset()"
   ]
  },
  {
   "cell_type": "code",
   "execution_count": null,
   "metadata": {},
   "outputs": [],
   "source": [
    "# temporary to check that 'm2r' works\n",
    "dp = []\n",
    "for i in range(10):\n",
    "    vals = dple.SST.values + np.random.rand(dple.SST.shape[0],\n",
    "                                 dple.SST.shape[1])\n",
    "    vals = xr.DataArray(vals, dims=dple.dims)\n",
    "    dp.append(vals)\n",
    "dple = xr.concat(dp, dim='member')\n",
    "dple['member'] = np.arange(1, 11)\n",
    "dple['initialization'] = np.arange(61)\n",
    "dple['time'] = np.arange(10)\n",
    "dple.name = 'SST'"
   ]
  },
  {
   "cell_type": "code",
   "execution_count": null,
   "metadata": {},
   "outputs": [],
   "source": [
    "dp = cp.ReferenceEnsemble(dple)\n",
    "print(dp)"
   ]
  },
  {
   "cell_type": "code",
   "execution_count": null,
   "metadata": {},
   "outputs": [],
   "source": [
    "dp.add_reference(fosi, 'FOSI')"
   ]
  },
  {
   "cell_type": "code",
   "execution_count": null,
   "metadata": {},
   "outputs": [],
   "source": [
    "dp.compute_skill(comparison='m2r', metric='mae')"
   ]
  },
  {
   "cell_type": "code",
   "execution_count": null,
   "metadata": {},
   "outputs": [],
   "source": []
  },
  {
   "cell_type": "markdown",
   "metadata": {},
   "source": [
    "The `ReferenceEnsemble` object is created just by inputting the prediction ensemble output. Other reference objects can be added after it is generated."
   ]
  },
  {
   "cell_type": "code",
   "execution_count": 10,
   "metadata": {
    "ExecuteTime": {
     "end_time": "2019-04-26T16:46:58.261732Z",
     "start_time": "2019-04-26T16:46:58.233396Z"
    }
   },
   "outputs": [
    {
     "name": "stdout",
     "output_type": "stream",
     "text": [
      "<climpred.ReferenceEnsemble>\n",
      "Initialized Ensemble:\n",
      "    SST      (initialization, time) float64 0.02316 0.09983 ... 0.09395 0.0865\n",
      "References:\n",
      "    None\n",
      "Uninitialized:\n",
      "    None\n"
     ]
    }
   ],
   "source": [
    "dp = cp.ReferenceEnsemble(dple)\n",
    "print(dp)"
   ]
  },
  {
   "cell_type": "markdown",
   "metadata": {},
   "source": [
    "For a `ReferenceEnsemble` object, you can add multiple references. Here, we will add the reconstruction (FOSI) and observations (ERSST). Multiple checks go into play here under the hood, ensuring that dimensions are named according to our rules and that references match all initialized dimensions (except for time).\n",
    "\n",
    "We can also have multiple variables per reference and decadal prediction object."
   ]
  },
  {
   "cell_type": "code",
   "execution_count": 11,
   "metadata": {
    "ExecuteTime": {
     "end_time": "2019-04-26T16:34:15.866102Z",
     "start_time": "2019-04-26T16:34:15.832102Z"
    }
   },
   "outputs": [],
   "source": [
    "# dummy/repetitive data to show ability to work with multiple\n",
    "# variables.\n",
    "dple['SALT'] = _load_dple() + np.random.rand(dple.SST.shape[0],\n",
    "                                             dple.SST.shape[1])\n",
    "fosi['SALT'] = _load_fosi() + np.random.rand(fosi.SST.shape[0])"
   ]
  },
  {
   "cell_type": "code",
   "execution_count": 14,
   "metadata": {
    "ExecuteTime": {
     "end_time": "2019-04-26T16:34:16.067459Z",
     "start_time": "2019-04-26T16:34:16.039740Z"
    }
   },
   "outputs": [],
   "source": [
    "dp = cp.ReferenceEnsemble(dple)"
   ]
  },
  {
   "cell_type": "code",
   "execution_count": 15,
   "metadata": {
    "ExecuteTime": {
     "end_time": "2019-04-26T16:34:16.782888Z",
     "start_time": "2019-04-26T16:34:16.751907Z"
    }
   },
   "outputs": [
    {
     "name": "stdout",
     "output_type": "stream",
     "text": [
      "<climpred.ReferenceEnsemble>\n",
      "Initialized Ensemble:\n",
      "    SST      (initialization, time) float64 0.02316 0.09983 ... 0.09395 0.0865\n",
      "    SALT     (initialization, time) float64 0.1694 0.5292 ... 0.4581 0.3289\n",
      "FOSI:\n",
      "    SST      (initialization) float64 -0.02241 -0.031 0.1348 ... 0.02867 0.144\n",
      "    SALT     (initialization) float64 0.1649 0.5076 0.1449 ... 0.271 1.005\n",
      "ERSST:\n",
      "    SST      (initialization) float64 -0.06196 -0.02328 ... 0.07206 0.1659\n",
      "Uninitialized:\n",
      "    None\n"
     ]
    }
   ],
   "source": [
    "# This appends data associated with the initialized ensemble.\n",
    "# Now we have a label for the reconstruction (FOSI) and the\n",
    "# raw data (ERSST). One could also add other data sources,\n",
    "# control runs, etc.\n",
    "dp.add_reference(fosi, 'FOSI')\n",
    "dp.add_reference(data, 'ERSST')\n",
    "print(dp)"
   ]
  },
  {
   "cell_type": "markdown",
   "metadata": {},
   "source": [
    "Now we can apply our functions to our `ReferenceEnsemble` object. You can call compute_skill in two different ways:\n",
    "\n",
    "1. Declaring a single reference you want to compute skill with regard to (this returns a single xr.Dataset with skill results for that\n",
    "\n",
    "2. Running compute_skill with no arguments, which computes skill for all available references. This returns a dictionary with each of your reference results."
   ]
  },
  {
   "cell_type": "code",
   "execution_count": null,
   "metadata": {
    "ExecuteTime": {
     "end_time": "2019-04-26T16:34:17.337611Z",
     "start_time": "2019-04-26T16:34:17.287773Z"
    }
   },
   "outputs": [],
   "source": [
    "# Here, we only want a skill computation for FOSI.\n",
    "# This automatically compares FOSI to the main initialized\n",
    "# ensemble.\n",
    "skill = dp.compute_skill(refname='FOSI')\n",
    "print(skill)"
   ]
  },
  {
   "cell_type": "code",
   "execution_count": null,
   "metadata": {
    "ExecuteTime": {
     "end_time": "2019-04-26T16:34:17.560366Z",
     "start_time": "2019-04-26T16:34:17.503713Z"
    }
   },
   "outputs": [],
   "source": [
    "# Skill computation for FOSI, but with different metric.\n",
    "dp.compute_skill('FOSI', metric='mae')"
   ]
  },
  {
   "cell_type": "code",
   "execution_count": null,
   "metadata": {
    "ExecuteTime": {
     "end_time": "2019-04-26T16:34:17.817788Z",
     "start_time": "2019-04-26T16:34:17.746563Z"
    }
   },
   "outputs": [],
   "source": [
    "# Now we can go with option (2). Computing skill across all references.\n",
    "# Automatically computes for all references a pearsonr ensemble mean.\n",
    "skill = dp.compute_skill()\n",
    "print(skill)"
   ]
  },
  {
   "cell_type": "code",
   "execution_count": null,
   "metadata": {
    "ExecuteTime": {
     "end_time": "2019-04-26T16:34:17.983205Z",
     "start_time": "2019-04-26T16:34:17.952422Z"
    }
   },
   "outputs": [],
   "source": [
    "print(skill['FOSI'])"
   ]
  },
  {
   "cell_type": "code",
   "execution_count": null,
   "metadata": {
    "ExecuteTime": {
     "end_time": "2019-04-26T16:34:18.230383Z",
     "start_time": "2019-04-26T16:34:18.199776Z"
    }
   },
   "outputs": [],
   "source": [
    "print(skill['ERSST'])"
   ]
  },
  {
   "cell_type": "markdown",
   "metadata": {},
   "source": [
    "We can also compute a persistence forecast. This automatically only computes persistence for the references."
   ]
  },
  {
   "cell_type": "code",
   "execution_count": null,
   "metadata": {
    "ExecuteTime": {
     "end_time": "2019-04-26T16:34:18.800563Z",
     "start_time": "2019-04-26T16:34:18.728384Z"
    }
   },
   "outputs": [],
   "source": [
    "# Persistence for both FOSI and data, but only out to 8 lags.\n",
    "persist = dp.compute_persistence(nlags=8)"
   ]
  },
  {
   "cell_type": "code",
   "execution_count": null,
   "metadata": {
    "ExecuteTime": {
     "end_time": "2019-04-26T16:34:19.068794Z",
     "start_time": "2019-04-26T16:34:19.039878Z"
    }
   },
   "outputs": [],
   "source": [
    "print(persist['FOSI'])"
   ]
  },
  {
   "cell_type": "code",
   "execution_count": null,
   "metadata": {
    "ExecuteTime": {
     "end_time": "2019-04-26T16:34:19.327480Z",
     "start_time": "2019-04-26T16:34:19.296584Z"
    }
   },
   "outputs": [],
   "source": [
    "print(persist['ERSST'])"
   ]
  },
  {
   "cell_type": "markdown",
   "metadata": {},
   "source": [
    "## Plots from our Results"
   ]
  },
  {
   "cell_type": "code",
   "execution_count": null,
   "metadata": {
    "ExecuteTime": {
     "end_time": "2019-04-26T16:34:21.137236Z",
     "start_time": "2019-04-26T16:34:20.793181Z"
    }
   },
   "outputs": [],
   "source": [
    "plot.rc.small = 11\n",
    "plot.rc.large = 13\n",
    "varname = 'SST'\n",
    "\n",
    "f, ax = plot.subplots(aspect=3, axwidth='10cm', legend='b')\n",
    "    \n",
    "p1, = ax.plot(persist['FOSI'].time, persist['FOSI'][varname],\n",
    "        '-ok', markersize=6, label='persistence forecast')\n",
    "p2, = ax.plot(skill['FOSI'].time, skill['FOSI'][varname],\n",
    "        '-or', markersize=6, label='initialized forecast')\n",
    "\n",
    "ax.format(ylim=[-0.5, 1], xlim=[0.5, 10.5], xlabel='lead year',\n",
    "          ylabel='anomaly correlation \\n coefficient',\n",
    "          title='Detrended Global SST Forecast')\n",
    "\n",
    "f.bottompanel.legend([p1, p2])"
   ]
  },
  {
   "cell_type": "markdown",
   "metadata": {},
   "source": [
    "## Uninitialized testing"
   ]
  },
  {
   "cell_type": "code",
   "execution_count": null,
   "metadata": {
    "ExecuteTime": {
     "end_time": "2019-04-26T16:34:21.646187Z",
     "start_time": "2019-04-26T16:34:21.615117Z"
    }
   },
   "outputs": [],
   "source": [
    "cesmLENS = xr.open_dataset('../sample_data/prediction/CESM-LE.global_mean.SST.1955-2015.nc')\n",
    "cesmLENS = cesmLENS.rename({'time': 'initialization'})"
   ]
  },
  {
   "cell_type": "code",
   "execution_count": null,
   "metadata": {
    "ExecuteTime": {
     "end_time": "2019-04-26T16:34:22.642960Z",
     "start_time": "2019-04-26T16:34:22.615056Z"
    }
   },
   "outputs": [],
   "source": [
    "dp.add_uninitialized(cesmLENS)"
   ]
  },
  {
   "cell_type": "code",
   "execution_count": null,
   "metadata": {
    "ExecuteTime": {
     "end_time": "2019-04-26T16:34:22.778045Z",
     "start_time": "2019-04-26T16:34:22.746956Z"
    }
   },
   "outputs": [],
   "source": [
    "dp"
   ]
  },
  {
   "cell_type": "code",
   "execution_count": null,
   "metadata": {
    "ExecuteTime": {
     "end_time": "2019-04-26T16:34:23.319073Z",
     "start_time": "2019-04-26T16:34:23.287488Z"
    }
   },
   "outputs": [],
   "source": [
    "dp.compute_uninitialized('FOSI', metric='mae')"
   ]
  },
  {
   "cell_type": "code",
   "execution_count": null,
   "metadata": {
    "ExecuteTime": {
     "end_time": "2019-04-26T16:34:23.895473Z",
     "start_time": "2019-04-26T16:34:23.864590Z"
    }
   },
   "outputs": [],
   "source": [
    "dp.compute_uninitialized('ERSST')"
   ]
  },
  {
   "cell_type": "code",
   "execution_count": null,
   "metadata": {
    "ExecuteTime": {
     "end_time": "2019-04-26T16:34:24.392372Z",
     "start_time": "2019-04-26T16:34:24.359345Z"
    }
   },
   "outputs": [],
   "source": [
    "dp.compute_uninitialized()"
   ]
  },
  {
   "cell_type": "markdown",
   "metadata": {},
   "source": [
    "# Perfect Model Ensemble"
   ]
  },
  {
   "cell_type": "code",
   "execution_count": null,
   "metadata": {},
   "outputs": [],
   "source": [
    "ds = xr.open_dataset('../sample_data/prediction/PM_MPI-ESM-LR_ds.nc')\n",
    "control = xr.open_dataset('../sample_data/prediction/PM_MPI-ESM-LR_control.nc')\n",
    "\n",
    "# get working with just one variable.\n",
    "var = 'tos'\n",
    "area = 'global'\n",
    "period = 'ym'\n",
    "ds = ds[var].sel(area=area, period=period)\n",
    "control = control[var].sel(area=area, period=period)"
   ]
  },
  {
   "cell_type": "code",
   "execution_count": null,
   "metadata": {},
   "outputs": [],
   "source": [
    "pm = cp.PerfectModelEnsemble(ds)\n",
    "pm.add_control(control)"
   ]
  },
  {
   "cell_type": "code",
   "execution_count": null,
   "metadata": {},
   "outputs": [],
   "source": [
    "print(pm)"
   ]
  },
  {
   "cell_type": "code",
   "execution_count": null,
   "metadata": {},
   "outputs": [],
   "source": [
    "def _plot_skill(ax, result, color='k', linestyle='-', marker='o', \n",
    "                markersize=6, linewidth=2, **kwargs):\n",
    "    p = ax.plot(result.time, result, color=color, linestyle=linestyle, \n",
    "                marker=marker, markersize=markersize, linewidth=linewidth, \n",
    "                **kwargs)\n",
    "    return p"
   ]
  },
  {
   "cell_type": "code",
   "execution_count": null,
   "metadata": {},
   "outputs": [],
   "source": [
    "ip = pm.compute_skill(comparison='m2e')\n",
    "persist = pm.compute_persistence()"
   ]
  },
  {
   "cell_type": "code",
   "execution_count": null,
   "metadata": {},
   "outputs": [],
   "source": [
    "plot.rc.small = 8\n",
    "f, ax = plot.subplots(axwidth=4, aspect=5)\n",
    "i = _plot_skill(ax, ip['tos'], color='r', label='initialized forecast')\n",
    "p = _plot_skill(ax, persist['tos'], color='gray', linestyle='--', \n",
    "                label='persistence forecast')\n",
    "ax.format(ylim=[-0.75, 1], xlim=[0.5, 10.5])"
   ]
  },
  {
   "cell_type": "markdown",
   "metadata": {},
   "source": [
    "**NOTE**: Everything looks good here except for persistence. Something still off here..."
   ]
  },
  {
   "cell_type": "code",
   "execution_count": null,
   "metadata": {},
   "outputs": [],
   "source": [
    "plot.rc.small = 12\n",
    "plot.rc.large = 12\n",
    "for c in ['e2c','m2c','m2e','m2m']:\n",
    "    pm.compute_skill(comparison=c).tos.plot(label=c)\n",
    "pm.compute_persistence(nlags=20).tos.plot(label='persistence', ls=':')\n",
    "plt.ylabel('ACC')\n",
    "plt.xticks(np.arange(1,21))\n",
    "plt.title('Different forecast-reference comparisons for pearson_r \\n lead to systematically different magnitude of skill score')\n",
    "plt.legend()"
   ]
  },
  {
   "cell_type": "code",
   "execution_count": null,
   "metadata": {},
   "outputs": [],
   "source": [
    "ds3d = xr.open_dataset('../sample_data/prediction/PM_MPI-ESM-LR_ds3d.nc')\n",
    "control3d = xr.open_dataset('../sample_data/prediction/PM_MPI-ESM-LR_control3d.nc')"
   ]
  },
  {
   "cell_type": "code",
   "execution_count": null,
   "metadata": {},
   "outputs": [],
   "source": [
    "pm = cp.PerfectModelEnsemble(ds3d['tos'])\n",
    "pm.add_control(control3d['tos'])\n",
    "print(pm)"
   ]
  },
  {
   "cell_type": "code",
   "execution_count": null,
   "metadata": {},
   "outputs": [],
   "source": [
    "skill3d = pm.compute_skill(comparison='m2e')"
   ]
  },
  {
   "cell_type": "code",
   "execution_count": null,
   "metadata": {},
   "outputs": [],
   "source": [
    "skill3d.tos.T.plot(col='time', robust=True, yincrease=False)"
   ]
  }
 ],
 "metadata": {
  "kernelspec": {
   "display_name": "Python 3",
   "language": "python",
   "name": "python3"
  },
  "language_info": {
   "codemirror_mode": {
    "name": "ipython",
    "version": 3
   },
   "file_extension": ".py",
   "mimetype": "text/x-python",
   "name": "python",
   "nbconvert_exporter": "python",
   "pygments_lexer": "ipython3",
   "version": "3.6.6"
  },
  "toc": {
   "base_numbering": 1,
   "nav_menu": {},
   "number_sections": true,
   "sideBar": true,
   "skip_h1_title": false,
   "title_cell": "Table of Contents",
   "title_sidebar": "Contents",
   "toc_cell": false,
   "toc_position": {},
   "toc_section_display": true,
   "toc_window_display": false
  },
  "varInspector": {
   "cols": {
    "lenName": 16,
    "lenType": 16,
    "lenVar": 40
   },
   "kernels_config": {
    "python": {
     "delete_cmd_postfix": "",
     "delete_cmd_prefix": "del ",
     "library": "var_list.py",
     "varRefreshCmd": "print(var_dic_list())"
    },
    "r": {
     "delete_cmd_postfix": ") ",
     "delete_cmd_prefix": "rm(",
     "library": "var_list.r",
     "varRefreshCmd": "cat(var_dic_list()) "
    }
   },
   "types_to_exclude": [
    "module",
    "function",
    "builtin_function_or_method",
    "instance",
    "_Feature"
   ],
   "window_display": false
  }
 },
 "nbformat": 4,
 "nbformat_minor": 2
}
