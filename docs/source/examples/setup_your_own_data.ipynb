{
 "cells": [
  {
   "cell_type": "markdown",
   "metadata": {},
   "source": [
    "# Demo of `create_climpred_data`\n",
    "\n",
    "This demo demonstrates how you setup your raw output from a climate model to match `climpred`'s expectations."
   ]
  },
  {
   "cell_type": "code",
   "execution_count": 1,
   "metadata": {
    "ExecuteTime": {
     "end_time": "2019-04-29T20:09:41.074645Z",
     "start_time": "2019-04-29T20:09:40.250487Z"
    }
   },
   "outputs": [],
   "source": [
    "%matplotlib inline\n",
    "import matplotlib.pyplot as plt\n",
    "import numpy as np\n",
    "import xarray as xr\n",
    "\n",
    "import climpred"
   ]
  },
  {
   "cell_type": "code",
   "execution_count": 2,
   "metadata": {},
   "outputs": [],
   "source": [
    "from climpred.create_climpred_data import load_hindcast, climpred_preprocess_internal, get_path"
   ]
  },
  {
   "cell_type": "markdown",
   "metadata": {},
   "source": [
    "Assuming your raw model output is stored in multiple files per member and initialization, `load_hindcast` is a nice wrapper function based on `get_path` designed for the output format of `MPI-ESM` to aggregated all hindcast output into one file as expected by `climpred`.\n",
    "\n",
    "The basic idea is to look over the output of all members and concatinate, then loop over all initializations and concatinate. Before concatination, it is important to align the `time` dimension.\n",
    "\n",
    "To reduce the data size, use the `preprocess` function wisely in combination with `climpred_preprocess_internal`, e.g. additionally extracting only a certain region or only few variables for a multi-variable input file as in MPI-ESM standard output."
   ]
  },
  {
   "cell_type": "code",
   "execution_count": 3,
   "metadata": {},
   "outputs": [
    {
     "data": {
      "text/plain": [
       "\u001b[0;31mSignature:\u001b[0m\n",
       "\u001b[0mget_path\u001b[0m\u001b[0;34m(\u001b[0m\u001b[0;34m\u001b[0m\n",
       "\u001b[0;34m\u001b[0m    \u001b[0mdir_base_experiment\u001b[0m\u001b[0;34m=\u001b[0m\u001b[0;34m'/work/bm1124/m300086/CMIP6/experiments'\u001b[0m\u001b[0;34m,\u001b[0m\u001b[0;34m\u001b[0m\n",
       "\u001b[0;34m\u001b[0m    \u001b[0mmember\u001b[0m\u001b[0;34m=\u001b[0m\u001b[0;36m1\u001b[0m\u001b[0;34m,\u001b[0m\u001b[0;34m\u001b[0m\n",
       "\u001b[0;34m\u001b[0m    \u001b[0minit\u001b[0m\u001b[0;34m=\u001b[0m\u001b[0;36m1960\u001b[0m\u001b[0;34m,\u001b[0m\u001b[0;34m\u001b[0m\n",
       "\u001b[0;34m\u001b[0m    \u001b[0mmodel\u001b[0m\u001b[0;34m=\u001b[0m\u001b[0;34m'hamocc'\u001b[0m\u001b[0;34m,\u001b[0m\u001b[0;34m\u001b[0m\n",
       "\u001b[0;34m\u001b[0m    \u001b[0moutput_stream\u001b[0m\u001b[0;34m=\u001b[0m\u001b[0;34m'monitoring_ym'\u001b[0m\u001b[0;34m,\u001b[0m\u001b[0;34m\u001b[0m\n",
       "\u001b[0;34m\u001b[0m    \u001b[0mtimestr\u001b[0m\u001b[0;34m=\u001b[0m\u001b[0;34m'*1231'\u001b[0m\u001b[0;34m,\u001b[0m\u001b[0;34m\u001b[0m\n",
       "\u001b[0;34m\u001b[0m    \u001b[0mending\u001b[0m\u001b[0;34m=\u001b[0m\u001b[0;34m'nc'\u001b[0m\u001b[0;34m,\u001b[0m\u001b[0;34m\u001b[0m\n",
       "\u001b[0;34m\u001b[0m\u001b[0;34m)\u001b[0m\u001b[0;34m\u001b[0m\u001b[0;34m\u001b[0m\u001b[0m\n",
       "\u001b[0;31mSource:\u001b[0m   \n",
       "\u001b[0;32mdef\u001b[0m \u001b[0mget_path\u001b[0m\u001b[0;34m(\u001b[0m\u001b[0;34m\u001b[0m\n",
       "\u001b[0;34m\u001b[0m    \u001b[0mdir_base_experiment\u001b[0m\u001b[0;34m=\u001b[0m\u001b[0;34m'/work/bm1124/m300086/CMIP6/experiments'\u001b[0m\u001b[0;34m,\u001b[0m\u001b[0;34m\u001b[0m\n",
       "\u001b[0;34m\u001b[0m    \u001b[0mmember\u001b[0m\u001b[0;34m=\u001b[0m\u001b[0;36m1\u001b[0m\u001b[0;34m,\u001b[0m\u001b[0;34m\u001b[0m\n",
       "\u001b[0;34m\u001b[0m    \u001b[0minit\u001b[0m\u001b[0;34m=\u001b[0m\u001b[0;36m1960\u001b[0m\u001b[0;34m,\u001b[0m\u001b[0;34m\u001b[0m\n",
       "\u001b[0;34m\u001b[0m    \u001b[0mmodel\u001b[0m\u001b[0;34m=\u001b[0m\u001b[0;34m'hamocc'\u001b[0m\u001b[0;34m,\u001b[0m\u001b[0;34m\u001b[0m\n",
       "\u001b[0;34m\u001b[0m    \u001b[0moutput_stream\u001b[0m\u001b[0;34m=\u001b[0m\u001b[0;34m'monitoring_ym'\u001b[0m\u001b[0;34m,\u001b[0m\u001b[0;34m\u001b[0m\n",
       "\u001b[0;34m\u001b[0m    \u001b[0mtimestr\u001b[0m\u001b[0;34m=\u001b[0m\u001b[0;34m'*1231'\u001b[0m\u001b[0;34m,\u001b[0m\u001b[0;34m\u001b[0m\n",
       "\u001b[0;34m\u001b[0m    \u001b[0mending\u001b[0m\u001b[0;34m=\u001b[0m\u001b[0;34m'nc'\u001b[0m\u001b[0;34m,\u001b[0m\u001b[0;34m\u001b[0m\n",
       "\u001b[0;34m\u001b[0m\u001b[0;34m)\u001b[0m\u001b[0;34m:\u001b[0m\u001b[0;34m\u001b[0m\n",
       "\u001b[0;34m\u001b[0m    \u001b[0;34m\"\"\"Get the path of a file of for MPI-ESM standard output file names and directory.\u001b[0m\n",
       "\u001b[0;34m\u001b[0m\n",
       "\u001b[0;34m    Args:\u001b[0m\n",
       "\u001b[0;34m        dir_base_experiment (str): Path of experiments folder. Defaults to \"/work/bm1124/m300086/CMIP6/experiments\".\u001b[0m\n",
       "\u001b[0;34m        member (int): `member`. Defaults to 1.\u001b[0m\n",
       "\u001b[0;34m        init (init): `init`. Defaults to 1960.\u001b[0m\n",
       "\u001b[0;34m        model (str): submodel name. Defaults to \"hamocc\". Allowed: ['echam6', 'jsbach', 'mpiom', 'hamocc'].\u001b[0m\n",
       "\u001b[0;34m        output_stream (str): output_stream name. Defaults to \"monitoring_ym\". Allowed: ['data_2d_mm', 'data_3d_ym', 'BOT_mm', ...]\u001b[0m\n",
       "\u001b[0;34m        timestr (str): timestr likely including *. Defaults to \"*1231\".\u001b[0m\n",
       "\u001b[0;34m        ending (str): ending indicating file format. Defaults to \"nc\". Allowed: ['nc', 'grb'].\u001b[0m\n",
       "\u001b[0;34m\u001b[0m\n",
       "\u001b[0;34m    Returns:\u001b[0m\n",
       "\u001b[0;34m        str: path of requested file(s)\u001b[0m\n",
       "\u001b[0;34m\u001b[0m\n",
       "\u001b[0;34m    \"\"\"\u001b[0m\u001b[0;34m\u001b[0m\n",
       "\u001b[0;34m\u001b[0m    \u001b[0;31m# get experiment_id\u001b[0m\u001b[0;34m\u001b[0m\n",
       "\u001b[0;34m\u001b[0m    \u001b[0mdirs\u001b[0m \u001b[0;34m=\u001b[0m \u001b[0m_os\u001b[0m\u001b[0;34m.\u001b[0m\u001b[0mlistdir\u001b[0m\u001b[0;34m(\u001b[0m\u001b[0mdir_base_experiment\u001b[0m\u001b[0;34m)\u001b[0m\u001b[0;34m\u001b[0m\n",
       "\u001b[0;34m\u001b[0m    \u001b[0mexperiment_id\u001b[0m \u001b[0;34m=\u001b[0m \u001b[0;34m[\u001b[0m\u001b[0;34m\u001b[0m\n",
       "\u001b[0;34m\u001b[0m        \u001b[0mx\u001b[0m \u001b[0;32mfor\u001b[0m \u001b[0mx\u001b[0m \u001b[0;32min\u001b[0m \u001b[0mdirs\u001b[0m \u001b[0;32mif\u001b[0m \u001b[0;34m(\u001b[0m\u001b[0;34mf'{init}'\u001b[0m \u001b[0;32min\u001b[0m \u001b[0mx\u001b[0m \u001b[0;32mand\u001b[0m \u001b[0;34m'r'\u001b[0m \u001b[0;34m+\u001b[0m \u001b[0mstr\u001b[0m\u001b[0;34m(\u001b[0m\u001b[0mmember\u001b[0m\u001b[0;34m)\u001b[0m \u001b[0;34m+\u001b[0m \u001b[0;34m'i'\u001b[0m \u001b[0;32min\u001b[0m \u001b[0mx\u001b[0m\u001b[0;34m)\u001b[0m\u001b[0;34m\u001b[0m\n",
       "\u001b[0;34m\u001b[0m    \u001b[0;34m]\u001b[0m\u001b[0;34m\u001b[0m\n",
       "\u001b[0;34m\u001b[0m    \u001b[0;32massert\u001b[0m \u001b[0mlen\u001b[0m\u001b[0;34m(\u001b[0m\u001b[0mexperiment_id\u001b[0m\u001b[0;34m)\u001b[0m \u001b[0;34m==\u001b[0m \u001b[0;36m1\u001b[0m\u001b[0;34m\u001b[0m\n",
       "\u001b[0;34m\u001b[0m    \u001b[0mexperiment_id\u001b[0m \u001b[0;34m=\u001b[0m \u001b[0mexperiment_id\u001b[0m\u001b[0;34m[\u001b[0m\u001b[0;36m0\u001b[0m\u001b[0;34m]\u001b[0m\u001b[0;34m\u001b[0m\n",
       "\u001b[0;34m\u001b[0m    \u001b[0mdir_outdata\u001b[0m \u001b[0;34m=\u001b[0m \u001b[0;34mf'{dir_base_experiment}/{experiment_id}/outdata/{model}'\u001b[0m\u001b[0;34m\u001b[0m\n",
       "\u001b[0;34m\u001b[0m    \u001b[0mpath\u001b[0m \u001b[0;34m=\u001b[0m \u001b[0;34mf'{dir_outdata}/{experiment_id}_{model}_{output_stream}_{timestr}.{ending}'\u001b[0m\u001b[0;34m\u001b[0m\n",
       "\u001b[0;34m\u001b[0m    \u001b[0;32mif\u001b[0m \u001b[0m_os\u001b[0m\u001b[0;34m.\u001b[0m\u001b[0mpath\u001b[0m\u001b[0;34m.\u001b[0m\u001b[0mexists\u001b[0m\u001b[0;34m(\u001b[0m\u001b[0m_glob\u001b[0m\u001b[0;34m.\u001b[0m\u001b[0mglob\u001b[0m\u001b[0;34m(\u001b[0m\u001b[0mpath\u001b[0m\u001b[0;34m)\u001b[0m\u001b[0;34m[\u001b[0m\u001b[0;36m0\u001b[0m\u001b[0;34m]\u001b[0m\u001b[0;34m)\u001b[0m\u001b[0;34m:\u001b[0m\u001b[0;34m\u001b[0m\n",
       "\u001b[0;34m\u001b[0m        \u001b[0;32mreturn\u001b[0m \u001b[0mpath\u001b[0m\u001b[0;34m\u001b[0m\n",
       "\u001b[0;34m\u001b[0m    \u001b[0;32melse\u001b[0m\u001b[0;34m:\u001b[0m\u001b[0;34m\u001b[0m\n",
       "\u001b[0;34m\u001b[0m        \u001b[0;32mraise\u001b[0m \u001b[0mValueError\u001b[0m\u001b[0;34m(\u001b[0m\u001b[0;34mf'Path not found or no access: {path}'\u001b[0m\u001b[0;34m)\u001b[0m\u001b[0;34m\u001b[0m\u001b[0;34m\u001b[0m\u001b[0m\n",
       "\u001b[0;31mFile:\u001b[0m      /work/mh0727/m300524/miniconda3/envs/climpred-dev/lib/python3.6/site-packages/climpred-1.2.0.post6+dirty-py3.6.egg/climpred/create_climpred_data.py\n",
       "\u001b[0;31mType:\u001b[0m      function\n"
      ]
     },
     "metadata": {},
     "output_type": "display_data"
    }
   ],
   "source": [
    "get_path??"
   ]
  },
  {
   "cell_type": "code",
   "execution_count": 4,
   "metadata": {},
   "outputs": [
    {
     "data": {
      "text/plain": [
       "\u001b[0;31mSignature:\u001b[0m \u001b[0mclimpred_preprocess_internal\u001b[0m\u001b[0;34m(\u001b[0m\u001b[0mds\u001b[0m\u001b[0;34m,\u001b[0m \u001b[0mlead_offset\u001b[0m\u001b[0;34m=\u001b[0m\u001b[0;36m1\u001b[0m\u001b[0;34m,\u001b[0m \u001b[0mtime_dim\u001b[0m\u001b[0;34m=\u001b[0m\u001b[0;34m'time'\u001b[0m\u001b[0;34m)\u001b[0m\u001b[0;34m\u001b[0m\u001b[0;34m\u001b[0m\u001b[0m\n",
       "\u001b[0;31mSource:\u001b[0m   \n",
       "\u001b[0;32mdef\u001b[0m \u001b[0mclimpred_preprocess_internal\u001b[0m\u001b[0;34m(\u001b[0m\u001b[0mds\u001b[0m\u001b[0;34m,\u001b[0m \u001b[0mlead_offset\u001b[0m\u001b[0;34m=\u001b[0m\u001b[0;36m1\u001b[0m\u001b[0;34m,\u001b[0m \u001b[0mtime_dim\u001b[0m\u001b[0;34m=\u001b[0m\u001b[0;34m'time'\u001b[0m\u001b[0;34m)\u001b[0m\u001b[0;34m:\u001b[0m\u001b[0;34m\u001b[0m\n",
       "\u001b[0;34m\u001b[0m    \u001b[0;34m\"\"\"CMIP6 DCPP preprocessing before the aggreatations of intake-esm happen.\"\"\"\u001b[0m\u001b[0;34m\u001b[0m\n",
       "\u001b[0;34m\u001b[0m    \u001b[0;31m# set time_dim to integers starting at lead_offset\u001b[0m\u001b[0;34m\u001b[0m\n",
       "\u001b[0;34m\u001b[0m    \u001b[0mds\u001b[0m\u001b[0;34m[\u001b[0m\u001b[0mtime_dim\u001b[0m\u001b[0;34m]\u001b[0m \u001b[0;34m=\u001b[0m \u001b[0mnp\u001b[0m\u001b[0;34m.\u001b[0m\u001b[0marange\u001b[0m\u001b[0;34m(\u001b[0m\u001b[0mlead_offset\u001b[0m\u001b[0;34m,\u001b[0m \u001b[0mlead_offset\u001b[0m \u001b[0;34m+\u001b[0m \u001b[0mds\u001b[0m\u001b[0;34m[\u001b[0m\u001b[0mtime_dim\u001b[0m\u001b[0;34m]\u001b[0m\u001b[0;34m.\u001b[0m\u001b[0msize\u001b[0m\u001b[0;34m)\u001b[0m\u001b[0;34m\u001b[0m\n",
       "\u001b[0;34m\u001b[0m    \u001b[0;32mreturn\u001b[0m \u001b[0mds\u001b[0m\u001b[0;34m\u001b[0m\u001b[0;34m\u001b[0m\u001b[0m\n",
       "\u001b[0;31mFile:\u001b[0m      /work/mh0727/m300524/miniconda3/envs/climpred-dev/lib/python3.6/site-packages/climpred-1.2.0.post6+dirty-py3.6.egg/climpred/create_climpred_data.py\n",
       "\u001b[0;31mType:\u001b[0m      function\n"
      ]
     },
     "metadata": {},
     "output_type": "display_data"
    }
   ],
   "source": [
    "climpred_preprocess_internal??"
   ]
  },
  {
   "cell_type": "code",
   "execution_count": 5,
   "metadata": {},
   "outputs": [
    {
     "data": {
      "text/plain": [
       "\u001b[0;31mSignature:\u001b[0m\n",
       "\u001b[0mload_hindcast\u001b[0m\u001b[0;34m(\u001b[0m\u001b[0;34m\u001b[0m\n",
       "\u001b[0;34m\u001b[0m    \u001b[0minits\u001b[0m\u001b[0;34m=\u001b[0m\u001b[0mrange\u001b[0m\u001b[0;34m(\u001b[0m\u001b[0;36m1961\u001b[0m\u001b[0;34m,\u001b[0m \u001b[0;36m1965\u001b[0m\u001b[0;34m)\u001b[0m\u001b[0;34m,\u001b[0m\u001b[0;34m\u001b[0m\n",
       "\u001b[0;34m\u001b[0m    \u001b[0mmembers\u001b[0m\u001b[0;34m=\u001b[0m\u001b[0mrange\u001b[0m\u001b[0;34m(\u001b[0m\u001b[0;36m1\u001b[0m\u001b[0;34m,\u001b[0m \u001b[0;36m3\u001b[0m\u001b[0;34m)\u001b[0m\u001b[0;34m,\u001b[0m\u001b[0;34m\u001b[0m\n",
       "\u001b[0;34m\u001b[0m    \u001b[0mpreprocess\u001b[0m\u001b[0;34m=\u001b[0m\u001b[0;32mNone\u001b[0m\u001b[0;34m,\u001b[0m\u001b[0;34m\u001b[0m\n",
       "\u001b[0;34m\u001b[0m    \u001b[0mlead_offset\u001b[0m\u001b[0;34m=\u001b[0m\u001b[0;36m1\u001b[0m\u001b[0;34m,\u001b[0m\u001b[0;34m\u001b[0m\n",
       "\u001b[0;34m\u001b[0m    \u001b[0mparallel\u001b[0m\u001b[0;34m=\u001b[0m\u001b[0;32mTrue\u001b[0m\u001b[0;34m,\u001b[0m\u001b[0;34m\u001b[0m\n",
       "\u001b[0;34m\u001b[0m    \u001b[0mengine\u001b[0m\u001b[0;34m=\u001b[0m\u001b[0;32mNone\u001b[0m\u001b[0;34m,\u001b[0m\u001b[0;34m\u001b[0m\n",
       "\u001b[0;34m\u001b[0m    \u001b[0;34m**\u001b[0m\u001b[0mget_path_kwargs\u001b[0m\u001b[0;34m,\u001b[0m\u001b[0;34m\u001b[0m\n",
       "\u001b[0;34m\u001b[0m\u001b[0;34m)\u001b[0m\u001b[0;34m\u001b[0m\u001b[0;34m\u001b[0m\u001b[0m\n",
       "\u001b[0;31mSource:\u001b[0m   \n",
       "\u001b[0;32mdef\u001b[0m \u001b[0mload_hindcast\u001b[0m\u001b[0;34m(\u001b[0m\u001b[0;34m\u001b[0m\n",
       "\u001b[0;34m\u001b[0m    \u001b[0minits\u001b[0m\u001b[0;34m=\u001b[0m\u001b[0mrange\u001b[0m\u001b[0;34m(\u001b[0m\u001b[0;36m1961\u001b[0m\u001b[0;34m,\u001b[0m \u001b[0;36m1965\u001b[0m\u001b[0;34m)\u001b[0m\u001b[0;34m,\u001b[0m\u001b[0;34m\u001b[0m\n",
       "\u001b[0;34m\u001b[0m    \u001b[0mmembers\u001b[0m\u001b[0;34m=\u001b[0m\u001b[0mrange\u001b[0m\u001b[0;34m(\u001b[0m\u001b[0;36m1\u001b[0m\u001b[0;34m,\u001b[0m \u001b[0;36m3\u001b[0m\u001b[0;34m)\u001b[0m\u001b[0;34m,\u001b[0m\u001b[0;34m\u001b[0m\n",
       "\u001b[0;34m\u001b[0m    \u001b[0mpreprocess\u001b[0m\u001b[0;34m=\u001b[0m\u001b[0;32mNone\u001b[0m\u001b[0;34m,\u001b[0m\u001b[0;34m\u001b[0m\n",
       "\u001b[0;34m\u001b[0m    \u001b[0mlead_offset\u001b[0m\u001b[0;34m=\u001b[0m\u001b[0;36m1\u001b[0m\u001b[0;34m,\u001b[0m\u001b[0;34m\u001b[0m\n",
       "\u001b[0;34m\u001b[0m    \u001b[0mparallel\u001b[0m\u001b[0;34m=\u001b[0m\u001b[0;32mTrue\u001b[0m\u001b[0;34m,\u001b[0m\u001b[0;34m\u001b[0m\n",
       "\u001b[0;34m\u001b[0m    \u001b[0mengine\u001b[0m\u001b[0;34m=\u001b[0m\u001b[0;32mNone\u001b[0m\u001b[0;34m,\u001b[0m\u001b[0;34m\u001b[0m\n",
       "\u001b[0;34m\u001b[0m    \u001b[0;34m**\u001b[0m\u001b[0mget_path_kwargs\u001b[0m\u001b[0;34m,\u001b[0m\u001b[0;34m\u001b[0m\n",
       "\u001b[0;34m\u001b[0m\u001b[0;34m)\u001b[0m\u001b[0;34m:\u001b[0m\u001b[0;34m\u001b[0m\n",
       "\u001b[0;34m\u001b[0m    \u001b[0;34m\"\"\"Load multi-member, multi-initialization hindcast experiment into one xr.Dataset compatible with `climpred`.\u001b[0m\n",
       "\u001b[0;34m\u001b[0m\n",
       "\u001b[0;34m    Args:\u001b[0m\n",
       "\u001b[0;34m        inits (list, array): List of initializations to be loaded. Defaults to range(1961, 1965).\u001b[0m\n",
       "\u001b[0;34m        members (list, array): List of initializations to be loaded. Defaults to range(1, 3).\u001b[0m\n",
       "\u001b[0;34m        preprocess (function): `preprocess` function accepting and returning xr.Datasets only to be passed to `xr.open_dataset`. Defaults to None.\u001b[0m\n",
       "\u001b[0;34m        lead_offset (int): How many leads to throw away. Defaults to 1.\u001b[0m\n",
       "\u001b[0;34m        parallel (bool): passed to `xr.open_dataset`. Defaults to True.\u001b[0m\n",
       "\u001b[0;34m        engine (str): passed to `xr.open_dataset`. Defaults to None. To load MPI-ESM grb files `conda install pynio`, pass `engine='pynio'` and rename dimension to `time` in `preprocess`.\u001b[0m\n",
       "\u001b[0;34m        **get_path_kwargs (dict): parameters passed to `**get_path`.\u001b[0m\n",
       "\u001b[0;34m\u001b[0m\n",
       "\u001b[0;34m    Returns:\u001b[0m\n",
       "\u001b[0;34m        xr.Dataset: climpred compatible dataset with dims: `member`, `init`, `lead`\u001b[0m\n",
       "\u001b[0;34m\u001b[0m\n",
       "\u001b[0;34m    \"\"\"\u001b[0m\u001b[0;34m\u001b[0m\n",
       "\u001b[0;34m\u001b[0m    \u001b[0minit_list\u001b[0m \u001b[0;34m=\u001b[0m \u001b[0;34m[\u001b[0m\u001b[0;34m]\u001b[0m\u001b[0;34m\u001b[0m\n",
       "\u001b[0;34m\u001b[0m    \u001b[0;32mfor\u001b[0m \u001b[0minit\u001b[0m \u001b[0;32min\u001b[0m \u001b[0minits\u001b[0m\u001b[0;34m:\u001b[0m\u001b[0;34m\u001b[0m\n",
       "\u001b[0;34m\u001b[0m        \u001b[0mprint\u001b[0m\u001b[0;34m(\u001b[0m\u001b[0;34mf'Processing init {init} ...'\u001b[0m\u001b[0;34m)\u001b[0m\u001b[0;34m\u001b[0m\n",
       "\u001b[0;34m\u001b[0m        \u001b[0mmember_list\u001b[0m \u001b[0;34m=\u001b[0m \u001b[0;34m[\u001b[0m\u001b[0;34m]\u001b[0m\u001b[0;34m\u001b[0m\n",
       "\u001b[0;34m\u001b[0m        \u001b[0;32mfor\u001b[0m \u001b[0mmember\u001b[0m \u001b[0;32min\u001b[0m \u001b[0mmembers\u001b[0m\u001b[0;34m:\u001b[0m\u001b[0;34m\u001b[0m\n",
       "\u001b[0;34m\u001b[0m            \u001b[0;31m# get path p\u001b[0m\u001b[0;34m\u001b[0m\n",
       "\u001b[0;34m\u001b[0m            \u001b[0mp\u001b[0m \u001b[0;34m=\u001b[0m \u001b[0mget_path\u001b[0m\u001b[0;34m(\u001b[0m\u001b[0mmember\u001b[0m\u001b[0;34m=\u001b[0m\u001b[0mmember\u001b[0m\u001b[0;34m,\u001b[0m \u001b[0minit\u001b[0m\u001b[0;34m=\u001b[0m\u001b[0minit\u001b[0m\u001b[0;34m,\u001b[0m \u001b[0;34m**\u001b[0m\u001b[0mget_path_kwargs\u001b[0m\u001b[0;34m)\u001b[0m\u001b[0;34m\u001b[0m\n",
       "\u001b[0;34m\u001b[0m            \u001b[0;31m# open all leads for specified member and init\u001b[0m\u001b[0;34m\u001b[0m\n",
       "\u001b[0;34m\u001b[0m            \u001b[0mmember_ds\u001b[0m \u001b[0;34m=\u001b[0m \u001b[0mxr\u001b[0m\u001b[0;34m.\u001b[0m\u001b[0mopen_mfdataset\u001b[0m\u001b[0;34m(\u001b[0m\u001b[0;34m\u001b[0m\n",
       "\u001b[0;34m\u001b[0m                \u001b[0mp\u001b[0m\u001b[0;34m,\u001b[0m\u001b[0;34m\u001b[0m\n",
       "\u001b[0;34m\u001b[0m                \u001b[0mcombine\u001b[0m\u001b[0;34m=\u001b[0m\u001b[0;34m'nested'\u001b[0m\u001b[0;34m,\u001b[0m\u001b[0;34m\u001b[0m\n",
       "\u001b[0;34m\u001b[0m                \u001b[0mconcat_dim\u001b[0m\u001b[0;34m=\u001b[0m\u001b[0;34m'time'\u001b[0m\u001b[0;34m,\u001b[0m\u001b[0;34m\u001b[0m\n",
       "\u001b[0;34m\u001b[0m                \u001b[0mpreprocess\u001b[0m\u001b[0;34m=\u001b[0m\u001b[0mpreprocess\u001b[0m\u001b[0;34m,\u001b[0m\u001b[0;34m\u001b[0m\n",
       "\u001b[0;34m\u001b[0m                \u001b[0mparallel\u001b[0m\u001b[0;34m=\u001b[0m\u001b[0mparallel\u001b[0m\u001b[0;34m,\u001b[0m\u001b[0;34m\u001b[0m\n",
       "\u001b[0;34m\u001b[0m                \u001b[0mengine\u001b[0m\u001b[0;34m=\u001b[0m\u001b[0mengine\u001b[0m\u001b[0;34m,\u001b[0m\u001b[0;34m\u001b[0m\n",
       "\u001b[0;34m\u001b[0m                \u001b[0mcoords\u001b[0m\u001b[0;34m=\u001b[0m\u001b[0;34m'minimal'\u001b[0m\u001b[0;34m,\u001b[0m  \u001b[0;31m# expecting identical coords\u001b[0m\u001b[0;34m\u001b[0m\n",
       "\u001b[0;34m\u001b[0m                \u001b[0mdata_vars\u001b[0m\u001b[0;34m=\u001b[0m\u001b[0;34m'minimal'\u001b[0m\u001b[0;34m,\u001b[0m  \u001b[0;31m# expecting identical vars\u001b[0m\u001b[0;34m\u001b[0m\n",
       "\u001b[0;34m\u001b[0m                \u001b[0mcompat\u001b[0m\u001b[0;34m=\u001b[0m\u001b[0;34m'override'\u001b[0m\u001b[0;34m,\u001b[0m  \u001b[0;31m# speed up\u001b[0m\u001b[0;34m\u001b[0m\n",
       "\u001b[0;34m\u001b[0m            \u001b[0;34m)\u001b[0m\u001b[0;34m.\u001b[0m\u001b[0msqueeze\u001b[0m\u001b[0;34m(\u001b[0m\u001b[0;34m)\u001b[0m\u001b[0;34m\u001b[0m\n",
       "\u001b[0;34m\u001b[0m            \u001b[0;31m# set new integer time\u001b[0m\u001b[0;34m\u001b[0m\n",
       "\u001b[0;34m\u001b[0m            \u001b[0mmember_ds\u001b[0m\u001b[0;34m[\u001b[0m\u001b[0;34m'time'\u001b[0m\u001b[0;34m]\u001b[0m \u001b[0;34m=\u001b[0m \u001b[0mnp\u001b[0m\u001b[0;34m.\u001b[0m\u001b[0marange\u001b[0m\u001b[0;34m(\u001b[0m\u001b[0;34m\u001b[0m\n",
       "\u001b[0;34m\u001b[0m                \u001b[0mlead_offset\u001b[0m\u001b[0;34m,\u001b[0m \u001b[0mlead_offset\u001b[0m \u001b[0;34m+\u001b[0m \u001b[0mmember_ds\u001b[0m\u001b[0;34m.\u001b[0m\u001b[0mtime\u001b[0m\u001b[0;34m.\u001b[0m\u001b[0msize\u001b[0m\u001b[0;34m\u001b[0m\n",
       "\u001b[0;34m\u001b[0m            \u001b[0;34m)\u001b[0m\u001b[0;34m\u001b[0m\n",
       "\u001b[0;34m\u001b[0m            \u001b[0mmember_list\u001b[0m\u001b[0;34m.\u001b[0m\u001b[0mappend\u001b[0m\u001b[0;34m(\u001b[0m\u001b[0mmember_ds\u001b[0m\u001b[0;34m)\u001b[0m\u001b[0;34m\u001b[0m\n",
       "\u001b[0;34m\u001b[0m        \u001b[0mmember_ds\u001b[0m \u001b[0;34m=\u001b[0m \u001b[0mxr\u001b[0m\u001b[0;34m.\u001b[0m\u001b[0mconcat\u001b[0m\u001b[0;34m(\u001b[0m\u001b[0mmember_list\u001b[0m\u001b[0;34m,\u001b[0m \u001b[0;34m'member'\u001b[0m\u001b[0;34m)\u001b[0m\u001b[0;34m\u001b[0m\n",
       "\u001b[0;34m\u001b[0m        \u001b[0minit_list\u001b[0m\u001b[0;34m.\u001b[0m\u001b[0mappend\u001b[0m\u001b[0;34m(\u001b[0m\u001b[0mmember_ds\u001b[0m\u001b[0;34m)\u001b[0m\u001b[0;34m\u001b[0m\n",
       "\u001b[0;34m\u001b[0m    \u001b[0mds\u001b[0m \u001b[0;34m=\u001b[0m \u001b[0mxr\u001b[0m\u001b[0;34m.\u001b[0m\u001b[0mconcat\u001b[0m\u001b[0;34m(\u001b[0m\u001b[0minit_list\u001b[0m\u001b[0;34m,\u001b[0m \u001b[0;34m'init'\u001b[0m\u001b[0;34m)\u001b[0m\u001b[0;34m.\u001b[0m\u001b[0mrename\u001b[0m\u001b[0;34m(\u001b[0m\u001b[0;34m{\u001b[0m\u001b[0;34m'time'\u001b[0m\u001b[0;34m:\u001b[0m \u001b[0;34m'lead'\u001b[0m\u001b[0;34m}\u001b[0m\u001b[0;34m)\u001b[0m\u001b[0;34m\u001b[0m\n",
       "\u001b[0;34m\u001b[0m    \u001b[0mds\u001b[0m\u001b[0;34m[\u001b[0m\u001b[0;34m'member'\u001b[0m\u001b[0;34m]\u001b[0m \u001b[0;34m=\u001b[0m \u001b[0mmembers\u001b[0m\u001b[0;34m\u001b[0m\n",
       "\u001b[0;34m\u001b[0m    \u001b[0mds\u001b[0m\u001b[0;34m[\u001b[0m\u001b[0;34m'init'\u001b[0m\u001b[0;34m]\u001b[0m \u001b[0;34m=\u001b[0m \u001b[0minits\u001b[0m\u001b[0;34m\u001b[0m\n",
       "\u001b[0;34m\u001b[0m    \u001b[0;32mreturn\u001b[0m \u001b[0mds\u001b[0m\u001b[0;34m\u001b[0m\u001b[0;34m\u001b[0m\u001b[0m\n",
       "\u001b[0;31mFile:\u001b[0m      /work/mh0727/m300524/miniconda3/envs/climpred-dev/lib/python3.6/site-packages/climpred-1.2.0.post6+dirty-py3.6.egg/climpred/create_climpred_data.py\n",
       "\u001b[0;31mType:\u001b[0m      function\n"
      ]
     },
     "metadata": {},
     "output_type": "display_data"
    }
   ],
   "source": [
    "load_hindcast??"
   ]
  },
  {
   "cell_type": "code",
   "execution_count": 6,
   "metadata": {},
   "outputs": [],
   "source": [
    "def preprocess_1var(ds, v=\"global_primary_production\"):\n",
    "    return ds[v].to_dataset(name=v).squeeze()"
   ]
  },
  {
   "cell_type": "code",
   "execution_count": 7,
   "metadata": {},
   "outputs": [
    {
     "name": "stdout",
     "output_type": "stream",
     "text": [
      "Processing init 1961 ...\n",
      "Processing init 1962 ...\n",
      "Processing init 1963 ...\n",
      "Processing init 1964 ...\n"
     ]
    },
    {
     "data": {
      "text/plain": [
       "Coordinates:\n",
       "    lat      float64 0.0\n",
       "    lon      float64 0.0\n",
       "    depth    float64 0.0\n",
       "  * lead     (lead) int64 1 2 3 4 5 6 7 8 9 10\n",
       "  * member   (member) int64 1 2\n",
       "  * init     (init) int64 1961 1962 1963 1964"
      ]
     },
     "execution_count": 7,
     "metadata": {},
     "output_type": "execute_result"
    }
   ],
   "source": [
    "ds = load_hindcast(preprocess=preprocess_1var).load()\n",
    "ds.coords"
   ]
  },
  {
   "cell_type": "code",
   "execution_count": 8,
   "metadata": {},
   "outputs": [
    {
     "data": {
      "text/html": [
       "<pre>&lt;xarray.Dataset&gt;\n",
       "Dimensions:                    (lead: 10)\n",
       "Coordinates:\n",
       "    lat                        float64 0.0\n",
       "    lon                        float64 0.0\n",
       "    depth                      float64 0.0\n",
       "  * lead                       (lead) int64 1 2 3 4 5 6 7 8 9 10\n",
       "Data variables:\n",
       "    global_primary_production  (lead) float64 -0.1276 0.593 ... 0.09196 0.5038\n",
       "Attributes:\n",
       "    prediction_skill:              calculated by climpred https://climpred.re...\n",
       "    skill_calculated_by_function:  compute_perfect_model\n",
       "    number_of_initializations:     4\n",
       "    number_of_members:             2\n",
       "    metric:                        pearson_r\n",
       "    comparison:                    m2e\n",
       "    units:                         None\n",
       "    created:                       2020-01-06 15:49:17</pre>"
      ],
      "text/plain": [
       "<xarray.Dataset>\n",
       "Dimensions:                    (lead: 10)\n",
       "Coordinates:\n",
       "    lat                        float64 0.0\n",
       "    lon                        float64 0.0\n",
       "    depth                      float64 0.0\n",
       "  * lead                       (lead) int64 1 2 3 4 5 6 7 8 9 10\n",
       "Data variables:\n",
       "    global_primary_production  (lead) float64 -0.1276 0.593 ... 0.09196 0.5038\n",
       "Attributes:\n",
       "    prediction_skill:              calculated by climpred https://climpred.re...\n",
       "    skill_calculated_by_function:  compute_perfect_model\n",
       "    number_of_initializations:     4\n",
       "    number_of_members:             2\n",
       "    metric:                        pearson_r\n",
       "    comparison:                    m2e\n",
       "    units:                         None\n",
       "    created:                       2020-01-06 15:49:17"
      ]
     },
     "execution_count": 8,
     "metadata": {},
     "output_type": "execute_result"
    }
   ],
   "source": [
    "climpred.prediction.compute_perfect_model(ds, ds.rename({'lead':'time'}))"
   ]
  },
  {
   "cell_type": "markdown",
   "metadata": {},
   "source": [
    "# `intake-esm` for cmorized output"
   ]
  },
  {
   "cell_type": "markdown",
   "metadata": {},
   "source": [
    "In case you have access to cmorized output of CMIP experiments, consider using `intake-esm`. With the `preprocess` function you can align the `time` dimension of the output. Finally, `climpred_preprocess_post` only renames."
   ]
  },
  {
   "cell_type": "code",
   "execution_count": 9,
   "metadata": {},
   "outputs": [],
   "source": [
    "from climpred.create_climpred_data import climpred_preprocess_post, climpred_preprocess_internal"
   ]
  },
  {
   "cell_type": "code",
   "execution_count": 10,
   "metadata": {},
   "outputs": [],
   "source": [
    "import intake"
   ]
  },
  {
   "cell_type": "code",
   "execution_count": 11,
   "metadata": {},
   "outputs": [],
   "source": [
    "col_url = \"/home/mpim/m300524/intake-esm-datastore/catalogs/mistral-cmip6.json\"\n",
    "col = intake.open_esm_datastore(col_url)"
   ]
  },
  {
   "cell_type": "code",
   "execution_count": 18,
   "metadata": {},
   "outputs": [
    {
     "data": {
      "text/html": [
       "<div>\n",
       "<style scoped>\n",
       "    .dataframe tbody tr th:only-of-type {\n",
       "        vertical-align: middle;\n",
       "    }\n",
       "\n",
       "    .dataframe tbody tr th {\n",
       "        vertical-align: top;\n",
       "    }\n",
       "\n",
       "    .dataframe thead th {\n",
       "        text-align: right;\n",
       "    }\n",
       "</style>\n",
       "<table border=\"1\" class=\"dataframe\">\n",
       "  <thead>\n",
       "    <tr style=\"text-align: right;\">\n",
       "      <th></th>\n",
       "      <th>activity_id</th>\n",
       "      <th>institution_id</th>\n",
       "      <th>source_id</th>\n",
       "      <th>experiment_id</th>\n",
       "      <th>member_id</th>\n",
       "      <th>table_id</th>\n",
       "      <th>variable_id</th>\n",
       "      <th>grid_label</th>\n",
       "      <th>dcpp_init_year</th>\n",
       "      <th>version</th>\n",
       "      <th>time_range</th>\n",
       "      <th>path</th>\n",
       "    </tr>\n",
       "  </thead>\n",
       "  <tbody>\n",
       "    <tr>\n",
       "      <th>0</th>\n",
       "      <td>AerChemMIP</td>\n",
       "      <td>HAMMOZ-Consortium</td>\n",
       "      <td>MPI-ESM-1-2-HAM</td>\n",
       "      <td>ssp370-lowNTCF</td>\n",
       "      <td>r1i1p1f1</td>\n",
       "      <td>Lmon</td>\n",
       "      <td>npp</td>\n",
       "      <td>gn</td>\n",
       "      <td>NaN</td>\n",
       "      <td>v20190627</td>\n",
       "      <td>203501-205412</td>\n",
       "      <td>/work/ik1017/CMIP6/data/CMIP6/AerChemMIP/HAMMO...</td>\n",
       "    </tr>\n",
       "    <tr>\n",
       "      <th>1</th>\n",
       "      <td>AerChemMIP</td>\n",
       "      <td>HAMMOZ-Consortium</td>\n",
       "      <td>MPI-ESM-1-2-HAM</td>\n",
       "      <td>ssp370-lowNTCF</td>\n",
       "      <td>r1i1p1f1</td>\n",
       "      <td>Lmon</td>\n",
       "      <td>npp</td>\n",
       "      <td>gn</td>\n",
       "      <td>NaN</td>\n",
       "      <td>v20190627</td>\n",
       "      <td>201501-203412</td>\n",
       "      <td>/work/ik1017/CMIP6/data/CMIP6/AerChemMIP/HAMMO...</td>\n",
       "    </tr>\n",
       "    <tr>\n",
       "      <th>2</th>\n",
       "      <td>AerChemMIP</td>\n",
       "      <td>HAMMOZ-Consortium</td>\n",
       "      <td>MPI-ESM-1-2-HAM</td>\n",
       "      <td>ssp370-lowNTCF</td>\n",
       "      <td>r1i1p1f1</td>\n",
       "      <td>Lmon</td>\n",
       "      <td>npp</td>\n",
       "      <td>gn</td>\n",
       "      <td>NaN</td>\n",
       "      <td>v20190627</td>\n",
       "      <td>205501-205512</td>\n",
       "      <td>/work/ik1017/CMIP6/data/CMIP6/AerChemMIP/HAMMO...</td>\n",
       "    </tr>\n",
       "    <tr>\n",
       "      <th>3</th>\n",
       "      <td>AerChemMIP</td>\n",
       "      <td>HAMMOZ-Consortium</td>\n",
       "      <td>MPI-ESM-1-2-HAM</td>\n",
       "      <td>ssp370-lowNTCF</td>\n",
       "      <td>r1i1p1f1</td>\n",
       "      <td>Lmon</td>\n",
       "      <td>tsl</td>\n",
       "      <td>gn</td>\n",
       "      <td>NaN</td>\n",
       "      <td>v20190627</td>\n",
       "      <td>205501-205512</td>\n",
       "      <td>/work/ik1017/CMIP6/data/CMIP6/AerChemMIP/HAMMO...</td>\n",
       "    </tr>\n",
       "    <tr>\n",
       "      <th>4</th>\n",
       "      <td>AerChemMIP</td>\n",
       "      <td>HAMMOZ-Consortium</td>\n",
       "      <td>MPI-ESM-1-2-HAM</td>\n",
       "      <td>ssp370-lowNTCF</td>\n",
       "      <td>r1i1p1f1</td>\n",
       "      <td>Lmon</td>\n",
       "      <td>tsl</td>\n",
       "      <td>gn</td>\n",
       "      <td>NaN</td>\n",
       "      <td>v20190627</td>\n",
       "      <td>201501-203412</td>\n",
       "      <td>/work/ik1017/CMIP6/data/CMIP6/AerChemMIP/HAMMO...</td>\n",
       "    </tr>\n",
       "  </tbody>\n",
       "</table>\n",
       "</div>"
      ],
      "text/plain": [
       "  activity_id     institution_id        source_id   experiment_id member_id  \\\n",
       "0  AerChemMIP  HAMMOZ-Consortium  MPI-ESM-1-2-HAM  ssp370-lowNTCF  r1i1p1f1   \n",
       "1  AerChemMIP  HAMMOZ-Consortium  MPI-ESM-1-2-HAM  ssp370-lowNTCF  r1i1p1f1   \n",
       "2  AerChemMIP  HAMMOZ-Consortium  MPI-ESM-1-2-HAM  ssp370-lowNTCF  r1i1p1f1   \n",
       "3  AerChemMIP  HAMMOZ-Consortium  MPI-ESM-1-2-HAM  ssp370-lowNTCF  r1i1p1f1   \n",
       "4  AerChemMIP  HAMMOZ-Consortium  MPI-ESM-1-2-HAM  ssp370-lowNTCF  r1i1p1f1   \n",
       "\n",
       "  table_id variable_id grid_label  dcpp_init_year    version     time_range  \\\n",
       "0     Lmon         npp         gn             NaN  v20190627  203501-205412   \n",
       "1     Lmon         npp         gn             NaN  v20190627  201501-203412   \n",
       "2     Lmon         npp         gn             NaN  v20190627  205501-205512   \n",
       "3     Lmon         tsl         gn             NaN  v20190627  205501-205512   \n",
       "4     Lmon         tsl         gn             NaN  v20190627  201501-203412   \n",
       "\n",
       "                                                path  \n",
       "0  /work/ik1017/CMIP6/data/CMIP6/AerChemMIP/HAMMO...  \n",
       "1  /work/ik1017/CMIP6/data/CMIP6/AerChemMIP/HAMMO...  \n",
       "2  /work/ik1017/CMIP6/data/CMIP6/AerChemMIP/HAMMO...  \n",
       "3  /work/ik1017/CMIP6/data/CMIP6/AerChemMIP/HAMMO...  \n",
       "4  /work/ik1017/CMIP6/data/CMIP6/AerChemMIP/HAMMO...  "
      ]
     },
     "execution_count": 18,
     "metadata": {},
     "output_type": "execute_result"
    }
   ],
   "source": [
    "col.df.head()"
   ]
  },
  {
   "cell_type": "code",
   "execution_count": 19,
   "metadata": {},
   "outputs": [
    {
     "data": {
      "text/plain": [
       "Index(['activity_id', 'institution_id', 'source_id', 'experiment_id',\n",
       "       'member_id', 'table_id', 'variable_id', 'grid_label', 'dcpp_init_year',\n",
       "       'version', 'time_range', 'path'],\n",
       "      dtype='object')"
      ]
     },
     "execution_count": 19,
     "metadata": {},
     "output_type": "execute_result"
    }
   ],
   "source": [
    "col.df.columns"
   ]
  },
  {
   "cell_type": "code",
   "execution_count": 20,
   "metadata": {},
   "outputs": [],
   "source": [
    "# load 2 members for 2 inits from one model\n",
    "query = dict(experiment_id=[\n",
    "    'dcppA-hindcast'], table_id='Amon', member_id=['r1i1p1f1', 'r2i1p1f1'], dcpp_init_year=[1970, 1971],\n",
    "    variable_id='tas', source_id='MPI-ESM1-2-HR')\n",
    "cat = col.search(**query)\n",
    "cdf_kwargs = {'chunks': {'time': 12}, 'decode_times': False}"
   ]
  },
  {
   "cell_type": "code",
   "execution_count": 13,
   "metadata": {},
   "outputs": [],
   "source": [
    "def preprocess(ds):\n",
    "    # extract tiny spatial and temporal subset\n",
    "    ds = ds.isel(lon=[50, 51, 52], lat=[50, 51, 52],\n",
    "                 time=np.arange(12 * 2))\n",
    "    # make time dim identical\n",
    "    ds = climpred_preprocess_internal(ds)\n",
    "    return ds"
   ]
  },
  {
   "cell_type": "code",
   "execution_count": 14,
   "metadata": {},
   "outputs": [
    {
     "name": "stdout",
     "output_type": "stream",
     "text": [
      "Progress: |███████████████████████████████████████████████████████████████████████████████| 100.0% \n",
      "\n",
      "--> The keys in the returned dictionary of datasets are constructed as follows:\n",
      "\t'activity_id.institution_id.source_id.experiment_id.table_id.grid_label'\n",
      "             \n",
      "--> There are 1 group(s)\n"
     ]
    },
    {
     "data": {
      "text/plain": [
       "Coordinates:\n",
       "    height          float64 2.0\n",
       "  * lon             (lon) float64 46.88 47.81 48.75\n",
       "  * dcpp_init_year  (dcpp_init_year) float64 1.97e+03 1.971e+03\n",
       "  * time            (time) int64 1 2 3 4 5 6 7 8 9 ... 17 18 19 20 21 22 23 24\n",
       "  * lat             (lat) float64 -42.55 -41.61 -40.68\n",
       "  * member_id       (member_id) <U8 'r1i1p1f1' 'r2i1p1f1'"
      ]
     },
     "execution_count": 14,
     "metadata": {},
     "output_type": "execute_result"
    }
   ],
   "source": [
    "dset_dict = cat.to_dataset_dict(\n",
    "    cdf_kwargs=cdf_kwargs, preprocess=preprocess)\n",
    "# get first dict value\n",
    "ds = dset_dict[list(dset_dict.keys())[0]].load()\n",
    "ds.coords"
   ]
  },
  {
   "cell_type": "code",
   "execution_count": 15,
   "metadata": {},
   "outputs": [
    {
     "data": {
      "text/plain": [
       "Coordinates:\n",
       "    height   float64 2.0\n",
       "  * lon      (lon) float64 46.88 47.81 48.75\n",
       "  * init     (init) float64 1.97e+03 1.971e+03\n",
       "  * lead     (lead) int64 1 2 3 4 5 6 7 8 9 10 ... 15 16 17 18 19 20 21 22 23 24\n",
       "  * lat      (lat) float64 -42.55 -41.61 -40.68\n",
       "  * member   (member) <U8 'r1i1p1f1' 'r2i1p1f1'"
      ]
     },
     "execution_count": 15,
     "metadata": {},
     "output_type": "execute_result"
    }
   ],
   "source": [
    "ds = climpred_preprocess_post(ds)\n",
    "ds.coords"
   ]
  },
  {
   "cell_type": "code",
   "execution_count": 16,
   "metadata": {},
   "outputs": [
    {
     "name": "stderr",
     "output_type": "stream",
     "text": [
      "/work/mh0727/m300524/miniconda3/envs/climpred-dev/lib/python3.6/site-packages/xskillscore/core/np_deterministic.py:182: RuntimeWarning: invalid value encountered in true_divide\n",
      "  r = r_num / r_den\n"
     ]
    },
    {
     "data": {
      "text/html": [
       "<pre>&lt;xarray.Dataset&gt;\n",
       "Dimensions:    (bnds: 2, lat: 3, lead: 24, lon: 3)\n",
       "Coordinates:\n",
       "    height     float64 2.0\n",
       "  * lon        (lon) float64 46.88 47.81 48.75\n",
       "  * lead       (lead) int64 1 2 3 4 5 6 7 8 9 10 ... 16 17 18 19 20 21 22 23 24\n",
       "  * lat        (lat) float64 -42.55 -41.61 -40.68\n",
       "Dimensions without coordinates: bnds\n",
       "Data variables:\n",
       "    time_bnds  (lead, bnds) float64 nan nan nan nan nan ... nan nan nan nan nan\n",
       "    lat_bnds   (lead, lat, bnds) float64 nan nan nan nan nan ... nan nan nan nan\n",
       "    lon_bnds   (lead, lon, bnds) float64 nan nan nan nan nan ... nan nan nan nan\n",
       "    tas        (lead, lat, lon) float32 0.933643 0.88438606 ... -0.8581106\n",
       "Attributes:\n",
       "    external_variables:            areacella\n",
       "    table_id:                      Amon\n",
       "    intake_esm_varname:            tas\n",
       "    source:                        MPI-ESM1.2-HR (2017): \\naerosol: none, pre...\n",
       "    tracking_id:                   hdl:21.14100/f41d2fe5-bb1c-49d0-8afa-0cb9e...\n",
       "    license:                       CMIP6 model data produced by MPI-M is lice...\n",
       "    grid:                          spectral T127; 384 x 192 longitude/latitude\n",
       "    data_specs_version:            01.00.30\n",
       "    forcing_index:                 1\n",
       "    experiment_id:                 dcppA-hindcast\n",
       "    table_info:                    Creation Date:(09 May 2019) MD5:e6ef8ececc...\n",
       "    mip_era:                       CMIP6\n",
       "    frequency:                     mon\n",
       "    realm:                         atmos\n",
       "    initialization_index:          1\n",
       "    variable_id:                   tas\n",
       "    cmor_version:                  3.5.0\n",
       "    branch_method:                 standard lagged initialization\n",
       "    product:                       model-output\n",
       "    title:                         MPI-ESM1-2-HR output prepared for CMIP6\n",
       "    history:                       2019-09-06T14:20:04Z ; CMOR rewrote data t...\n",
       "    source_type:                   AOGCM\n",
       "    experiment:                    hindcast initialized based on observations...\n",
       "    Conventions:                   CF-1.7 CMIP-6.2\n",
       "    grid_label:                    gn\n",
       "    contact:                       cmip6-mpi-esm@dkrz.de\n",
       "    references:                    MPI-ESM: Mauritsen, T. et al. (2019), Deve...\n",
       "    physics_index:                 1\n",
       "    nominal_resolution:            100 km\n",
       "    institution:                   Max Planck Institute for Meteorology, Hamb...\n",
       "    source_id:                     MPI-ESM1-2-HR\n",
       "    project_id:                    CMIP6\n",
       "    activity_id:                   DCPP\n",
       "    institution_id:                MPI-M\n",
       "    prediction_skill:              calculated by climpred https://climpred.re...\n",
       "    skill_calculated_by_function:  compute_perfect_model\n",
       "    number_of_initializations:     2\n",
       "    number_of_members:             2\n",
       "    metric:                        pearson_r\n",
       "    comparison:                    m2e\n",
       "    units:                         None\n",
       "    created:                       2020-01-06 15:49:35</pre>"
      ],
      "text/plain": [
       "<xarray.Dataset>\n",
       "Dimensions:    (bnds: 2, lat: 3, lead: 24, lon: 3)\n",
       "Coordinates:\n",
       "    height     float64 2.0\n",
       "  * lon        (lon) float64 46.88 47.81 48.75\n",
       "  * lead       (lead) int64 1 2 3 4 5 6 7 8 9 10 ... 16 17 18 19 20 21 22 23 24\n",
       "  * lat        (lat) float64 -42.55 -41.61 -40.68\n",
       "Dimensions without coordinates: bnds\n",
       "Data variables:\n",
       "    time_bnds  (lead, bnds) float64 nan nan nan nan nan ... nan nan nan nan nan\n",
       "    lat_bnds   (lead, lat, bnds) float64 nan nan nan nan nan ... nan nan nan nan\n",
       "    lon_bnds   (lead, lon, bnds) float64 nan nan nan nan nan ... nan nan nan nan\n",
       "    tas        (lead, lat, lon) float32 0.933643 0.88438606 ... -0.8581106\n",
       "Attributes:\n",
       "    external_variables:            areacella\n",
       "    table_id:                      Amon\n",
       "    intake_esm_varname:            tas\n",
       "    source:                        MPI-ESM1.2-HR (2017): \\naerosol: none, pre...\n",
       "    tracking_id:                   hdl:21.14100/f41d2fe5-bb1c-49d0-8afa-0cb9e...\n",
       "    license:                       CMIP6 model data produced by MPI-M is lice...\n",
       "    grid:                          spectral T127; 384 x 192 longitude/latitude\n",
       "    data_specs_version:            01.00.30\n",
       "    forcing_index:                 1\n",
       "    experiment_id:                 dcppA-hindcast\n",
       "    table_info:                    Creation Date:(09 May 2019) MD5:e6ef8ececc...\n",
       "    mip_era:                       CMIP6\n",
       "    frequency:                     mon\n",
       "    realm:                         atmos\n",
       "    initialization_index:          1\n",
       "    variable_id:                   tas\n",
       "    cmor_version:                  3.5.0\n",
       "    branch_method:                 standard lagged initialization\n",
       "    product:                       model-output\n",
       "    title:                         MPI-ESM1-2-HR output prepared for CMIP6\n",
       "    history:                       2019-09-06T14:20:04Z ; CMOR rewrote data t...\n",
       "    source_type:                   AOGCM\n",
       "    experiment:                    hindcast initialized based on observations...\n",
       "    Conventions:                   CF-1.7 CMIP-6.2\n",
       "    grid_label:                    gn\n",
       "    contact:                       cmip6-mpi-esm@dkrz.de\n",
       "    references:                    MPI-ESM: Mauritsen, T. et al. (2019), Deve...\n",
       "    physics_index:                 1\n",
       "    nominal_resolution:            100 km\n",
       "    institution:                   Max Planck Institute for Meteorology, Hamb...\n",
       "    source_id:                     MPI-ESM1-2-HR\n",
       "    project_id:                    CMIP6\n",
       "    activity_id:                   DCPP\n",
       "    institution_id:                MPI-M\n",
       "    prediction_skill:              calculated by climpred https://climpred.re...\n",
       "    skill_calculated_by_function:  compute_perfect_model\n",
       "    number_of_initializations:     2\n",
       "    number_of_members:             2\n",
       "    metric:                        pearson_r\n",
       "    comparison:                    m2e\n",
       "    units:                         None\n",
       "    created:                       2020-01-06 15:49:35"
      ]
     },
     "execution_count": 16,
     "metadata": {},
     "output_type": "execute_result"
    }
   ],
   "source": [
    "climpred.prediction.compute_perfect_model(ds, ds.rename({'lead':'time'}))"
   ]
  },
  {
   "cell_type": "code",
   "execution_count": null,
   "metadata": {},
   "outputs": [],
   "source": []
  }
 ],
 "metadata": {
  "kernelspec": {
   "display_name": "Python [conda env:climpred-dev]",
   "language": "python",
   "name": "conda-env-climpred-dev-py"
  },
  "language_info": {
   "codemirror_mode": {
    "name": "ipython",
    "version": 3
   },
   "file_extension": ".py",
   "mimetype": "text/x-python",
   "name": "python",
   "nbconvert_exporter": "python",
   "pygments_lexer": "ipython3",
   "version": "3.6.7"
  },
  "latex_envs": {
   "LaTeX_envs_menu_present": false,
   "autoclose": true,
   "autocomplete": true,
   "bibliofile": "large.bib",
   "cite_by": "apalike",
   "current_citInitial": 1,
   "eqLabelWithNumbers": false,
   "eqNumInitial": 1,
   "hotkeys": {
    "equation": "Ctrl-E",
    "itemize": "Ctrl-I"
   },
   "labels_anchors": false,
   "latex_user_defs": false,
   "report_style_numbering": false,
   "user_envs_cfg": false
  },
  "toc": {
   "base_numbering": 1,
   "nav_menu": {},
   "number_sections": true,
   "sideBar": true,
   "skip_h1_title": false,
   "title_cell": "Table of Contents",
   "title_sidebar": "Contents",
   "toc_cell": false,
   "toc_position": {},
   "toc_section_display": true,
   "toc_window_display": false
  },
  "varInspector": {
   "cols": {
    "lenName": 16,
    "lenType": 16,
    "lenVar": 40
   },
   "kernels_config": {
    "python": {
     "delete_cmd_postfix": "",
     "delete_cmd_prefix": "del ",
     "library": "var_list.py",
     "varRefreshCmd": "print(var_dic_list())"
    },
    "r": {
     "delete_cmd_postfix": ") ",
     "delete_cmd_prefix": "rm(",
     "library": "var_list.r",
     "varRefreshCmd": "cat(var_dic_list()) "
    }
   },
   "types_to_exclude": [
    "module",
    "function",
    "builtin_function_or_method",
    "instance",
    "_Feature"
   ],
   "window_display": false
  }
 },
 "nbformat": 4,
 "nbformat_minor": 4
}
