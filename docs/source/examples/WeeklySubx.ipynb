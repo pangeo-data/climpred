{
 "cells": [
  {
   "cell_type": "code",
   "execution_count": 8,
   "metadata": {},
   "outputs": [],
   "source": [
    "import matplotlib.pyplot as plt\n",
    "import xarray as xr\n",
    "import pandas as pd\n",
    "import numpy as np\n",
    "from climpred import HindcastEnsemble\n",
    "import climpred"
   ]
  },
  {
   "cell_type": "code",
   "execution_count": 9,
   "metadata": {},
   "outputs": [],
   "source": [
    "# Decode times for 360 day calendars\n",
    "def decode_cf(ds, time_var):\n",
    "    if ds[time_var].attrs['calendar'] == '360':\n",
    "        ds[time_var].attrs['calendar'] = '360_day'\n",
    "    ds = xr.decode_cf(ds, decode_times=True)\n",
    "    return ds"
   ]
  },
  {
   "cell_type": "code",
   "execution_count": 10,
   "metadata": {},
   "outputs": [],
   "source": [
    "# Select skill score\n",
    "score='acc'"
   ]
  },
  {
   "cell_type": "code",
   "execution_count": 11,
   "metadata": {},
   "outputs": [
    {
     "name": "stdout",
     "output_type": "stream",
     "text": [
      "           rmm1      rmm2       time\n",
      "0      1.867320  1.162380 1974-06-03\n",
      "1      1.868380  1.122380 1974-06-04\n",
      "2      1.923860  1.404810 1974-06-05\n",
      "3      1.574160  1.744920 1974-06-06\n",
      "4      0.977483  1.856400 1974-06-07\n",
      "...         ...       ...        ...\n",
      "15608  0.665826 -1.181078 2017-07-20\n",
      "15609  0.778615 -0.953263 2017-07-21\n",
      "15610  0.891819 -0.704285 2017-07-22\n",
      "15611  0.902347 -0.338409 2017-07-23\n",
      "15612  1.027518 -0.029707 2017-07-24\n",
      "\n",
      "[15613 rows x 3 columns]\n"
     ]
    }
   ],
   "source": [
    "#Read Obs File\n",
    "obsurl='/shared/ccsm4/kpegion/obs2/RMM/rmmint1979-Present.txt'\n",
    "cols=['year','month','day','rmm1','rmm2','phase','amp','datasource']\n",
    "obspd=pd.read_table(obsurl,skiprows=2,delim_whitespace=True,header=None,names=cols)\n",
    "obspd['time']=pd.to_datetime(obspd[['year','month','day']])\n",
    "obspd=obspd.drop(columns=['year','month','day','datasource','phase','amp'])\n",
    "print(obspd)"
   ]
  },
  {
   "cell_type": "code",
   "execution_count": 12,
   "metadata": {},
   "outputs": [],
   "source": [
    "groups=['GMAO'] #,'RSMAS','ESRL','ECCC','NRL','EMC']           \n",
    "models=['GEOS_V2p1'] #,'CCSM4','FIMr1p1','GEM','NESM','GEFS']  \n",
    "varnames=['RMM1'] #,'RMM2']"
   ]
  },
  {
   "cell_type": "code",
   "execution_count": 13,
   "metadata": {},
   "outputs": [
    {
     "name": "stdout",
     "output_type": "stream",
     "text": [
      "RMM1\n",
      "GEOS_V2p1\n",
      "<xarray.Dataset>\n",
      "Dimensions:  (lead: 6)\n",
      "Coordinates:\n",
      "  * lead     (lead) int64 1 2 3 4 5 6\n",
      "Data variables:\n",
      "    rmm1     (lead) float64 dask.array<chunksize=(1,), meta=np.ndarray>\n",
      "Attributes:\n",
      "    prediction_skill:              calculated by climpred https://climpred.re...\n",
      "    skill_calculated_by_function:  compute_hindcast\n",
      "    number_of_initializations:     510\n",
      "    number_of_members:             4\n",
      "    metric:                        pearson_r\n",
      "    comparison:                    e2r\n",
      "    units:                         None\n",
      "    created:                       2019-11-15 17:23:19\n"
     ]
    },
    {
     "data": {
      "image/png": "[encoded data removed]",
      "text/plain": [
       "<Figure size 612x792 with 1 Axes>"
      ]
     },
     "metadata": {
      "needs_background": "light"
     },
     "output_type": "display_data"
    }
   ],
   "source": [
    "# Create the figure\n",
    "plt.figure(figsize=(8.5,11))\n",
    "\n",
    "# Loop over all variables\n",
    "for i,varname in enumerate(varnames, start=1):\n",
    "    \n",
    "    print(varname)\n",
    "    \n",
    "    # Set the subplot\n",
    "    plt.subplot(2,1,i)\n",
    "    \n",
    "    # Read the obs data, only keeping the desired variable\n",
    "    obspd2=obspd[['time',varname.lower()]].set_index('time').to_xarray() \n",
    "    \n",
    "    # Handle missing\n",
    "    obspd2 = obspd2.where(obspd2[varname.lower()] <= 1e10)  \n",
    "    \n",
    "    # Make weekly averages \n",
    "    obspd3=obspd2.rolling(time=7,center=False).mean().dropna(dim='time')\n",
    "\n",
    "        \n",
    "    # Loop over all groups and models\n",
    "    for group,model in zip(groups,models):\n",
    "\n",
    "        print(model)\n",
    "        \n",
    "        # Read data from IRI Server\n",
    "        url = 'http://iridl.ldeo.columbia.edu/SOURCES/.Models/.SubX/.'+group+'/.'+model+'/.hindcast/.RMM/.'+varname+'/dods/'\n",
    "        fullda = xr.open_dataset(url, decode_times=False, chunks={'S': 1, 'L': 45}).dropna(dim='S',how='all')\n",
    "        \n",
    "        # Make the lead an integer\n",
    "        fullda['L']=(fullda['L']-0.5).astype('int')\n",
    "        \n",
    "        # Convert times to datetime64\n",
    "        fullda = decode_cf(fullda, 'S')\n",
    "        fullda['S']=pd.to_datetime(fullda.S.values.astype(str))\n",
    "        fullda['S']=pd.to_datetime(fullda['S'].dt.strftime('%Y%m%d 00:00'))\n",
    "        \n",
    "        # Change dimension names to those needed by climpred\n",
    "        fcst=fullda.rename({'S': 'init','L': 'lead','M': 'member', varname : varname.lower()})\n",
    "        \n",
    "        # Make weekly averages\n",
    "        fcst2=fcst.rolling(lead=7,center=False).mean().dropna(dim='lead')\n",
    "        \n",
    "        # Create new xarray DataArray with weekly data\n",
    "        nleads=fcst2['lead'][::7].size\n",
    "        fcst3=xr.DataArray(fcst2[varname.lower()][:,:,::7], \n",
    "                           coords={'init' : fcst2['init'],\n",
    "                                   'member': fcst2['member'],\n",
    "                                   'lead': np.arange(1,nleads+1), \n",
    "                                   },\n",
    "                           dims=['init', 'member','lead'])\n",
    "        fcst3.name = varname.lower()\n",
    "        \n",
    "        # Set lead units to weeks as required by climpred\n",
    "        fcst3['lead'].attrs={'units': 'weeks'}\n",
    "        \n",
    "        # Create the Hindcast Ensemble object and add observations as the reference/verification\n",
    "        hindcast = HindcastEnsemble(fcst3)\n",
    "        hindcast=hindcast.add_reference(obspd3, 'observations')\n",
    "        \n",
    "        # Calculate the skill for this model\n",
    "        skill = hindcast.compute_metric(metric=score)\n",
    "        print(skill)\n",
    "        \n",
    "        #Plot skill for this model\n",
    "        x=np.arange(fcst3['lead'].size)\n",
    "        plt.bar(x,skill[varname.lower()])\n",
    "    \n",
    "    #Add plotting labels\n",
    "    plt.legend(models)\n",
    "    plt.title(varname+' Skill')\n",
    "    plt.xlabel('Forecast Weeks')\n",
    "    plt.ylabel('ACC')\n",
    "    plt.ylim(0.0, 1.0)"
   ]
  },
  {
   "cell_type": "code",
   "execution_count": 14,
   "metadata": {},
   "outputs": [
    {
     "data": {
      "text/plain": [
       "array([0.94796002, 0.87192991, 0.72647795, 0.56582234, 0.45044374,\n",
       "       0.36065706])"
      ]
     },
     "execution_count": 14,
     "metadata": {},
     "output_type": "execute_result"
    }
   ],
   "source": [
    "skill[varname.lower()].values"
   ]
  },
  {
   "cell_type": "code",
   "execution_count": null,
   "metadata": {},
   "outputs": [],
   "source": []
  }
 ],
 "metadata": {
  "kernelspec": {
   "display_name": "climpred-dev",
   "language": "python",
   "name": "climpred-dev"
  },
  "language_info": {
   "codemirror_mode": {
    "name": "ipython",
    "version": 3
   },
   "file_extension": ".py",
   "mimetype": "text/x-python",
   "name": "python",
   "nbconvert_exporter": "python",
   "pygments_lexer": "ipython3",
   "version": "3.6.7"
  }
 },
 "nbformat": 4,
 "nbformat_minor": 4
}
