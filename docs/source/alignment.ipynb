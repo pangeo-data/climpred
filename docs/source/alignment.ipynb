{
 "cells": [
  {
   "cell_type": "markdown",
   "metadata": {},
   "source": [
    "You can run this notebook in a [live session](https://binder.pangeo.io/v2/gh/pangeo-data/climpred/main?urlpath=lab/tree/docs/source/alignment.ipynb) [<img src=\"https://mybinder.org/badge_logo.svg\" alt='binder badge'>](https://binder.pangeo.io/v2/gh/pangeo-data/climpred/main?urlpath=lab/tree/docs/source/alignment.ipynb) or view it [on Github](https://github.com/pangeo-data/climpred/blob/main/docs/source/alignment.ipynb)."
   ]
  },
  {
   "cell_type": "markdown",
   "metadata": {},
   "source": [
    "#### Verification Alignment\n",
    "\n",
    "A forecast is verified by comparing a set of initializations at a given lead to\n",
    "observations over some window of time. However, there are a few ways to decide *which*\n",
    "initializations or verification window to use in this alignment.\n",
    "\n",
    "One must pass the keyword ``alignment=...`` to the {py:meth}`.HindcastEnsemble.verify` method to set the behavior for aligning forecasts with the verification product. Note that the alignment decision only matters for {py:class}`.HindcastEnsemble`. {py:class}`.PerfectModelEnsemble` are perfectly time-aligned by design, equating to our `\"same_inits\"` keyword.\n",
    "\n",
    "The available keywords for hindcast alignment are:\n",
    "\n",
    "*  `\"same_inits\"`: Use a common set of initializations that verify\n",
    "   across all leads. This ensures that there is no bias in the result due to the state\n",
    "   of the system for the given initializations.\n",
    "\n",
    "*  `\"same_verifs\"`: Use a common verification window across all leads. This ensures\n",
    "   that there is no bias in the result due to the observational period being verified\n",
    "   against.\n",
    "\n",
    "*  `\"maximize\"`: Use all available initializations at each lead that verify against\n",
    "   the observations provided. This changes both the set of initializations and the\n",
    "   verification window used at each lead."
   ]
  },
  {
   "cell_type": "code",
   "execution_count": 1,
   "metadata": {},
   "outputs": [
    {
     "data": {
      "application/javascript": [
       "\n",
       "            setTimeout(function() {\n",
       "                var nbb_cell_id = 1;\n",
       "                var nbb_unformatted_code = \"# linting\\n%load_ext nb_black\\n%load_ext lab_black\";\n",
       "                var nbb_formatted_code = \"# linting\\n%load_ext nb_black\\n%load_ext lab_black\";\n",
       "                var nbb_cells = Jupyter.notebook.get_cells();\n",
       "                for (var i = 0; i < nbb_cells.length; ++i) {\n",
       "                    if (nbb_cells[i].input_prompt_number == nbb_cell_id) {\n",
       "                        if (nbb_cells[i].get_text() == nbb_unformatted_code) {\n",
       "                             nbb_cells[i].set_text(nbb_formatted_code);\n",
       "                        }\n",
       "                        break;\n",
       "                    }\n",
       "                }\n",
       "            }, 500);\n",
       "            "
      ],
      "text/plain": [
       "<IPython.core.display.Javascript object>"
      ]
     },
     "metadata": {},
     "output_type": "display_data"
    }
   ],
   "source": [
    "# linting\n",
    "%load_ext nb_black\n",
    "%load_ext lab_black"
   ]
  },
  {
   "cell_type": "code",
   "execution_count": 2,
   "metadata": {},
   "outputs": [
    {
     "data": {
      "application/javascript": [
       "\n",
       "            setTimeout(function() {\n",
       "                var nbb_cell_id = 2;\n",
       "                var nbb_unformatted_code = \"from climpred import HindcastEnsemble\\nfrom climpred.tutorial import load_dataset\\nfrom esmtools.stats import rm_trend\\n\\nimport matplotlib.pyplot as plt\\n\\nplt.style.use(\\\"fivethirtyeight\\\")\\n%matplotlib inline\\n\\nimport numpy as np\\n\\nimport warnings\\n\\n# Supress datetime warnings for this page.\\nwarnings.filterwarnings(\\\"ignore\\\")\";\n",
       "                var nbb_formatted_code = \"from climpred import HindcastEnsemble\\nfrom climpred.tutorial import load_dataset\\nfrom esmtools.stats import rm_trend\\n\\nimport matplotlib.pyplot as plt\\n\\nplt.style.use(\\\"fivethirtyeight\\\")\\n%matplotlib inline\\n\\nimport numpy as np\\n\\nimport warnings\\n\\n# Supress datetime warnings for this page.\\nwarnings.filterwarnings(\\\"ignore\\\")\";\n",
       "                var nbb_cells = Jupyter.notebook.get_cells();\n",
       "                for (var i = 0; i < nbb_cells.length; ++i) {\n",
       "                    if (nbb_cells[i].input_prompt_number == nbb_cell_id) {\n",
       "                        if (nbb_cells[i].get_text() == nbb_unformatted_code) {\n",
       "                             nbb_cells[i].set_text(nbb_formatted_code);\n",
       "                        }\n",
       "                        break;\n",
       "                    }\n",
       "                }\n",
       "            }, 500);\n",
       "            "
      ],
      "text/plain": [
       "<IPython.core.display.Javascript object>"
      ]
     },
     "metadata": {},
     "output_type": "display_data"
    }
   ],
   "source": [
    "from climpred import HindcastEnsemble\n",
    "from climpred.tutorial import load_dataset\n",
    "from esmtools.stats import rm_trend\n",
    "\n",
    "import matplotlib.pyplot as plt\n",
    "\n",
    "plt.style.use(\"fivethirtyeight\")\n",
    "%matplotlib inline\n",
    "\n",
    "import numpy as np\n",
    "\n",
    "import warnings\n",
    "\n",
    "# Supress datetime warnings for this page.\n",
    "warnings.filterwarnings(\"ignore\")"
   ]
  },
  {
   "cell_type": "code",
   "execution_count": 3,
   "metadata": {},
   "outputs": [
    {
     "data": {
      "application/javascript": [
       "\n",
       "            setTimeout(function() {\n",
       "                var nbb_cell_id = 3;\n",
       "                var nbb_unformatted_code = \"def create_hindcast_object():\\n    \\\"\\\"\\\"Loads in example data from CESM-DPLE and ERSST observations and detrends.\\\"\\\"\\\"\\n    hind = load_dataset(\\\"CESM-DP-SST\\\")[\\\"SST\\\"]\\n    verif = load_dataset(\\\"ERSST\\\")[\\\"SST\\\"]\\n\\n    # Bias-correct over same period as CESM-DPLE.\\n    verif = verif - verif.sel(time=slice(1964, 2014)).mean(\\\"time\\\")\\n\\n    # Remove linear trend.\\n    hind_dt = rm_trend(hind, dim=\\\"init\\\").rename(\\\"SST\\\")\\n    verif_dt = rm_trend(verif, dim=\\\"time\\\").rename(\\\"SST\\\")\\n\\n    # Create `HindcastEnsemble` object from `climpred`.\\n    hindcast = HindcastEnsemble(hind)\\n    hindcast = hindcast.add_observations(verif)\\n    hindcast_dt = HindcastEnsemble(hind_dt)\\n    hindcast_dt = hindcast_dt.add_observations(verif_dt)\\n    return hindcast, hindcast_dt\";\n",
       "                var nbb_formatted_code = \"def create_hindcast_object():\\n    \\\"\\\"\\\"Loads in example data from CESM-DPLE and ERSST observations and detrends.\\\"\\\"\\\"\\n    hind = load_dataset(\\\"CESM-DP-SST\\\")[\\\"SST\\\"]\\n    verif = load_dataset(\\\"ERSST\\\")[\\\"SST\\\"]\\n\\n    # Bias-correct over same period as CESM-DPLE.\\n    verif = verif - verif.sel(time=slice(1964, 2014)).mean(\\\"time\\\")\\n\\n    # Remove linear trend.\\n    hind_dt = rm_trend(hind, dim=\\\"init\\\").rename(\\\"SST\\\")\\n    verif_dt = rm_trend(verif, dim=\\\"time\\\").rename(\\\"SST\\\")\\n\\n    # Create `HindcastEnsemble` object from `climpred`.\\n    hindcast = HindcastEnsemble(hind)\\n    hindcast = hindcast.add_observations(verif)\\n    hindcast_dt = HindcastEnsemble(hind_dt)\\n    hindcast_dt = hindcast_dt.add_observations(verif_dt)\\n    return hindcast, hindcast_dt\";\n",
       "                var nbb_cells = Jupyter.notebook.get_cells();\n",
       "                for (var i = 0; i < nbb_cells.length; ++i) {\n",
       "                    if (nbb_cells[i].input_prompt_number == nbb_cell_id) {\n",
       "                        if (nbb_cells[i].get_text() == nbb_unformatted_code) {\n",
       "                             nbb_cells[i].set_text(nbb_formatted_code);\n",
       "                        }\n",
       "                        break;\n",
       "                    }\n",
       "                }\n",
       "            }, 500);\n",
       "            "
      ],
      "text/plain": [
       "<IPython.core.display.Javascript object>"
      ]
     },
     "metadata": {},
     "output_type": "display_data"
    }
   ],
   "source": [
    "def create_hindcast_object():\n",
    "    \"\"\"Loads in example data from CESM-DPLE and ERSST observations and detrends.\"\"\"\n",
    "    hind = load_dataset(\"CESM-DP-SST\")[\"SST\"]\n",
    "    verif = load_dataset(\"ERSST\")[\"SST\"]\n",
    "\n",
    "    # Bias-correct over same period as CESM-DPLE.\n",
    "    verif = verif - verif.sel(time=slice(1964, 2014)).mean(\"time\")\n",
    "\n",
    "    # Remove linear trend.\n",
    "    hind_dt = rm_trend(hind, dim=\"init\").rename(\"SST\")\n",
    "    verif_dt = rm_trend(verif, dim=\"time\").rename(\"SST\")\n",
    "\n",
    "    # Create `HindcastEnsemble` object from `climpred`.\n",
    "    hindcast = HindcastEnsemble(hind)\n",
    "    hindcast = hindcast.add_observations(verif)\n",
    "    hindcast_dt = HindcastEnsemble(hind_dt)\n",
    "    hindcast_dt = hindcast_dt.add_observations(verif_dt)\n",
    "    return hindcast, hindcast_dt"
   ]
  },
  {
   "cell_type": "code",
   "execution_count": 4,
   "metadata": {},
   "outputs": [
    {
     "data": {
      "application/javascript": [
       "\n",
       "            setTimeout(function() {\n",
       "                var nbb_cell_id = 4;\n",
       "                var nbb_unformatted_code = \"hindcast, hindcast_dt = create_hindcast_object()\";\n",
       "                var nbb_formatted_code = \"hindcast, hindcast_dt = create_hindcast_object()\";\n",
       "                var nbb_cells = Jupyter.notebook.get_cells();\n",
       "                for (var i = 0; i < nbb_cells.length; ++i) {\n",
       "                    if (nbb_cells[i].input_prompt_number == nbb_cell_id) {\n",
       "                        if (nbb_cells[i].get_text() == nbb_unformatted_code) {\n",
       "                             nbb_cells[i].set_text(nbb_formatted_code);\n",
       "                        }\n",
       "                        break;\n",
       "                    }\n",
       "                }\n",
       "            }, 500);\n",
       "            "
      ],
      "text/plain": [
       "<IPython.core.display.Javascript object>"
      ]
     },
     "metadata": {},
     "output_type": "display_data"
    }
   ],
   "source": [
    "hindcast, hindcast_dt = create_hindcast_object()"
   ]
  },
  {
   "cell_type": "markdown",
   "metadata": {},
   "source": [
    "The user can simply change the alignment strategy by passing in the keyword `alignment=...`. {py:meth}`.HindcastEnsemble.plot_alignment` shows `valid_time` dates that are verified against observations."
   ]
  },
  {
   "cell_type": "code",
   "execution_count": 5,
   "metadata": {},
   "outputs": [
    {
     "data": {
      "text/plain": [
       "<xarray.plot.facetgrid.FacetGrid at 0x148fc5c10>"
      ]
     },
     "execution_count": 5,
     "metadata": {},
     "output_type": "execute_result"
    },
    {
     "data": {
      "image/png": "[encoded data removed]",
      "text/plain": [
       "<Figure size 720x216 with 4 Axes>"
      ]
     },
     "metadata": {
      "needs_background": "light"
     },
     "output_type": "display_data"
    },
    {
     "data": {
      "application/javascript": [
       "\n",
       "            setTimeout(function() {\n",
       "                var nbb_cell_id = 5;\n",
       "                var nbb_unformatted_code = \"hindcast.plot_alignment(edgecolor=\\\"w\\\")\";\n",
       "                var nbb_formatted_code = \"hindcast.plot_alignment(edgecolor=\\\"w\\\")\";\n",
       "                var nbb_cells = Jupyter.notebook.get_cells();\n",
       "                for (var i = 0; i < nbb_cells.length; ++i) {\n",
       "                    if (nbb_cells[i].input_prompt_number == nbb_cell_id) {\n",
       "                        if (nbb_cells[i].get_text() == nbb_unformatted_code) {\n",
       "                             nbb_cells[i].set_text(nbb_formatted_code);\n",
       "                        }\n",
       "                        break;\n",
       "                    }\n",
       "                }\n",
       "            }, 500);\n",
       "            "
      ],
      "text/plain": [
       "<IPython.core.display.Javascript object>"
      ]
     },
     "metadata": {},
     "output_type": "display_data"
    }
   ],
   "source": [
    "hindcast.plot_alignment(edgecolor=\"w\")"
   ]
  },
  {
   "cell_type": "markdown",
   "metadata": {},
   "source": [
    "Note that the choice of alignment strategy changes the lead-dependent metric results."
   ]
  },
  {
   "cell_type": "code",
   "execution_count": 6,
   "metadata": {},
   "outputs": [
    {
     "data": {
      "image/png": "[encoded data removed]",
      "text/plain": [
       "<Figure size 864x288 with 2 Axes>"
      ]
     },
     "metadata": {
      "needs_background": "light"
     },
     "output_type": "display_data"
    },
    {
     "data": {
      "application/javascript": [
       "\n",
       "            setTimeout(function() {\n",
       "                var nbb_cell_id = 6;\n",
       "                var nbb_unformatted_code = \"f, axs = plt.subplots(ncols=2, figsize=(12, 4), sharex=True)\\nfor alignment in [\\\"same_inits\\\", \\\"same_verifs\\\", \\\"maximize\\\"]:\\n    hindcast.verify(metric=\\\"acc\\\", comparison=\\\"e2o\\\", dim=\\\"init\\\", alignment=alignment)[\\n        \\\"SST\\\"\\n    ].plot(label=alignment, ax=axs[0])\\n    hindcast_dt.verify(metric=\\\"acc\\\", comparison=\\\"e2o\\\", dim=\\\"init\\\", alignment=alignment)[\\n        \\\"SST\\\"\\n    ].plot(label=alignment, ax=axs[1])\\n\\naxs[0].legend()\\naxs[1].legend()\\naxs[0].set(\\n    ylabel=\\\"anomaly\\\\ncorrelation coefficient\\\",\\n    xlabel=\\\"lead year\\\",\\n    xticks=np.arange(1, 11),\\n    title=\\\"SST with trend\\\",\\n)\\naxs[1].set(\\n    ylabel=\\\"anomaly\\\\ncorrelation coefficient\\\", xlabel=\\\"lead year\\\", title=\\\"detrended SST\\\"\\n)\\n\\nf.suptitle(\\\"Verification with Different Alignment Methods\\\", fontsize=14, weight=\\\"bold\\\")\\nplt.subplots_adjust(top=0.85)\\n\\nplt.show()\";\n",
       "                var nbb_formatted_code = \"f, axs = plt.subplots(ncols=2, figsize=(12, 4), sharex=True)\\nfor alignment in [\\\"same_inits\\\", \\\"same_verifs\\\", \\\"maximize\\\"]:\\n    hindcast.verify(metric=\\\"acc\\\", comparison=\\\"e2o\\\", dim=\\\"init\\\", alignment=alignment)[\\n        \\\"SST\\\"\\n    ].plot(label=alignment, ax=axs[0])\\n    hindcast_dt.verify(metric=\\\"acc\\\", comparison=\\\"e2o\\\", dim=\\\"init\\\", alignment=alignment)[\\n        \\\"SST\\\"\\n    ].plot(label=alignment, ax=axs[1])\\n\\naxs[0].legend()\\naxs[1].legend()\\naxs[0].set(\\n    ylabel=\\\"anomaly\\\\ncorrelation coefficient\\\",\\n    xlabel=\\\"lead year\\\",\\n    xticks=np.arange(1, 11),\\n    title=\\\"SST with trend\\\",\\n)\\naxs[1].set(\\n    ylabel=\\\"anomaly\\\\ncorrelation coefficient\\\", xlabel=\\\"lead year\\\", title=\\\"detrended SST\\\"\\n)\\n\\nf.suptitle(\\\"Verification with Different Alignment Methods\\\", fontsize=14, weight=\\\"bold\\\")\\nplt.subplots_adjust(top=0.85)\\n\\nplt.show()\";\n",
       "                var nbb_cells = Jupyter.notebook.get_cells();\n",
       "                for (var i = 0; i < nbb_cells.length; ++i) {\n",
       "                    if (nbb_cells[i].input_prompt_number == nbb_cell_id) {\n",
       "                        if (nbb_cells[i].get_text() == nbb_unformatted_code) {\n",
       "                             nbb_cells[i].set_text(nbb_formatted_code);\n",
       "                        }\n",
       "                        break;\n",
       "                    }\n",
       "                }\n",
       "            }, 500);\n",
       "            "
      ],
      "text/plain": [
       "<IPython.core.display.Javascript object>"
      ]
     },
     "metadata": {},
     "output_type": "display_data"
    }
   ],
   "source": [
    "f, axs = plt.subplots(ncols=2, figsize=(12, 4), sharex=True)\n",
    "for alignment in [\"same_inits\", \"same_verifs\", \"maximize\"]:\n",
    "    hindcast.verify(metric=\"acc\", comparison=\"e2o\", dim=\"init\", alignment=alignment)[\n",
    "        \"SST\"\n",
    "    ].plot(label=alignment, ax=axs[0])\n",
    "    hindcast_dt.verify(metric=\"acc\", comparison=\"e2o\", dim=\"init\", alignment=alignment)[\n",
    "        \"SST\"\n",
    "    ].plot(label=alignment, ax=axs[1])\n",
    "\n",
    "axs[0].legend()\n",
    "axs[1].legend()\n",
    "axs[0].set(\n",
    "    ylabel=\"anomaly\\ncorrelation coefficient\",\n",
    "    xlabel=\"lead year\",\n",
    "    xticks=np.arange(1, 11),\n",
    "    title=\"SST with trend\",\n",
    ")\n",
    "axs[1].set(\n",
    "    ylabel=\"anomaly\\ncorrelation coefficient\", xlabel=\"lead year\", title=\"detrended SST\"\n",
    ")\n",
    "\n",
    "f.suptitle(\"Verification with Different Alignment Methods\", fontsize=14, weight=\"bold\")\n",
    "plt.subplots_adjust(top=0.85)\n",
    "\n",
    "plt.show()"
   ]
  },
  {
   "cell_type": "markdown",
   "metadata": {},
   "source": [
    "These alignment keywords also extend to reference forecasts (e.g. `reference=\"persistence\"`), which uses the identical set of initializations (and alignment strategy) in its computation. Below, the dashed lines represent the persistence forecast for the given alignment strategy, while the solid lines denote the initialized anomaly correlation coefficient (as in the above plots)."
   ]
  },
  {
   "cell_type": "code",
   "execution_count": 7,
   "metadata": {},
   "outputs": [
    {
     "data": {
      "image/png": "[encoded data removed]",
      "text/plain": [
       "<Figure size 432x288 with 1 Axes>"
      ]
     },
     "metadata": {
      "needs_background": "light"
     },
     "output_type": "display_data"
    },
    {
     "data": {
      "application/javascript": [
       "\n",
       "            setTimeout(function() {\n",
       "                var nbb_cell_id = 7;\n",
       "                var nbb_unformatted_code = \"COLORS = [\\\"#008FD5\\\", \\\"#FC4F30\\\", \\\"#E5AE38\\\"]\\nf, axs = plt.subplots()\\n\\nfor alignment, color in zip([\\\"same_inits\\\", \\\"same_verifs\\\", \\\"maximize\\\"], COLORS):\\n    result = hindcast_dt.verify(\\n        metric=\\\"acc\\\",\\n        reference=\\\"persistence\\\",\\n        comparison=\\\"e2o\\\",\\n        dim=\\\"init\\\",\\n        alignment=alignment,\\n    )\\n    result.sel(skill=\\\"initialized\\\").SST.plot(label=alignment, color=color)\\n    result.sel(skill=\\\"persistence\\\").SST.plot(linestyle=\\\"--\\\", color=color, lw=3)\\n\\naxs.set(\\n    ylabel=\\\"anomaly\\\\ncorrelation coefficient\\\",\\n    xlabel=\\\"lead year\\\",\\n    xticks=np.arange(1, 11),\\n    title=\\\"Detrended SST Verification with Persistence\\\",\\n)\\nplt.legend()\\nplt.show()\";\n",
       "                var nbb_formatted_code = \"COLORS = [\\\"#008FD5\\\", \\\"#FC4F30\\\", \\\"#E5AE38\\\"]\\nf, axs = plt.subplots()\\n\\nfor alignment, color in zip([\\\"same_inits\\\", \\\"same_verifs\\\", \\\"maximize\\\"], COLORS):\\n    result = hindcast_dt.verify(\\n        metric=\\\"acc\\\",\\n        reference=\\\"persistence\\\",\\n        comparison=\\\"e2o\\\",\\n        dim=\\\"init\\\",\\n        alignment=alignment,\\n    )\\n    result.sel(skill=\\\"initialized\\\").SST.plot(label=alignment, color=color)\\n    result.sel(skill=\\\"persistence\\\").SST.plot(linestyle=\\\"--\\\", color=color, lw=3)\\n\\naxs.set(\\n    ylabel=\\\"anomaly\\\\ncorrelation coefficient\\\",\\n    xlabel=\\\"lead year\\\",\\n    xticks=np.arange(1, 11),\\n    title=\\\"Detrended SST Verification with Persistence\\\",\\n)\\nplt.legend()\\nplt.show()\";\n",
       "                var nbb_cells = Jupyter.notebook.get_cells();\n",
       "                for (var i = 0; i < nbb_cells.length; ++i) {\n",
       "                    if (nbb_cells[i].input_prompt_number == nbb_cell_id) {\n",
       "                        if (nbb_cells[i].get_text() == nbb_unformatted_code) {\n",
       "                             nbb_cells[i].set_text(nbb_formatted_code);\n",
       "                        }\n",
       "                        break;\n",
       "                    }\n",
       "                }\n",
       "            }, 500);\n",
       "            "
      ],
      "text/plain": [
       "<IPython.core.display.Javascript object>"
      ]
     },
     "metadata": {},
     "output_type": "display_data"
    }
   ],
   "source": [
    "COLORS = [\"#008FD5\", \"#FC4F30\", \"#E5AE38\"]\n",
    "f, axs = plt.subplots()\n",
    "\n",
    "for alignment, color in zip([\"same_inits\", \"same_verifs\", \"maximize\"], COLORS):\n",
    "    result = hindcast_dt.verify(\n",
    "        metric=\"acc\",\n",
    "        reference=\"persistence\",\n",
    "        comparison=\"e2o\",\n",
    "        dim=\"init\",\n",
    "        alignment=alignment,\n",
    "    )\n",
    "    result.sel(skill=\"initialized\").SST.plot(label=alignment, color=color)\n",
    "    result.sel(skill=\"persistence\").SST.plot(linestyle=\"--\", color=color, lw=3)\n",
    "\n",
    "axs.set(\n",
    "    ylabel=\"anomaly\\ncorrelation coefficient\",\n",
    "    xlabel=\"lead year\",\n",
    "    xticks=np.arange(1, 11),\n",
    "    title=\"Detrended SST Verification with Persistence\",\n",
    ")\n",
    "plt.legend()\n",
    "plt.show()"
   ]
  },
  {
   "cell_type": "markdown",
   "metadata": {},
   "source": [
    "We'll be using the same example data as above. `climpred` will be aligning the following initialization and verification dates:"
   ]
  },
  {
   "cell_type": "code",
   "execution_count": 8,
   "metadata": {},
   "outputs": [
    {
     "name": "stdout",
     "output_type": "stream",
     "text": [
      "initialization dates: \n",
      "CFTimeIndex([1954-01-01 00:00:00, 1955-01-01 00:00:00, 1956-01-01 00:00:00,\n",
      "             1957-01-01 00:00:00, 1958-01-01 00:00:00, 1959-01-01 00:00:00,\n",
      "             1960-01-01 00:00:00, 1961-01-01 00:00:00, 1962-01-01 00:00:00,\n",
      "             1963-01-01 00:00:00, 1964-01-01 00:00:00, 1965-01-01 00:00:00,\n",
      "             1966-01-01 00:00:00, 1967-01-01 00:00:00, 1968-01-01 00:00:00,\n",
      "             1969-01-01 00:00:00, 1970-01-01 00:00:00, 1971-01-01 00:00:00,\n",
      "             1972-01-01 00:00:00, 1973-01-01 00:00:00, 1974-01-01 00:00:00,\n",
      "             1975-01-01 00:00:00, 1976-01-01 00:00:00, 1977-01-01 00:00:00,\n",
      "             1978-01-01 00:00:00, 1979-01-01 00:00:00, 1980-01-01 00:00:00,\n",
      "             1981-01-01 00:00:00, 1982-01-01 00:00:00, 1983-01-01 00:00:00,\n",
      "             1984-01-01 00:00:00, 1985-01-01 00:00:00, 1986-01-01 00:00:00,\n",
      "             1987-01-01 00:00:00, 1988-01-01 00:00:00, 1989-01-01 00:00:00,\n",
      "             1990-01-01 00:00:00, 1991-01-01 00:00:00, 1992-01-01 00:00:00,\n",
      "             1993-01-01 00:00:00, 1994-01-01 00:00:00, 1995-01-01 00:00:00,\n",
      "             1996-01-01 00:00:00, 1997-01-01 00:00:00, 1998-01-01 00:00:00,\n",
      "             1999-01-01 00:00:00, 2000-01-01 00:00:00, 2001-01-01 00:00:00,\n",
      "             2002-01-01 00:00:00, 2003-01-01 00:00:00, 2004-01-01 00:00:00,\n",
      "             2005-01-01 00:00:00, 2006-01-01 00:00:00, 2007-01-01 00:00:00,\n",
      "             2008-01-01 00:00:00, 2009-01-01 00:00:00, 2010-01-01 00:00:00,\n",
      "             2011-01-01 00:00:00, 2012-01-01 00:00:00, 2013-01-01 00:00:00,\n",
      "             2014-01-01 00:00:00, 2015-01-01 00:00:00, 2016-01-01 00:00:00,\n",
      "             2017-01-01 00:00:00],\n",
      "            dtype='object',\n",
      "            length=64,\n",
      "            calendar='proleptic_gregorian',\n",
      "            freq='AS-JAN')\n"
     ]
    },
    {
     "data": {
      "application/javascript": [
       "\n",
       "            setTimeout(function() {\n",
       "                var nbb_cell_id = 8;\n",
       "                var nbb_unformatted_code = \"print(f\\\"initialization dates: \\\\n{hindcast.get_initialized().init.to_index()}\\\")\";\n",
       "                var nbb_formatted_code = \"print(f\\\"initialization dates: \\\\n{hindcast.get_initialized().init.to_index()}\\\")\";\n",
       "                var nbb_cells = Jupyter.notebook.get_cells();\n",
       "                for (var i = 0; i < nbb_cells.length; ++i) {\n",
       "                    if (nbb_cells[i].input_prompt_number == nbb_cell_id) {\n",
       "                        if (nbb_cells[i].get_text() == nbb_unformatted_code) {\n",
       "                             nbb_cells[i].set_text(nbb_formatted_code);\n",
       "                        }\n",
       "                        break;\n",
       "                    }\n",
       "                }\n",
       "            }, 500);\n",
       "            "
      ],
      "text/plain": [
       "<IPython.core.display.Javascript object>"
      ]
     },
     "metadata": {},
     "output_type": "display_data"
    }
   ],
   "source": [
    "print(f\"initialization dates: \\n{hindcast.get_initialized().init.to_index()}\")"
   ]
  },
  {
   "cell_type": "code",
   "execution_count": 9,
   "metadata": {},
   "outputs": [
    {
     "name": "stdout",
     "output_type": "stream",
     "text": [
      "verification dates: \n",
      "CFTimeIndex([1955-01-01 00:00:00, 1956-01-01 00:00:00, 1957-01-01 00:00:00,\n",
      "             1958-01-01 00:00:00, 1959-01-01 00:00:00, 1960-01-01 00:00:00,\n",
      "             1961-01-01 00:00:00, 1962-01-01 00:00:00, 1963-01-01 00:00:00,\n",
      "             1964-01-01 00:00:00, 1965-01-01 00:00:00, 1966-01-01 00:00:00,\n",
      "             1967-01-01 00:00:00, 1968-01-01 00:00:00, 1969-01-01 00:00:00,\n",
      "             1970-01-01 00:00:00, 1971-01-01 00:00:00, 1972-01-01 00:00:00,\n",
      "             1973-01-01 00:00:00, 1974-01-01 00:00:00, 1975-01-01 00:00:00,\n",
      "             1976-01-01 00:00:00, 1977-01-01 00:00:00, 1978-01-01 00:00:00,\n",
      "             1979-01-01 00:00:00, 1980-01-01 00:00:00, 1981-01-01 00:00:00,\n",
      "             1982-01-01 00:00:00, 1983-01-01 00:00:00, 1984-01-01 00:00:00,\n",
      "             1985-01-01 00:00:00, 1986-01-01 00:00:00, 1987-01-01 00:00:00,\n",
      "             1988-01-01 00:00:00, 1989-01-01 00:00:00, 1990-01-01 00:00:00,\n",
      "             1991-01-01 00:00:00, 1992-01-01 00:00:00, 1993-01-01 00:00:00,\n",
      "             1994-01-01 00:00:00, 1995-01-01 00:00:00, 1996-01-01 00:00:00,\n",
      "             1997-01-01 00:00:00, 1998-01-01 00:00:00, 1999-01-01 00:00:00,\n",
      "             2000-01-01 00:00:00, 2001-01-01 00:00:00, 2002-01-01 00:00:00,\n",
      "             2003-01-01 00:00:00, 2004-01-01 00:00:00, 2005-01-01 00:00:00,\n",
      "             2006-01-01 00:00:00, 2007-01-01 00:00:00, 2008-01-01 00:00:00,\n",
      "             2009-01-01 00:00:00, 2010-01-01 00:00:00, 2011-01-01 00:00:00,\n",
      "             2012-01-01 00:00:00, 2013-01-01 00:00:00, 2014-01-01 00:00:00,\n",
      "             2015-01-01 00:00:00],\n",
      "            dtype='object',\n",
      "            length=61,\n",
      "            calendar='proleptic_gregorian',\n",
      "            freq='AS-JAN')\n"
     ]
    },
    {
     "data": {
      "application/javascript": [
       "\n",
       "            setTimeout(function() {\n",
       "                var nbb_cell_id = 9;\n",
       "                var nbb_unformatted_code = \"print(f\\\"verification dates: \\\\n{hindcast.get_observations().time.to_index()}\\\")\";\n",
       "                var nbb_formatted_code = \"print(f\\\"verification dates: \\\\n{hindcast.get_observations().time.to_index()}\\\")\";\n",
       "                var nbb_cells = Jupyter.notebook.get_cells();\n",
       "                for (var i = 0; i < nbb_cells.length; ++i) {\n",
       "                    if (nbb_cells[i].input_prompt_number == nbb_cell_id) {\n",
       "                        if (nbb_cells[i].get_text() == nbb_unformatted_code) {\n",
       "                             nbb_cells[i].set_text(nbb_formatted_code);\n",
       "                        }\n",
       "                        break;\n",
       "                    }\n",
       "                }\n",
       "            }, 500);\n",
       "            "
      ],
      "text/plain": [
       "<IPython.core.display.Javascript object>"
      ]
     },
     "metadata": {},
     "output_type": "display_data"
    }
   ],
   "source": [
    "print(f\"verification dates: \\n{hindcast.get_observations().time.to_index()}\")"
   ]
  },
  {
   "cell_type": "markdown",
   "metadata": {},
   "source": [
    "We use the standard python library `logging` to log the initializations and verification dates used in alignment at each lead. The user can check these logs to ensure that the expected initializations and verification dates are being retained. See the logging section on this page for more details."
   ]
  },
  {
   "cell_type": "code",
   "execution_count": 10,
   "metadata": {},
   "outputs": [
    {
     "data": {
      "application/javascript": [
       "\n",
       "            setTimeout(function() {\n",
       "                var nbb_cell_id = 10;\n",
       "                var nbb_unformatted_code = \"import logging\\n\\n# Print log to screen with initializations and verification dates.\\nlogger = logging.getLogger()\\nlogger.setLevel(logging.INFO)\";\n",
       "                var nbb_formatted_code = \"import logging\\n\\n# Print log to screen with initializations and verification dates.\\nlogger = logging.getLogger()\\nlogger.setLevel(logging.INFO)\";\n",
       "                var nbb_cells = Jupyter.notebook.get_cells();\n",
       "                for (var i = 0; i < nbb_cells.length; ++i) {\n",
       "                    if (nbb_cells[i].input_prompt_number == nbb_cell_id) {\n",
       "                        if (nbb_cells[i].get_text() == nbb_unformatted_code) {\n",
       "                             nbb_cells[i].set_text(nbb_formatted_code);\n",
       "                        }\n",
       "                        break;\n",
       "                    }\n",
       "                }\n",
       "            }, 500);\n",
       "            "
      ],
      "text/plain": [
       "<IPython.core.display.Javascript object>"
      ]
     },
     "metadata": {},
     "output_type": "display_data"
    }
   ],
   "source": [
    "import logging\n",
    "\n",
    "# Print log to screen with initializations and verification dates.\n",
    "logger = logging.getLogger()\n",
    "logger.setLevel(logging.INFO)"
   ]
  },
  {
   "cell_type": "markdown",
   "metadata": {},
   "source": [
    "## Same Verification Dates\n",
    "\n",
    "`alignment=\"same_verifs\"`\n",
    "\n",
    "The `same_verifs` alignment finds a set of verification dates that can be verified against over all leads. It also requires that the verification data have an observation at each initialization being retained. This is so that the reference forecast, such as persistence, uses an identical set of initializations in deriving its forecast. Notice in the logger output that a common set of verification dates spanning 1965-2015 are used, while the initialization window slides one year at each lead.\n",
    "\n",
    "`alignment=\"same_verifs\"` used in {cite:p}`Boer2016,Hawkins2014,Smith2013`."
   ]
  },
  {
   "cell_type": "code",
   "execution_count": 11,
   "metadata": {},
   "outputs": [
    {
     "name": "stderr",
     "output_type": "stream",
     "text": [
      "INFO:root:initialized | lead: 01 | inits: 1963-01-01 00:00:00-2014-01-01 00:00:00 | verifs: 1964-01-01 00:00:00-2015-01-01 00:00:00\n",
      "INFO:root:initialized | lead: 02 | inits: 1962-01-01 00:00:00-2013-01-01 00:00:00 | verifs: 1964-01-01 00:00:00-2015-01-01 00:00:00\n",
      "INFO:root:initialized | lead: 03 | inits: 1961-01-01 00:00:00-2012-01-01 00:00:00 | verifs: 1964-01-01 00:00:00-2015-01-01 00:00:00\n",
      "INFO:root:initialized | lead: 04 | inits: 1960-01-01 00:00:00-2011-01-01 00:00:00 | verifs: 1964-01-01 00:00:00-2015-01-01 00:00:00\n",
      "INFO:root:initialized | lead: 05 | inits: 1959-01-01 00:00:00-2010-01-01 00:00:00 | verifs: 1964-01-01 00:00:00-2015-01-01 00:00:00\n",
      "INFO:root:initialized | lead: 06 | inits: 1958-01-01 00:00:00-2009-01-01 00:00:00 | verifs: 1964-01-01 00:00:00-2015-01-01 00:00:00\n",
      "INFO:root:initialized | lead: 07 | inits: 1957-01-01 00:00:00-2008-01-01 00:00:00 | verifs: 1964-01-01 00:00:00-2015-01-01 00:00:00\n",
      "INFO:root:initialized | lead: 08 | inits: 1956-01-01 00:00:00-2007-01-01 00:00:00 | verifs: 1964-01-01 00:00:00-2015-01-01 00:00:00\n",
      "INFO:root:initialized | lead: 09 | inits: 1955-01-01 00:00:00-2006-01-01 00:00:00 | verifs: 1964-01-01 00:00:00-2015-01-01 00:00:00\n",
      "INFO:root:initialized | lead: 10 | inits: 1954-01-01 00:00:00-2005-01-01 00:00:00 | verifs: 1964-01-01 00:00:00-2015-01-01 00:00:00\n"
     ]
    },
    {
     "data": {
      "application/javascript": [
       "\n",
       "            setTimeout(function() {\n",
       "                var nbb_cell_id = 11;\n",
       "                var nbb_unformatted_code = \"skill = hindcast.verify(\\n    metric=\\\"acc\\\", comparison=\\\"e2o\\\", dim=\\\"init\\\", alignment=\\\"same_verifs\\\"\\n)\";\n",
       "                var nbb_formatted_code = \"skill = hindcast.verify(\\n    metric=\\\"acc\\\", comparison=\\\"e2o\\\", dim=\\\"init\\\", alignment=\\\"same_verifs\\\"\\n)\";\n",
       "                var nbb_cells = Jupyter.notebook.get_cells();\n",
       "                for (var i = 0; i < nbb_cells.length; ++i) {\n",
       "                    if (nbb_cells[i].input_prompt_number == nbb_cell_id) {\n",
       "                        if (nbb_cells[i].get_text() == nbb_unformatted_code) {\n",
       "                             nbb_cells[i].set_text(nbb_formatted_code);\n",
       "                        }\n",
       "                        break;\n",
       "                    }\n",
       "                }\n",
       "            }, 500);\n",
       "            "
      ],
      "text/plain": [
       "<IPython.core.display.Javascript object>"
      ]
     },
     "metadata": {},
     "output_type": "display_data"
    }
   ],
   "source": [
    "skill = hindcast.verify(\n",
    "    metric=\"acc\", comparison=\"e2o\", dim=\"init\", alignment=\"same_verifs\"\n",
    ")"
   ]
  },
  {
   "cell_type": "markdown",
   "metadata": {},
   "source": [
    "Here, we include a figure of a simpler alignment case with annual initializations from 1990 through 2000 and three lead years. We verify this hypothetical initialized ensemble against a product that spans 1995 through 2002.\n",
    "\n",
    "Two conditions must be met when selecting the verification window:\n",
    "\n",
    "\n",
    "1. There must be a union between the initialization dates and verification dates. This\n",
    "   is represented by the black vertical lines in the top panel below, which leave out\n",
    "   1990-1994 initializations since there aren't observations before 1995. This logic\n",
    "   exists so that any reference forecasts\n",
    "   (e.g. a persistence forecast) use an identical set of initializations as the\n",
    "   initialized forecast.\n",
    "   \n",
    "2. A given verification time must exist across all leads. This is to ensure that at each\n",
    "   lead, the entire set of chosen verification dates can be verified against. This is\n",
    "   represented by diagonals in the top panel below (and the dashed black lines).\n",
    "   Without the first stipulation, this would set the verification window at 1995-2001.\n",
    "   \n",
    "This leaves us with a verification window of [1998, 1999, 2000, 2001] which can be verified against across all leads (and have a complimentary persistence forecast with the same set of initializations used at each lead)."
   ]
  },
  {
   "cell_type": "markdown",
   "metadata": {},
   "source": [
    "![sameverifs](images/alignment_plots/same_verifs_alignment.png)"
   ]
  },
  {
   "cell_type": "markdown",
   "metadata": {},
   "source": [
    "## Same Initializations\n",
    "\n",
    "`alignment=\"same_inits\"`\n",
    "\n",
    "The `same_inits` alignment finds a set of initializations that can verify over all leads. It also requires that the verification data have an observation at each initialization being retained. This is so that the reference forecast, such as persistence, uses an identical set of initializations in deriving its forecast. Notice in the logger output that a common set of initializations spanning 1955-2005 are used, while the verification window slides one year at each lead.\n",
    "\n",
    "`alignment=\"same_inits\"` used in {cite:p}`Marotzke2016`."
   ]
  },
  {
   "cell_type": "code",
   "execution_count": 12,
   "metadata": {},
   "outputs": [
    {
     "name": "stderr",
     "output_type": "stream",
     "text": [
      "INFO:root:initialized | lead: 01 | inits: 1954-01-01 00:00:00-2005-01-01 00:00:00 | verifs: 1955-01-01 00:00:00-2006-01-01 00:00:00\n",
      "INFO:root:initialized | lead: 02 | inits: 1954-01-01 00:00:00-2005-01-01 00:00:00 | verifs: 1956-01-01 00:00:00-2007-01-01 00:00:00\n",
      "INFO:root:initialized | lead: 03 | inits: 1954-01-01 00:00:00-2005-01-01 00:00:00 | verifs: 1957-01-01 00:00:00-2008-01-01 00:00:00\n",
      "INFO:root:initialized | lead: 04 | inits: 1954-01-01 00:00:00-2005-01-01 00:00:00 | verifs: 1958-01-01 00:00:00-2009-01-01 00:00:00\n",
      "INFO:root:initialized | lead: 05 | inits: 1954-01-01 00:00:00-2005-01-01 00:00:00 | verifs: 1959-01-01 00:00:00-2010-01-01 00:00:00\n",
      "INFO:root:initialized | lead: 06 | inits: 1954-01-01 00:00:00-2005-01-01 00:00:00 | verifs: 1960-01-01 00:00:00-2011-01-01 00:00:00\n",
      "INFO:root:initialized | lead: 07 | inits: 1954-01-01 00:00:00-2005-01-01 00:00:00 | verifs: 1961-01-01 00:00:00-2012-01-01 00:00:00\n",
      "INFO:root:initialized | lead: 08 | inits: 1954-01-01 00:00:00-2005-01-01 00:00:00 | verifs: 1962-01-01 00:00:00-2013-01-01 00:00:00\n",
      "INFO:root:initialized | lead: 09 | inits: 1954-01-01 00:00:00-2005-01-01 00:00:00 | verifs: 1963-01-01 00:00:00-2014-01-01 00:00:00\n",
      "INFO:root:initialized | lead: 10 | inits: 1954-01-01 00:00:00-2005-01-01 00:00:00 | verifs: 1964-01-01 00:00:00-2015-01-01 00:00:00\n"
     ]
    },
    {
     "data": {
      "application/javascript": [
       "\n",
       "            setTimeout(function() {\n",
       "                var nbb_cell_id = 12;\n",
       "                var nbb_unformatted_code = \"skill = hindcast.verify(\\n    metric=\\\"acc\\\", comparison=\\\"e2o\\\", dim=\\\"init\\\", alignment=\\\"same_inits\\\"\\n)\";\n",
       "                var nbb_formatted_code = \"skill = hindcast.verify(\\n    metric=\\\"acc\\\", comparison=\\\"e2o\\\", dim=\\\"init\\\", alignment=\\\"same_inits\\\"\\n)\";\n",
       "                var nbb_cells = Jupyter.notebook.get_cells();\n",
       "                for (var i = 0; i < nbb_cells.length; ++i) {\n",
       "                    if (nbb_cells[i].input_prompt_number == nbb_cell_id) {\n",
       "                        if (nbb_cells[i].get_text() == nbb_unformatted_code) {\n",
       "                             nbb_cells[i].set_text(nbb_formatted_code);\n",
       "                        }\n",
       "                        break;\n",
       "                    }\n",
       "                }\n",
       "            }, 500);\n",
       "            "
      ],
      "text/plain": [
       "<IPython.core.display.Javascript object>"
      ]
     },
     "metadata": {},
     "output_type": "display_data"
    }
   ],
   "source": [
    "skill = hindcast.verify(\n",
    "    metric=\"acc\", comparison=\"e2o\", dim=\"init\", alignment=\"same_inits\"\n",
    ")"
   ]
  },
  {
   "cell_type": "markdown",
   "metadata": {},
   "source": [
    "Here, we include a figure of a simpler alignment case with annual initializations from 1990 through 2000 and three lead years. We verify this hypothetical initialized ensemble against a product that spans 1995 through 2002.\n",
    "\n",
    "Two conditions must be met to retain the initializations for verification: \n",
    "\n",
    "1. There must be an observation in the verification data for the given initialization.\n",
    "   In combination with (1), initializations 1990 through 1994 are left out. This logic\n",
    "   exists so that any reference forecast (e.g. a persistence forecast) use an identical set of initializations as the\n",
    "   initialized forecast.\n",
    "\n",
    "2. All forecasted times (i.e., initialization + lead year) for a given initialization\n",
    "   must be contained in the verification data. Schematically, this means that there must\n",
    "   be a union between a column in the top panel and the time series in the bottom panel.\n",
    "   The 2000 initialization below is left out since the verification data does not\n",
    "   contain 2003.\n",
    "   \n",
    "This leaves us with initializations [1995, 1996, ..., 1999] which can verify against the observations at all three lead years."
   ]
  },
  {
   "cell_type": "markdown",
   "metadata": {},
   "source": [
    "![sameinits](images/alignment_plots/same_inits_alignment.png)"
   ]
  },
  {
   "cell_type": "markdown",
   "metadata": {},
   "source": [
    "## Maximize Degrees of Freedom\n",
    "\n",
    "`alignment=\"maximize\"`\n",
    "\n",
    "The `maximize` alignment verifies against every available observation at each lead. This means that both the initializations and verification dates could be different at each lead.  It also requires that the verification data have an observation at each initialization being retained. This is so that the reference forecast, such as persistence, uses an identical set of initializations in deriving its forecast.\n",
    "\n",
    "Notice in the logger output that the initialization window shrinks from 1955-2014 (N=60) at lead year 1 to 1955-2005 (N=51) at lead year 10. Similarly, the verification window spans 1956-2015 at lead year 1 and 1965-2015 at lead year 10. However, using the other two alignment strategies (`same_verifs` and `same_inits`), there is a fixed N=51 to ensure constant initializations or verification dates, while the number of samples is extended to as high as 60 with this alignment strategy.\n",
    "\n",
    "`alignment=\"maximize\"` used in {cite:p}`Yeager2018`."
   ]
  },
  {
   "cell_type": "code",
   "execution_count": 13,
   "metadata": {},
   "outputs": [
    {
     "name": "stderr",
     "output_type": "stream",
     "text": [
      "INFO:root:initialized | lead: 01 | inits: 1954-01-01 00:00:00-2014-01-01 00:00:00 | verifs: 1955-01-01 00:00:00-2015-01-01 00:00:00\n",
      "INFO:root:initialized | lead: 02 | inits: 1954-01-01 00:00:00-2013-01-01 00:00:00 | verifs: 1956-01-01 00:00:00-2015-01-01 00:00:00\n",
      "INFO:root:initialized | lead: 03 | inits: 1954-01-01 00:00:00-2012-01-01 00:00:00 | verifs: 1957-01-01 00:00:00-2015-01-01 00:00:00\n",
      "INFO:root:initialized | lead: 04 | inits: 1954-01-01 00:00:00-2011-01-01 00:00:00 | verifs: 1958-01-01 00:00:00-2015-01-01 00:00:00\n",
      "INFO:root:initialized | lead: 05 | inits: 1954-01-01 00:00:00-2010-01-01 00:00:00 | verifs: 1959-01-01 00:00:00-2015-01-01 00:00:00\n",
      "INFO:root:initialized | lead: 06 | inits: 1954-01-01 00:00:00-2009-01-01 00:00:00 | verifs: 1960-01-01 00:00:00-2015-01-01 00:00:00\n",
      "INFO:root:initialized | lead: 07 | inits: 1954-01-01 00:00:00-2008-01-01 00:00:00 | verifs: 1961-01-01 00:00:00-2015-01-01 00:00:00\n",
      "INFO:root:initialized | lead: 08 | inits: 1954-01-01 00:00:00-2007-01-01 00:00:00 | verifs: 1962-01-01 00:00:00-2015-01-01 00:00:00\n",
      "INFO:root:initialized | lead: 09 | inits: 1954-01-01 00:00:00-2006-01-01 00:00:00 | verifs: 1963-01-01 00:00:00-2015-01-01 00:00:00\n",
      "INFO:root:initialized | lead: 10 | inits: 1954-01-01 00:00:00-2005-01-01 00:00:00 | verifs: 1964-01-01 00:00:00-2015-01-01 00:00:00\n"
     ]
    },
    {
     "data": {
      "application/javascript": [
       "\n",
       "            setTimeout(function() {\n",
       "                var nbb_cell_id = 13;\n",
       "                var nbb_unformatted_code = \"skill = hindcast.verify(\\n    metric=\\\"acc\\\", comparison=\\\"e2o\\\", dim=\\\"init\\\", alignment=\\\"maximize\\\"\\n)\";\n",
       "                var nbb_formatted_code = \"skill = hindcast.verify(\\n    metric=\\\"acc\\\", comparison=\\\"e2o\\\", dim=\\\"init\\\", alignment=\\\"maximize\\\"\\n)\";\n",
       "                var nbb_cells = Jupyter.notebook.get_cells();\n",
       "                for (var i = 0; i < nbb_cells.length; ++i) {\n",
       "                    if (nbb_cells[i].input_prompt_number == nbb_cell_id) {\n",
       "                        if (nbb_cells[i].get_text() == nbb_unformatted_code) {\n",
       "                             nbb_cells[i].set_text(nbb_formatted_code);\n",
       "                        }\n",
       "                        break;\n",
       "                    }\n",
       "                }\n",
       "            }, 500);\n",
       "            "
      ],
      "text/plain": [
       "<IPython.core.display.Javascript object>"
      ]
     },
     "metadata": {},
     "output_type": "display_data"
    }
   ],
   "source": [
    "skill = hindcast.verify(\n",
    "    metric=\"acc\", comparison=\"e2o\", dim=\"init\", alignment=\"maximize\"\n",
    ")"
   ]
  },
  {
   "cell_type": "markdown",
   "metadata": {},
   "source": [
    "Here, we include a figure of a simpler alignment case with annual initializations from 1990 through 2000 and three lead years. We verify this hypothetical initialized ensemble against a product that spans 1995 through 2002.\n",
    "\n",
    "Two conditions must be met when selecting initializations/verifications at each lead:\n",
    "   \n",
    "1. There must be a union between the initialization dates and verification dates. This\n",
    "   is represented by the black vertical lines in the top panel below, which leave out\n",
    "   1990-1994 initializations since there aren't observations before 1995. This logic\n",
    "   exists so that any reference forecasts\n",
    "   (e.g. a persistence forecast) use an identical set of initializations as the\n",
    "   initialized forecast.\n",
    "   \n",
    "2. The selected initializations must verify with the provided observations for the given lead.\n",
    "   This is shown by the hatching in the figure below. The 2000 initialization is left out\n",
    "   at lead year 3 since there is no observation for 2003.\n",
    "\n",
    "This leaves us with the following alignment:\n",
    "\n",
    "* LY1 initializations: [1995, 1996, 1997, 1998, 1999, 2000]\n",
    "\n",
    "* LY2 initializations: [1995, 1996, 1997, 1998, 1999, 2000]\n",
    "\n",
    "* LY3 initializations: [1995, 1996, 1997, 1998, 1999]\n"
   ]
  },
  {
   "cell_type": "markdown",
   "metadata": {},
   "source": [
    "\n",
    "![maximize](images/alignment_plots/maximize_alignment.png)"
   ]
  },
  {
   "cell_type": "markdown",
   "metadata": {},
   "source": [
    "## Logging\n",
    "\n",
    "``climpred`` uses the standard library [`logging`](https://docs.python.org/3/library/logging.html) to store the initializations and verification dates used at each lead for a given computation. This is used internally for testing, but more importantly, can be activated by the user so they can be sure of how computations are being done.\n",
    "\n",
    "To see the log interactively, e.g. while working in Jupyter notebooks or on the command line use the following:"
   ]
  },
  {
   "cell_type": "code",
   "execution_count": 14,
   "metadata": {},
   "outputs": [
    {
     "data": {
      "application/javascript": [
       "\n",
       "            setTimeout(function() {\n",
       "                var nbb_cell_id = 14;\n",
       "                var nbb_unformatted_code = \"import logging\\n\\nlogger = logging.getLogger()\\nlogger.setLevel(logging.INFO)\";\n",
       "                var nbb_formatted_code = \"import logging\\n\\nlogger = logging.getLogger()\\nlogger.setLevel(logging.INFO)\";\n",
       "                var nbb_cells = Jupyter.notebook.get_cells();\n",
       "                for (var i = 0; i < nbb_cells.length; ++i) {\n",
       "                    if (nbb_cells[i].input_prompt_number == nbb_cell_id) {\n",
       "                        if (nbb_cells[i].get_text() == nbb_unformatted_code) {\n",
       "                             nbb_cells[i].set_text(nbb_formatted_code);\n",
       "                        }\n",
       "                        break;\n",
       "                    }\n",
       "                }\n",
       "            }, 500);\n",
       "            "
      ],
      "text/plain": [
       "<IPython.core.display.Javascript object>"
      ]
     },
     "metadata": {},
     "output_type": "display_data"
    }
   ],
   "source": [
    "import logging\n",
    "\n",
    "logger = logging.getLogger()\n",
    "logger.setLevel(logging.INFO)"
   ]
  },
  {
   "cell_type": "code",
   "execution_count": 15,
   "metadata": {},
   "outputs": [
    {
     "name": "stderr",
     "output_type": "stream",
     "text": [
      "INFO:root:initialized | lead: 01 | inits: 1963-01-01 00:00:00-2014-01-01 00:00:00 | verifs: 1964-01-01 00:00:00-2015-01-01 00:00:00\n",
      "INFO:root:initialized | lead: 02 | inits: 1962-01-01 00:00:00-2013-01-01 00:00:00 | verifs: 1964-01-01 00:00:00-2015-01-01 00:00:00\n",
      "INFO:root:initialized | lead: 03 | inits: 1961-01-01 00:00:00-2012-01-01 00:00:00 | verifs: 1964-01-01 00:00:00-2015-01-01 00:00:00\n",
      "INFO:root:initialized | lead: 04 | inits: 1960-01-01 00:00:00-2011-01-01 00:00:00 | verifs: 1964-01-01 00:00:00-2015-01-01 00:00:00\n",
      "INFO:root:initialized | lead: 05 | inits: 1959-01-01 00:00:00-2010-01-01 00:00:00 | verifs: 1964-01-01 00:00:00-2015-01-01 00:00:00\n",
      "INFO:root:initialized | lead: 06 | inits: 1958-01-01 00:00:00-2009-01-01 00:00:00 | verifs: 1964-01-01 00:00:00-2015-01-01 00:00:00\n",
      "INFO:root:initialized | lead: 07 | inits: 1957-01-01 00:00:00-2008-01-01 00:00:00 | verifs: 1964-01-01 00:00:00-2015-01-01 00:00:00\n",
      "INFO:root:initialized | lead: 08 | inits: 1956-01-01 00:00:00-2007-01-01 00:00:00 | verifs: 1964-01-01 00:00:00-2015-01-01 00:00:00\n",
      "INFO:root:initialized | lead: 09 | inits: 1955-01-01 00:00:00-2006-01-01 00:00:00 | verifs: 1964-01-01 00:00:00-2015-01-01 00:00:00\n",
      "INFO:root:initialized | lead: 10 | inits: 1954-01-01 00:00:00-2005-01-01 00:00:00 | verifs: 1964-01-01 00:00:00-2015-01-01 00:00:00\n"
     ]
    },
    {
     "data": {
      "application/javascript": [
       "\n",
       "            setTimeout(function() {\n",
       "                var nbb_cell_id = 15;\n",
       "                var nbb_unformatted_code = \"skill = hindcast.verify(\\n    metric=\\\"acc\\\", comparison=\\\"e2o\\\", dim=\\\"init\\\", alignment=\\\"same_verifs\\\"\\n)\";\n",
       "                var nbb_formatted_code = \"skill = hindcast.verify(\\n    metric=\\\"acc\\\", comparison=\\\"e2o\\\", dim=\\\"init\\\", alignment=\\\"same_verifs\\\"\\n)\";\n",
       "                var nbb_cells = Jupyter.notebook.get_cells();\n",
       "                for (var i = 0; i < nbb_cells.length; ++i) {\n",
       "                    if (nbb_cells[i].input_prompt_number == nbb_cell_id) {\n",
       "                        if (nbb_cells[i].get_text() == nbb_unformatted_code) {\n",
       "                             nbb_cells[i].set_text(nbb_formatted_code);\n",
       "                        }\n",
       "                        break;\n",
       "                    }\n",
       "                }\n",
       "            }, 500);\n",
       "            "
      ],
      "text/plain": [
       "<IPython.core.display.Javascript object>"
      ]
     },
     "metadata": {},
     "output_type": "display_data"
    }
   ],
   "source": [
    "skill = hindcast.verify(\n",
    "    metric=\"acc\", comparison=\"e2o\", dim=\"init\", alignment=\"same_verifs\"\n",
    ")"
   ]
  },
  {
   "cell_type": "markdown",
   "metadata": {},
   "source": [
    "The `INFO` level reports the minimum and maximum bounds for initializations and verification dates. To see every single initialization and verification date used, set the level to `DEBUG`."
   ]
  },
  {
   "cell_type": "markdown",
   "metadata": {},
   "source": [
    "## References\n",
    "\n",
    "```{eval-rst}\n",
    ".. bibliography::\n",
    "  :filter: docname in docnames\n",
    "```"
   ]
  }
 ],
 "metadata": {
  "kernelspec": {
   "display_name": "Python 3",
   "language": "python",
   "name": "python3"
  },
  "language_info": {
   "codemirror_mode": {
    "name": "ipython",
    "version": 3
   },
   "file_extension": ".py",
   "mimetype": "text/x-python",
   "name": "python",
   "nbconvert_exporter": "python",
   "pygments_lexer": "ipython3",
   "version": "3.7.10"
  },
  "varInspector": {
   "cols": {
    "lenName": 16,
    "lenType": 16,
    "lenVar": 40
   },
   "kernels_config": {
    "python": {
     "delete_cmd_postfix": "",
     "delete_cmd_prefix": "del ",
     "library": "var_list.py",
     "varRefreshCmd": "print(var_dic_list())"
    },
    "r": {
     "delete_cmd_postfix": ") ",
     "delete_cmd_prefix": "rm(",
     "library": "var_list.r",
     "varRefreshCmd": "cat(var_dic_list()) "
    }
   },
   "types_to_exclude": [
    "module",
    "function",
    "builtin_function_or_method",
    "instance",
    "_Feature"
   ],
   "window_display": false
  }
 },
 "nbformat": 4,
 "nbformat_minor": 4
}
