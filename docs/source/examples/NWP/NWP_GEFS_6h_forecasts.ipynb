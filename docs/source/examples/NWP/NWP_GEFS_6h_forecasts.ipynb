{
 "cells": [
  {
   "cell_type": "code",
   "execution_count": null,
   "id": "neither-bedroom",
   "metadata": {},
   "outputs": [],
   "source": [
    "#!conda install intake fsspec intake-xarray intake-thredds -c conda-forge -y"
   ]
  },
  {
   "cell_type": "code",
   "execution_count": 25,
   "id": "suited-arrival",
   "metadata": {},
   "outputs": [],
   "source": [
    "#!conda install eccodes cfgrib -c conda-forge -y"
   ]
  },
  {
   "cell_type": "code",
   "execution_count": null,
   "id": "fundamental-founder",
   "metadata": {},
   "outputs": [],
   "source": [
    "#!pip install climetlab --quiet"
   ]
  },
  {
   "cell_type": "markdown",
   "id": "gentle-eleven",
   "metadata": {},
   "source": [
    "# GEFS 6h forecasts"
   ]
  },
  {
   "cell_type": "code",
   "execution_count": 1,
   "id": "referenced-wheel",
   "metadata": {},
   "outputs": [
    {
     "name": "stdout",
     "output_type": "stream",
     "text": [
      "Warning: ecCodes 2.21.0 or higher is recommended. You are running version 2.20.0\n"
     ]
    }
   ],
   "source": [
    "import fsspec\n",
    "import intake\n",
    "# specify caching location, where to store files to with their original names\n",
    "fsspec.config.conf['simplecache'] = {'cache_storage': '../my_caching_folder', 'same_names': True}\n",
    "import numpy as np\n",
    "import intake_xarray\n",
    "import xarray as xr\n",
    "import climpred\n",
    "import climetlab"
   ]
  },
  {
   "cell_type": "markdown",
   "id": "responsible-tuition",
   "metadata": {},
   "source": [
    "## Find the data"
   ]
  },
  {
   "cell_type": "markdown",
   "id": "bright-azerbaijan",
   "metadata": {},
   "source": [
    "GEFS output can be found on a `THREDDS` server: https://www.ncei.noaa.gov/thredds/catalog/model-gefs-003/202008/20200831/catalog.html\n",
    "\n",
    "Here, we use `intake-thredds` to access the files and cache them with `fsspec`. However, you can also download the files manually, e.g. with `wget`:\n",
    "\n",
    "- https://intake.readthedocs.io/en/latest/\n",
    "- https://intake-thredds.readthedocs.io/en/latest/\n",
    "- https://filesystem-spec.readthedocs.io/en/latest/"
   ]
  },
  {
   "cell_type": "code",
   "execution_count": null,
   "id": "governing-affiliation",
   "metadata": {},
   "outputs": [
    {
     "name": "stderr",
     "output_type": "stream",
     "text": [
      "/Users/aaron.spring/anaconda3/envs/climpred-dev/lib/python3.8/site-packages/siphon/catalog.py:292: UserWarning: URL https://www.ncei.noaa.gov/thredds/catalog/model-gefs-003/202008/20200831/catalog.html returned HTML. Changing to: https://www.ncei.noaa.gov/thredds/catalog/model-gefs-003/202008/20200831/catalog.xml\n",
      "  warnings.warn('URL {} returned HTML. Changing to: {}'.format(self.catalog_url,\n"
     ]
    }
   ],
   "source": [
    "# all the metadata about GEFS\n",
    "cat = intake.open_thredds_cat('https://www.ncei.noaa.gov/thredds/catalog/model-gefs-003/202008/20200831/catalog.html', name='name')\n",
    "cat"
   ]
  },
  {
   "cell_type": "markdown",
   "id": "british-appreciation",
   "metadata": {},
   "source": [
    "Opening without `backend_kwargs` raised `DatasetBuildError`. Need to specify variable by `filter_by_keys` for `grib` files.\n",
    "\n",
    "DatasetBuildError: multiple values for unique key, try re-open the file with one of:\n",
    "\n",
    "- filter_by_keys={'typeOfLevel': 'isobaricInhPa'}\n",
    "- filter_by_keys={'typeOfLevel': 'surface'}\n",
    "- filter_by_keys={'typeOfLevel': 'depthBelowLandLayer'}\n",
    "- filter_by_keys={'typeOfLevel': 'heightAboveGround'}\n",
    "- filter_by_keys={'typeOfLevel': 'atmosphereSingleLayer'}\n",
    "- filter_by_keys={'typeOfLevel': 'atmosphere'}\n",
    "- filter_by_keys={'typeOfLevel': 'nominalTop'}\n",
    "- filter_by_keys={'typeOfLevel': 'pressureFromGroundLayer'}\n",
    "- filter_by_keys={'typeOfLevel': 'meanSea'}"
   ]
  },
  {
   "cell_type": "code",
   "execution_count": null,
   "id": "defensive-neighborhood",
   "metadata": {},
   "outputs": [],
   "source": [
    "# https://github.com/ecmwf/cfgrib/issues/170\n",
    "intake_xarray.NetCDFSource('simplecache::https://www.ncei.noaa.gov/thredds/fileServer/model-gefs-003/202008/20200831/gens-a_3_20200831_1800_000_20.grb2',\n",
    "                               xarray_kwargs=dict(engine='cfgrib', backend_kwargs=dict(filter_by_keys={'typeOfLevel': 'heightAboveGround', 'shortName':'2t'})),\n",
    "    ).to_dask().t2m.plot()"
   ]
  },
  {
   "cell_type": "markdown",
   "id": "later-memory",
   "metadata": {},
   "source": [
    "## Download the forecasts"
   ]
  },
  {
   "cell_type": "code",
   "execution_count": 22,
   "id": "aggressive-plasma",
   "metadata": {},
   "outputs": [],
   "source": [
    "inits_time='0000'\n",
    "inits = ['20200829','20200830','20200831'] # four initial dates from that one day\n",
    "members = range(5) # 5 members out of 20\n",
    "leads = np.arange(0, 6 * 4 * 2 + 1, 6) # 6h lead forecasts, 8 leads"
   ]
  },
  {
   "cell_type": "code",
   "execution_count": 24,
   "id": "noted-preference",
   "metadata": {},
   "outputs": [
    {
     "name": "stdout",
     "output_type": "stream",
     "text": [
      "CPU times: user 25.7 s, sys: 5.15 s, total: 30.9 s\n",
      "Wall time: 43min 3s\n"
     ]
    }
   ],
   "source": [
    "%%time\n",
    "for init in inits:\n",
    "    for lead in leads:\n",
    "        for member in members:\n",
    "            try:\n",
    "                #print(f'download init = {init}, lead = {lead}, member = {member}')\n",
    "                intake_xarray.NetCDFSource(f'simplecache::https://www.ncei.noaa.gov/thredds/fileServer/model-gefs-003/202008/{init}/gens-a_3_{init}_{inits_time}_{str(lead).zfill(3)}_{str(member).zfill(2)}.grb2',\n",
    "                                           xarray_kwargs=dict(engine='cfgrib', backend_kwargs=dict(filter_by_keys={'typeOfLevel': 'heightAboveGround', 'shortName':'2t'})),\n",
    "                ).to_dask()\n",
    "            except Exception as e:\n",
    "                print('failed',type(e).__name__,e)"
   ]
  },
  {
   "cell_type": "code",
   "execution_count": 25,
   "id": "civil-claim",
   "metadata": {},
   "outputs": [
    {
     "data": {
      "text/plain": [
       "Coordinates:\n",
       "    number             (member) int64 0 1 2 3 4\n",
       "  * time               (time) datetime64[ns] 2020-08-29 2020-08-30 2020-08-31\n",
       "  * step               (step) timedelta64[ns] 0 days 00:00:00 ... 2 days 00:0...\n",
       "    heightAboveGround  float64 2.0\n",
       "  * latitude           (latitude) float64 90.0 89.0 88.0 ... -88.0 -89.0 -90.0\n",
       "  * longitude          (longitude) float64 0.0 1.0 2.0 3.0 ... 357.0 358.0 359.0\n",
       "    valid_time         (time, step) datetime64[ns] 2020-08-29 ... 2020-09-02"
      ]
     },
     "execution_count": 25,
     "metadata": {},
     "output_type": "execute_result"
    }
   ],
   "source": [
    "init = xr.concat(\n",
    "    [xr.concat(\n",
    "    [xr.open_mfdataset(f'../my_caching_folder/gens-a_3_{init}_{inits_time}_{str(lead).zfill(3)}_*.grb2',\n",
    "                       concat_dim='member', combine='nested',\n",
    "                 engine='cfgrib', backend_kwargs=dict(filter_by_keys={'typeOfLevel': 'heightAboveGround', 'shortName':'2t'})) for lead in leads],\n",
    "                          dim='step') for init in inits],\n",
    "               dim='time')\n",
    "init.coords"
   ]
  },
  {
   "cell_type": "code",
   "execution_count": 26,
   "id": "internal-prediction",
   "metadata": {},
   "outputs": [],
   "source": [
    "# save time when reproducing\n",
    "init = init.compute()\n",
    "init.to_netcdf('tmp_GEFS_a.nc')"
   ]
  },
  {
   "cell_type": "code",
   "execution_count": 2,
   "id": "unlikely-territory",
   "metadata": {},
   "outputs": [],
   "source": [
    "init = xr.open_dataset('tmp_GEFS_a.nc')"
   ]
  },
  {
   "cell_type": "code",
   "execution_count": 3,
   "id": "young-height",
   "metadata": {},
   "outputs": [],
   "source": [
    "# rename to climpred dims\n",
    "init = init.rename({'step':'lead','number':'member','time':'init'}) #.drop('valid_time')"
   ]
  },
  {
   "cell_type": "code",
   "execution_count": 4,
   "id": "advance-outreach",
   "metadata": {},
   "outputs": [],
   "source": [
    "# set climpred lead units\n",
    "init['lead']=np.arange(0,6*init.lead.size,6)\n",
    "init.lead.attrs['units']='hours'"
   ]
  },
  {
   "cell_type": "markdown",
   "id": "responsible-stable",
   "metadata": {},
   "source": [
    "## download observations\n",
    "\n",
    "`climetlab` wraps `cdsapi` to download from the Copernicus Climate Data Store (CDS):\n",
    "\n",
    "- https://cds.climate.copernicus.eu/cdsapp#!/home\n",
    "- https://climetlab.readthedocs.io/en/latest/\n",
    "- https://github.com/ecmwf/cdsapi/"
   ]
  },
  {
   "cell_type": "code",
   "execution_count": 5,
   "id": "cellular-physiology",
   "metadata": {},
   "outputs": [],
   "source": [
    "# need temperature for 20200831 00:00 + 48h\n",
    "\n",
    "obs = climetlab.load_source(\"cds\",\n",
    "        \"reanalysis-era5-single-levels\",\n",
    "        product_type=\"reanalysis\",             \n",
    "        time=['00:00','06:00','12:00','18:00'],\n",
    "        grid=[1.0, 1.0],\n",
    "        param=\"2t\",\n",
    "        date=[\"2020-08-29\",\"2020-08-30\",\"2020-08-31\",'2020-09-01','2020-09-02','2020-09-03']).to_xarray()"
   ]
  },
  {
   "cell_type": "code",
   "execution_count": 6,
   "id": "broad-header",
   "metadata": {},
   "outputs": [],
   "source": [
    "# climetlab or cds enable logging.INFO\n",
    "import logging\n",
    "logger = logging.getLogger()\n",
    "logger.setLevel(logging.ERROR)"
   ]
  },
  {
   "cell_type": "code",
   "execution_count": 7,
   "id": "automotive-terrace",
   "metadata": {},
   "outputs": [],
   "source": [
    "# observations should only have time and no coordinates about number/member, step/lead or valid_time \n",
    "obs = obs.drop(['number','step','surface','valid_time'])"
   ]
  },
  {
   "cell_type": "markdown",
   "id": "continuous-understanding",
   "metadata": {},
   "source": [
    "## Forecast skill verification with `climpred.HindcastEnsemble`"
   ]
  },
  {
   "cell_type": "code",
   "execution_count": 103,
   "id": "biblical-neutral",
   "metadata": {},
   "outputs": [],
   "source": [
    "alignment='same_inits'\n",
    "hindcast = climpred.HindcastEnsemble(init.drop('valid_time')).add_observations(obs)"
   ]
  },
  {
   "cell_type": "code",
   "execution_count": null,
   "id": "composite-washer",
   "metadata": {},
   "outputs": [],
   "source": [
    "# still experimental https://github.com/pangeo-data/climpred/issues/605\n",
    "#hindcast = hindcast.remove_bias(alignment=alignment, cross_validate=False, how='mean')"
   ]
  },
  {
   "cell_type": "code",
   "execution_count": null,
   "id": "metric-hostel",
   "metadata": {},
   "outputs": [],
   "source": [
    "skill = hindcast.isel(lead=range(1,9)).verify(metric='crps', comparison='m2o', alignment=alignment, dim=['init','member'])\n",
    "\n",
    "skill.t2m.plot(col='lead', col_wrap=4, robust=True)"
   ]
  },
  {
   "cell_type": "code",
   "execution_count": null,
   "id": "monetary-motel",
   "metadata": {},
   "outputs": [],
   "source": [
    "# zooming into north america\n",
    "skill.sel(longitude=slice(200,320), latitude=slice(70,15)).t2m.plot(col='lead', col_wrap=4, robust=True, aspect=2.5)"
   ]
  }
 ],
 "metadata": {
  "kernelspec": {
   "display_name": "Python [conda env:climpred-dev] *",
   "language": "python",
   "name": "conda-env-climpred-dev-py"
  },
  "language_info": {
   "codemirror_mode": {
    "name": "ipython",
    "version": 3
   },
   "file_extension": ".py",
   "mimetype": "text/x-python",
   "name": "python",
   "nbconvert_exporter": "python",
   "pygments_lexer": "ipython3",
   "version": "3.8.8"
  }
 },
 "nbformat": 4,
 "nbformat_minor": 5
}
