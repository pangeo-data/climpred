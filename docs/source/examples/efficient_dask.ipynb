{
 "cells": [
  {
   "cell_type": "markdown",
   "metadata": {},
   "source": [
    "# Using Dask with climpred\n",
    "\n",
    "This demo demonstrates `climpred`'s capabilities with `dask`."
   ]
  },
  {
   "cell_type": "code",
   "execution_count": 1,
   "metadata": {},
   "outputs": [],
   "source": [
    "import warnings\n",
    "\n",
    "%matplotlib inline\n",
    "import numpy as np\n",
    "import xarray as xr\n",
    "import dask\n",
    "import climpred\n",
    "\n",
    "warnings.filterwarnings(\"ignore\")"
   ]
  },
  {
   "cell_type": "markdown",
   "metadata": {},
   "source": [
    "### Load large data"
   ]
  },
  {
   "cell_type": "code",
   "execution_count": 75,
   "metadata": {},
   "outputs": [],
   "source": [
    "# generic\n",
    "ny,nx=256,220\n",
    "nl,ni,nm=20,12,10\n",
    "ds = xr.DataArray(np.random.random((nl,ni,nm,ny,nx)),dims=('lead', 'init', 'member', 'y', 'x'))\n",
    "ds['init'] = np.arange(3000,3300,300//ni)\n",
    "ds['lead'] = np.arange(1,1+ds.lead.size)\n",
    "control = xr.DataArray(np.random.random((300, ny,nx)),dims=('time', 'y', 'x'))\n",
    "control['time'] = np.arange(3000,3300)"
   ]
  },
  {
   "cell_type": "code",
   "execution_count": 76,
   "metadata": {},
   "outputs": [],
   "source": [
    "kw = {'comparison':'m2e', 'metric':'rmse'}"
   ]
  },
  {
   "cell_type": "code",
   "execution_count": 77,
   "metadata": {},
   "outputs": [
    {
     "name": "stdout",
     "output_type": "stream",
     "text": [
      "CPU times: user 11.5 s, sys: 6.88 s, total: 18.4 s\n",
      "Wall time: 19.6 s\n"
     ]
    }
   ],
   "source": [
    "%time s = climpred.prediction.compute_perfect_model(ds, control, **kw)"
   ]
  },
  {
   "cell_type": "markdown",
   "metadata": {},
   "source": [
    "2 core Mac Book Pro 2018: CPU times: user 11.5 s, sys: 6.88 s, total: 18.4 s\n",
    "Wall time: 19.6 s"
   ]
  },
  {
   "cell_type": "markdown",
   "metadata": {},
   "source": [
    "In order to use `dask` efficient, we need to chunk the data appropriately. Processing chunks of data lazily with `dask` creates a tiny overhead per dask, therefore chunking mostly makes sense when applying it to large data."
   ]
  },
  {
   "cell_type": "code",
   "execution_count": 86,
   "metadata": {},
   "outputs": [
    {
     "data": {
      "text/html": [
       "<table>\n",
       "<tr>\n",
       "<td>\n",
       "<table>\n",
       "  <thead>\n",
       "    <tr><td> </td><th> Array </th><th> Chunk </th></tr>\n",
       "  </thead>\n",
       "  <tbody>\n",
       "    <tr><th> Bytes </th><td> 1.08 GB </td> <td> 33.79 MB </td></tr>\n",
       "    <tr><th> Shape </th><td> (20, 12, 10, 256, 220) </td> <td> (20, 12, 10, 32, 55) </td></tr>\n",
       "    <tr><th> Count </th><td> 32 Tasks </td><td> 32 Chunks </td></tr>\n",
       "    <tr><th> Type </th><td> float64 </td><td> numpy.ndarray </td></tr>\n",
       "  </tbody>\n",
       "</table>\n",
       "</td>\n",
       "<td>\n",
       "<svg width=\"380\" height=\"189\" style=\"stroke:rgb(0,0,0);stroke-width:1\" >\n",
       "\n",
       "  <!-- Horizontal lines -->\n",
       "  <line x1=\"0\" y1=\"0\" x2=\"34\" y2=\"0\" style=\"stroke-width:2\" />\n",
       "  <line x1=\"0\" y1=\"37\" x2=\"34\" y2=\"37\" style=\"stroke-width:2\" />\n",
       "\n",
       "  <!-- Vertical lines -->\n",
       "  <line x1=\"0\" y1=\"0\" x2=\"0\" y2=\"37\" style=\"stroke-width:2\" />\n",
       "  <line x1=\"34\" y1=\"0\" x2=\"34\" y2=\"37\" style=\"stroke-width:2\" />\n",
       "\n",
       "  <!-- Colored Rectangle -->\n",
       "  <polygon points=\"0.000000,0.000000 34.105574,0.000000 34.105574,37.188039 0.000000,37.188039\" style=\"fill:#ECB172A0;stroke-width:0\"/>\n",
       "\n",
       "  <!-- Text -->\n",
       "  <text x=\"17.052787\" y=\"57.188039\" font-size=\"1.0rem\" font-weight=\"100\" text-anchor=\"middle\" >12</text>\n",
       "  <text x=\"54.105574\" y=\"18.594019\" font-size=\"1.0rem\" font-weight=\"100\" text-anchor=\"middle\" transform=\"rotate(0,54.105574,18.594019)\">20</text>\n",
       "\n",
       "\n",
       "  <!-- Horizontal lines -->\n",
       "  <line x1=\"104\" y1=\"0\" x2=\"123\" y2=\"19\" style=\"stroke-width:2\" />\n",
       "  <line x1=\"104\" y1=\"15\" x2=\"123\" y2=\"34\" />\n",
       "  <line x1=\"104\" y1=\"30\" x2=\"123\" y2=\"49\" />\n",
       "  <line x1=\"104\" y1=\"45\" x2=\"123\" y2=\"64\" />\n",
       "  <line x1=\"104\" y1=\"60\" x2=\"123\" y2=\"79\" />\n",
       "  <line x1=\"104\" y1=\"75\" x2=\"123\" y2=\"94\" />\n",
       "  <line x1=\"104\" y1=\"90\" x2=\"123\" y2=\"109\" />\n",
       "  <line x1=\"104\" y1=\"105\" x2=\"123\" y2=\"124\" />\n",
       "  <line x1=\"104\" y1=\"120\" x2=\"123\" y2=\"139\" style=\"stroke-width:2\" />\n",
       "\n",
       "  <!-- Vertical lines -->\n",
       "  <line x1=\"104\" y1=\"0\" x2=\"104\" y2=\"120\" style=\"stroke-width:2\" />\n",
       "  <line x1=\"123\" y1=\"19\" x2=\"123\" y2=\"139\" style=\"stroke-width:2\" />\n",
       "\n",
       "  <!-- Colored Rectangle -->\n",
       "  <polygon points=\"104.000000,0.000000 123.405241,19.405241 123.405241,139.405241 104.000000,120.000000\" style=\"fill:#ECB172A0;stroke-width:0\"/>\n",
       "\n",
       "  <!-- Horizontal lines -->\n",
       "  <line x1=\"104\" y1=\"0\" x2=\"207\" y2=\"0\" style=\"stroke-width:2\" />\n",
       "  <line x1=\"123\" y1=\"19\" x2=\"226\" y2=\"19\" style=\"stroke-width:2\" />\n",
       "\n",
       "  <!-- Vertical lines -->\n",
       "  <line x1=\"104\" y1=\"0\" x2=\"123\" y2=\"19\" style=\"stroke-width:2\" />\n",
       "  <line x1=\"129\" y1=\"0\" x2=\"149\" y2=\"19\" />\n",
       "  <line x1=\"155\" y1=\"0\" x2=\"174\" y2=\"19\" />\n",
       "  <line x1=\"181\" y1=\"0\" x2=\"200\" y2=\"19\" />\n",
       "  <line x1=\"207\" y1=\"0\" x2=\"226\" y2=\"19\" style=\"stroke-width:2\" />\n",
       "\n",
       "  <!-- Colored Rectangle -->\n",
       "  <polygon points=\"104.000000,0.000000 207.125000,0.000000 226.530241,19.405241 123.405241,19.405241\" style=\"fill:#ECB172A0;stroke-width:0\"/>\n",
       "\n",
       "  <!-- Horizontal lines -->\n",
       "  <line x1=\"123\" y1=\"19\" x2=\"226\" y2=\"19\" style=\"stroke-width:2\" />\n",
       "  <line x1=\"123\" y1=\"34\" x2=\"226\" y2=\"34\" />\n",
       "  <line x1=\"123\" y1=\"49\" x2=\"226\" y2=\"49\" />\n",
       "  <line x1=\"123\" y1=\"64\" x2=\"226\" y2=\"64\" />\n",
       "  <line x1=\"123\" y1=\"79\" x2=\"226\" y2=\"79\" />\n",
       "  <line x1=\"123\" y1=\"94\" x2=\"226\" y2=\"94\" />\n",
       "  <line x1=\"123\" y1=\"109\" x2=\"226\" y2=\"109\" />\n",
       "  <line x1=\"123\" y1=\"124\" x2=\"226\" y2=\"124\" />\n",
       "  <line x1=\"123\" y1=\"139\" x2=\"226\" y2=\"139\" style=\"stroke-width:2\" />\n",
       "\n",
       "  <!-- Vertical lines -->\n",
       "  <line x1=\"123\" y1=\"19\" x2=\"123\" y2=\"139\" style=\"stroke-width:2\" />\n",
       "  <line x1=\"149\" y1=\"19\" x2=\"149\" y2=\"139\" />\n",
       "  <line x1=\"174\" y1=\"19\" x2=\"174\" y2=\"139\" />\n",
       "  <line x1=\"200\" y1=\"19\" x2=\"200\" y2=\"139\" />\n",
       "  <line x1=\"226\" y1=\"19\" x2=\"226\" y2=\"139\" style=\"stroke-width:2\" />\n",
       "\n",
       "  <!-- Colored Rectangle -->\n",
       "  <polygon points=\"123.405241,19.405241 226.530241,19.405241 226.530241,139.405241 123.405241,139.405241\" style=\"fill:#ECB172A0;stroke-width:0\"/>\n",
       "\n",
       "  <!-- Text -->\n",
       "  <text x=\"174.967741\" y=\"159.405241\" font-size=\"1.0rem\" font-weight=\"100\" text-anchor=\"middle\" >220</text>\n",
       "  <text x=\"246.530241\" y=\"79.405241\" font-size=\"1.0rem\" font-weight=\"100\" text-anchor=\"middle\" transform=\"rotate(-90,246.530241,79.405241)\">256</text>\n",
       "  <text x=\"103.702620\" y=\"149.702620\" font-size=\"1.0rem\" font-weight=\"100\" text-anchor=\"middle\" transform=\"rotate(45,103.702620,149.702620)\">10</text>\n",
       "</svg>\n",
       "</td>\n",
       "</tr>\n",
       "</table>"
      ],
      "text/plain": [
       "dask.array<rechunk-merge, shape=(20, 12, 10, 256, 220), dtype=float64, chunksize=(20, 12, 10, 32, 55), chunktype=numpy.ndarray>"
      ]
     },
     "execution_count": 86,
     "metadata": {},
     "output_type": "execute_result"
    }
   ],
   "source": [
    "chunked_dim = 'y'\n",
    "chunks = {chunked_dim:ds[chunked_dim].size // 8}\n",
    "ds = ds.chunk(chunks)\n",
    "# if memory allows\n",
    "ds = ds.persist()\n",
    "ds.data"
   ]
  },
  {
   "cell_type": "code",
   "execution_count": 87,
   "metadata": {},
   "outputs": [
    {
     "name": "stdout",
     "output_type": "stream",
     "text": [
      "CPU times: user 18.8 s, sys: 5.4 s, total: 24.2 s\n",
      "Wall time: 8.62 s\n"
     ]
    }
   ],
   "source": [
    "%%time\n",
    "s_chunked = climpred.prediction.compute_perfect_model(ds, control, **kw)\n",
    "assert dask.is_dask_collection(s_chunked)\n",
    "s_chunked = s_chunked.compute()"
   ]
  },
  {
   "cell_type": "markdown",
   "metadata": {},
   "source": [
    "2 core Mac Book Pro 2018:\n",
    "CPU times: user 2min 35s, sys: 1min 4s, total: 3min 40s\n",
    "Wall time: 2min 10s"
   ]
  },
  {
   "cell_type": "code",
   "execution_count": 88,
   "metadata": {},
   "outputs": [],
   "source": [
    "try:\n",
    "    xr.testing.assert_allclose(s,s_chunked,atol=1e-6)\n",
    "except AssertionError:\n",
    "    for v in s.data_vars:\n",
    "        (s-s_chunked)[v].plot(robust=True, col='lead')"
   ]
  },
  {
   "cell_type": "markdown",
   "metadata": {},
   "source": [
    "## bootstrap skill\n",
    "\n",
    "This speedup translates into `bootstrap_perfect_model`, where `bootstrap` resamplings of intializialized, uninitialized and persistence skill are computed and then translated into p values and confidence intervals."
   ]
  },
  {
   "cell_type": "code",
   "execution_count": 89,
   "metadata": {},
   "outputs": [],
   "source": [
    "kwp = kw.copy()\n",
    "kwp['bootstrap'] = 4"
   ]
  },
  {
   "cell_type": "code",
   "execution_count": 90,
   "metadata": {},
   "outputs": [],
   "source": [
    "ds=ds.compute()\n",
    "control=control.compute()"
   ]
  },
  {
   "cell_type": "code",
   "execution_count": 91,
   "metadata": {},
   "outputs": [
    {
     "name": "stdout",
     "output_type": "stream",
     "text": [
      "CPU times: user 2min 3s, sys: 1min 22s, total: 3min 26s\n",
      "Wall time: 3min 43s\n"
     ]
    }
   ],
   "source": [
    "%time s_p = climpred.bootstrap.bootstrap_perfect_model(ds, control, **kwp)"
   ]
  },
  {
   "cell_type": "markdown",
   "metadata": {},
   "source": [
    "2 core Mac Book Pro 2018\n",
    "CPU times: user 2min 3s, sys: 1min 22s, total: 3min 26s\n",
    "Wall time: 3min 43s"
   ]
  },
  {
   "cell_type": "code",
   "execution_count": 92,
   "metadata": {},
   "outputs": [
    {
     "data": {
      "text/html": [
       "<table>\n",
       "<tr>\n",
       "<td>\n",
       "<table>\n",
       "  <thead>\n",
       "    <tr><td> </td><th> Array </th><th> Chunk </th></tr>\n",
       "  </thead>\n",
       "  <tbody>\n",
       "    <tr><th> Bytes </th><td> 1.08 GB </td> <td> 135.17 MB </td></tr>\n",
       "    <tr><th> Shape </th><td> (20, 12, 10, 256, 220) </td> <td> (20, 12, 10, 32, 220) </td></tr>\n",
       "    <tr><th> Count </th><td> 8 Tasks </td><td> 8 Chunks </td></tr>\n",
       "    <tr><th> Type </th><td> float64 </td><td> numpy.ndarray </td></tr>\n",
       "  </tbody>\n",
       "</table>\n",
       "</td>\n",
       "<td>\n",
       "<svg width=\"380\" height=\"189\" style=\"stroke:rgb(0,0,0);stroke-width:1\" >\n",
       "\n",
       "  <!-- Horizontal lines -->\n",
       "  <line x1=\"0\" y1=\"0\" x2=\"34\" y2=\"0\" style=\"stroke-width:2\" />\n",
       "  <line x1=\"0\" y1=\"37\" x2=\"34\" y2=\"37\" style=\"stroke-width:2\" />\n",
       "\n",
       "  <!-- Vertical lines -->\n",
       "  <line x1=\"0\" y1=\"0\" x2=\"0\" y2=\"37\" style=\"stroke-width:2\" />\n",
       "  <line x1=\"34\" y1=\"0\" x2=\"34\" y2=\"37\" style=\"stroke-width:2\" />\n",
       "\n",
       "  <!-- Colored Rectangle -->\n",
       "  <polygon points=\"0.000000,0.000000 34.105574,0.000000 34.105574,37.188039 0.000000,37.188039\" style=\"fill:#ECB172A0;stroke-width:0\"/>\n",
       "\n",
       "  <!-- Text -->\n",
       "  <text x=\"17.052787\" y=\"57.188039\" font-size=\"1.0rem\" font-weight=\"100\" text-anchor=\"middle\" >12</text>\n",
       "  <text x=\"54.105574\" y=\"18.594019\" font-size=\"1.0rem\" font-weight=\"100\" text-anchor=\"middle\" transform=\"rotate(0,54.105574,18.594019)\">20</text>\n",
       "\n",
       "\n",
       "  <!-- Horizontal lines -->\n",
       "  <line x1=\"104\" y1=\"0\" x2=\"123\" y2=\"19\" style=\"stroke-width:2\" />\n",
       "  <line x1=\"104\" y1=\"15\" x2=\"123\" y2=\"34\" />\n",
       "  <line x1=\"104\" y1=\"30\" x2=\"123\" y2=\"49\" />\n",
       "  <line x1=\"104\" y1=\"45\" x2=\"123\" y2=\"64\" />\n",
       "  <line x1=\"104\" y1=\"60\" x2=\"123\" y2=\"79\" />\n",
       "  <line x1=\"104\" y1=\"75\" x2=\"123\" y2=\"94\" />\n",
       "  <line x1=\"104\" y1=\"90\" x2=\"123\" y2=\"109\" />\n",
       "  <line x1=\"104\" y1=\"105\" x2=\"123\" y2=\"124\" />\n",
       "  <line x1=\"104\" y1=\"120\" x2=\"123\" y2=\"139\" style=\"stroke-width:2\" />\n",
       "\n",
       "  <!-- Vertical lines -->\n",
       "  <line x1=\"104\" y1=\"0\" x2=\"104\" y2=\"120\" style=\"stroke-width:2\" />\n",
       "  <line x1=\"123\" y1=\"19\" x2=\"123\" y2=\"139\" style=\"stroke-width:2\" />\n",
       "\n",
       "  <!-- Colored Rectangle -->\n",
       "  <polygon points=\"104.000000,0.000000 123.405241,19.405241 123.405241,139.405241 104.000000,120.000000\" style=\"fill:#ECB172A0;stroke-width:0\"/>\n",
       "\n",
       "  <!-- Horizontal lines -->\n",
       "  <line x1=\"104\" y1=\"0\" x2=\"207\" y2=\"0\" style=\"stroke-width:2\" />\n",
       "  <line x1=\"123\" y1=\"19\" x2=\"226\" y2=\"19\" style=\"stroke-width:2\" />\n",
       "\n",
       "  <!-- Vertical lines -->\n",
       "  <line x1=\"104\" y1=\"0\" x2=\"123\" y2=\"19\" style=\"stroke-width:2\" />\n",
       "  <line x1=\"207\" y1=\"0\" x2=\"226\" y2=\"19\" style=\"stroke-width:2\" />\n",
       "\n",
       "  <!-- Colored Rectangle -->\n",
       "  <polygon points=\"104.000000,0.000000 207.125000,0.000000 226.530241,19.405241 123.405241,19.405241\" style=\"fill:#ECB172A0;stroke-width:0\"/>\n",
       "\n",
       "  <!-- Horizontal lines -->\n",
       "  <line x1=\"123\" y1=\"19\" x2=\"226\" y2=\"19\" style=\"stroke-width:2\" />\n",
       "  <line x1=\"123\" y1=\"34\" x2=\"226\" y2=\"34\" />\n",
       "  <line x1=\"123\" y1=\"49\" x2=\"226\" y2=\"49\" />\n",
       "  <line x1=\"123\" y1=\"64\" x2=\"226\" y2=\"64\" />\n",
       "  <line x1=\"123\" y1=\"79\" x2=\"226\" y2=\"79\" />\n",
       "  <line x1=\"123\" y1=\"94\" x2=\"226\" y2=\"94\" />\n",
       "  <line x1=\"123\" y1=\"109\" x2=\"226\" y2=\"109\" />\n",
       "  <line x1=\"123\" y1=\"124\" x2=\"226\" y2=\"124\" />\n",
       "  <line x1=\"123\" y1=\"139\" x2=\"226\" y2=\"139\" style=\"stroke-width:2\" />\n",
       "\n",
       "  <!-- Vertical lines -->\n",
       "  <line x1=\"123\" y1=\"19\" x2=\"123\" y2=\"139\" style=\"stroke-width:2\" />\n",
       "  <line x1=\"226\" y1=\"19\" x2=\"226\" y2=\"139\" style=\"stroke-width:2\" />\n",
       "\n",
       "  <!-- Colored Rectangle -->\n",
       "  <polygon points=\"123.405241,19.405241 226.530241,19.405241 226.530241,139.405241 123.405241,139.405241\" style=\"fill:#ECB172A0;stroke-width:0\"/>\n",
       "\n",
       "  <!-- Text -->\n",
       "  <text x=\"174.967741\" y=\"159.405241\" font-size=\"1.0rem\" font-weight=\"100\" text-anchor=\"middle\" >220</text>\n",
       "  <text x=\"246.530241\" y=\"79.405241\" font-size=\"1.0rem\" font-weight=\"100\" text-anchor=\"middle\" transform=\"rotate(-90,246.530241,79.405241)\">256</text>\n",
       "  <text x=\"103.702620\" y=\"149.702620\" font-size=\"1.0rem\" font-weight=\"100\" text-anchor=\"middle\" transform=\"rotate(45,103.702620,149.702620)\">10</text>\n",
       "</svg>\n",
       "</td>\n",
       "</tr>\n",
       "</table>"
      ],
      "text/plain": [
       "dask.array<xarray-<this-array>, shape=(20, 12, 10, 256, 220), dtype=float64, chunksize=(20, 12, 10, 32, 220), chunktype=numpy.ndarray>"
      ]
     },
     "execution_count": 92,
     "metadata": {},
     "output_type": "execute_result"
    }
   ],
   "source": [
    "chunked_dim = 'y'\n",
    "chunks = {chunked_dim:ds[chunked_dim].size // 8}\n",
    "ds = ds.chunk(chunks)\n",
    "# if memory allows\n",
    "ds = ds.persist()\n",
    "ds.data"
   ]
  },
  {
   "cell_type": "code",
   "execution_count": 93,
   "metadata": {},
   "outputs": [
    {
     "name": "stdout",
     "output_type": "stream",
     "text": [
      "CPU times: user 2min 35s, sys: 1min 4s, total: 3min 40s\n",
      "Wall time: 2min 10s\n"
     ]
    }
   ],
   "source": [
    "%time s_p_chunked = climpred.bootstrap.bootstrap_perfect_model(ds, control, **kwp)"
   ]
  },
  {
   "cell_type": "markdown",
   "metadata": {},
   "source": [
    "2 core Mac Book Pro 2018\n",
    "CPU times: user 2min 35s, sys: 1min 4s, total: 3min 40s\n",
    "Wall time: 2min 10s"
   ]
  },
  {
   "cell_type": "code",
   "execution_count": null,
   "metadata": {},
   "outputs": [],
   "source": []
  }
 ],
 "metadata": {
  "kernelspec": {
   "display_name": "Python [conda env:climpred-dev] *",
   "language": "python",
   "name": "conda-env-climpred-dev-py"
  },
  "language_info": {
   "codemirror_mode": {
    "name": "ipython",
    "version": 3
   },
   "file_extension": ".py",
   "mimetype": "text/x-python",
   "name": "python",
   "nbconvert_exporter": "python",
   "pygments_lexer": "ipython3",
   "version": "3.6.7"
  },
  "latex_envs": {
   "LaTeX_envs_menu_present": false,
   "autoclose": true,
   "autocomplete": true,
   "bibliofile": "large.bib",
   "cite_by": "apalike",
   "current_citInitial": 1,
   "eqLabelWithNumbers": false,
   "eqNumInitial": 1,
   "hotkeys": {
    "equation": "Ctrl-E",
    "itemize": "Ctrl-I"
   },
   "labels_anchors": false,
   "latex_user_defs": false,
   "report_style_numbering": false,
   "user_envs_cfg": false
  },
  "toc": {
   "base_numbering": 1,
   "nav_menu": {},
   "number_sections": true,
   "sideBar": true,
   "skip_h1_title": false,
   "title_cell": "Table of Contents",
   "title_sidebar": "Contents",
   "toc_cell": false,
   "toc_position": {},
   "toc_section_display": true,
   "toc_window_display": false
  },
  "varInspector": {
   "cols": {
    "lenName": 16,
    "lenType": 16,
    "lenVar": 40
   },
   "kernels_config": {
    "python": {
     "delete_cmd_postfix": "",
     "delete_cmd_prefix": "del ",
     "library": "var_list.py",
     "varRefreshCmd": "print(var_dic_list())"
    },
    "r": {
     "delete_cmd_postfix": ") ",
     "delete_cmd_prefix": "rm(",
     "library": "var_list.r",
     "varRefreshCmd": "cat(var_dic_list()) "
    }
   },
   "types_to_exclude": [
    "module",
    "function",
    "builtin_function_or_method",
    "instance",
    "_Feature"
   ],
   "window_display": false
  }
 },
 "nbformat": 4,
 "nbformat_minor": 4
}
