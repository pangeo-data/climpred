{
 "cells": [
  {
   "cell_type": "markdown",
   "metadata": {},
   "source": [
    "# Relative Entropy Demo\n",
    "\n",
    "---\n",
    "\n",
    "Authors: Aaron Spring\n",
    "\n",
    "This is a work in progress for the relative entropy method."
   ]
  },
  {
   "cell_type": "code",
   "execution_count": null,
   "metadata": {},
   "outputs": [],
   "source": [
    "import xarray as xr\n",
    "import numpy as np\n",
    "import warnings\n",
    "import os\n",
    "warnings.filterwarnings(\"ignore\")"
   ]
  },
  {
   "cell_type": "code",
   "execution_count": null,
   "metadata": {},
   "outputs": [],
   "source": [
    "if os.getcwd().startswith('/home/travis/'):\n",
    "    mistral = False\n",
    "elif (os.getcwd().startswith('/mnt/')) or (os.getcwd().startswith('/Users/aaron.spring')):\n",
    "    mistral = True\n",
    "else:\n",
    "    mistral = False\n",
    "print('on mistral:',mistral,' - should be False to test with synthetic data')\n",
    "\n",
    "if mistral:\n",
    "    from PMMPIESM.setup import _get_path\n",
    "    ds = xr.open_dataset(_get_path('tos',prefix='ds')).rename({'ensemble':'init','time':'lead'})\n",
    "    control = xr.open_dataset(_get_path('tos',prefix='control'))\n",
    "else:\n",
    "    dates = np.arange(3000, 3100)\n",
    "    lats = np.arange(4)\n",
    "    lons = np.arange(3)\n",
    "    data = np.random.rand(len(dates), len(lats), len(lons))\n",
    "    control = xr.DataArray(data,\n",
    "                        coords=[dates, lats, lons],\n",
    "                        dims=['time', 'lat', 'lon'])\n",
    "    \n",
    "    lead = np.arange(1, 4)\n",
    "    lats = np.arange(4)\n",
    "    lons = np.arange(3)\n",
    "    member = np.arange(10)\n",
    "    init = [3004, 3009, 3015, 3023]\n",
    "    data = np.random.rand(len(lead), len(member), len(init), len(\n",
    "        lats), len(lons))\n",
    "    ds = xr.DataArray(data,\n",
    "                        coords=[lead, member, init, lats, lons],\n",
    "                        dims=['lead', 'member', 'init', 'lat', 'lon'])"
   ]
  },
  {
   "cell_type": "code",
   "execution_count": null,
   "metadata": {},
   "outputs": [],
   "source": [
    "from climpred.relative_entropy import compute_relative_entropy, bootstrap_relative_entropy\n",
    "from climpred.graphics import plot_relative_entropy"
   ]
  },
  {
   "cell_type": "markdown",
   "metadata": {},
   "source": [
    "## perfect-model"
   ]
  },
  {
   "cell_type": "code",
   "execution_count": null,
   "metadata": {},
   "outputs": [],
   "source": [
    "rel_ent = compute_relative_entropy(ds, control,nmember_control=100,neofs=8)"
   ]
  },
  {
   "cell_type": "code",
   "execution_count": null,
   "metadata": {},
   "outputs": [],
   "source": [
    "rel_ent.to_dataframe().unstack(0).head()"
   ]
  },
  {
   "cell_type": "code",
   "execution_count": null,
   "metadata": {},
   "outputs": [],
   "source": [
    "rel_ent_threshold = bootstrap_relative_entropy(ds, control, sig=50,\n",
    "                               bootstrap=50, curv=True, neofs=8,\n",
    "                               nmember_control=100)"
   ]
  },
  {
   "cell_type": "code",
   "execution_count": null,
   "metadata": {},
   "outputs": [],
   "source": [
    "plot_relative_entropy(rel_ent, rel_ent_threshold=rel_ent_threshold, sharey=True, figsize=(15,4))"
   ]
  },
  {
   "cell_type": "markdown",
   "metadata": {},
   "source": [
    "## DPLE, LENS\n",
    "faking data with DPLE, LENS coords"
   ]
  },
  {
   "cell_type": "code",
   "execution_count": null,
   "metadata": {},
   "outputs": [],
   "source": [
    "def _shuffle(ds, dim='init'):\n",
    "    \"\"\"Shuffle ensemble members to uninitialize the data.\"\"\"\n",
    "    old_dim_range = ds[dim]\n",
    "    shuffled = ds.sel({dim: np.random.permutation(ds[dim])})\n",
    "    shuffled[dim] = old_dim_range\n",
    "    shuffled = shuffled.sortby(dim)\n",
    "    return shuffled"
   ]
  },
  {
   "cell_type": "code",
   "execution_count": null,
   "metadata": {},
   "outputs": [],
   "source": [
    "lens = xr.concat([_shuffle(control,'time') for _ in range(10)],dim='member').isel(time=slice(0,65))\n",
    "lens['time']=np.arange(1950,2015)\n",
    "lens['member']=np.arange(lens.member.size)\n",
    "#lens"
   ]
  },
  {
   "cell_type": "code",
   "execution_count": null,
   "metadata": {},
   "outputs": [],
   "source": [
    "dple = xr.concat([lens.rename({'time':'init'})]*10,'lead')\n",
    "dple['lead']=np.arange(1,1+dple.lead.size)\n",
    "#dple"
   ]
  },
  {
   "cell_type": "code",
   "execution_count": null,
   "metadata": {},
   "outputs": [],
   "source": [
    "compute_relative_entropy(dple, lens,nlead=4,nmember_control=5,neofs=3).to_dataframe().unstack(0).head()"
   ]
  },
  {
   "cell_type": "code",
   "execution_count": null,
   "metadata": {},
   "outputs": [],
   "source": [
    "bootstrap_relative_entropy(dple, lens,nlead=4,nmember_control=5,neofs=3,bootstrap=15)"
   ]
  },
  {
   "cell_type": "markdown",
   "metadata": {},
   "source": [
    "## Understand nmember_control"
   ]
  },
  {
   "cell_type": "code",
   "execution_count": null,
   "metadata": {},
   "outputs": [],
   "source": [
    "import matplotlib.pyplot as plt\n",
    "neofs=8\n",
    "for i in [5,10,20,50,100]:\n",
    "    print('\\n nmember_control =',i)\n",
    "    rel_ent = compute_relative_entropy(ds, control,nmember_control=i,neofs=neofs)\n",
    "    el_ent_threshold = bootstrap_relative_entropy(ds, control, sig=50,\n",
    "                               bootstrap=50, curv=True, neofs=neofs,\n",
    "                               nmember_control=i)\n",
    "    plot_relative_entropy(rel_ent, rel_ent_threshold=rel_ent_threshold, sharey=True, figsize=(15,4))\n",
    "    plt.show()"
   ]
  }
 ],
 "metadata": {
  "kernelspec": {
   "display_name": "Python 3",
   "language": "python",
   "name": "python3"
  },
  "language_info": {
   "codemirror_mode": {
    "name": "ipython",
    "version": 3
   },
   "file_extension": ".py",
   "mimetype": "text/x-python",
   "name": "python",
   "nbconvert_exporter": "python",
   "pygments_lexer": "ipython3",
   "version": "3.6.6"
  },
  "toc": {
   "base_numbering": 1,
   "nav_menu": {},
   "number_sections": true,
   "sideBar": true,
   "skip_h1_title": false,
   "title_cell": "Table of Contents",
   "title_sidebar": "Contents",
   "toc_cell": false,
   "toc_position": {},
   "toc_section_display": true,
   "toc_window_display": false
  },
  "varInspector": {
   "cols": {
    "lenName": 16,
    "lenType": 16,
    "lenVar": 40
   },
   "kernels_config": {
    "python": {
     "delete_cmd_postfix": "",
     "delete_cmd_prefix": "del ",
     "library": "var_list.py",
     "varRefreshCmd": "print(var_dic_list())"
    },
    "r": {
     "delete_cmd_postfix": ") ",
     "delete_cmd_prefix": "rm(",
     "library": "var_list.r",
     "varRefreshCmd": "cat(var_dic_list()) "
    }
   },
   "types_to_exclude": [
    "module",
    "function",
    "builtin_function_or_method",
    "instance",
    "_Feature"
   ],
   "window_display": false
  }
 },
 "nbformat": 4,
 "nbformat_minor": 2
}
