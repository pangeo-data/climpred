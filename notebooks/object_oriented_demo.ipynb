{
 "cells": [
  {
   "cell_type": "markdown",
   "metadata": {},
   "source": [
    "# Object-Oriented Demo\n",
    "\n",
    "---\n",
    "\n",
    "This is a demo for the class-based features of `climpred` that are in development.\n",
    "\n",
    "Author: Riley X. Brady (riley.brady@colorado.edu)\n",
    "\n",
    "Date Last Updated: May 17th, 2019\n",
    "\n",
    "## Object Types\n",
    "\n",
    "There are two types of objects that can be used in `climpred`, and both are built on top of `xarray`'s `Dataset` and `DataArray` objects.\n",
    "\n",
    "1. `HindcastEnsemble`: This is a climate prediction ensemble that is initialized from some observation-based product. This could be observations, an assimilative product, a reconstruction, etc. The point is that this ensemble is making retrospective forecasts (hindcasts) of the real world.\n",
    "1. `PerfectModelEnsemble`: This is a climate prediction ensemble that is initialized from a control run, using the \"perfect model\" framework.\n",
    "\n",
    "Both the `HindcastEnsemble` and `PerfectModelEnsemble` are sub-classes of a `PredictionEnsemble`.\n",
    "\n",
    "## Functions\n",
    "\n",
    "Functions can be called directly on the `HindcastEnsemble` or `PerfectModelEnsemble` object. `climpred` manages the nitty-gritty of calling the appropriate functions and applying statistics to multiple simulations/observations and variables.\n",
    "\n",
    "### HindcastEnsemble Functions\n",
    "\n",
    "These are the current functions that are supported for `HindcastEnsemble`s. More will be added in the future.\n",
    "\n",
    "1. `add_reference`: Add a reference simulation/observation to compare the initialized ensemble to.\n",
    "1. `add_uninitialized`: Add an uninitialized companion ensemble.\n",
    "1. `compute_metric`: Compare the initialized ensemble to references, e.g., pearson correlation, mean absolute error, root mean square error.\n",
    "1. `compute_uninitialized`: Compare the uninitialized ensemble to references.\n",
    "1. `compute_persistence`: Compute a persistence forecast on a reference.\n",
    "\n",
    "\n",
    "### PerfectModelEnsemble Functions\n",
    "\n",
    "These are the current functions that are supported for `PerfectModelEnsemble`s. More will be added in the future.\n",
    "\n",
    "1. `add_control`: Add the control run that initialized the climate prediction ensemble.\n",
    "1. `generate_uninitialized`: Generate an uninitialized ensemble by bootstrapping the initialized ensemble.\n",
    "1. `compute_metric`: Compare the initialized ensemble to the control run.\n",
    "1. `compute_persistence`: Compute a persistence forecast for the control run.\n",
    "1. `compute_uninitialized`: Compare the uninitialized ensemble to the control.\n",
    "1. `bootstrap`: Bootstrap the ensemble simulations with replacement."
   ]
  },
  {
   "cell_type": "code",
   "execution_count": 2,
   "metadata": {
    "ExecuteTime": {
     "end_time": "2019-05-09T17:44:07.375603Z",
     "start_time": "2019-05-09T17:44:06.127579Z"
    }
   },
   "outputs": [],
   "source": [
    "import numpy as np\n",
    "import xarray as xr\n",
    "import climpred as cp\n",
    "import matplotlib.pyplot as plt\n",
    "%matplotlib inline\n",
    "from climpred.loadutils import open_dataset"
   ]
  },
  {
   "cell_type": "code",
   "execution_count": 3,
   "metadata": {
    "ExecuteTime": {
     "end_time": "2019-05-09T17:44:07.909744Z",
     "start_time": "2019-05-09T17:44:07.881064Z"
    }
   },
   "outputs": [
    {
     "name": "stdout",
     "output_type": "stream",
     "text": [
      "'MPI-PM-DP-1D': decadal prediction ensemble area averages of SST/SSS/AMO.\n",
      "'MPI-PM-DP-3D': decadal prediction ensemble lat/lon/time of SST/SSS/AMO.\n",
      "'MPI-control-1D': area averages for the control run of SST/SSS.\n",
      "'MPI-control-3D': lat/lon/time for the control run of SST/SSS.\n",
      "'CESM-DP-SST': decadal prediction ensemble of global mean SSTs.\n",
      "'CESM-DP-SSS': decadal prediction ensemble of global mean SSS.\n",
      "'CESM-LE': uninitialized ensemble of global mean SSTs.\n",
      "'MPIESM_miklip_baseline1-hind-SST-global': initialized ensemble of global mean SSTs\n",
      "'MPIESM_miklip_baseline1-hist-SST-global': uninitialized ensemble of global mean SSTs\n",
      "'MPIESM_miklip_baseline1-assim-SST-global': assimilation in MPI-ESM of global mean SSTs\n",
      "'ERSST': observations of global mean SSTs.\n",
      "'FOSI-SST': reconstruction of global mean SSTs.\n",
      "'FOSI-SSS': reconstruction of global mean SSS.\n"
     ]
    }
   ],
   "source": [
    "open_dataset()"
   ]
  },
  {
   "cell_type": "markdown",
   "metadata": {},
   "source": [
    "# HindcastEnsemble\n",
    "\n",
    "Here I will use the Community Earth System Model Decadal Prediction Large Ensemble (CESM-DPLE) for a demonstration of the `HindcastEnsemble` capabilities. CESM-DPLE is initialized on November 1st from 1955-2017 by a Forced Ocean Sea-Ice (FOSI) reconstruction simulation. \n",
    "\n",
    "\n",
    "I use the FOSI output as a reference for potential predictability of the CESM-DPLE. I load in ERSST observations for a skill assessment of CESM-DPLE. Lastly, I use the CESM Large Ensemble (CESM-LE) as the uninitialized counterpart of the CESM-DPLE. This was generated by perturbing the CESM atmospheric temperature in 1920 slightly to generate an ensemble that diverges due to the chaotic nature of the climate system.\n",
    "\n",
    "## References\n",
    "\n",
    "Details on the CESM-DPLE experimental setup:\n",
    "\n",
    "1. Yeager, S. G., et al. \"Predicting near-term changes in the Earth System: A large ensemble of initialized decadal prediction simulations using the Community Earth System Model.\" Bulletin of the American Meteorological Society 99.9 (2018): 1867-1886.\n",
    "\n",
    "Details on the ERSST observations:\n",
    "\n",
    "2. https://www.ncdc.noaa.gov/data-access/marineocean-data/extended-reconstructed-sea-surface-temperature-ersst-v5\n",
    "\n",
    "Details on the CESM Large Ensemble:\n",
    "\n",
    "3. Kay, J. E., et al. \"The Community Earth System Model (CESM) large ensemble project: A community resource for studying climate change in the presence of internal climate variability.\" Bulletin of the American Meteorological Society 96.8 (2015): 1333-1349."
   ]
  },
  {
   "cell_type": "markdown",
   "metadata": {},
   "source": [
    "Here we load the sample data included in `climpred`."
   ]
  },
  {
   "cell_type": "code",
   "execution_count": 4,
   "metadata": {
    "ExecuteTime": {
     "end_time": "2019-05-09T17:44:24.767153Z",
     "start_time": "2019-05-09T17:44:22.925331Z"
    }
   },
   "outputs": [],
   "source": [
    "def _load_dple():\n",
    "    sst = open_dataset('CESM-DP-SST')\n",
    "    sss = open_dataset('CESM-DP-SSS')\n",
    "    dple = xr.merge([sst, sss])\n",
    "    dple = dple.sel(init=slice(1955, 2015))\n",
    "    # detrend\n",
    "    dple['SST'] = cp.stats.xr_rm_trend(dple['SST'], dim='init')\n",
    "    dple['SSS'] = cp.stats.xr_rm_trend(dple['SSS'], dim='init')\n",
    "    return dple\n",
    "\n",
    "def _load_fosi():\n",
    "    sst = open_dataset('FOSI-SST')\n",
    "    sss = open_dataset('FOSI-SSS')\n",
    "    fosi = xr.merge([sst, sss])\n",
    "    fosi = fosi.sel(time=slice(1955, 2015))\n",
    "    # move to anomaly space\n",
    "    fosi = fosi - fosi.sel(time=slice(1964, 2014)).mean('time')\n",
    "    # detrend\n",
    "    fosi['SST'] = cp.stats.xr_rm_trend(fosi['SST'])\n",
    "    fosi['SSS'] = cp.stats.xr_rm_trend(fosi['SSS'])\n",
    "    return fosi\n",
    "\n",
    "def _load_data():\n",
    "    data = open_dataset('ERSST')['SST']\n",
    "    # move to anomaly space\n",
    "    data = data - data.sel(time=slice(1964, 2014)).mean('time')\n",
    "    # detrend\n",
    "    data = cp.stats.xr_rm_trend(data)\n",
    "    data.name = 'SST'\n",
    "    return data\n",
    "\n",
    "def _load_cesmLE():\n",
    "    lens = open_dataset('CESM-LE')\n",
    "    # Take ensemble mean for this demo\n",
    "    lens = lens.mean('member')\n",
    "    return lens\n",
    "\n",
    "dple = _load_dple()\n",
    "fosi = _load_fosi()\n",
    "data = _load_data().to_dataset()\n",
    "cesmLE = _load_cesmLE()"
   ]
  },
  {
   "cell_type": "markdown",
   "metadata": {},
   "source": [
    "The `HindcastEnsemble` object is created just by inputting the prediction ensemble output. Other reference objects can be added after it is generated."
   ]
  },
  {
   "cell_type": "code",
   "execution_count": 5,
   "metadata": {
    "ExecuteTime": {
     "end_time": "2019-05-09T17:44:26.286898Z",
     "start_time": "2019-05-09T17:44:26.252736Z"
    }
   },
   "outputs": [
    {
     "name": "stdout",
     "output_type": "stream",
     "text": [
      "<climpred.HindcastEnsemble>\n",
      "Initialized Ensemble:\n",
      "    SST      (init, lead, member) float64 -0.0006536 -0.02718 ... 0.07729 0.1068\n",
      "    SSS      (init, lead, member) float64 0.01292 0.002436 ... -0.02315\n",
      "References:\n",
      "    None\n",
      "Uninitialized:\n",
      "    None\n"
     ]
    }
   ],
   "source": [
    "dp = cp.HindcastEnsemble(dple)\n",
    "print(dp)"
   ]
  },
  {
   "cell_type": "markdown",
   "metadata": {},
   "source": [
    "For a `HindcastEnsemble` object, you can add multiple references. Here, we will add the reconstruction (FOSI) and observations (ERSST). Multiple checks go into play here under the hood, ensuring that dimensions are named according to our rules and that references match all initialized dimensions (except for time).\n",
    "\n",
    "We can also have multiple variables per reference and decadal prediction object."
   ]
  },
  {
   "cell_type": "code",
   "execution_count": 6,
   "metadata": {
    "ExecuteTime": {
     "end_time": "2019-05-09T17:44:27.543523Z",
     "start_time": "2019-05-09T17:44:27.507428Z"
    }
   },
   "outputs": [
    {
     "name": "stdout",
     "output_type": "stream",
     "text": [
      "<climpred.HindcastEnsemble>\n",
      "Initialized Ensemble:\n",
      "    SST      (init, lead, member) float64 -0.0006536 -0.02718 ... 0.07729 0.1068\n",
      "    SSS      (init, lead, member) float64 0.01292 0.002436 ... -0.02315\n",
      "FOSI:\n",
      "    SST      (time) float64 -0.05523 -0.0491 0.1105 ... -0.01553 0.03564 0.1673\n",
      "    SSS      (time) float64 0.01213 0.005007 -0.003426 ... -0.008966 -0.02685\n",
      "ERSST:\n",
      "    SST      (time) float32 -0.061960407 -0.023283795 ... 0.072058104 0.165859\n",
      "Uninitialized:\n",
      "    None\n"
     ]
    }
   ],
   "source": [
    "dp.add_reference(fosi, 'FOSI')\n",
    "dp.add_reference(data, 'ERSST')\n",
    "print(dp)"
   ]
  },
  {
   "cell_type": "markdown",
   "metadata": {},
   "source": [
    "Lastly, we can add an uninitialized companion run. **Note that individual products can differ in the variables they have**."
   ]
  },
  {
   "cell_type": "code",
   "execution_count": 7,
   "metadata": {
    "ExecuteTime": {
     "end_time": "2019-05-09T17:44:28.496291Z",
     "start_time": "2019-05-09T17:44:28.458963Z"
    }
   },
   "outputs": [
    {
     "name": "stdout",
     "output_type": "stream",
     "text": [
      "<climpred.HindcastEnsemble>\n",
      "Initialized Ensemble:\n",
      "    SST      (init, lead, member) float64 -0.0006536 -0.02718 ... 0.07729 0.1068\n",
      "    SSS      (init, lead, member) float64 0.01292 0.002436 ... -0.02315\n",
      "FOSI:\n",
      "    SST      (time) float64 -0.05523 -0.0491 0.1105 ... -0.01553 0.03564 0.1673\n",
      "    SSS      (time) float64 0.01213 0.005007 -0.003426 ... -0.008966 -0.02685\n",
      "ERSST:\n",
      "    SST      (time) float32 -0.061960407 -0.023283795 ... 0.072058104 0.165859\n",
      "Uninitialized:\n",
      "    SST      (time) float64 17.84 17.81 17.82 17.84 ... 18.29 18.33 18.34 18.35\n"
     ]
    }
   ],
   "source": [
    "dp.add_uninitialized(cesmLE)\n",
    "print(dp)"
   ]
  },
  {
   "cell_type": "markdown",
   "metadata": {},
   "source": [
    "Now we can apply our functions to our `HindcastEnsemble` object. You can call `compute_metric` in two different ways:\n",
    "\n",
    "1. Declare a single reference you want to compare the initialized ensemble to (this returns a single `xr.Dataset` with results for that comparison)\n",
    "1. Run `compute_metric` with no reference argument. It will then make the comparison across all available references and variables. This returns a dictionary with results for each reference."
   ]
  },
  {
   "cell_type": "code",
   "execution_count": 8,
   "metadata": {
    "ExecuteTime": {
     "end_time": "2019-05-09T17:44:30.975217Z",
     "start_time": "2019-05-09T17:44:30.923182Z"
    }
   },
   "outputs": [
    {
     "name": "stdout",
     "output_type": "stream",
     "text": [
      "<xarray.Dataset>\n",
      "Dimensions:  (lead: 10)\n",
      "Coordinates:\n",
      "  * lead     (lead) int64 1 2 3 4 5 6 7 8 9 10\n",
      "Data variables:\n",
      "    SST      (lead) float64 0.6297 0.361 0.2962 ... 0.1197 0.03068 -0.08262\n",
      "    SSS      (lead) float64 0.8553 0.6325 0.6131 0.5498 ... 0.4471 0.4968 0.5831\n"
     ]
    }
   ],
   "source": [
    "# This computes the anomaly correlation coefficient (ACC) between the initialized\n",
    "# ensemble and FOSI (the reconstruction). The default metric is 'pearson r', so\n",
    "# we don't need to declare that keyword.\n",
    "skill = dp.compute_metric('FOSI')\n",
    "print(skill)"
   ]
  },
  {
   "cell_type": "code",
   "execution_count": 9,
   "metadata": {
    "ExecuteTime": {
     "end_time": "2019-05-09T17:44:31.397237Z",
     "start_time": "2019-05-09T17:44:31.333002Z"
    }
   },
   "outputs": [
    {
     "data": {
      "text/plain": [
       "<xarray.Dataset>\n",
       "Dimensions:  (lead: 10, member: 10)\n",
       "Coordinates:\n",
       "  * member   (member) int64 1 2 3 4 5 6 7 8 9 10\n",
       "  * lead     (lead) int64 1 2 3 4 5 6 7 8 9 10\n",
       "Data variables:\n",
       "    SST      (lead, member) float64 0.05551 0.05823 0.0601 ... 0.08367 0.08802\n",
       "    SSS      (lead, member) float64 0.004433 0.004068 ... 0.008233 0.007347"
      ]
     },
     "execution_count": 9,
     "metadata": {},
     "output_type": "execute_result"
    }
   ],
   "source": [
    "# Comparison with FOSI, but now with mean absolute error.\n",
    "# Also declare that we want to compare each individual forecast to\n",
    "# the reconstruction.\n",
    "dp.compute_metric('FOSI', metric='mae', comparison='m2r')"
   ]
  },
  {
   "cell_type": "code",
   "execution_count": 10,
   "metadata": {
    "ExecuteTime": {
     "end_time": "2019-05-09T17:44:32.073704Z",
     "start_time": "2019-05-09T17:44:32.002732Z"
    }
   },
   "outputs": [
    {
     "name": "stdout",
     "output_type": "stream",
     "text": [
      "{'FOSI': <xarray.Dataset>\n",
      "Dimensions:  (lead: 10)\n",
      "Coordinates:\n",
      "  * lead     (lead) int64 1 2 3 4 5 6 7 8 9 10\n",
      "Data variables:\n",
      "    SST      (lead) float64 0.6297 0.361 0.2962 ... 0.1197 0.03068 -0.08262\n",
      "    SSS      (lead) float64 0.8553 0.6325 0.6131 0.5498 ... 0.4471 0.4968 0.5831, 'ERSST': <xarray.Dataset>\n",
      "Dimensions:  (lead: 10)\n",
      "Coordinates:\n",
      "  * lead     (lead) int64 1 2 3 4 5 6 7 8 9 10\n",
      "Data variables:\n",
      "    SST      (lead) float64 0.6916 0.5598 0.461 ... 0.1485 -0.01721 -0.08369}\n"
     ]
    }
   ],
   "source": [
    "# Now we can go with option (2). Computing skill across all references.\n",
    "# Automatically computes for all references a pearsonr ensemble mean.\n",
    "skill = dp.compute_metric()\n",
    "print(skill)"
   ]
  },
  {
   "cell_type": "code",
   "execution_count": 11,
   "metadata": {
    "ExecuteTime": {
     "end_time": "2019-05-09T17:44:33.376572Z",
     "start_time": "2019-05-09T17:44:33.339350Z"
    }
   },
   "outputs": [
    {
     "name": "stdout",
     "output_type": "stream",
     "text": [
      "<xarray.Dataset>\n",
      "Dimensions:  (lead: 10)\n",
      "Coordinates:\n",
      "  * lead     (lead) int64 1 2 3 4 5 6 7 8 9 10\n",
      "Data variables:\n",
      "    SST      (lead) float64 0.6297 0.361 0.2962 ... 0.1197 0.03068 -0.08262\n",
      "    SSS      (lead) float64 0.8553 0.6325 0.6131 0.5498 ... 0.4471 0.4968 0.5831\n"
     ]
    }
   ],
   "source": [
    "print(skill['FOSI'])"
   ]
  },
  {
   "cell_type": "code",
   "execution_count": 12,
   "metadata": {
    "ExecuteTime": {
     "end_time": "2019-05-09T17:44:33.797006Z",
     "start_time": "2019-05-09T17:44:33.762694Z"
    }
   },
   "outputs": [
    {
     "name": "stdout",
     "output_type": "stream",
     "text": [
      "<xarray.Dataset>\n",
      "Dimensions:  (lead: 10)\n",
      "Coordinates:\n",
      "  * lead     (lead) int64 1 2 3 4 5 6 7 8 9 10\n",
      "Data variables:\n",
      "    SST      (lead) float64 0.6916 0.5598 0.461 ... 0.1485 -0.01721 -0.08369\n"
     ]
    }
   ],
   "source": [
    "print(skill['ERSST'])"
   ]
  },
  {
   "cell_type": "markdown",
   "metadata": {},
   "source": [
    "We can also compute a persistence forecast. This automatically only computes persistence for the references."
   ]
  },
  {
   "cell_type": "code",
   "execution_count": 13,
   "metadata": {
    "ExecuteTime": {
     "end_time": "2019-05-09T17:44:34.319274Z",
     "start_time": "2019-05-09T17:44:34.251269Z"
    }
   },
   "outputs": [],
   "source": [
    "# Persistence for both FOSI and data, but only out to 8 lags.\n",
    "persist = dp.compute_persistence(nlags=8)"
   ]
  },
  {
   "cell_type": "code",
   "execution_count": 14,
   "metadata": {
    "ExecuteTime": {
     "end_time": "2019-05-09T17:44:34.495220Z",
     "start_time": "2019-05-09T17:44:34.461755Z"
    }
   },
   "outputs": [
    {
     "name": "stdout",
     "output_type": "stream",
     "text": [
      "<xarray.Dataset>\n",
      "Dimensions:  (lead: 10)\n",
      "Coordinates:\n",
      "  * lead     (lead) int64 1 2 3 4 5 6 7 8 9 10\n",
      "Data variables:\n",
      "    SST      (lead) float64 0.4604 0.03482 0.1001 ... 0.006253 -0.1271 0.0784\n",
      "    SSS      (lead) float64 0.6744 0.4215 0.4281 ... 0.1659 0.1915 0.07442\n"
     ]
    }
   ],
   "source": [
    "print(persist['FOSI'])"
   ]
  },
  {
   "cell_type": "code",
   "execution_count": 15,
   "metadata": {
    "ExecuteTime": {
     "end_time": "2019-05-09T17:44:34.700824Z",
     "start_time": "2019-05-09T17:44:34.667167Z"
    }
   },
   "outputs": [
    {
     "name": "stdout",
     "output_type": "stream",
     "text": [
      "<xarray.Dataset>\n",
      "Dimensions:  (lead: 10)\n",
      "Coordinates:\n",
      "  * lead     (lead) int64 1 2 3 4 5 6 7 8 9 10\n",
      "Data variables:\n",
      "    SST      (lead) float32 0.39603058 -0.07876155 ... -0.08401333 0.12015415\n"
     ]
    }
   ],
   "source": [
    "print(persist['ERSST'])"
   ]
  },
  {
   "cell_type": "markdown",
   "metadata": {},
   "source": [
    "Lastly, we can compare our uninitialized ensemble to the references to see how much better the initialized ensemble does."
   ]
  },
  {
   "cell_type": "code",
   "execution_count": 16,
   "metadata": {
    "ExecuteTime": {
     "end_time": "2019-05-09T17:44:35.546219Z",
     "start_time": "2019-05-09T17:44:35.514499Z"
    }
   },
   "outputs": [
    {
     "name": "stdout",
     "output_type": "stream",
     "text": [
      "<xarray.Dataset>\n",
      "Dimensions:  ()\n",
      "Data variables:\n",
      "    SST      float64 0.08261\n"
     ]
    }
   ],
   "source": [
    "uninit = dp.compute_uninitialized('FOSI')\n",
    "print(uninit)"
   ]
  },
  {
   "cell_type": "markdown",
   "metadata": {},
   "source": [
    "## Plots from our Results\n",
    "\n",
    "Future versions of `climpred` might have a more advanced plotting method. But since this is built on `xarray`, we can use their native plotting commands. This demo uses `proplot`, an awesome `matplotlib` wrapper (https://github.com/lukelbd/proplot).\n",
    "\n",
    "Here we plot results for global surface SST:\n",
    "\n",
    "1. potential predictability (DPLE vs. FOSI)\n",
    "1. skill (DPLE vs. ERSST)\n",
    "1. uninitialized reference (CESM-LE vs. FOSI)\n",
    "1. persistence forecast (FOSI persistence)"
   ]
  },
  {
   "cell_type": "code",
   "execution_count": 17,
   "metadata": {},
   "outputs": [
    {
     "data": {
      "image/png": "[encoded data removed]",
      "text/plain": [
       "<Figure size 504x144 with 1 Axes>"
      ]
     },
     "metadata": {
      "needs_background": "light"
     },
     "output_type": "display_data"
    }
   ],
   "source": [
    "f, ax = plt.subplots(figsize=(7,2))\n",
    "\n",
    "# Automatically computes pearson_r for the ensemble mean DPLE.\n",
    "skill = dp.compute_metric()\n",
    "persistence = dp.compute_persistence('FOSI')\n",
    "uninit = dp.compute_uninitialized('FOSI')\n",
    "\n",
    "# Show dashed line for reference\n",
    "uninit = xr.concat([uninit]*10, 'lead')\n",
    "uninit['lead'] = persistence['lead']\n",
    "\n",
    "# Plot results\n",
    "p1, = ax.plot(skill['FOSI'].lead, skill['FOSI'].SST,\n",
    "        'o', markersize=7, label='initialized predictability',\n",
    "        color='r')\n",
    "p2, = ax.plot(skill['ERSST'].lead, skill['ERSST'].SST,\n",
    "        'o', markersize=7, label='initialized skill',\n",
    "        color='b')\n",
    "p3, = ax.plot(persistence.lead, persistence.SST,\n",
    "        'o', markersize=7, label='persistence forecast', color='gray')\n",
    "p4, = ax.plot(uninit.lead[0], uninit.SST[0], 'o', markersize=7, color='y',\n",
    "        label='uninitialized forecast')\n",
    "ax.plot(uninit.lead, uninit.SST, '--', color='y', linewidth=1)\n",
    "\n",
    "ax.set(ylim=[-0.5, 1], xlim=[0.5, 10.5],\n",
    "       xlabel='lead year', ylabel='anomaly correlation \\n coefficient',\n",
    "       xticks=np.arange(1, 11))\n",
    "ax.set_title('Detrended Global SST Forecasts', fontsize=12)\n",
    "plt.legend(bbox_to_anchor=(1.05, 1), loc=2, borderaxespad=0.)\n",
    "plt.setp(plt.gca().get_legend().get_texts(), fontsize=10)\n",
    "plt.show()"
   ]
  },
  {
   "cell_type": "markdown",
   "metadata": {},
   "source": [
    "# Perfect Model Ensemble\n",
    "\n",
    "---\n",
    "\n",
    "This is a brief demo for the functionality of a `PerfectModelEnsemble` object. This has limited development thus far and will be expanded in future PRs.\n",
    "\n",
    "Here, I use the MPI Perfect Model decadal prediction ensemble. More details on this can be found in the `perfect-model_predictability` notebook."
   ]
  },
  {
   "cell_type": "code",
   "execution_count": 18,
   "metadata": {
    "ExecuteTime": {
     "end_time": "2019-05-09T17:44:43.316269Z",
     "start_time": "2019-05-09T17:44:41.411707Z"
    }
   },
   "outputs": [],
   "source": [
    "ds = open_dataset('MPI-PM-DP-1D')\n",
    "control = open_dataset('MPI-control-1D')\n",
    "\n",
    "# get working with just one variable.\n",
    "area = 'global'\n",
    "period = 'ym'\n",
    "ds = ds.sel(area=area, period=period)\n",
    "control = control.sel(area=area, period=period)"
   ]
  },
  {
   "cell_type": "markdown",
   "metadata": {},
   "source": [
    "Similar to the `HindcastEnsemble`, you create your `PerfectModelEnsemble` object by adding the prediction model ensemble output. You can then run `add_control()` to add the complementary control run. Here, we add SST ('tos'), SSS ('sos'), and the Atlantic Multidecadal Oscillation index (AMO)."
   ]
  },
  {
   "cell_type": "code",
   "execution_count": 19,
   "metadata": {
    "ExecuteTime": {
     "end_time": "2019-05-09T17:44:43.958884Z",
     "start_time": "2019-05-09T17:44:43.930745Z"
    }
   },
   "outputs": [
    {
     "name": "stdout",
     "output_type": "stream",
     "text": [
      "<climpred.PerfectModelEnsemble>\n",
      "Initialized Ensemble:\n",
      "    tos      (lead, init, member) float32 ...\n",
      "    sos      (lead, init, member) float32 ...\n",
      "    AMO      (lead, init, member) float32 ...\n",
      "Control:\n",
      "    tos      (time) float32 ...\n",
      "    sos      (time) float32 ...\n",
      "    AMO      (time) float32 ...\n",
      "Uninitialized:\n",
      "    None\n"
     ]
    }
   ],
   "source": [
    "pm = cp.PerfectModelEnsemble(ds)\n",
    "pm.add_control(control)\n",
    "print(pm)"
   ]
  },
  {
   "cell_type": "markdown",
   "metadata": {},
   "source": [
    "Just as with the `HindcastEnsemble`, we can compare the initialized prediction ensemble to our control run and compute persistence forecasts for the control run."
   ]
  },
  {
   "cell_type": "code",
   "execution_count": 20,
   "metadata": {
    "ExecuteTime": {
     "end_time": "2019-05-09T17:44:44.641454Z",
     "start_time": "2019-05-09T17:44:44.523404Z"
    }
   },
   "outputs": [
    {
     "name": "stdout",
     "output_type": "stream",
     "text": [
      "<xarray.Dataset>\n",
      "Dimensions:  (lead: 20)\n",
      "Coordinates:\n",
      "    area     <U6 'global'\n",
      "    period   <U2 'ym'\n",
      "  * lead     (lead) int64 1 2 3 4 5 6 7 8 9 10 11 12 13 14 15 16 17 18 19 20\n",
      "Data variables:\n",
      "    tos      (lead) float32 0.8211777 0.5992312 ... 0.02773353 0.089941345\n",
      "    sos      (lead) float32 0.8980022 0.79848033 ... 0.12174402 0.08676403\n",
      "    AMO      (lead) float32 0.6858465 0.51578045 ... 0.08524156 0.09244315\n"
     ]
    }
   ],
   "source": [
    "# The default here is to compute the pearson r correlation with the 'm2e'\n",
    "# comparison flag, which generates a supervector to compare all members to\n",
    "# the ensemble mean.\n",
    "result = pm.compute_metric(comparison='m2e')\n",
    "print(result)"
   ]
  },
  {
   "cell_type": "code",
   "execution_count": 21,
   "metadata": {
    "ExecuteTime": {
     "end_time": "2019-05-09T17:44:46.674133Z",
     "start_time": "2019-05-09T17:44:46.243434Z"
    }
   },
   "outputs": [
    {
     "name": "stdout",
     "output_type": "stream",
     "text": [
      "<xarray.Dataset>\n",
      "Dimensions:  (lead: 20)\n",
      "Coordinates:\n",
      "    period   <U2 'ym'\n",
      "    area     <U6 'global'\n",
      "  * lead     (lead) int64 1 2 3 4 5 6 7 8 9 10 11 12 13 14 15 16 17 18 19 20\n",
      "Data variables:\n",
      "    tos      (lead) float32 0.21984895 0.14496486 ... -0.2252923 -0.3211129\n",
      "    sos      (lead) float32 0.83350956 0.43976524 ... 0.13950764 -0.12547262\n",
      "    AMO      (lead) float32 0.83411205 0.3055103 ... -0.046767987 0.14960702\n"
     ]
    }
   ],
   "source": [
    "# Here, we compute a simple persistence forecast for all variables.\n",
    "persist = pm.compute_persistence()\n",
    "print(persist)"
   ]
  },
  {
   "cell_type": "code",
   "execution_count": 22,
   "metadata": {},
   "outputs": [
    {
     "data": {
      "image/png": "[encoded data removed]",
      "text/plain": [
       "<Figure size 504x144 with 1 Axes>"
      ]
     },
     "metadata": {
      "needs_background": "light"
     },
     "output_type": "display_data"
    }
   ],
   "source": [
    "f, ax = plt.subplots(figsize=(7,2))\n",
    "p1, = ax.plot(result.lead, result.tos, 'o', color='r', markersize=7,\n",
    "        label='initialized forecast')\n",
    "p2, = ax.plot(persist.lead, persist.tos, 'o', color='gray', markersize=7,\n",
    "        label='persistence forecast')\n",
    "ax.set(ylim=[-0.75, 1], xlim=[0.5, 20.5],\n",
    "       ylabel='anomaly correlation \\n coefficient',\n",
    "       xlabel='lead year', xticks=np.arange(1, 21, 2))\n",
    "ax.set_title('Perfect Model SST Forecasts', fontsize=12)\n",
    "plt.legend(bbox_to_anchor=(1.05, 1), loc=2, borderaxespad=0.)\n",
    "plt.setp(plt.gca().get_legend().get_texts(), fontsize=10)\n",
    "plt.show()"
   ]
  },
  {
   "cell_type": "markdown",
   "metadata": {},
   "source": [
    "We can reproduce an exercise from the `perfect model` demo notebook here. Now, we use different comparison methods."
   ]
  },
  {
   "cell_type": "code",
   "execution_count": 23,
   "metadata": {
    "ExecuteTime": {
     "end_time": "2019-05-09T17:44:49.003238Z",
     "start_time": "2019-05-09T17:44:47.827184Z"
    }
   },
   "outputs": [
    {
     "data": {
      "text/plain": [
       "Text(0.5, 1.0, 'Different forecast-reference comparisons for pearson_r\\n lead to systematically different magnitude of skill score')"
      ]
     },
     "execution_count": 23,
     "metadata": {},
     "output_type": "execute_result"
    },
    {
     "data": {
      "image/png": "[encoded data removed]",
      "text/plain": [
       "<Figure size 432x288 with 1 Axes>"
      ]
     },
     "metadata": {
      "needs_background": "light"
     },
     "output_type": "display_data"
    }
   ],
   "source": [
    "var = 'tos'\n",
    "for c in ['e2c', 'm2c', 'm2e', 'm2m']:\n",
    "    pm.compute_metric(comparison=c)[var].plot(label=c)\n",
    "pm.compute_persistence(nlags=20)[var].plot(label='persistence', ls=':')\n",
    "plt.ylabel('ACC')\n",
    "plt.xticks(np.arange(1,21))\n",
    "plt.legend()\n",
    "plt.title('Different forecast-reference comparisons for pearson_r' +\n",
    "          '\\n lead to systematically different magnitude of skill score')"
   ]
  }
 ],
 "metadata": {
  "kernelspec": {
   "display_name": "Python 3",
   "language": "python",
   "name": "python3"
  },
  "language_info": {
   "codemirror_mode": {
    "name": "ipython",
    "version": 3
   },
   "file_extension": ".py",
   "mimetype": "text/x-python",
   "name": "python",
   "nbconvert_exporter": "python",
   "pygments_lexer": "ipython3",
   "version": "3.7.3"
  },
  "toc": {
   "base_numbering": 1,
   "nav_menu": {},
   "number_sections": true,
   "sideBar": true,
   "skip_h1_title": false,
   "title_cell": "Table of Contents",
   "title_sidebar": "Contents",
   "toc_cell": false,
   "toc_position": {},
   "toc_section_display": true,
   "toc_window_display": false
  },
  "varInspector": {
   "cols": {
    "lenName": 16,
    "lenType": 16,
    "lenVar": 40
   },
   "kernels_config": {
    "python": {
     "delete_cmd_postfix": "",
     "delete_cmd_prefix": "del ",
     "library": "var_list.py",
     "varRefreshCmd": "print(var_dic_list())"
    },
    "r": {
     "delete_cmd_postfix": ") ",
     "delete_cmd_prefix": "rm(",
     "library": "var_list.r",
     "varRefreshCmd": "cat(var_dic_list()) "
    }
   },
   "types_to_exclude": [
    "module",
    "function",
    "builtin_function_or_method",
    "instance",
    "_Feature"
   ],
   "window_display": false
  }
 },
 "nbformat": 4,
 "nbformat_minor": 2
}
