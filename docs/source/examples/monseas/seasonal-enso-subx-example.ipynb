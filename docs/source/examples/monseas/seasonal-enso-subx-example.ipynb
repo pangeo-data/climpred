{
 "cells": [
  {
   "cell_type": "markdown",
   "metadata": {},
   "source": [
    "## Calculate Seasonal ENSO Skill"
   ]
  },
  {
   "cell_type": "markdown",
   "metadata": {},
   "source": [
    "### In this example, we demonstrate: \n",
    "1. How to remotely access data from the North American Multi-model Ensemble (NMME) hindcast database and set it up to be used in `climpred`\n",
    "2. How to calculate the Anomaly Correlation Coefficient (ACC) using seasonal data"
   ]
  },
  {
   "cell_type": "markdown",
   "metadata": {},
   "source": [
    "### The North American Multi-model Ensemble (NMME)\n",
    "\n",
    "Further information on NMME is available from [Kirtman et al. 2014](https://journals.ametsoc.org/doi/full/10.1175/BAMS-D-12-00050.1) and the [NMME project website](https://www.cpc.ncep.noaa.gov/products/NMME/)\n",
    "\n",
    "The NMME public database is hosted on the International Research Institute for Climate and Society (IRI) data server http://iridl.ldeo.columbia.edu/SOURCES/.Models/.NMME/"
   ]
  },
  {
   "cell_type": "markdown",
   "metadata": {},
   "source": [
    "### Definitions\n",
    "\n",
    "Anomalies\n",
    ": Departure from normal, where normal is defined as the climatological value based on the average value for each month over all years.\n",
    "\n",
    "Nino3.4\n",
    ": An index used to represent the evolution of the El Nino-Southern Oscillation (ENSO). Calculated as the average sea surface temperature (SST) anomalies in the region 5S-5N; 190-240"
   ]
  },
  {
   "cell_type": "code",
   "execution_count": 1,
   "metadata": {},
   "outputs": [],
   "source": [
    "import warnings\n",
    "\n",
    "import matplotlib.pyplot as plt\n",
    "import xarray as xr\n",
    "import pandas as pd\n",
    "import numpy as np\n",
    "\n",
    "from climpred import HindcastEnsemble\n",
    "import climpred"
   ]
  },
  {
   "cell_type": "code",
   "execution_count": 2,
   "metadata": {},
   "outputs": [],
   "source": [
    "warnings.filterwarnings(\"ignore\")"
   ]
  },
  {
   "cell_type": "code",
   "execution_count": 3,
   "metadata": {},
   "outputs": [],
   "source": [
    "def decode_cf(ds, time_var):\n",
    "    if ds[time_var].attrs['calendar'] == '360':\n",
    "        ds[time_var].attrs['calendar'] = '360_day'\n",
    "    ds = xr.decode_cf(ds, decode_times=True)\n",
    "    return ds"
   ]
  },
  {
   "cell_type": "markdown",
   "metadata": {},
   "source": [
    "Load the monthly sea surface temperature (SST) hindcast data for the NCEP-CFSv2 model from the data server"
   ]
  },
  {
   "cell_type": "code",
   "execution_count": 4,
   "metadata": {},
   "outputs": [
    {
     "data": {
      "text/html": [
       "<pre>&lt;xarray.Dataset&gt;\n",
       "Dimensions:  (L: 10, M: 24, S: 348, X: 360, Y: 181)\n",
       "Coordinates:\n",
       "  * S        (S) object 1982-01-01 00:00:00 ... 2010-12-01 00:00:00\n",
       "  * M        (M) float32 1.0 2.0 3.0 4.0 5.0 6.0 ... 20.0 21.0 22.0 23.0 24.0\n",
       "  * X        (X) float32 0.0 1.0 2.0 3.0 4.0 ... 355.0 356.0 357.0 358.0 359.0\n",
       "  * L        (L) float32 0.5 1.5 2.5 3.5 4.5 5.5 6.5 7.5 8.5 9.5\n",
       "  * Y        (Y) float32 -90.0 -89.0 -88.0 -87.0 -86.0 ... 87.0 88.0 89.0 90.0\n",
       "Data variables:\n",
       "    sst      (S, L, M, Y, X) float32 dask.array&lt;chunksize=(1, 10, 24, 181, 360), meta=np.ndarray&gt;\n",
       "Attributes:\n",
       "    Conventions:  IRIDL</pre>"
      ],
      "text/plain": [
       "<xarray.Dataset>\n",
       "Dimensions:  (L: 10, M: 24, S: 348, X: 360, Y: 181)\n",
       "Coordinates:\n",
       "  * S        (S) object 1982-01-01 00:00:00 ... 2010-12-01 00:00:00\n",
       "  * M        (M) float32 1.0 2.0 3.0 4.0 5.0 6.0 ... 20.0 21.0 22.0 23.0 24.0\n",
       "  * X        (X) float32 0.0 1.0 2.0 3.0 4.0 ... 355.0 356.0 357.0 358.0 359.0\n",
       "  * L        (L) float32 0.5 1.5 2.5 3.5 4.5 5.5 6.5 7.5 8.5 9.5\n",
       "  * Y        (Y) float32 -90.0 -89.0 -88.0 -87.0 -86.0 ... 87.0 88.0 89.0 90.0\n",
       "Data variables:\n",
       "    sst      (S, L, M, Y, X) float32 dask.array<chunksize=(1, 10, 24, 181, 360), meta=np.ndarray>\n",
       "Attributes:\n",
       "    Conventions:  IRIDL"
      ]
     },
     "execution_count": 4,
     "metadata": {},
     "output_type": "execute_result"
    }
   ],
   "source": [
    "# Get NMME data for NCEP-CFSv2, SST\n",
    "url = 'http://iridl.ldeo.columbia.edu/SOURCES/.Models/.NMME/NCEP-CFSv2/.HINDCAST/.MONTHLY/.sst/dods'\n",
    "fcstds = decode_cf(xr.open_dataset(url, decode_times=False, chunks={'S': 1, 'L': 12}), 'S')\n",
    "fcstds"
   ]
  },
  {
   "cell_type": "markdown",
   "metadata": {},
   "source": [
    "The NMME data dimensions correspond to the following `climpred` dimension definitions: `X=lon`,`L=lead`,`Y=lat`,`M=member`, `S=init`.  We will rename the dimensions to their `climpred` names."
   ]
  },
  {
   "cell_type": "code",
   "execution_count": 5,
   "metadata": {},
   "outputs": [],
   "source": [
    "fcstds=fcstds.rename({'S': 'init','L': 'lead','M': 'member', 'X': 'lon', 'Y': 'lat'})"
   ]
  },
  {
   "cell_type": "markdown",
   "metadata": {},
   "source": [
    "Let's make sure that the `lead` dimension is set properly for `climpred`.  NMME data stores `leads` as 0.5, 1.5, 2.5, etc, which correspond to 0, 1, 2, ... months since initialization. We will change the `lead` to be integers starting with zero."
   ]
  },
  {
   "cell_type": "code",
   "execution_count": 6,
   "metadata": {},
   "outputs": [],
   "source": [
    "fcstds['lead']=(fcstds['lead']-0.5).astype('int')"
   ]
  },
  {
   "cell_type": "markdown",
   "metadata": {},
   "source": [
    "Now we need to make sure that the `init` dimension is set properly for `climpred`.  For monthly data, the `init` dimension must be a `xr.cfdateTimeIndex` or a `pd.datetimeIndex`.  We convert the `init` values to `pd.datatimeIndex`."
   ]
  },
  {
   "cell_type": "code",
   "execution_count": 7,
   "metadata": {},
   "outputs": [],
   "source": [
    "fcstds['init']=pd.to_datetime(fcstds.init.values.astype(str))\n",
    "fcstds['init']=pd.to_datetime(fcstds['init'].dt.strftime('%Y%m01 00:00'))"
   ]
  },
  {
   "cell_type": "markdown",
   "metadata": {},
   "source": [
    "Next, we want to get the verification SST data from the data server"
   ]
  },
  {
   "cell_type": "code",
   "execution_count": 8,
   "metadata": {},
   "outputs": [
    {
     "data": {
      "text/html": [
       "<pre>&lt;xarray.Dataset&gt;\n",
       "Dimensions:  (T: 405, X: 360, Y: 181)\n",
       "Coordinates:\n",
       "  * Y        (Y) float32 -90.0 -89.0 -88.0 -87.0 -86.0 ... 87.0 88.0 89.0 90.0\n",
       "  * X        (X) float32 0.0 1.0 2.0 3.0 4.0 ... 355.0 356.0 357.0 358.0 359.0\n",
       "  * T        (T) object 1982-01-16 00:00:00 ... 2015-09-16 00:00:00\n",
       "Data variables:\n",
       "    sst      (T, Y, X) float32 ...\n",
       "Attributes:\n",
       "    Conventions:  IRIDL</pre>"
      ],
      "text/plain": [
       "<xarray.Dataset>\n",
       "Dimensions:  (T: 405, X: 360, Y: 181)\n",
       "Coordinates:\n",
       "  * Y        (Y) float32 -90.0 -89.0 -88.0 -87.0 -86.0 ... 87.0 88.0 89.0 90.0\n",
       "  * X        (X) float32 0.0 1.0 2.0 3.0 4.0 ... 355.0 356.0 357.0 358.0 359.0\n",
       "  * T        (T) object 1982-01-16 00:00:00 ... 2015-09-16 00:00:00\n",
       "Data variables:\n",
       "    sst      (T, Y, X) float32 ...\n",
       "Attributes:\n",
       "    Conventions:  IRIDL"
      ]
     },
     "execution_count": 8,
     "metadata": {},
     "output_type": "execute_result"
    }
   ],
   "source": [
    "obsurl='http://iridl.ldeo.columbia.edu/SOURCES/.Models/.NMME/.OIv2_SST/.sst/dods'\n",
    "verifds = decode_cf(xr.open_dataset(obsurl, decode_times=False),'T')\n",
    "verifds"
   ]
  },
  {
   "cell_type": "markdown",
   "metadata": {},
   "source": [
    "Rename the dimensions to correspond to `climpred` dimensions"
   ]
  },
  {
   "cell_type": "code",
   "execution_count": 9,
   "metadata": {},
   "outputs": [],
   "source": [
    "verifds=verifds.rename({'T': 'time','X': 'lon', 'Y': 'lat'})"
   ]
  },
  {
   "cell_type": "markdown",
   "metadata": {},
   "source": [
    "Convert the `time` data to be of type `pd.datetimeIndex`"
   ]
  },
  {
   "cell_type": "code",
   "execution_count": 10,
   "metadata": {},
   "outputs": [
    {
     "data": {
      "text/html": [
       "<pre>&lt;xarray.Dataset&gt;\n",
       "Dimensions:  (lat: 181, lon: 360, time: 405)\n",
       "Coordinates:\n",
       "  * lat      (lat) float32 -90.0 -89.0 -88.0 -87.0 -86.0 ... 87.0 88.0 89.0 90.0\n",
       "  * lon      (lon) float32 0.0 1.0 2.0 3.0 4.0 ... 355.0 356.0 357.0 358.0 359.0\n",
       "  * time     (time) datetime64[ns] 1982-01-01 1982-02-01 ... 2015-09-01\n",
       "Data variables:\n",
       "    sst      (time, lat, lon) float32 ...\n",
       "Attributes:\n",
       "    Conventions:  IRIDL</pre>"
      ],
      "text/plain": [
       "<xarray.Dataset>\n",
       "Dimensions:  (lat: 181, lon: 360, time: 405)\n",
       "Coordinates:\n",
       "  * lat      (lat) float32 -90.0 -89.0 -88.0 -87.0 -86.0 ... 87.0 88.0 89.0 90.0\n",
       "  * lon      (lon) float32 0.0 1.0 2.0 3.0 4.0 ... 355.0 356.0 357.0 358.0 359.0\n",
       "  * time     (time) datetime64[ns] 1982-01-01 1982-02-01 ... 2015-09-01\n",
       "Data variables:\n",
       "    sst      (time, lat, lon) float32 ...\n",
       "Attributes:\n",
       "    Conventions:  IRIDL"
      ]
     },
     "execution_count": 10,
     "metadata": {},
     "output_type": "execute_result"
    }
   ],
   "source": [
    "verifds['time']=pd.to_datetime(verifds.time.values.astype(str))\n",
    "verifds['time']=pd.to_datetime(verifds['time'].dt.strftime('%Y%m01 00:00'))\n",
    "verifds"
   ]
  },
  {
   "cell_type": "markdown",
   "metadata": {},
   "source": [
    "Subset the data to 1982-2010"
   ]
  },
  {
   "cell_type": "code",
   "execution_count": 11,
   "metadata": {},
   "outputs": [],
   "source": [
    "verifds=verifds.sel(time=slice('1982-01-01','2010-12-01'))\n",
    "fcstds=fcstds.sel(init=slice('1982-01-01','2010-12-01'))"
   ]
  },
  {
   "cell_type": "markdown",
   "metadata": {},
   "source": [
    "Calculate the Nino3.4 index for forecast and verification"
   ]
  },
  {
   "cell_type": "code",
   "execution_count": 12,
   "metadata": {},
   "outputs": [
    {
     "name": "stdout",
     "output_type": "stream",
     "text": [
      "<xarray.Dataset>\n",
      "Dimensions:  (init: 348, lead: 10, member: 24)\n",
      "Coordinates:\n",
      "  * member   (member) float32 1.0 2.0 3.0 4.0 5.0 ... 20.0 21.0 22.0 23.0 24.0\n",
      "  * lead     (lead) int64 0 1 2 3 4 5 6 7 8 9\n",
      "  * init     (init) datetime64[ns] 1982-01-01 1982-02-01 ... 2010-12-01\n",
      "    month    (init) int64 1 2 3 4 5 6 7 8 9 10 11 ... 2 3 4 5 6 7 8 9 10 11 12\n",
      "Data variables:\n",
      "    sst      (init, lead, member) float32 dask.array<chunksize=(1, 10, 24), meta=np.ndarray>\n",
      "<xarray.Dataset>\n",
      "Dimensions:  (time: 348)\n",
      "Coordinates:\n",
      "  * time     (time) datetime64[ns] 1982-01-01 1982-02-01 ... 2010-12-01\n",
      "    month    (time) int64 1 2 3 4 5 6 7 8 9 10 11 ... 2 3 4 5 6 7 8 9 10 11 12\n",
      "Data variables:\n",
      "    sst      (time) float32 0.14492226 -0.044160843 ... -1.5685654 -1.6083965\n"
     ]
    }
   ],
   "source": [
    "fcstnino34=fcstds.sel(lat=slice(-5,5),lon=slice(190,240)).mean(['lat','lon'])\n",
    "verifnino34=verifds.sel(lat=slice(-5,5),lon=slice(190,240)).mean(['lat','lon'])\n",
    "\n",
    "fcstclimo = fcstnino34.groupby('init.month').mean('init')\n",
    "fcstanoms = (fcstnino34.groupby('init.month') - fcstclimo)\n",
    "\n",
    "verifclimo = verifnino34.groupby('time.month').mean('time')\n",
    "verifanoms = (verifnino34.groupby('time.month') - verifclimo)\n",
    "\n",
    "print(fcstanoms)\n",
    "print(verifanoms)"
   ]
  },
  {
   "cell_type": "markdown",
   "metadata": {},
   "source": [
    "Make Seasonal Averages with center=True and drop NaNs.  This means that the first value "
   ]
  },
  {
   "cell_type": "code",
   "execution_count": 13,
   "metadata": {},
   "outputs": [],
   "source": [
    "fcstnino34seas=fcstanoms.rolling(lead=3, center=True).mean().dropna(dim='lead')\n",
    "verifnino34seas=verifanoms.rolling(time=3, center=True).mean().dropna(dim='time')"
   ]
  },
  {
   "cell_type": "markdown",
   "metadata": {},
   "source": [
    "Create new `xr.DataArray` with seasonal data"
   ]
  },
  {
   "cell_type": "code",
   "execution_count": 14,
   "metadata": {},
   "outputs": [],
   "source": [
    "nleads=fcstnino34seas['lead'][::3].size\n",
    "fcst=xr.DataArray(fcstnino34seas['sst'][:,::3,:], \n",
    "                           coords={'init' : fcstnino34seas['init'],\n",
    "                                   'lead': np.arange(0,nleads),\n",
    "                                   'member': fcstanoms['member'],\n",
    "                                   },\n",
    "                           dims=['init','lead','member'])\n",
    "fcst.name = 'sst'"
   ]
  },
  {
   "cell_type": "markdown",
   "metadata": {},
   "source": [
    "Assign the `units` attribute of `seasons` to the `lead` dimension"
   ]
  },
  {
   "cell_type": "code",
   "execution_count": 15,
   "metadata": {},
   "outputs": [],
   "source": [
    "fcst['lead'].attrs={'units': 'seasons'}"
   ]
  },
  {
   "cell_type": "markdown",
   "metadata": {},
   "source": [
    "Create a `climpred HindcastEnsemble` object"
   ]
  },
  {
   "cell_type": "code",
   "execution_count": 16,
   "metadata": {},
   "outputs": [],
   "source": [
    "hindcast = HindcastEnsemble(fcst)\n",
    "hindcast = hindcast.add_reference(verifnino34seas, 'observations')"
   ]
  },
  {
   "cell_type": "markdown",
   "metadata": {},
   "source": [
    "Compute the Anomaly Correlation Coefficient (ACC) 0, 1, 2, and 3 season lead-times"
   ]
  },
  {
   "cell_type": "code",
   "execution_count": 17,
   "metadata": {},
   "outputs": [
    {
     "name": "stdout",
     "output_type": "stream",
     "text": [
      "<xarray.Dataset>\n",
      "Dimensions:  (lead: 3)\n",
      "Coordinates:\n",
      "  * lead     (lead) int64 0 1 2\n",
      "Data variables:\n",
      "    sst      (lead) float64 0.78 0.76 0.6575\n",
      "Attributes:\n",
      "    prediction_skill:              calculated by climpred https://climpred.re...\n",
      "    skill_calculated_by_function:  compute_hindcast\n",
      "    number_of_initializations:     348\n",
      "    number_of_members:             24\n",
      "    metric:                        pearson_r\n",
      "    comparison:                    e2r\n",
      "    units:                         None\n",
      "    created:                       2020-01-03 11:17:38\n"
     ]
    }
   ],
   "source": [
    "skillds = hindcast.compute_metric(metric='acc')\n",
    "print(skillds)"
   ]
  },
  {
   "cell_type": "markdown",
   "metadata": {},
   "source": [
    "Make bar plot of Nino3.4 skill for 0,1, and 2 season lead times"
   ]
  },
  {
   "cell_type": "code",
   "execution_count": 18,
   "metadata": {},
   "outputs": [
    {
     "data": {
      "text/plain": [
       "Text(0, 0.5, 'ACC')"
      ]
     },
     "execution_count": 18,
     "metadata": {},
     "output_type": "execute_result"
    },
    {
     "data": {
      "image/png": "[encoded data removed]",
      "text/plain": [
       "<Figure size 432x288 with 1 Axes>"
      ]
     },
     "metadata": {
      "needs_background": "light"
     },
     "output_type": "display_data"
    }
   ],
   "source": [
    "x=np.arange(0,nleads,1.0).astype(int)\n",
    "plt.bar(x,skillds['sst'])\n",
    "plt.xticks(x)\n",
    "plt.title('NCEP-CFSv2 Nino34 ACC')\n",
    "plt.xlabel('Lead (Season)')\n",
    "plt.ylabel('ACC')"
   ]
  },
  {
   "cell_type": "markdown",
   "metadata": {},
   "source": [
    "### References\n",
    "\n",
    "1. Kirtman, B.P., D. Min, J.M. Infanti, J.L. Kinter, D.A. Paolino, Q. Zhang, H. van den Dool, S. Saha, M.P. Mendez, E. Becker, P. Peng, P. Tripp, J. Huang, D.G. DeWitt, M.K. Tippett, A.G. Barnston, S. Li, A. Rosati, S.D. Schubert, M. Rienecker, M. Suarez, Z.E. Li, J. Marshak, Y. Lim, J. Tribbia, K. Pegion, W.J. Merryfield, B. Denis, and E.F. Wood, 2014: The North American Multimodel Ensemble: Phase-1 Seasonal-to-Interannual Prediction; Phase-2 toward Developing Intraseasonal Prediction. Bull. Amer. Meteor. Soc., 95, 585–601, https://doi.org/10.1175/BAMS-D-12-00050.1"
   ]
  }
 ],
 "metadata": {
  "kernelspec": {
   "display_name": "climpred-dev",
   "language": "python",
   "name": "climpred-dev"
  },
  "language_info": {
   "codemirror_mode": {
    "name": "ipython",
    "version": 3
   },
   "file_extension": ".py",
   "mimetype": "text/x-python",
   "name": "python",
   "nbconvert_exporter": "python",
   "pygments_lexer": "ipython3",
   "version": "3.6.7"
  }
 },
 "nbformat": 4,
 "nbformat_minor": 4
}
