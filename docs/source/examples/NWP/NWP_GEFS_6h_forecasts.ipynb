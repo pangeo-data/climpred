{
 "cells": [
  {
   "cell_type": "code",
   "execution_count": null,
   "id": "jewish-library",
   "metadata": {},
   "outputs": [],
   "source": [
    "#!conda install intake fsspec intake-xarray intake-thredds -c conda-forge -y"
   ]
  },
  {
   "cell_type": "code",
   "execution_count": 25,
   "id": "whole-hygiene",
   "metadata": {},
   "outputs": [],
   "source": [
    "#!conda install eccodes cfgrib -c conda-forge -y"
   ]
  },
  {
   "cell_type": "markdown",
   "id": "scenic-recommendation",
   "metadata": {},
   "source": [
    "# GEFS 6h forecasts"
   ]
  },
  {
   "cell_type": "code",
   "execution_count": 1,
   "id": "positive-chamber",
   "metadata": {},
   "outputs": [
    {
     "name": "stdout",
     "output_type": "stream",
     "text": [
      "Warning: ecCodes 2.21.0 or higher is recommended. You are running version 2.20.0\n"
     ]
    }
   ],
   "source": [
    "import fsspec\n",
    "import intake\n",
    "# specify caching location, where to store files to with their original names\n",
    "fsspec.config.conf['simplecache'] = {'cache_storage': '../my_caching_folder', 'same_names': True}\n",
    "import numpy as np\n",
    "import intake_xarray\n",
    "import xarray as xr\n",
    "import climpred"
   ]
  },
  {
   "cell_type": "markdown",
   "id": "active-shadow",
   "metadata": {},
   "source": [
    "## Find the data"
   ]
  },
  {
   "cell_type": "markdown",
   "id": "liquid-manhattan",
   "metadata": {},
   "source": [
    "GEFS output can be found on a `THREDDS` server: https://www.ncei.noaa.gov/thredds/catalog/model-gefs-003/202008/20200831/catalog.html\n",
    "\n",
    "Here, we use `intake-thredds` to access the files and cache them with `fsspec`. However, you can also download the files manually, e.g. with `wget`.\n",
    "- https://intake.readthedocs.io/en/latest/\n",
    "- https://intake-thredds.readthedocs.io/en/latest/\n",
    "- https://filesystem-spec.readthedocs.io/en/latest/"
   ]
  },
  {
   "cell_type": "code",
   "execution_count": 36,
   "id": "dress-damages",
   "metadata": {},
   "outputs": [
    {
     "name": "stderr",
     "output_type": "stream",
     "text": [
      "/Users/aaron.spring/anaconda3/envs/climpred-dev/lib/python3.8/site-packages/siphon/catalog.py:292: UserWarning: URL https://www.ncei.noaa.gov/thredds/catalog/model-gefs-003/202008/20200831/catalog.html returned HTML. Changing to: https://www.ncei.noaa.gov/thredds/catalog/model-gefs-003/202008/20200831/catalog.xml\n",
      "  warnings.warn('URL {} returned HTML. Changing to: {}'.format(self.catalog_url,\n"
     ]
    },
    {
     "data": {
      "application/yaml": "name:\n  args:\n    name: name\n    url: https://www.ncei.noaa.gov/thredds/catalog/model-gefs-003/202008/20200831/catalog.html\n  description: ''\n  driver: intake_thredds.cat.ThreddsCatalog\n  metadata:\n    authority:\n    - gov.noaa.ncdc\n    contributor:\n      Scientific Contact:\n      - Zoltar Toth\n      Technical Contact:\n      - Yuejian Zhu\n    creator:\n    - {}\n    dataType: GRID\n    date:\n    - type: created\n      value: '2007-03-27'\n    - type: issued\n      value: '2007-10-01'\n    documentation:\n      abstract:\n      - The Global Ensemble Forecast System (GEFS) is a weather forecast model made\n        up of 21 separate forecasts, or ensemble members. The National Centers for\n        Environmental Prediction (NCEP) started the GEFS to address the nature of\n        uncertainty in weather observations, which are used to initialize weather\n        forecast models. The proverbial butterfly flapping her wings can have a cascading\n        effect leading to wind gusts thousands of miles away. This extreme example\n        illustrates that tiny, unnoticeable differences between reality and what is\n        actually measured can, over time, lead to noticeable differences between what\n        a weather model forecast predicts and reality itself. The GEFS attempts to\n        quantify the amount of uncertainty in a forecast by generating an ensemble\n        of multiple forecasts, each minutely different, or perturbed, from the original\n        observations. With global coverage, GEFS is produced four times a day with\n        weather forecasts going out to 16 days and a 6 hour temporal resolution.\n      comment:\n      - Quantify the amount of uncertainty in mesoscale guidance by generating an\n        ensemble of multiple forecasts, each minutely different, or perturbed, from\n        the original observations.\n      format:\n      - GRIB 2\n      funding:\n      - DOC/NOAA/NWS/NCEP/EMC > Environmental Modeling Center, National Centers for\n        Environmental Prediction, National Weather Service, NOAA, U.S. Department\n        of Commerce\n      rights:\n      - Electronic downloads of the data are free, however fees apply for data certification\n        and distribution of the data on physical media. Fees vary based on order specifications.\n      summary:\n      - The Global Ensemble Forecast System (GEFS) is a weather forecast model made\n        up of 21 separate forecasts, or ensemble members. The National Centers for\n        Environmental Prediction (NCEP) started the GEFS to address the nature of\n        uncertainty in weather observations, which are used to initialize weather\n        forecast models. The proverbial butterfly flapping her wings can have a cascading\n        effect leading to wind gusts thousands of miles away. This extreme example\n        illustrates that tiny, unnoticeable differences between reality and what is\n        actually measured can, over time, lead to noticeable differences between what\n        a weather model forecast predicts and reality itself. The GEFS attempts to\n        quantify the amount of uncertainty in a forecast by generating an ensemble\n        of multiple forecasts, each minutely different, or perturbed, from the original\n        observations. With global coverage, GEFS is produced four times a day with\n        weather forecasts going out to 16 days and a 6 hour temporal resolution. This\n        dataset has 1.0 degree horizontal resolution.\n      xlink:\n      - href: http://www.nco.ncep.noaa.gov/pmb/docs/grib2/\n        title: Format Specification\n      - href: http://www.emc.ncep.noaa.gov/gmb/ens/ens_info.html\n        title: Reference Papers\n    external_metadata:\n      ISO 19115-2:2009(E) - Collection Level Metadata: http://gis.ncdc.noaa.gov/geoportal/rest/document?id=%7B643C822F-67BC-4357-B280-C9A8821B91D3%7D\n    geospatialCoverage:\n    - {}\n    inherited: true\n    keyword:\n    - name: \"GOVERNMENT AGENCIES-U.S. FEDERAL AGENCIES, DOC, NOAA, DOC/NOAA/NESDIS/NCEI,\\\n        \\ \\n\\t  National Centers for Environmental Information, NESDIS, U.S. Department\\\n        \\ of Commerce, \\n\\t  EARTH SCIENCE SERVICES, MODELS, EARTH SCIENCE REANALYSES/ASSIMILATION\\\n        \\ MODELS\"\n      vocabulary: GCMD\n    project:\n    - name: Global Ensemble Forecast System (GEFS)\n    publisher:\n    - {}\n    serviceName: ALL\n    timeCoverage:\n    - {}\n",
      "text/plain": [
       "name:\n",
       "  args:\n",
       "    name: name\n",
       "    url: https://www.ncei.noaa.gov/thredds/catalog/model-gefs-003/202008/20200831/catalog.html\n",
       "  description: ''\n",
       "  driver: intake_thredds.cat.ThreddsCatalog\n",
       "  metadata:\n",
       "    authority:\n",
       "    - gov.noaa.ncdc\n",
       "    contributor:\n",
       "      Scientific Contact:\n",
       "      - Zoltar Toth\n",
       "      Technical Contact:\n",
       "      - Yuejian Zhu\n",
       "    creator:\n",
       "    - {}\n",
       "    dataType: GRID\n",
       "    date:\n",
       "    - type: created\n",
       "      value: '2007-03-27'\n",
       "    - type: issued\n",
       "      value: '2007-10-01'\n",
       "    documentation:\n",
       "      abstract:\n",
       "      - The Global Ensemble Forecast System (GEFS) is a weather forecast model made\n",
       "        up of 21 separate forecasts, or ensemble members. The National Centers for\n",
       "        Environmental Prediction (NCEP) started the GEFS to address the nature of\n",
       "        uncertainty in weather observations, which are used to initialize weather\n",
       "        forecast models. The proverbial butterfly flapping her wings can have a cascading\n",
       "        effect leading to wind gusts thousands of miles away. This extreme example\n",
       "        illustrates that tiny, unnoticeable differences between reality and what is\n",
       "        actually measured can, over time, lead to noticeable differences between what\n",
       "        a weather model forecast predicts and reality itself. The GEFS attempts to\n",
       "        quantify the amount of uncertainty in a forecast by generating an ensemble\n",
       "        of multiple forecasts, each minutely different, or perturbed, from the original\n",
       "        observations. With global coverage, GEFS is produced four times a day with\n",
       "        weather forecasts going out to 16 days and a 6 hour temporal resolution.\n",
       "      comment:\n",
       "      - Quantify the amount of uncertainty in mesoscale guidance by generating an\n",
       "        ensemble of multiple forecasts, each minutely different, or perturbed, from\n",
       "        the original observations.\n",
       "      format:\n",
       "      - GRIB 2\n",
       "      funding:\n",
       "      - DOC/NOAA/NWS/NCEP/EMC > Environmental Modeling Center, National Centers for\n",
       "        Environmental Prediction, National Weather Service, NOAA, U.S. Department\n",
       "        of Commerce\n",
       "      rights:\n",
       "      - Electronic downloads of the data are free, however fees apply for data certification\n",
       "        and distribution of the data on physical media. Fees vary based on order specifications.\n",
       "      summary:\n",
       "      - The Global Ensemble Forecast System (GEFS) is a weather forecast model made\n",
       "        up of 21 separate forecasts, or ensemble members. The National Centers for\n",
       "        Environmental Prediction (NCEP) started the GEFS to address the nature of\n",
       "        uncertainty in weather observations, which are used to initialize weather\n",
       "        forecast models. The proverbial butterfly flapping her wings can have a cascading\n",
       "        effect leading to wind gusts thousands of miles away. This extreme example\n",
       "        illustrates that tiny, unnoticeable differences between reality and what is\n",
       "        actually measured can, over time, lead to noticeable differences between what\n",
       "        a weather model forecast predicts and reality itself. The GEFS attempts to\n",
       "        quantify the amount of uncertainty in a forecast by generating an ensemble\n",
       "        of multiple forecasts, each minutely different, or perturbed, from the original\n",
       "        observations. With global coverage, GEFS is produced four times a day with\n",
       "        weather forecasts going out to 16 days and a 6 hour temporal resolution. This\n",
       "        dataset has 1.0 degree horizontal resolution.\n",
       "      xlink:\n",
       "      - href: http://www.nco.ncep.noaa.gov/pmb/docs/grib2/\n",
       "        title: Format Specification\n",
       "      - href: http://www.emc.ncep.noaa.gov/gmb/ens/ens_info.html\n",
       "        title: Reference Papers\n",
       "    external_metadata:\n",
       "      ISO 19115-2:2009(E) - Collection Level Metadata: http://gis.ncdc.noaa.gov/geoportal/rest/document?id=%7B643C822F-67BC-4357-B280-C9A8821B91D3%7D\n",
       "    geospatialCoverage:\n",
       "    - {}\n",
       "    inherited: true\n",
       "    keyword:\n",
       "    - name: \"GOVERNMENT AGENCIES-U.S. FEDERAL AGENCIES, DOC, NOAA, DOC/NOAA/NESDIS/NCEI,\\\n",
       "        \\ \\n\\t  National Centers for Environmental Information, NESDIS, U.S. Department\\\n",
       "        \\ of Commerce, \\n\\t  EARTH SCIENCE SERVICES, MODELS, EARTH SCIENCE REANALYSES/ASSIMILATION\\\n",
       "        \\ MODELS\"\n",
       "      vocabulary: GCMD\n",
       "    project:\n",
       "    - name: Global Ensemble Forecast System (GEFS)\n",
       "    publisher:\n",
       "    - {}\n",
       "    serviceName: ALL\n",
       "    timeCoverage:\n",
       "    - {}\n"
      ]
     },
     "metadata": {
      "application/json": {
       "root": "name"
      }
     },
     "output_type": "display_data"
    }
   ],
   "source": [
    "# all the metadata about GEFS\n",
    "cat = intake.open_thredds_cat('https://www.ncei.noaa.gov/thredds/catalog/model-gefs-003/202008/20200831/catalog.html', name='name')\n",
    "cat"
   ]
  },
  {
   "cell_type": "markdown",
   "id": "black-copying",
   "metadata": {},
   "source": [
    "Needs to specify `filer_by_keys` for `grib` files:\n",
    "\n",
    "DatasetBuildError: multiple values for unique key, try re-open the file with one of:\n",
    "-    filter_by_keys={'typeOfLevel': 'isobaricInhPa'}\n",
    "-    filter_by_keys={'typeOfLevel': 'surface'}\n",
    "-    filter_by_keys={'typeOfLevel': 'depthBelowLandLayer'}\n",
    "-    filter_by_keys={'typeOfLevel': 'heightAboveGround'}\n",
    "-    filter_by_keys={'typeOfLevel': 'atmosphereSingleLayer'}\n",
    "-    filter_by_keys={'typeOfLevel': 'atmosphere'}\n",
    "-    filter_by_keys={'typeOfLevel': 'nominalTop'}\n",
    "-    filter_by_keys={'typeOfLevel': 'pressureFromGroundLayer'}\n",
    "-    filter_by_keys={'typeOfLevel': 'meanSea'}"
   ]
  },
  {
   "cell_type": "code",
   "execution_count": 35,
   "id": "missing-collapse",
   "metadata": {},
   "outputs": [],
   "source": [
    "import cfgrib\n",
    "\n",
    "# https://github.com/ecmwf/cfgrib/issues/170\n",
    "intake_xarray.NetCDFSource('simplecache::https://www.ncei.noaa.gov/thredds/fileServer/model-gefs-003/202008/20200831/gens-a_3_20200831_1800_000_20.grb2',\n",
    "                               xarray_kwargs=dict(engine='cfgrib', backend_kwargs=dict(filter_by_keys={'typeOfLevel': 'heightAboveGround', 'shortName':'2t'})),\n",
    "    ).to_dask().t2m.plot()"
   ]
  },
  {
   "cell_type": "markdown",
   "id": "alert-logistics",
   "metadata": {},
   "source": [
    "# Download the data"
   ]
  },
  {
   "cell_type": "code",
   "execution_count": 40,
   "id": "ordinary-level",
   "metadata": {},
   "outputs": [],
   "source": [
    "inits = [0,6,12,18] # four initial dates from that one day\n",
    "members = range(3) # 3 members out of 20\n",
    "leads = np.arange(0, 6 * 4 * 2 + 1, 6) # 6h lead forecasts, 8 leads"
   ]
  },
  {
   "cell_type": "code",
   "execution_count": null,
   "id": "continental-diagnosis",
   "metadata": {},
   "outputs": [],
   "source": [
    "%%time\n",
    "for init in inits:\n",
    "    for lead in leads:\n",
    "        for member in members:\n",
    "            try:\n",
    "                #print(f'init ={init}, lead ={lead}, member ={member}')\n",
    "                intake_xarray.NetCDFSource(f'simplecache::https://www.ncei.noaa.gov/thredds/fileServer/model-gefs-003/202008/20200831/gens-a_3_20200831_{str(init).zfill(2)}00_{str(lead).zfill(3)}_{str(member).zfill(2)}.grb2',\n",
    "                                           xarray_kwargs=dict(engine='cfgrib', backend_kwargs=dict(filter_by_keys={'typeOfLevel': 'heightAboveGround', 'shortName':'2t'})),\n",
    "                ).to_dask()\n",
    "            except Exception as e:\n",
    "                print('failed',type(e).__name__,e)"
   ]
  },
  {
   "cell_type": "code",
   "execution_count": 134,
   "id": "contemporary-gardening",
   "metadata": {},
   "outputs": [
    {
     "data": {
      "text/plain": [
       "Coordinates:\n",
       "    number             (member) int64 0 1 2\n",
       "  * time               (time) datetime64[ns] 2020-08-31 ... 2020-08-31T18:00:00\n",
       "  * step               (step) timedelta64[ns] 0 days 00:00:00 ... 2 days 00:0...\n",
       "    heightAboveGround  float64 2.0\n",
       "  * latitude           (latitude) float64 90.0 89.0 88.0 ... -88.0 -89.0 -90.0\n",
       "  * longitude          (longitude) float64 0.0 1.0 2.0 3.0 ... 357.0 358.0 359.0\n",
       "    valid_time         (time, step) datetime64[ns] 2020-08-31 ... 2020-09-02T..."
      ]
     },
     "execution_count": 134,
     "metadata": {},
     "output_type": "execute_result"
    }
   ],
   "source": [
    "init = xr.concat(\n",
    "    [xr.concat(\n",
    "    [xr.open_mfdataset(f'../my_caching_folder/gens-a_3_20200831_{str(time).zfill(2)}00_{str(lead).zfill(3)}_*.grb2',\n",
    "                       concat_dim='member', combine='nested',\n",
    "                 engine='cfgrib', backend_kwargs=dict(filter_by_keys={'typeOfLevel': 'heightAboveGround', 'shortName':'2t'})) for lead in leads],\n",
    "                          dim='step') for time in inits],\n",
    "               dim='time')\n",
    "init.coords"
   ]
  },
  {
   "cell_type": "code",
   "execution_count": 137,
   "id": "generous-diversity",
   "metadata": {},
   "outputs": [],
   "source": [
    "# save time when reproducing\n",
    "init = init.compute()\n",
    "init.to_netcdf('tmp_GEFS_a.nc')"
   ]
  },
  {
   "cell_type": "code",
   "execution_count": 138,
   "id": "western-pearl",
   "metadata": {},
   "outputs": [],
   "source": [
    "init = xr.open_dataset('tmp_GEFS_a.nc')"
   ]
  },
  {
   "cell_type": "code",
   "execution_count": 139,
   "id": "olive-escape",
   "metadata": {},
   "outputs": [],
   "source": [
    "# rename to climpred dims\n",
    "init = init.rename({'step':'lead','number':'member','time':'init'}) #.drop('valid_time')"
   ]
  },
  {
   "cell_type": "code",
   "execution_count": 140,
   "id": "cooperative-company",
   "metadata": {},
   "outputs": [],
   "source": [
    "# set climpred lead units\n",
    "init['lead']=np.arange(0,6*init.lead.size,6)\n",
    "init.lead.attrs['units']='hours'"
   ]
  },
  {
   "cell_type": "markdown",
   "id": "adjacent-jimmy",
   "metadata": {},
   "source": [
    "## Hindcast"
   ]
  },
  {
   "cell_type": "code",
   "execution_count": 141,
   "id": "forty-stream",
   "metadata": {},
   "outputs": [],
   "source": [
    "# need temperature for 20200831 00:00 + 48h"
   ]
  },
  {
   "cell_type": "code",
   "execution_count": 105,
   "id": "peripheral-argentina",
   "metadata": {},
   "outputs": [],
   "source": [
    "!pip install climetlab --quiet"
   ]
  },
  {
   "cell_type": "code",
   "execution_count": 89,
   "id": "behavioral-origin",
   "metadata": {},
   "outputs": [],
   "source": [
    "import climetlab\n",
    "\n",
    "obs = climetlab.load_source(\"cds\",\n",
    "        \"reanalysis-era5-single-levels\",\n",
    "        product_type=\"reanalysis\",             \n",
    "        time=['00:00','06:00','12:00','18:00'],\n",
    "        grid=[1.0, 1.0],\n",
    "        param=\"2t\",\n",
    "        date=[\"2020-08-31\",'2020-09-01','2020-09-02']).to_xarray()"
   ]
  },
  {
   "cell_type": "code",
   "execution_count": 90,
   "id": "planned-horse",
   "metadata": {},
   "outputs": [],
   "source": [
    "# climetlab or cds enable logging.INFO\n",
    "import logging\n",
    "logger = logging.getLogger()\n",
    "logger.setLevel(logging.ERROR)"
   ]
  },
  {
   "cell_type": "code",
   "execution_count": 91,
   "id": "fabulous-universal",
   "metadata": {},
   "outputs": [],
   "source": [
    "obs=obs.drop(['number','step','surface','valid_time'])"
   ]
  },
  {
   "cell_type": "markdown",
   "id": "educated-compromise",
   "metadata": {},
   "source": [
    "# bias reduction by hand"
   ]
  },
  {
   "cell_type": "code",
   "execution_count": 150,
   "id": "native-cradle",
   "metadata": {},
   "outputs": [],
   "source": [
    "# should be replaced by # hindcast = hindcast.remove_bias('same_inits') # but doesnt work\n",
    "bias = (init.mean('member') - obs.rename({'time':'valid_time'}).sel(valid_time=init.valid_time)).mean('init')\n",
    "#bias.t2m.plot(col='lead', robust=True)"
   ]
  },
  {
   "cell_type": "code",
   "execution_count": 143,
   "id": "neural-aruba",
   "metadata": {},
   "outputs": [],
   "source": [
    "init = init - bias"
   ]
  },
  {
   "cell_type": "markdown",
   "id": "collectible-branch",
   "metadata": {},
   "source": [
    "# skill"
   ]
  },
  {
   "cell_type": "code",
   "execution_count": 144,
   "id": "settled-latest",
   "metadata": {},
   "outputs": [],
   "source": [
    "hindcast = climpred.HindcastEnsemble(init).add_observations(obs)"
   ]
  },
  {
   "cell_type": "code",
   "execution_count": 145,
   "id": "fifteen-motivation",
   "metadata": {},
   "outputs": [],
   "source": [
    "# hindcast = hindcast.remove_bias('same_inits')"
   ]
  },
  {
   "cell_type": "code",
   "execution_count": 146,
   "id": "comparative-publisher",
   "metadata": {},
   "outputs": [],
   "source": [
    "skill = hindcast[['t2m']].verify(metric='rmse', comparison='e2o', alignment='same_inits', dim='init')"
   ]
  },
  {
   "cell_type": "code",
   "execution_count": null,
   "id": "forty-parallel",
   "metadata": {},
   "outputs": [],
   "source": [
    "skill.t2m.isel(lead=range(5)).plot(col='lead', robust=True)"
   ]
  },
  {
   "cell_type": "code",
   "execution_count": null,
   "id": "imposed-volleyball",
   "metadata": {},
   "outputs": [],
   "source": [
    "# zooming into north america\n",
    "# skill.sel(longitude=slice(200,320), latitude=slice(60,15)).t2m.plot(col='lead', col_wrap=4, robust=True, aspect=2.5)"
   ]
  },
  {
   "cell_type": "code",
   "execution_count": null,
   "id": "thrown-voice",
   "metadata": {},
   "outputs": [],
   "source": []
  }
 ],
 "metadata": {
  "kernelspec": {
   "display_name": "Python [conda env:climpred-dev] *",
   "language": "python",
   "name": "conda-env-climpred-dev-py"
  },
  "language_info": {
   "codemirror_mode": {
    "name": "ipython",
    "version": 3
   },
   "file_extension": ".py",
   "mimetype": "text/x-python",
   "name": "python",
   "nbconvert_exporter": "python",
   "pygments_lexer": "ipython3",
   "version": "3.8.8"
  }
 },
 "nbformat": 4,
 "nbformat_minor": 5
}
