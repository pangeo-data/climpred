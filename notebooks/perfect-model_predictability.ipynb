{
 "cells": [
  {
   "cell_type": "markdown",
   "metadata": {},
   "source": [
    "# Perfect-model predictability Module Demo\n",
    "\n",
    "Aaron Spring and Riley Brady\n",
    "\n",
    "---\n",
    "\n",
    "This demo demonstrates the capabilities of the prediction module for a perfect-model framework ensemble simulation."
   ]
  },
  {
   "cell_type": "markdown",
   "metadata": {},
   "source": [
    "# What's a perfect-model framework simulation?"
   ]
  },
  {
   "cell_type": "markdown",
   "metadata": {},
   "source": [
    "Technically:\n",
    "- a set of ensemble simulations based on an Earth-System-Model alone\n",
    "- no assimilation of any reanalysis or data product interfers with the model\n",
    "- any number of `members` are initialized from perturbed initial conditions is called `ensemble` (often the ensemble initialized in `1955`)\n",
    "- the control simulation can be viewed as just another member\n",
    "\n",
    "How to compare predictability skill score:\n",
    "- As no observational data interfers with the random climate evolution of the model, we cannot use a observation-based reference.\n",
    "- Therefore we can compare the members with each other (`m2m`) or against the ensemble mean (`m2e`) or the control (`m2c`) or the ensemble mean against the control (`e2c`).\n",
    "\n",
    "When to use:\n",
    "- you don't have a sufficiently long of observational records to use as a `reference`\n",
    "- you want to aviod biases between model climatology and reanalysis climatology\n",
    "- you want to aviod super sensitive reactions of biogeochemical cycles to disruptive changes in ocean physics due to assimilation\n",
    "- you want to delve into process understanding of predictability of a model without outside artefacts\n",
    "\n",
    "How does it look like?\n",
    "[See 4.2](#timeseries)\n",
    "\n",
    "---"
   ]
  },
  {
   "cell_type": "markdown",
   "metadata": {},
   "source": [
    "Some papers including perfect-model simulations:\n",
    "- Griffies, S. M., and K. Bryan. “A Predictability Study of Simulated North Atlantic Multidecadal Variability.” Climate Dynamics 13, no. 7–8 (August 1, 1997): 459–87. https://doi.org/10/ch4kc4.\n",
    "- Collins, Matthew, and Sinha Bablu. “Predictability of Decadal Variations in the Thermohaline Circulation and Climate.” Geophysical Research Letters 30, no. 6 (March 22, 2003). https://doi.org/10/cts3cr.\n",
    "- Pohlmann, Holger, Michael Botzet, Mojib Latif, Andreas Roesch, Martin Wild, and Peter Tschuck. “Estimating the Decadal Predictability of a Coupled AOGCM.” Journal of Climate 17, no. 22 (November 1, 2004): 4463–72. https://doi.org/10/d2qf62.\n",
    "- Hawkins, Ed, Steffen Tietsche, Jonathan J. Day, Nathanael Melia, Keith Haines, and Sarah Keeley. “Aspects of Designing and Evaluating Seasonal-to-Interannual Arctic Sea-Ice Prediction Systems.” Quarterly Journal of the Royal Meteorological Society 142, no. 695 (January 1, 2016): 672–83. https://doi.org/10/gfb3pn.\n",
    "- Bushuk, Mitchell, Rym Msadek, Michael Winton, Gabriel Vecchi, Xiaosong Yang, Anthony Rosati, and Rich Gudgel. “Regional Arctic Sea–Ice Prediction: Potential versus Operational Seasonal Forecast Skill.” Climate Dynamics, June 9, 2018. https://doi.org/10/gd7hfq.\n",
    "- Séférian, Roland, Sarah Berthet, and Matthieu Chevallier. “Assessing the Decadal Predictability of Land and Ocean Carbon Uptake.” Geophysical Research Letters, March 15, 2018. https://doi.org/10/gdb424. "
   ]
  },
  {
   "cell_type": "markdown",
   "metadata": {},
   "source": [
    "---\n",
    "**This demo:**\n",
    "\n",
    "Input:\n",
    "- 1-dimensional xr.Dataset timeseries output\n",
    "- 3-dimensional xr.DataArray maps output\n",
    "\n",
    "Shows:\n",
    "- skill score\n",
    "- predictability horizon\n",
    "- slow components of internal variability indicating potential predictability:\n",
    " - DPP\n",
    " - variance-weighted mean period\n",
    " - decorrelation time\n",
    "---"
   ]
  },
  {
   "cell_type": "code",
   "execution_count": 1,
   "metadata": {
    "ExecuteTime": {
     "end_time": "2019-04-05T21:08:05.559114Z",
     "start_time": "2019-04-05T21:08:04.795988Z"
    }
   },
   "outputs": [],
   "source": [
    "import xarray as xr\n",
    "import numpy as np\n",
    "import climpred as cp\n",
    "import matplotlib.pyplot as plt\n",
    "from climpred.prediction import (compute_perfect_model, \n",
    "                                 xr_predictability_horizon, \n",
    "                                 compute_persistence_pm)\n",
    "from climpred.bootstrap import bootstrap_perfect_model, _pseudo_ens\n",
    "from climpred.loadutils import get_datasets, open_dataset\n",
    "\n",
    "from climpred.stats import (xr_decorrelation_time, xr_varweighted_mean_period, \n",
    "                           xr_autocorr, DPP)\n",
    "%matplotlib inline"
   ]
  },
  {
   "cell_type": "markdown",
   "metadata": {},
   "source": [
    "# Load sample data\n",
    "Subset of ensembles and members from MPI-ESM-LR (CMIP6 version) esmControl simulation of an early state. vga0214 from year 3000 to 3300."
   ]
  },
  {
   "cell_type": "markdown",
   "metadata": {},
   "source": [
    "## 1-dimensional output"
   ]
  },
  {
   "cell_type": "markdown",
   "metadata": {},
   "source": [
    "1-d output contains datasets of timeseries of a certain averaging **area**s ('global, North_Atlantic') and averaging time **period** (ym, DJF, ...) for some lead **year**s (1..20).\n",
    "- ds: the ensemble dataset of all **member**s (1..10), **ensemble**s (initialization years: here 3014, 3023, ...), areas, periods and years\n",
    "- control: the control dataset of all areas, periods and years"
   ]
  },
  {
   "cell_type": "code",
   "execution_count": 2,
   "metadata": {
    "ExecuteTime": {
     "end_time": "2019-04-05T21:08:06.615902Z",
     "start_time": "2019-04-05T21:08:06.587434Z"
    }
   },
   "outputs": [],
   "source": [
    "ds = xr.open_dataset('../sample_data/prediction/PM_MPI-ESM-LR_ds.nc')\n",
    "control = xr.open_dataset('../sample_data/prediction/PM_MPI-ESM-LR_control.nc')"
   ]
  },
  {
   "cell_type": "markdown",
   "metadata": {},
   "source": [
    "### Choose varname, area, period"
   ]
  },
  {
   "cell_type": "code",
   "execution_count": 3,
   "metadata": {
    "ExecuteTime": {
     "end_time": "2019-04-05T21:08:08.189813Z",
     "start_time": "2019-04-05T21:08:08.187993Z"
    }
   },
   "outputs": [],
   "source": [
    "varname='tos'\n",
    "area='global'\n",
    "period='ym'"
   ]
  },
  {
   "cell_type": "code",
   "execution_count": 4,
   "metadata": {
    "ExecuteTime": {
     "end_time": "2019-04-05T21:08:09.695855Z",
     "start_time": "2019-04-05T21:08:09.691793Z"
    }
   },
   "outputs": [],
   "source": [
    "ds_ = ds.sel(area=area,period=period)[varname]\n",
    "control_ = control.sel(area=area,period=period)[varname]"
   ]
  },
  {
   "cell_type": "markdown",
   "metadata": {},
   "source": [
    "# Bootstrap with replacement\n",
    "Goddard et al. 2013"
   ]
  },
  {
   "cell_type": "code",
   "execution_count": 5,
   "metadata": {
    "ExecuteTime": {
     "end_time": "2019-04-05T21:08:21.172716Z",
     "start_time": "2019-04-05T21:08:10.875515Z"
    }
   },
   "outputs": [],
   "source": [
    "sig = 95\n",
    "pers_sig = 95\n",
    "bootstrap = 50 \n",
    "comparison='m2e'\n",
    "\n",
    "init_skill = compute_perfect_model(ds_, control_, metric='pearson_r', \n",
    "                                   comparison=comparison)\n",
    "ds_uninit = _pseudo_ens(ds_, control_)\n",
    "uninit_skill = compute_perfect_model(ds_uninit, control_, metric='pearson_r', \n",
    "                                     comparison=comparison).mean('time')\n",
    "result = bootstrap_perfect_model(ds_, control_, metric='pearson_r', \n",
    "                                 comparison=comparison, bootstrap=bootstrap, \n",
    "                                 sig=sig, compute_persistence_skill=True)"
   ]
  },
  {
   "cell_type": "code",
   "execution_count": 7,
   "metadata": {
    "ExecuteTime": {
     "end_time": "2019-04-05T21:08:48.116912Z",
     "start_time": "2019-04-05T21:08:47.731490Z"
    }
   },
   "outputs": [
    {
     "data": {
      "image/png": "[encoded data removed]",
      "text/plain": [
       "<Figure size 720x288 with 1 Axes>"
      ]
     },
     "metadata": {
      "needs_background": "light"
     },
     "output_type": "display_data"
    }
   ],
   "source": [
    "from climpred.graphics import plot_bootstrapped_skill_over_leadyear\n",
    "plot_bootstrapped_skill_over_leadyear(init_skill,\n",
    "                                      result.init_ci,\n",
    "                                      uninit_skill,\n",
    "                                      result.uninit_ci,\n",
    "                                      sig,\n",
    "                                      p_uninit_over_init=result.p_uninit_over_init)\n"
   ]
  },
  {
   "cell_type": "markdown",
   "metadata": {},
   "source": [
    "### Proposal to reduce returned objects\n",
    "sig and pers_sig can be obtained from pers.isel(results=1).results.values\n",
    "\n",
    "this would reduce bootstrap_perfect_model to return init, uninit, pers, where the later have also pvalues"
   ]
  },
  {
   "cell_type": "code",
   "execution_count": 8,
   "metadata": {
    "ExecuteTime": {
     "end_time": "2019-04-05T21:08:55.371837Z",
     "start_time": "2019-04-05T21:08:55.284077Z"
    }
   },
   "outputs": [],
   "source": [
    "pers_skill = compute_persistence_pm(ds_, control_, 20)"
   ]
  },
  {
   "cell_type": "code",
   "execution_count": 9,
   "metadata": {
    "ExecuteTime": {
     "end_time": "2019-04-05T21:08:55.435728Z",
     "start_time": "2019-04-05T21:08:55.427038Z"
    }
   },
   "outputs": [
    {
     "ename": "NameError",
     "evalue": "name 'p_pers_over_init' is not defined",
     "output_type": "error",
     "traceback": [
      "\u001b[0;31m---------------------------------------------------------------------------\u001b[0m",
      "\u001b[0;31mNameError\u001b[0m                                 Traceback (most recent call last)",
      "\u001b[0;32m<ipython-input-9-659f38d1bac3>\u001b[0m in \u001b[0;36m<module>\u001b[0;34m\u001b[0m\n\u001b[0;32m----> 1\u001b[0;31m \u001b[0mp_pers_over_init\u001b[0m\u001b[0;34m=\u001b[0m\u001b[0mp_pers_over_init\u001b[0m\u001b[0;34m.\u001b[0m\u001b[0mexpand_dims\u001b[0m\u001b[0;34m(\u001b[0m\u001b[0;34m'quantile'\u001b[0m\u001b[0;34m)\u001b[0m\u001b[0;34m\u001b[0m\u001b[0;34m\u001b[0m\u001b[0m\n\u001b[0m\u001b[1;32m      2\u001b[0m \u001b[0mp_pers_over_init\u001b[0m\u001b[0;34m[\u001b[0m\u001b[0;34m'quantile'\u001b[0m\u001b[0;34m]\u001b[0m\u001b[0;34m=\u001b[0m\u001b[0;34m[\u001b[0m\u001b[0;34m'p'\u001b[0m\u001b[0;34m]\u001b[0m\u001b[0;34m\u001b[0m\u001b[0;34m\u001b[0m\u001b[0m\n\u001b[1;32m      3\u001b[0m \u001b[0mpers_skill\u001b[0m\u001b[0;34m=\u001b[0m\u001b[0mpers_skill\u001b[0m\u001b[0;34m.\u001b[0m\u001b[0mexpand_dims\u001b[0m\u001b[0;34m(\u001b[0m\u001b[0;34m'quantile'\u001b[0m\u001b[0;34m)\u001b[0m\u001b[0;34m\u001b[0m\u001b[0;34m\u001b[0m\u001b[0m\n\u001b[1;32m      4\u001b[0m \u001b[0mpers_skill\u001b[0m\u001b[0;34m[\u001b[0m\u001b[0;34m'quantile'\u001b[0m\u001b[0;34m]\u001b[0m\u001b[0;34m=\u001b[0m\u001b[0;34m[\u001b[0m\u001b[0;34m'skill'\u001b[0m\u001b[0;34m]\u001b[0m\u001b[0;34m\u001b[0m\u001b[0;34m\u001b[0m\u001b[0m\n\u001b[1;32m      5\u001b[0m \u001b[0mpers\u001b[0m\u001b[0;34m=\u001b[0m\u001b[0mxr\u001b[0m\u001b[0;34m.\u001b[0m\u001b[0mmerge\u001b[0m\u001b[0;34m(\u001b[0m\u001b[0;34m[\u001b[0m\u001b[0mpers_skill\u001b[0m\u001b[0;34m,\u001b[0m \u001b[0mpers_ci\u001b[0m\u001b[0;34m,\u001b[0m\u001b[0mp_pers_over_init\u001b[0m\u001b[0;34m]\u001b[0m\u001b[0;34m)\u001b[0m\u001b[0;34m.\u001b[0m\u001b[0mrename\u001b[0m\u001b[0;34m(\u001b[0m\u001b[0;34m{\u001b[0m\u001b[0;34m'quantile'\u001b[0m\u001b[0;34m:\u001b[0m\u001b[0;34m'results'\u001b[0m\u001b[0;34m}\u001b[0m\u001b[0;34m)\u001b[0m\u001b[0;34m\u001b[0m\u001b[0;34m\u001b[0m\u001b[0m\n",
      "\u001b[0;31mNameError\u001b[0m: name 'p_pers_over_init' is not defined"
     ]
    }
   ],
   "source": [
    "p_pers_over_init=p_pers_over_init.expand_dims('quantile')\n",
    "p_pers_over_init['quantile']=['p']\n",
    "pers_skill=pers_skill.expand_dims('quantile')\n",
    "pers_skill['quantile']=['skill']\n",
    "pers=xr.merge([pers_skill, pers_ci,p_pers_over_init]).rename({'quantile':'results'})\n",
    "pers.drop(['area','period'])"
   ]
  },
  {
   "cell_type": "markdown",
   "metadata": {},
   "source": [
    "### How does a perfect-model framework simulation look like?"
   ]
  },
  {
   "cell_type": "markdown",
   "metadata": {},
   "source": [
    "<a id='timeseries'></a>"
   ]
  },
  {
   "cell_type": "code",
   "execution_count": null,
   "metadata": {
    "ExecuteTime": {
     "end_time": "2019-04-05T20:44:21.616450Z",
     "start_time": "2019-04-05T20:44:21.612316Z"
    }
   },
   "outputs": [],
   "source": [
    "def _get_limit_sig(metric='pearson_r',sig=99):\n",
    "    \"\"\"Adjust limit and significance level for bootstrapping to metric.\"\"\"\n",
    "    if metric in ['pearson_r', 'ppp', 'msss', 'nrmse', 'nmse']:\n",
    "        limit = 'upper'\n",
    "        sigl = sig\n",
    "    else:\n",
    "        limit = 'lower'\n",
    "        sigl = 100 - sig\n",
    "    return limit, sigl\n",
    "\n",
    "def _plot_skill(ax, result, color='k', linestyle='-', marker='o', \n",
    "                markersize=6, linewidth=2, **kwargs):\n",
    "    \"\"\"\n",
    "    Quick function to plot results of predictability analysis.\n",
    "    \"\"\"\n",
    "    p = ax.plot(result.time, result, color=color, linestyle=linestyle, \n",
    "                marker=marker, markersize=markersize, linewidth=linewidth, \n",
    "                **kwargs)\n",
    "    return p"
   ]
  },
  {
   "cell_type": "code",
   "execution_count": null,
   "metadata": {
    "ExecuteTime": {
     "end_time": "2019-04-05T20:44:57.201652Z",
     "start_time": "2019-04-05T20:44:21.971163Z"
    }
   },
   "outputs": [],
   "source": [
    "comparison='m2e'\n",
    "sig=99\n",
    "bootstrap=100\n",
    "# Main plot.\n",
    "metrics = ['pearson_r', 'rmse', 'mse', 'ppp', 'nrmse','nmse']\n",
    "f, axs = plt.subplots(nrows=len(metrics), ncols=1,figsize=(8,12))\n",
    "\n",
    "for ax, metric in zip(axs, metrics):\n",
    "    ip = compute_perfect_model(ds_, control_, metric=metric, comparison=comparison)\n",
    "    limit, sigl = _get_limit_sig(metric=metric, sig=sig)\n",
    "    up = bootstrap_perfect_model(ds_, control_, metric=metric, comparison=comparison, sig=sigl).values\n",
    "    if metric in ['rmse', 'mse', 'pearson_r']:\n",
    "        persist = compute_persistence(control_, dim='time', nlags=ds_.time.size, metric=metric)\n",
    "        persist['time'] = persist['time']\n",
    "        p = _plot_skill(ax, persist, color='gray', linestyle='--', label='persistence forecast')\n",
    "    i = _plot_skill(ax, ip, color='r', label='initialized forecast')\n",
    "    u = ax.axhline(y=up, color='blue', linewidth=1.5, label='uninitialized forecast')\n",
    "    # predictability horizon\n",
    "    ph = xr_predictability_horizon(ip, up, limit=limit, perfect_model=True).values\n",
    "    php = ax.axvline(x=ph, color='blue', alpha=.5, ls='-.', label='predictability horizon')\n",
    "\n",
    "    fac = 1.1\n",
    "    #ax.set_ylim([fac * min(0, up, ip.min('time'),persist.min('time')),fac * max(up, ip.max('time'),persist.max('time'))])\n",
    "    ax.set_xlim([0.8, 10.2])\n",
    "    ax.set_xticks(np.arange(1.,11.),minor=False)\n",
    "    ax.set_ylabel(metric)\n",
    "    persist=persist-persist\n",
    "\n",
    "plt.suptitle('Perfect-model potential Predictability global SST')\n",
    "\n",
    "plt.legend([i[0], p[0], u, php],ncol=2)\n",
    "plt.tight_layout()"
   ]
  },
  {
   "cell_type": "markdown",
   "metadata": {},
   "source": [
    "## Different comparisons lead to different skill score magnitude by design"
   ]
  },
  {
   "cell_type": "code",
   "execution_count": null,
   "metadata": {
    "ExecuteTime": {
     "end_time": "2019-02-19T18:12:55.763461Z",
     "start_time": "2019-02-19T18:12:52.885930Z"
    }
   },
   "outputs": [],
   "source": [
    "for c in ['e2c','m2c','m2e','m2m']:\n",
    "    compute_perfect_model(ds_, control_, metric='pearson_r', comparison=c).plot(label=c)\n",
    "compute_persistence(control_,nlags=20, dim='time').plot(label='persistence', ls=':')\n",
    "plt.ylabel('ACC')\n",
    "plt.xticks(np.arange(1,21))\n",
    "plt.legend()\n",
    "plt.title('Different forecast-reference comparisons for pearson_r \\n lead to systematically different magnitude of skill score')\n",
    "plt.show()"
   ]
  },
  {
   "cell_type": "markdown",
   "metadata": {},
   "source": [
    "Can we adapt persistence forecast to the references? What's a fair comparison for persistence?"
   ]
  },
  {
   "cell_type": "markdown",
   "metadata": {},
   "source": [
    "# 3-dimensional"
   ]
  },
  {
   "cell_type": "markdown",
   "metadata": {},
   "source": [
    "## 3-dimensional output\n",
    "Data is stored on curvilinear grid: lon(y, x), lat(y, x)"
   ]
  },
  {
   "cell_type": "code",
   "execution_count": null,
   "metadata": {
    "ExecuteTime": {
     "end_time": "2019-02-19T18:12:55.779611Z",
     "start_time": "2019-02-19T18:12:55.764817Z"
    }
   },
   "outputs": [],
   "source": [
    "ds3d = xr.open_dataset('../sample_data/prediction/PM_MPI-ESM-LR_ds3d.nc')\n",
    "control3d = xr.open_dataset('../sample_data/prediction/PM_MPI-ESM-LR_control3d.nc')"
   ]
  },
  {
   "cell_type": "markdown",
   "metadata": {},
   "source": [
    "## Choose predictability metric and comparison"
   ]
  },
  {
   "cell_type": "code",
   "execution_count": null,
   "metadata": {
    "ExecuteTime": {
     "end_time": "2019-02-19T18:12:55.783436Z",
     "start_time": "2019-02-19T18:12:55.780878Z"
    }
   },
   "outputs": [],
   "source": [
    "metric='pearson_r'\n",
    "comparison='m2e'\n",
    "sig=99\n",
    "bootstrap=10\n",
    "limit, sigl = _get_limit_sig(metric=metric, sig=sig)"
   ]
  },
  {
   "cell_type": "markdown",
   "metadata": {},
   "source": [
    "## Skill for Lead Year"
   ]
  },
  {
   "cell_type": "code",
   "execution_count": null,
   "metadata": {
    "ExecuteTime": {
     "end_time": "2019-02-19T18:12:55.922241Z",
     "start_time": "2019-02-19T18:12:55.785199Z"
    }
   },
   "outputs": [],
   "source": [
    "skill3d = compute_perfect_model(ds3d[varname], control3d[varname], metric=metric, comparison=comparison)"
   ]
  },
  {
   "cell_type": "code",
   "execution_count": null,
   "metadata": {
    "ExecuteTime": {
     "end_time": "2019-02-19T18:12:56.706889Z",
     "start_time": "2019-02-19T18:12:55.924084Z"
    }
   },
   "outputs": [],
   "source": [
    "skill3d.plot(robust=True,yincrease=False, col='time')"
   ]
  },
  {
   "cell_type": "markdown",
   "metadata": {},
   "source": [
    "## Bootstrapped threshold and Predictability Horizon map"
   ]
  },
  {
   "cell_type": "code",
   "execution_count": null,
   "metadata": {
    "ExecuteTime": {
     "end_time": "2019-02-19T18:12:59.853352Z",
     "start_time": "2019-02-19T18:12:56.708193Z"
    }
   },
   "outputs": [],
   "source": [
    "threshold3d = bootstrap_perfect_model(ds3d[varname], control3d[varname], metric=metric, comparison=comparison, \n",
    "                     sig=sigl, bootstrap=bootstrap)\n",
    "# threshold3d.plot(robust=True,yincrease=False)"
   ]
  },
  {
   "cell_type": "code",
   "execution_count": null,
   "metadata": {
    "ExecuteTime": {
     "end_time": "2019-02-19T18:12:59.861122Z",
     "start_time": "2019-02-19T18:12:59.854687Z"
    }
   },
   "outputs": [],
   "source": [
    "if limit == 'upper':\n",
    "    masked3d = skill3d.where(skill3d > threshold3d)\n",
    "elif limit == 'lower':\n",
    "    masked3d = skill3d.where(skill3d < threshold3d)\n",
    "\n",
    "#masked3d.plot(yincrease=False, col='time')\n",
    "#plt.suptitle('Skill score if above threshold')"
   ]
  },
  {
   "cell_type": "code",
   "execution_count": null,
   "metadata": {
    "ExecuteTime": {
     "end_time": "2019-02-19T18:13:00.103777Z",
     "start_time": "2019-02-19T18:12:59.862544Z"
    }
   },
   "outputs": [],
   "source": [
    "ph3d = xr_predictability_horizon(masked3d, threshold3d, limit=limit, perfect_model=True)\n",
    "ph3d.name = 'Lead Years'\n",
    "\n",
    "ph3d.where(ph3d>0).plot(robust=False,yincrease=False)\n",
    "plt.title('Predictability Horizon '+varname)"
   ]
  },
  {
   "cell_type": "markdown",
   "metadata": {},
   "source": [
    "## Persistence\n",
    "Plot skill where larger than persistence."
   ]
  },
  {
   "cell_type": "code",
   "execution_count": null,
   "metadata": {
    "ExecuteTime": {
     "end_time": "2019-02-19T18:13:01.007770Z",
     "start_time": "2019-02-19T18:13:00.105015Z"
    }
   },
   "outputs": [],
   "source": [
    "persistence_skill3d = compute_persistence(control3d[varname], nlags=ds3d.time.size,metric=metric, dim='time')\n",
    "beat_persistence = skill3d.where(skill3d>persistence_skill3d)\n",
    "beat_persistence.plot(col='time',yincrease=False)"
   ]
  },
  {
   "cell_type": "markdown",
   "metadata": {},
   "source": [
    "# Slow components of internal variability indicating potential predictability"
   ]
  },
  {
   "cell_type": "markdown",
   "metadata": {},
   "source": [
    "Set of methods to show regions indicating chances of predictability:\n",
    "- Decadal Potential Predictability\n",
    "- Variance-weighted mean period\n",
    "- Lag1 autocorrelation\n",
    "- Decorrelation time"
   ]
  },
  {
   "cell_type": "markdown",
   "metadata": {},
   "source": [
    "## DPP"
   ]
  },
  {
   "cell_type": "code",
   "execution_count": null,
   "metadata": {
    "ExecuteTime": {
     "end_time": "2019-02-19T18:13:01.012186Z",
     "start_time": "2019-02-19T18:13:01.009117Z"
    }
   },
   "outputs": [],
   "source": [
    "help(DPP)"
   ]
  },
  {
   "cell_type": "markdown",
   "metadata": {},
   "source": [
    "### Resplandy 2015, Seferian 2018 method"
   ]
  },
  {
   "cell_type": "code",
   "execution_count": null,
   "metadata": {
    "ExecuteTime": {
     "end_time": "2019-02-19T18:13:01.289033Z",
     "start_time": "2019-02-19T18:13:01.014102Z"
    }
   },
   "outputs": [],
   "source": [
    "DPP10 = DPP(control3d[varname], m=10, chunk=False)\n",
    "DPP10.where(DPP10>0).plot(yincrease=False,vmax=.6)"
   ]
  },
  {
   "cell_type": "markdown",
   "metadata": {},
   "source": [
    "### Original Boer 2004 implementation"
   ]
  },
  {
   "cell_type": "code",
   "execution_count": null,
   "metadata": {
    "ExecuteTime": {
     "end_time": "2019-02-19T18:13:01.664500Z",
     "start_time": "2019-02-19T18:13:01.292158Z"
    }
   },
   "outputs": [],
   "source": [
    "DPP10 = DPP(control3d[varname], m=10, chunk=True)\n",
    "DPP10.where(DPP10>0).plot(yincrease=False,vmax=.6)"
   ]
  },
  {
   "cell_type": "markdown",
   "metadata": {},
   "source": [
    "yields similar results"
   ]
  },
  {
   "cell_type": "markdown",
   "metadata": {},
   "source": [
    "## varweigthed mean period"
   ]
  },
  {
   "cell_type": "code",
   "execution_count": null,
   "metadata": {
    "ExecuteTime": {
     "end_time": "2019-02-19T18:13:01.669604Z",
     "start_time": "2019-02-19T18:13:01.666278Z"
    }
   },
   "outputs": [],
   "source": [
    "help(xr_varweighted_mean_period)"
   ]
  },
  {
   "cell_type": "code",
   "execution_count": null,
   "metadata": {
    "ExecuteTime": {
     "end_time": "2019-02-19T18:13:02.005436Z",
     "start_time": "2019-02-19T18:13:01.672275Z"
    }
   },
   "outputs": [],
   "source": [
    "from climpred.stats import xr_varweighted_mean_period as xvmp\n",
    "varweighted_mean_period = xvmp(control3d[varname],time_dim='time')\n",
    "varweighted_mean_period.plot(yincrease=False)"
   ]
  },
  {
   "cell_type": "markdown",
   "metadata": {},
   "source": [
    "## Lag1 autocorrelation"
   ]
  },
  {
   "cell_type": "code",
   "execution_count": null,
   "metadata": {
    "ExecuteTime": {
     "end_time": "2019-02-19T18:13:02.009670Z",
     "start_time": "2019-02-19T18:13:02.006926Z"
    }
   },
   "outputs": [],
   "source": [
    "help(xr_autocorr)"
   ]
  },
  {
   "cell_type": "code",
   "execution_count": null,
   "metadata": {
    "ExecuteTime": {
     "end_time": "2019-02-19T18:13:02.295067Z",
     "start_time": "2019-02-19T18:13:02.011642Z"
    }
   },
   "outputs": [],
   "source": [
    "corr_ef = xr_autocorr(control3d[varname],dim='time')\n",
    "corr_ef.where(corr_ef>0).plot(yincrease=False, robust=False)"
   ]
  },
  {
   "cell_type": "markdown",
   "metadata": {},
   "source": [
    "## Decorrelation time"
   ]
  },
  {
   "cell_type": "code",
   "execution_count": null,
   "metadata": {
    "ExecuteTime": {
     "end_time": "2019-02-19T18:13:02.299891Z",
     "start_time": "2019-02-19T18:13:02.296763Z"
    }
   },
   "outputs": [],
   "source": [
    "help(xr_decorrelation_time)"
   ]
  },
  {
   "cell_type": "code",
   "execution_count": null,
   "metadata": {
    "ExecuteTime": {
     "end_time": "2019-02-19T18:13:02.926189Z",
     "start_time": "2019-02-19T18:13:02.301736Z"
    }
   },
   "outputs": [],
   "source": [
    "decorr_time = xr_decorrelation_time(control3d[varname])\n",
    "decorr_time.where(decorr_time>0).plot(yincrease=False, robust=False)"
   ]
  }
 ],
 "metadata": {
  "kernelspec": {
   "display_name": "Python 3",
   "language": "python",
   "name": "python3"
  },
  "language_info": {
   "codemirror_mode": {
    "name": "ipython",
    "version": 3
   },
   "file_extension": ".py",
   "mimetype": "text/x-python",
   "name": "python",
   "nbconvert_exporter": "python",
   "pygments_lexer": "ipython3",
   "version": "3.7.2"
  },
  "latex_envs": {
   "LaTeX_envs_menu_present": false,
   "autoclose": true,
   "autocomplete": true,
   "bibliofile": "large.bib",
   "cite_by": "apalike",
   "current_citInitial": 1,
   "eqLabelWithNumbers": false,
   "eqNumInitial": 1,
   "hotkeys": {
    "equation": "Ctrl-E",
    "itemize": "Ctrl-I"
   },
   "labels_anchors": false,
   "latex_user_defs": false,
   "report_style_numbering": false,
   "user_envs_cfg": false
  },
  "toc": {
   "base_numbering": 1,
   "nav_menu": {},
   "number_sections": true,
   "sideBar": true,
   "skip_h1_title": false,
   "title_cell": "Table of Contents",
   "title_sidebar": "Contents",
   "toc_cell": false,
   "toc_position": {},
   "toc_section_display": true,
   "toc_window_display": false
  },
  "varInspector": {
   "cols": {
    "lenName": 16,
    "lenType": 16,
    "lenVar": 40
   },
   "kernels_config": {
    "python": {
     "delete_cmd_postfix": "",
     "delete_cmd_prefix": "del ",
     "library": "var_list.py",
     "varRefreshCmd": "print(var_dic_list())"
    },
    "r": {
     "delete_cmd_postfix": ") ",
     "delete_cmd_prefix": "rm(",
     "library": "var_list.r",
     "varRefreshCmd": "cat(var_dic_list()) "
    }
   },
   "types_to_exclude": [
    "module",
    "function",
    "builtin_function_or_method",
    "instance",
    "_Feature"
   ],
   "window_display": false
  }
 },
 "nbformat": 4,
 "nbformat_minor": 2
}
