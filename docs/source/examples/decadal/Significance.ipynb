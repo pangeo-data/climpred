{
 "cells": [
  {
   "cell_type": "markdown",
   "metadata": {},
   "source": [
    "# Significance"
   ]
  },
  {
   "cell_type": "code",
   "execution_count": null,
   "metadata": {},
   "outputs": [],
   "source": [
    "import xarray as xr\n",
    "from climpred.tutorial import load_dataset\n",
    "from climpred.stats import rm_poly\n",
    "from climpred.prediction import compute_hindcast, compute_perfect_model\n",
    "from climpred.bootstrap import bootstrap_hindcast, bootstrap_perfect_model\n",
    "import matplotlib.pyplot as plt\n",
    "\n",
    "import warnings\n",
    "\n",
    "warnings.filterwarnings(\"ignore\")"
   ]
  },
  {
   "cell_type": "code",
   "execution_count": null,
   "metadata": {},
   "outputs": [],
   "source": [
    "# load data\n",
    "v = \"SST\"\n",
    "hind = load_dataset(\"CESM-DP-SST\")[v]\n",
    "hind.lead.attrs[\"units\"] = \"years\"\n",
    "\n",
    "hist = load_dataset(\"CESM-LE\")[v]\n",
    "hist = hist - hist.mean()\n",
    "\n",
    "obs = load_dataset(\"ERSST\")[v]\n",
    "obs = obs - obs.mean()"
   ]
  },
  {
   "cell_type": "code",
   "execution_count": null,
   "metadata": {},
   "outputs": [],
   "source": [
    "# align times\n",
    "hind[\"init\"] = xr.cftime_range(\n",
    "    start=str(hind.init.min().astype(\"int\").values), periods=hind.init.size, freq=\"YS\"\n",
    ")\n",
    "hist[\"time\"] = xr.cftime_range(\n",
    "    start=str(hist.time.min().astype(\"int\").values), periods=hist.time.size, freq=\"YS\"\n",
    ")\n",
    "obs[\"time\"] = xr.cftime_range(\n",
    "    start=str(obs.time.min().astype(\"int\").values), periods=obs.time.size, freq=\"YS\"\n",
    ")"
   ]
  },
  {
   "cell_type": "code",
   "execution_count": null,
   "metadata": {},
   "outputs": [],
   "source": [
    "# view the data\n",
    "hind.sel(lead=1).mean(\"member\").plot(label=\"CESM-DPLE hindcast lead=1\")\n",
    "hist.mean(\"member\").plot(label=\"CESM-LE historical\")\n",
    "obs.plot(label=\"ERSST observations\")\n",
    "plt.legend()\n",
    "plt.title(f\"global mean {v}\")\n",
    "plt.show()"
   ]
  },
  {
   "cell_type": "markdown",
   "metadata": {},
   "source": [
    "Here we see the strong trend due to climate change. This trend is not linear but rather quadratic. Because we often aim to prediction natural variations and not specifically the external forcing in initialized predictions, we remove the 2nd-order trend from each dataset along a time axis."
   ]
  },
  {
   "cell_type": "code",
   "execution_count": null,
   "metadata": {},
   "outputs": [],
   "source": [
    "order = 2\n",
    "hind = rm_poly(hind, dim=\"init\", order=order)\n",
    "hist = rm_poly(hist, dim=\"time\", order=order)\n",
    "obs = rm_poly(obs, dim=\"time\", order=order)\n",
    "# lead attrs is lost in rm_poly\n",
    "hind.lead.attrs[\"units\"] = \"years\""
   ]
  },
  {
   "cell_type": "code",
   "execution_count": null,
   "metadata": {},
   "outputs": [],
   "source": [
    "hind.sel(lead=1).mean(\"member\").plot(label=\"CESM-DPLE hindcast lead=1\")\n",
    "hist.mean(\"member\").plot(label=\"CESM-LE historical\")\n",
    "obs.plot(label=\"ERSST observations\")\n",
    "plt.legend()\n",
    "plt.title(f\"{order}.-order detrended global mean {v}\")\n",
    "plt.show()"
   ]
  },
  {
   "cell_type": "markdown",
   "metadata": {},
   "source": [
    "## Metric-based p-value\n",
    "For correlation metrics the associated p-value checks whether the correlation \n",
    "is significantly different from zero incorporating reduced degrees of freedom \n",
    "due to temporal autocorrelation."
   ]
  },
  {
   "cell_type": "code",
   "execution_count": null,
   "metadata": {},
   "outputs": [],
   "source": [
    "# level that initialized ensembles are significantly better than other forecast skills\n",
    "sig = 0.05"
   ]
  },
  {
   "cell_type": "code",
   "execution_count": null,
   "metadata": {},
   "outputs": [],
   "source": [
    "acc = compute_hindcast(hind, obs, metric=\"pearson_r\", comparison=\"e2r\")\n",
    "\n",
    "acc_p_value = compute_hindcast(hind, obs, metric=\"pearson_r_p_value\", comparison=\"e2r\")"
   ]
  },
  {
   "cell_type": "code",
   "execution_count": null,
   "metadata": {},
   "outputs": [],
   "source": [
    "init_color = \"indianred\"\n",
    "acc.plot(c=init_color)\n",
    "acc.where(acc_p_value <= sig).plot(marker=\"x\", c=init_color)"
   ]
  },
  {
   "cell_type": "markdown",
   "metadata": {},
   "source": [
    "## Bootstrapping with replacement\n",
    "\n",
    "Bootstrapping significance relies of resampling the underlying data with replacement of\n",
    "large number of iterations as proposed by the decadal prediction framework of Goddard\n",
    "et al. 2013."
   ]
  },
  {
   "cell_type": "code",
   "execution_count": null,
   "metadata": {},
   "outputs": [],
   "source": [
    "bootstrapped_acc = bootstrap_hindcast(\n",
    "    hind, hist, obs, metric=\"pearson_r\", comparison=\"e2r\", bootstrap=10\n",
    ")"
   ]
  },
  {
   "cell_type": "code",
   "execution_count": null,
   "metadata": {},
   "outputs": [],
   "source": [
    "# all\n",
    "bootstrapped_acc.coords"
   ]
  },
  {
   "cell_type": "code",
   "execution_count": null,
   "metadata": {},
   "outputs": [],
   "source": [
    "init_skill = bootstrapped_acc.sel(results=\"skill\", kind=\"init\")\n",
    "init_better_than_uninit = init_skill.where(\n",
    "    bootstrapped_acc.sel(results=\"p\", kind=\"uninit\") <= sig\n",
    ")\n",
    "init_better_than_persistence = init_skill.where(\n",
    "    bootstrapped_acc.sel(results=\"p\", kind=\"pers\") <= sig\n",
    ")"
   ]
  },
  {
   "cell_type": "code",
   "execution_count": null,
   "metadata": {},
   "outputs": [],
   "source": [
    "# create a plot by hand\n",
    "bootstrapped_acc.sel(results=\"skill\", kind=\"init\").plot(\n",
    "    c=init_color, label=\"initialized\"\n",
    ")\n",
    "init_better_than_uninit.plot(\n",
    "    c=init_color,\n",
    "    marker=\"x\",\n",
    "    markersize=15,\n",
    "    label=\"initialized better than uninitialized\",\n",
    ")\n",
    "init_better_than_persistence.plot(\n",
    "    c=init_color, marker=\"o\", label=\"initialized better than persistence\"\n",
    ")\n",
    "bootstrapped_acc.sel(results=\"skill\", kind=\"uninit\").plot(\n",
    "    c=\"steelblue\", label=\"uninitialized\"\n",
    ")\n",
    "bootstrapped_acc.sel(results=\"skill\", kind=\"pers\").plot(c=\"gray\", label=\"persistence\")\n",
    "plt.title(f\"ACC Predictability {v}\")\n",
    "plt.legend(loc=\"lower right\")"
   ]
  },
  {
   "cell_type": "code",
   "execution_count": null,
   "metadata": {},
   "outputs": [],
   "source": [
    "# use climpred convenience plotting function\n",
    "from climpred.graphics import plot_bootstrapped_skill_over_leadyear\n",
    "\n",
    "plot_bootstrapped_skill_over_leadyear(bootstrapped_acc, sig * 100)"
   ]
  },
  {
   "cell_type": "markdown",
   "metadata": {},
   "source": [
    "## Field significance\n",
    "\n",
    "Using `esmtools.testing.multipletests` to control the false discovery\n",
    "rate (FDR) from the above obtained p-values in geospatial data."
   ]
  },
  {
   "cell_type": "code",
   "execution_count": null,
   "metadata": {},
   "outputs": [],
   "source": [
    "v = \"tos\"\n",
    "ds3d = load_dataset(\"MPI-PM-DP-3D\")[v]\n",
    "ds3d.lead.attrs[\"unit\"] = \"years\"\n",
    "control3d = load_dataset(\"MPI-control-3D\")[v]"
   ]
  },
  {
   "cell_type": "markdown",
   "metadata": {},
   "source": [
    "### Metric-based p-values"
   ]
  },
  {
   "cell_type": "code",
   "execution_count": null,
   "metadata": {},
   "outputs": [],
   "source": [
    "# ACC skill\n",
    "acc3d = compute_perfect_model(ds3d, control3d, metric=\"pearson_r\", comparison=\"m2e\")\n",
    "\n",
    "# ACC_p_value skill\n",
    "acc_p_3d = compute_perfect_model(\n",
    "    ds3d, control3d, metric=\"pearson_r_p_value\", comparison=\"m2e\"\n",
    ")"
   ]
  },
  {
   "cell_type": "code",
   "execution_count": null,
   "metadata": {},
   "outputs": [],
   "source": [
    "# mask init skill where not significant\n",
    "acc3d.where(acc_p_3d <= sig).plot(col=\"lead\", robust=True, yincrease=False)"
   ]
  },
  {
   "cell_type": "code",
   "execution_count": null,
   "metadata": {},
   "outputs": [],
   "source": [
    "# apply FDR Benjamini-Hochberg\n",
    "# relies on esmtools https://github.com/bradyrx/esmtools\n",
    "from esmtools.testing import multipletests\n",
    "\n",
    "_, acc_p_3d_fdr_corr = multipletests(acc_p_3d, method=\"fdr_bh\", alpha=sig)"
   ]
  },
  {
   "cell_type": "code",
   "execution_count": null,
   "metadata": {},
   "outputs": [],
   "source": [
    "# mask init skill where not significant on corrected p-values\n",
    "acc3d.where(acc_p_3d_fdr_corr <= sig).plot(col=\"lead\", robust=True, yincrease=False)"
   ]
  },
  {
   "cell_type": "code",
   "execution_count": null,
   "metadata": {},
   "outputs": [],
   "source": [
    "# difference due to FDR Benjamini-Hochberg\n",
    "(acc_p_3d_fdr_corr - acc_p_3d).plot(col=\"lead\", robust=True, yincrease=False)"
   ]
  },
  {
   "cell_type": "markdown",
   "metadata": {},
   "source": [
    "FDR Benjamini-Hochberg increases the p-value and therefore reduces the number of significant grid cells."
   ]
  },
  {
   "cell_type": "markdown",
   "metadata": {},
   "source": [
    "### Bootstrapping with replacement"
   ]
  },
  {
   "cell_type": "code",
   "execution_count": null,
   "metadata": {},
   "outputs": [],
   "source": [
    "bootstrapped_acc_3d = bootstrap_perfect_model(\n",
    "    ds3d, control3d, metric=\"pearson_r\", comparison=\"m2e\", bootstrap=10\n",
    ")"
   ]
  },
  {
   "cell_type": "code",
   "execution_count": null,
   "metadata": {},
   "outputs": [],
   "source": [
    "# mask init skill where not significant\n",
    "bootstrapped_acc_3d.sel(kind=\"init\", results=\"skill\").where(\n",
    "    bootstrapped_acc_3d.sel(kind=\"uninit\", results=\"p\") <= sig\n",
    ").plot(col=\"lead\", robust=True, yincrease=False)"
   ]
  },
  {
   "cell_type": "code",
   "execution_count": null,
   "metadata": {},
   "outputs": [],
   "source": [
    "# apply FDR Benjamini-Hochberg\n",
    "_, bootstrapped_acc_p_3d_fdr_corr = multipletests(\n",
    "    bootstrapped_acc_3d.sel(kind=\"uninit\", results=\"p\"), method=\"fdr_bh\", alpha=sig\n",
    ")"
   ]
  },
  {
   "cell_type": "code",
   "execution_count": null,
   "metadata": {},
   "outputs": [],
   "source": [
    "# mask init skill where not significant on corrected p-values\n",
    "bootstrapped_acc_3d.sel(kind=\"init\", results=\"skill\").where(\n",
    "    bootstrapped_acc_p_3d_fdr_corr <= sig\n",
    ").plot(col=\"lead\", robust=True, yincrease=False)"
   ]
  },
  {
   "cell_type": "code",
   "execution_count": null,
   "metadata": {},
   "outputs": [],
   "source": [
    "# difference due to FDR Benjamini-Hochberg\n",
    "(\n",
    "    bootstrapped_acc_p_3d_fdr_corr - bootstrapped_acc_3d.sel(kind=\"uninit\", results=\"p\")\n",
    ").plot(col=\"lead\", robust=True, yincrease=False)"
   ]
  },
  {
   "cell_type": "markdown",
   "metadata": {},
   "source": [
    "FDR Benjamini-Hochberg increases the p-value and therefore reduces the number of significant grid cells."
   ]
  }
 ],
 "metadata": {
  "kernelspec": {
   "display_name": "Python 3",
   "language": "python",
   "name": "python3"
  },
  "language_info": {
   "codemirror_mode": {
    "name": "ipython",
    "version": 3
   },
   "file_extension": ".py",
   "mimetype": "text/x-python",
   "name": "python",
   "nbconvert_exporter": "python",
   "pygments_lexer": "ipython3",
   "version": "3.7.3"
  }
 },
 "nbformat": 4,
 "nbformat_minor": 4
}
