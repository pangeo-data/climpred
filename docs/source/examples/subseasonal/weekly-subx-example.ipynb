{
 "cells": [
  {
   "cell_type": "markdown",
   "metadata": {},
   "source": [
    "## Calculate the skill of a MJO Index as a function of lead time for Weekly Data"
   ]
  },
  {
   "cell_type": "markdown",
   "metadata": {},
   "source": [
    "### In this example, we demonstrate: \n",
    "1. How to remotely access data from the Subseasonal Experiment (SubX) hindcast database and set it up to be used in `climpred`. \n",
    "2. How to calculate the Anomaly Correlation Coefficient (ACC) using weekly data with `climpred`\n",
    "3. How to calculate and plot historical forecast skill of the real-time multivariate MJO (RMM) indices as function of lead time."
   ]
  },
  {
   "cell_type": "markdown",
   "metadata": {},
   "source": [
    "### The Subseasonal Experiment (SubX)\n",
    "\n",
    "Further information on SubX is available from [Pegion et al. 2019](https://journals.ametsoc.org/doi/full/10.1175/BAMS-D-18-0270.1) and the [SubX project website](http://cola.gmu.edu/subx/)\n",
    "\n",
    "The SubX public database is hosted on the International Research Institute for Climate and Society (IRI) data server http://iridl.ldeo.columbia.edu/SOURCES/.Models/.SubX/\n",
    "\n",
    "Since the SubX data server is accessed via this notebook, the time for the notebook to run may is several minutes and will vary depending on the speed that data can be downloaded. This is a large dataset, so please be patient. If you prefer to download SubX data locally, scripts are available from https://github.com/kpegion/SubX."
   ]
  },
  {
   "cell_type": "markdown",
   "metadata": {},
   "source": [
    "### Definitions\n",
    "\n",
    "RMM\n",
    ": Two indices (RMM1 and RMM2) are used to represent the MJO.  Together they define the MJO based on 8 phases and can represent both the phase and amplitude of the MJO (Wheeler and Hendon 2004).  This example uses the observed RMM1 provided by Matthew Wheeler at the Center for Australian Weather and Climate Research.  It is the version of the indices in which interannual variability has not been removed.\n",
    "\n",
    "Skill of RMM\n",
    ": Traditionally, the skill of the RMM is calculated as a bivariate correlation encompassing the skill of the two indices together (Rashid et al. 2010; Gottschalck et al 2010).  Currently, `climpred` does not have the functionality to calculate the bivariate correlation, thus the anomaly correlation coefficient for RMM1 index is calculated here as a demonstration.  The bivariate correlation metric will be added in a future version of `climpred`"
   ]
  },
  {
   "cell_type": "code",
   "execution_count": 1,
   "metadata": {},
   "outputs": [],
   "source": [
    "import warnings\n",
    "\n",
    "import matplotlib.pyplot as plt\n",
    "import xarray as xr\n",
    "import pandas as pd\n",
    "import numpy as np\n",
    "\n",
    "from climpred import HindcastEnsemble\n",
    "import climpred"
   ]
  },
  {
   "cell_type": "code",
   "execution_count": 2,
   "metadata": {},
   "outputs": [],
   "source": [
    "warnings.filterwarnings(\"ignore\")"
   ]
  },
  {
   "cell_type": "markdown",
   "metadata": {},
   "source": [
    "Function to set 360 calendar to 360_day calendar and decode cf times"
   ]
  },
  {
   "cell_type": "code",
   "execution_count": 3,
   "metadata": {},
   "outputs": [],
   "source": [
    "def decode_cf(ds, time_var):\n",
    "    if ds[time_var].attrs['calendar'] == '360':\n",
    "        ds[time_var].attrs['calendar'] = '360_day'\n",
    "    ds = xr.decode_cf(ds, decode_times=True)\n",
    "    return ds"
   ]
  },
  {
   "cell_type": "markdown",
   "metadata": {},
   "source": [
    "Read the observed RMM Indices"
   ]
  },
  {
   "cell_type": "code",
   "execution_count": 4,
   "metadata": {},
   "outputs": [
    {
     "data": {
      "text/html": [
       "<pre>&lt;xarray.Dataset&gt;\n",
       "Dimensions:  (time: 15613)\n",
       "Coordinates:\n",
       "  * time     (time) datetime64[ns] 1974-06-03 1974-06-04 ... 2017-07-24\n",
       "Data variables:\n",
       "    rmm1     (time) float64 ...</pre>"
      ],
      "text/plain": [
       "<xarray.Dataset>\n",
       "Dimensions:  (time: 15613)\n",
       "Coordinates:\n",
       "  * time     (time) datetime64[ns] 1974-06-03 1974-06-04 ... 2017-07-24\n",
       "Data variables:\n",
       "    rmm1     (time) float64 ..."
      ]
     },
     "execution_count": 4,
     "metadata": {},
     "output_type": "execute_result"
    }
   ],
   "source": [
    "obsds = climpred.tutorial.load_dataset('RMM-INTERANN-OBS')['rmm1'].to_dataset()\n",
    "obsds"
   ]
  },
  {
   "cell_type": "markdown",
   "metadata": {},
   "source": [
    "Read the SubX RMM1 data for the GMAO-GEOS_V2p1 model from the SubX data server.  It is important to note that the SubX data contains weekly initialized forecasts where the `init` day varies by model.  SubX data may have all NaNs for initial dates in which a model does not make a forecast, thus we apply `dropna` over the `S=init` dimension when `how=all` data for a given `S=init` is missing.  This can be slow, but allows the rest of the calculations to go more quickly. "
   ]
  },
  {
   "cell_type": "code",
   "execution_count": 5,
   "metadata": {},
   "outputs": [
    {
     "data": {
      "text/html": [
       "<pre>&lt;xarray.Dataset&gt;\n",
       "Dimensions:  (L: 45, M: 4, S: 510)\n",
       "Coordinates:\n",
       "  * S        (S) float32 14245.0 14250.0 14255.0 ... 20439.0 20444.0 20449.0\n",
       "  * M        (M) float32 1.0 2.0 3.0 4.0\n",
       "  * L        (L) float32 0.5 1.5 2.5 3.5 4.5 5.5 ... 40.5 41.5 42.5 43.5 44.5\n",
       "Data variables:\n",
       "    RMM1     (S, M, L) float32 dask.array&lt;chunksize=(1, 4, 45), meta=np.ndarray&gt;\n",
       "Attributes:\n",
       "    Conventions:  IRIDL</pre>"
      ],
      "text/plain": [
       "<xarray.Dataset>\n",
       "Dimensions:  (L: 45, M: 4, S: 510)\n",
       "Coordinates:\n",
       "  * S        (S) float32 14245.0 14250.0 14255.0 ... 20439.0 20444.0 20449.0\n",
       "  * M        (M) float32 1.0 2.0 3.0 4.0\n",
       "  * L        (L) float32 0.5 1.5 2.5 3.5 4.5 5.5 ... 40.5 41.5 42.5 43.5 44.5\n",
       "Data variables:\n",
       "    RMM1     (S, M, L) float32 dask.array<chunksize=(1, 4, 45), meta=np.ndarray>\n",
       "Attributes:\n",
       "    Conventions:  IRIDL"
      ]
     },
     "execution_count": 5,
     "metadata": {},
     "output_type": "execute_result"
    }
   ],
   "source": [
    "url = 'http://iridl.ldeo.columbia.edu/SOURCES/.Models/.SubX/.GMAO/.GEOS_V2p1/.hindcast/.RMM/.RMM1/dods/'\n",
    "fcstds = xr.open_dataset(url, decode_times=False, chunks={'S': 1, 'L': 45}).dropna(dim='S',how='all')\n",
    "fcstds"
   ]
  },
  {
   "cell_type": "markdown",
   "metadata": {},
   "source": [
    "The SubX data dimensions correspond to the following `climpred` dimension definitions: `X=lon`,`L=lead`,`Y=lat`,`M=member`, `S=init`.  We will rename the dimensions to their `climpred` names."
   ]
  },
  {
   "cell_type": "code",
   "execution_count": 6,
   "metadata": {},
   "outputs": [],
   "source": [
    "fcstds=fcstds.rename({'S': 'init','L': 'lead','M': 'member', 'RMM1' : 'rmm1'})"
   ]
  },
  {
   "cell_type": "markdown",
   "metadata": {},
   "source": [
    "Let's make sure that the `lead` dimension is set properly for `climpred`.  SubX data stores `leads` as 0.5, 1.5, 2.5, etc, which correspond to 0, 1, 2, ... days since initialization. We will change the `lead` to be integers starting with zero. "
   ]
  },
  {
   "cell_type": "code",
   "execution_count": 7,
   "metadata": {},
   "outputs": [],
   "source": [
    "fcstds['lead']=(fcstds['lead']-0.5).astype('int')"
   ]
  },
  {
   "cell_type": "markdown",
   "metadata": {},
   "source": [
    "Now we need to make sure that the `init` dimension is set properly for `climpred`.  For daily data, the `init` dimension must be a `xr.cfdateTimeIndex` or a `pd.datetimeIndex`.  We convert the `init` values to `pd.datatimeIndex`."
   ]
  },
  {
   "cell_type": "code",
   "execution_count": 8,
   "metadata": {},
   "outputs": [],
   "source": [
    "fcstds=decode_cf(fcstds,'init')\n",
    "fcstds['init']=pd.to_datetime(fcstds.init.values.astype(str))\n",
    "fcstds['init']=pd.to_datetime(fcstds['init'].dt.strftime('%Y%m%d 00:00'))"
   ]
  },
  {
   "cell_type": "markdown",
   "metadata": {},
   "source": [
    "Make Weekly Averages"
   ]
  },
  {
   "cell_type": "code",
   "execution_count": 9,
   "metadata": {},
   "outputs": [
    {
     "name": "stdout",
     "output_type": "stream",
     "text": [
      "<xarray.Dataset>\n",
      "Dimensions:  (init: 510, lead: 39, member: 4)\n",
      "Coordinates:\n",
      "  * init     (init) datetime64[ns] 1999-01-01 1999-01-06 ... 2015-12-27\n",
      "  * member   (member) float32 1.0 2.0 3.0 4.0\n",
      "  * lead     (lead) int64 6 7 8 9 10 11 12 13 14 ... 36 37 38 39 40 41 42 43 44\n",
      "Data variables:\n",
      "    rmm1     (init, member, lead) float32 dask.array<chunksize=(1, 4, 39), meta=np.ndarray>\n",
      "<xarray.Dataset>\n",
      "Dimensions:  (time: 15456)\n",
      "Coordinates:\n",
      "  * time     (time) datetime64[ns] 1974-06-09 1974-06-10 ... 2017-07-24\n",
      "Data variables:\n",
      "    rmm1     (time) float64 1.336 1.107 0.9046 0.695 ... 0.6265 0.673 0.7352\n"
     ]
    }
   ],
   "source": [
    "fcstweekly=fcstds.rolling(lead=7,center=False).mean().dropna(dim='lead')\n",
    "obsweekly=obsds.rolling(time=7,center=False).mean().dropna(dim='time')\n",
    "print(fcstweekly)\n",
    "print(obsweekly)"
   ]
  },
  {
   "cell_type": "markdown",
   "metadata": {},
   "source": [
    "Create a new `xr.DataArray` for the weekly fcst data"
   ]
  },
  {
   "cell_type": "code",
   "execution_count": 10,
   "metadata": {},
   "outputs": [],
   "source": [
    "nleads=fcstweekly['lead'][::7].size\n",
    "fcstweeklyda=xr.DataArray(fcstweekly['rmm1'][:,:,::7], \n",
    "                           coords={'init' : fcstweekly['init'],\n",
    "                                   'member': fcstweekly['member'],\n",
    "                                   'lead': np.arange(1,nleads+1), \n",
    "                                   },\n",
    "                           dims=['init', 'member','lead'])\n",
    "fcstweeklyda.name = 'rmm1'"
   ]
  },
  {
   "cell_type": "markdown",
   "metadata": {},
   "source": [
    "`climpred` requires that `lead` dimension has an attribute called `units` indicating what time units the `lead` is assocated with.  Options are: `years,seasons,months,weeks,pentads,days`.  The `lead` `units` are `weeks`. "
   ]
  },
  {
   "cell_type": "code",
   "execution_count": 11,
   "metadata": {},
   "outputs": [],
   "source": [
    "fcstweeklyda['lead'].attrs={'units': 'weeks'}"
   ]
  },
  {
   "cell_type": "markdown",
   "metadata": {},
   "source": [
    "Create the `climpred HindcastEnsemble` object and add the observations as the reference/verification"
   ]
  },
  {
   "cell_type": "code",
   "execution_count": 12,
   "metadata": {},
   "outputs": [],
   "source": [
    "hindcast = HindcastEnsemble(fcstweeklyda)\n",
    "hindcast=hindcast.add_reference(obsweekly, 'observations')"
   ]
  },
  {
   "cell_type": "markdown",
   "metadata": {},
   "source": [
    "Calculate the Anomaly Correlation Coefficient (ACC)"
   ]
  },
  {
   "cell_type": "code",
   "execution_count": 13,
   "metadata": {},
   "outputs": [],
   "source": [
    "skill = hindcast.compute_metric(metric='acc')"
   ]
  },
  {
   "cell_type": "markdown",
   "metadata": {},
   "source": [
    "Plot the skill as a function of lead time"
   ]
  },
  {
   "cell_type": "code",
   "execution_count": 14,
   "metadata": {},
   "outputs": [
    {
     "data": {
      "text/plain": [
       "(0.0, 1.0)"
      ]
     },
     "execution_count": 14,
     "metadata": {},
     "output_type": "execute_result"
    },
    {
     "data": {
      "image/png": "[encoded data removed]",
      "text/plain": [
       "<Figure size 432x288 with 1 Axes>"
      ]
     },
     "metadata": {
      "needs_background": "light"
     },
     "output_type": "display_data"
    }
   ],
   "source": [
    "x=np.arange(fcstweeklyda['lead'].size)\n",
    "plt.bar(x,skill['rmm1'])\n",
    "plt.title('GMAO_GOES_V2p1 RMM1 Skill')\n",
    "plt.xlabel('Lead Time (Weeks)')\n",
    "plt.ylabel('ACC')\n",
    "plt.ylim(0.0, 1.0)"
   ]
  },
  {
   "cell_type": "markdown",
   "metadata": {},
   "source": [
    "### References\n",
    "\n",
    "1. Pegion, K., B.P. Kirtman, E. Becker, D.C. Collins, E. LaJoie, R. Burgman, R. Bell, T. DelSole, D. Min, Y. Zhu, W. Li, E. Sinsky, H. Guan, J. Gottschalck, E.J. Metzger, N.P. Barton, D. Achuthavarier, J. Marshak, R.D. Koster, H. Lin, N. Gagnon, M. Bell, M.K. Tippett, A.W. Robertson, S. Sun, S.G. Benjamin, B.W. Green, R. Bleck, and H. Kim, 2019: The Subseasonal Experiment (SubX): A Multimodel Subseasonal Prediction Experiment. Bull. Amer. Meteor. Soc., 100, 2043–2060, https://doi.org/10.1175/BAMS-D-18-0270.1\n",
    "\n",
    "2. Kirtman, B. P., Pegion, K., DelSole, T., Tippett, M., Robertson, A. W., Bell, M., … Green, B. W. (2017). The Subseasonal Experiment (SubX) [Data set]. IRI Data Library. https://doi.org/10.7916/D8PG249H\n",
    "\n",
    "3. Wheeler, M. C., & Hendon, H. H. (2004). An all-season real-time multivariate MJO index: Development of an index for monitoring and prediction. Monthly Weather Review, 132(8), 1917–1932. http://doi.org/10.1175/1520-0493(2004)132<1917:AARMMI>2.0.CO;2\n",
    "\n",
    "4. Rashid, H. A., Hendon, H. H., Wheeler, M. C., & Alves, O. (2010). Prediction of the Madden–Julian oscillation with the POAMA dynamical prediction system. Climate Dynamics, 36(3-4), 649–661. http://doi.org/10.1007/s00382-010-0754-x\n",
    "\n",
    "5. Gottschalck, J., Wheeler, M., Weickmann, K., Vitart, F., Savage, N., Lin, H., et al. (2010). A Framework for Assessing Operational Madden–Julian Oscillation Forecasts: A CLIVAR MJO Working Group Project. Bulletin of the American Meteorological Society, 91(9), 1247–1258. http://doi.org/10.1175/2010BAMS2816.1"
   ]
  }
 ],
 "metadata": {
  "kernelspec": {
   "display_name": "climpred-dev",
   "language": "python",
   "name": "climpred-dev"
  },
  "language_info": {
   "codemirror_mode": {
    "name": "ipython",
    "version": 3
   },
   "file_extension": ".py",
   "mimetype": "text/x-python",
   "name": "python",
   "nbconvert_exporter": "python",
   "pygments_lexer": "ipython3",
   "version": "3.6.7"
  }
 },
 "nbformat": 4,
 "nbformat_minor": 4
}
