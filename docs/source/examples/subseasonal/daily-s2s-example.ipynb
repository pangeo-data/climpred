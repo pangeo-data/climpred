{
 "cells": [
  {
   "cell_type": "markdown",
   "metadata": {},
   "source": [
    "## Calculate the skill of a MJO Index as a function of lead time from the S2S project"
   ]
  },
  {
   "cell_type": "code",
   "execution_count": 1,
   "metadata": {},
   "outputs": [
    {
     "data": {
      "application/javascript": [
       "\n",
       "            setTimeout(function() {\n",
       "                var nbb_cell_id = 1;\n",
       "                var nbb_unformatted_code = \"# linting\\n%load_ext nb_black\\n%load_ext lab_black\";\n",
       "                var nbb_formatted_code = \"# linting\\n%load_ext nb_black\\n%load_ext lab_black\";\n",
       "                var nbb_cells = Jupyter.notebook.get_cells();\n",
       "                for (var i = 0; i < nbb_cells.length; ++i) {\n",
       "                    if (nbb_cells[i].input_prompt_number == nbb_cell_id) {\n",
       "                        if (nbb_cells[i].get_text() == nbb_unformatted_code) {\n",
       "                             nbb_cells[i].set_text(nbb_formatted_code);\n",
       "                        }\n",
       "                        break;\n",
       "                    }\n",
       "                }\n",
       "            }, 500);\n",
       "            "
      ],
      "text/plain": [
       "<IPython.core.display.Javascript object>"
      ]
     },
     "metadata": {},
     "output_type": "display_data"
    }
   ],
   "source": [
    "# linting\n",
    "%load_ext nb_black\n",
    "%load_ext lab_black"
   ]
  },
  {
   "cell_type": "code",
   "execution_count": 3,
   "metadata": {},
   "outputs": [],
   "source": [
    "import xarray as xr\n",
    "xr.set_options(display_style=\"html\")\n",
    "\n",
    "import numpy as np\n",
    "import matplotlib.pyplot as plt\n",
    "from climpred import HindcastEnsemble\n",
    "import climpred"
   ]
  },
  {
   "cell_type": "markdown",
   "metadata": {},
   "source": [
    "IRIDL hosts various subseasonal initialized forecast and hindcast simulations:\n",
    "- `S2S project`:\n",
    "    - http://iridl.ldeo.columbia.edu/SOURCES/.ECMWF/.S2S/\n",
    "        - hindcast/reforecast: one variable, one model: ~ 80 GB\n",
    "        - login required\n",
    "- `SubX project`:\n",
    "    - http://iridl.ldeo.columbia.edu/SOURCES/.Models/.SubX/\n",
    "        - hindcast/reforecast: one variable, one model: ~ 100 GB\n",
    "        - login not required\n",
    "\n",
    "---"
   ]
  },
  {
   "cell_type": "markdown",
   "metadata": {},
   "source": [
    "Here, we demonstrate how to set a cookie for IRIDL and access the skill of RMM1 subseasonal reforecasts.\n",
    "\n",
    "---"
   ]
  },
  {
   "cell_type": "markdown",
   "metadata": {},
   "source": [
    "Here are instructions for configuring xarray to open protected Data Library datasets, after you have created a Data Library account and accepted the terms and conditions for the dataset.\n",
    "1. Visit https://iridl.ldeo.columbia.edu/auth/genkey . Log in to the Data Library. Copy the key from the response.\n",
    "\n",
    "2. Create a file with the following content, substituting the key from step 1 for `\"xxxx\"`:\n",
    "`Set-Cookie: __dlauth_id=xxxx; domain=.iridl.ldeo.columbia.edu`\n",
    "\n",
    "3. Put the following in `~/.daprc`, which is `/home/jovyan/.daprc` on renku, substituting the path to the above file for `/path/to/cookie/file`:\n",
    "`HTTP.COOKIEJAR=/path/to/cookie/file`. You may need to copy `.daprc` to `/home/jovyan` on renku, because `/home/jovyan` is not tracked by `git`."
   ]
  },
  {
   "cell_type": "code",
   "execution_count": 2,
   "metadata": {},
   "outputs": [
    {
     "name": "stdout",
     "output_type": "stream",
     "text": [
      "HTTP.COOKIEJAR=/Users/aaron.spring/.cookie_iridl\n"
     ]
    }
   ],
   "source": [
    "!cat ~/.daprc"
   ]
  },
  {
   "cell_type": "code",
   "execution_count": 3,
   "metadata": {},
   "outputs": [],
   "source": [
    "#%writefile ~/.cookie_iridl\n",
    "#Set-Cookie: __dlauth_id=xxxx; domain=.iridl.ldeo.columbia.edu"
   ]
  },
  {
   "cell_type": "code",
   "execution_count": 4,
   "metadata": {},
   "outputs": [
    {
     "data": {
      "application/javascript": [
       "\n",
       "            setTimeout(function() {\n",
       "                var nbb_cell_id = 4;\n",
       "                var nbb_unformatted_code = \"# observations\\nobsds = climpred.tutorial.load_dataset('RMM-INTERANN-OBS')['rmm1'].to_dataset()\\nobsds = obsds.dropna('time').sel(time=slice('1995',None)) # Get rid of missing times.\";\n",
       "                var nbb_formatted_code = \"# observations\\nobsds = climpred.tutorial.load_dataset(\\\"RMM-INTERANN-OBS\\\")[\\\"rmm1\\\"].to_dataset()\\nobsds = obsds.dropna(\\\"time\\\").sel(time=slice(\\\"1995\\\", None))  # Get rid of missing times.\";\n",
       "                var nbb_cells = Jupyter.notebook.get_cells();\n",
       "                for (var i = 0; i < nbb_cells.length; ++i) {\n",
       "                    if (nbb_cells[i].input_prompt_number == nbb_cell_id) {\n",
       "                        if (nbb_cells[i].get_text() == nbb_unformatted_code) {\n",
       "                             nbb_cells[i].set_text(nbb_formatted_code);\n",
       "                        }\n",
       "                        break;\n",
       "                    }\n",
       "                }\n",
       "            }, 500);\n",
       "            "
      ],
      "text/plain": [
       "<IPython.core.display.Javascript object>"
      ]
     },
     "metadata": {},
     "output_type": "display_data"
    }
   ],
   "source": [
    "# observations\n",
    "obsds = climpred.tutorial.load_dataset(\"RMM-INTERANN-OBS\")[\"rmm1\"].to_dataset()\n",
    "obsds = obsds.dropna(\"time\").sel(time=slice(\"1995\", None))  # Get rid of missing times."
   ]
  },
  {
   "cell_type": "markdown",
   "metadata": {},
   "source": [
    "## \"on-the-fly\" reforecasts\n",
    "S2S models:\n",
    "- ECMF\n",
    "- ECCC\n",
    "- ..."
   ]
  },
  {
   "cell_type": "markdown",
   "metadata": {},
   "source": [
    "There are a set of reforecasts of the ECMWF model that match each real time forecast. They are made \"on the fly\" when a real time forecast is issued. So for S=0000 8 Feb 2021, there are reforecasts initialized on 0000 8 Feb 2020 and the 19 previous years on 8 Feb."
   ]
  },
  {
   "cell_type": "code",
   "execution_count": 5,
   "metadata": {},
   "outputs": [
    {
     "name": "stdout",
     "output_type": "stream",
     "text": [
      "CPU times: user 972 ms, sys: 1.94 s, total: 2.91 s\n",
      "Wall time: 5min 3s\n"
     ]
    },
    {
     "data": {
      "application/javascript": [
       "\n",
       "            setTimeout(function() {\n",
       "                var nbb_cell_id = 5;\n",
       "                var nbb_unformatted_code = \"%%time\\nds = xr.open_dataset('https://iridl.ldeo.columbia.edu/SOURCES/.ECMWF/.S2S/.ECMF/.reforecast/.RMMS/.ensembles/.RMM1/dods',\\n                    decode_times=False, chunks=None).compute()\";\n",
       "                var nbb_formatted_code = \"%%time\\nds = xr.open_dataset('https://iridl.ldeo.columbia.edu/SOURCES/.ECMWF/.S2S/.ECMF/.reforecast/.RMMS/.ensembles/.RMM1/dods',\\n                    decode_times=False, chunks=None).compute()\";\n",
       "                var nbb_cells = Jupyter.notebook.get_cells();\n",
       "                for (var i = 0; i < nbb_cells.length; ++i) {\n",
       "                    if (nbb_cells[i].input_prompt_number == nbb_cell_id) {\n",
       "                        if (nbb_cells[i].get_text() == nbb_unformatted_code) {\n",
       "                             nbb_cells[i].set_text(nbb_formatted_code);\n",
       "                        }\n",
       "                        break;\n",
       "                    }\n",
       "                }\n",
       "            }, 500);\n",
       "            "
      ],
      "text/plain": [
       "<IPython.core.display.Javascript object>"
      ]
     },
     "metadata": {},
     "output_type": "display_data"
    }
   ],
   "source": [
    "%%time\n",
    "ds = xr.open_dataset('https://iridl.ldeo.columbia.edu/SOURCES/.ECMWF/.S2S/.ECMF/.reforecast/.RMMS/.ensembles/.RMM1/dods',\n",
    "                    decode_times=False, chunks=None).compute()"
   ]
  },
  {
   "cell_type": "code",
   "execution_count": 6,
   "metadata": {},
   "outputs": [
    {
     "data": {
      "application/javascript": [
       "\n",
       "            setTimeout(function() {\n",
       "                var nbb_cell_id = 6;\n",
       "                var nbb_unformatted_code = \"# calendar '360' not recognized, but '360_day'\\nif ds.hdate.attrs['calendar']=='360':\\n    ds.hdate.attrs['calendar']='360_day'\";\n",
       "                var nbb_formatted_code = \"# calendar '360' not recognized, but '360_day'\\nif ds.hdate.attrs[\\\"calendar\\\"] == \\\"360\\\":\\n    ds.hdate.attrs[\\\"calendar\\\"] = \\\"360_day\\\"\";\n",
       "                var nbb_cells = Jupyter.notebook.get_cells();\n",
       "                for (var i = 0; i < nbb_cells.length; ++i) {\n",
       "                    if (nbb_cells[i].input_prompt_number == nbb_cell_id) {\n",
       "                        if (nbb_cells[i].get_text() == nbb_unformatted_code) {\n",
       "                             nbb_cells[i].set_text(nbb_formatted_code);\n",
       "                        }\n",
       "                        break;\n",
       "                    }\n",
       "                }\n",
       "            }, 500);\n",
       "            "
      ],
      "text/plain": [
       "<IPython.core.display.Javascript object>"
      ]
     },
     "metadata": {},
     "output_type": "display_data"
    }
   ],
   "source": [
    "# calendar '360' not recognized, but '360_day'\n",
    "if ds.hdate.attrs[\"calendar\"] == \"360\":\n",
    "    ds.hdate.attrs[\"calendar\"] = \"360_day\""
   ]
  },
  {
   "cell_type": "code",
   "execution_count": 7,
   "metadata": {},
   "outputs": [
    {
     "data": {
      "application/javascript": [
       "\n",
       "            setTimeout(function() {\n",
       "                var nbb_cell_id = 7;\n",
       "                var nbb_unformatted_code = \"fcstds = ds.rename({'S': 'init','L': 'lead','M': 'member', 'RMM1' : 'rmm1'})\";\n",
       "                var nbb_formatted_code = \"fcstds = ds.rename({\\\"S\\\": \\\"init\\\", \\\"L\\\": \\\"lead\\\", \\\"M\\\": \\\"member\\\", \\\"RMM1\\\": \\\"rmm1\\\"})\";\n",
       "                var nbb_cells = Jupyter.notebook.get_cells();\n",
       "                for (var i = 0; i < nbb_cells.length; ++i) {\n",
       "                    if (nbb_cells[i].input_prompt_number == nbb_cell_id) {\n",
       "                        if (nbb_cells[i].get_text() == nbb_unformatted_code) {\n",
       "                             nbb_cells[i].set_text(nbb_formatted_code);\n",
       "                        }\n",
       "                        break;\n",
       "                    }\n",
       "                }\n",
       "            }, 500);\n",
       "            "
      ],
      "text/plain": [
       "<IPython.core.display.Javascript object>"
      ]
     },
     "metadata": {},
     "output_type": "display_data"
    }
   ],
   "source": [
    "fcstds = ds.rename({\"S\": \"init\", \"L\": \"lead\", \"M\": \"member\", \"RMM1\": \"rmm1\"})"
   ]
  },
  {
   "cell_type": "code",
   "execution_count": 8,
   "metadata": {},
   "outputs": [
    {
     "data": {
      "application/javascript": [
       "\n",
       "            setTimeout(function() {\n",
       "                var nbb_cell_id = 8;\n",
       "                var nbb_unformatted_code = \"fcstds['lead'] = np.arange(1,1+fcstds['lead'].size)\\nfcstds['lead'].attrs={'units': 'days'}\";\n",
       "                var nbb_formatted_code = \"fcstds[\\\"lead\\\"] = np.arange(1, 1 + fcstds[\\\"lead\\\"].size)\\nfcstds[\\\"lead\\\"].attrs = {\\\"units\\\": \\\"days\\\"}\";\n",
       "                var nbb_cells = Jupyter.notebook.get_cells();\n",
       "                for (var i = 0; i < nbb_cells.length; ++i) {\n",
       "                    if (nbb_cells[i].input_prompt_number == nbb_cell_id) {\n",
       "                        if (nbb_cells[i].get_text() == nbb_unformatted_code) {\n",
       "                             nbb_cells[i].set_text(nbb_formatted_code);\n",
       "                        }\n",
       "                        break;\n",
       "                    }\n",
       "                }\n",
       "            }, 500);\n",
       "            "
      ],
      "text/plain": [
       "<IPython.core.display.Javascript object>"
      ]
     },
     "metadata": {},
     "output_type": "display_data"
    }
   ],
   "source": [
    "fcstds[\"lead\"] = np.arange(1, 1 + fcstds[\"lead\"].size)\n",
    "fcstds[\"lead\"].attrs = {\"units\": \"days\"}"
   ]
  },
  {
   "cell_type": "code",
   "execution_count": 9,
   "metadata": {},
   "outputs": [
    {
     "data": {
      "text/plain": [
       "Coordinates:\n",
       "  * init     (init) datetime64[ns] 2015-05-14 2015-05-15 ... 2021-02-15\n",
       "  * member   (member) float32 0.0 1.0 2.0 3.0 4.0 5.0 6.0 7.0 8.0 9.0 10.0\n",
       "  * lead     (lead) timedelta64[ns] 1 days 2 days 3 days ... 45 days 46 days\n",
       "  * hdate    (hdate) object 1995-07-01 00:00:00 ... 2020-07-01 00:00:00"
      ]
     },
     "execution_count": 9,
     "metadata": {},
     "output_type": "execute_result"
    },
    {
     "data": {
      "application/javascript": [
       "\n",
       "            setTimeout(function() {\n",
       "                var nbb_cell_id = 9;\n",
       "                var nbb_unformatted_code = \"fcstds = xr.decode_cf(fcstds)\\nfcstds.coords\";\n",
       "                var nbb_formatted_code = \"fcstds = xr.decode_cf(fcstds)\\nfcstds.coords\";\n",
       "                var nbb_cells = Jupyter.notebook.get_cells();\n",
       "                for (var i = 0; i < nbb_cells.length; ++i) {\n",
       "                    if (nbb_cells[i].input_prompt_number == nbb_cell_id) {\n",
       "                        if (nbb_cells[i].get_text() == nbb_unformatted_code) {\n",
       "                             nbb_cells[i].set_text(nbb_formatted_code);\n",
       "                        }\n",
       "                        break;\n",
       "                    }\n",
       "                }\n",
       "            }, 500);\n",
       "            "
      ],
      "text/plain": [
       "<IPython.core.display.Javascript object>"
      ]
     },
     "metadata": {},
     "output_type": "display_data"
    }
   ],
   "source": [
    "fcstds = xr.decode_cf(fcstds)\n",
    "fcstds.coords"
   ]
  },
  {
   "cell_type": "markdown",
   "metadata": {},
   "source": [
    "The S2S data dimensions correspond to the following `climpred` dimension definitions: `M=member`, `S=init`.  We will rename the dimensions to their `climpred` names."
   ]
  },
  {
   "cell_type": "code",
   "execution_count": 217,
   "metadata": {},
   "outputs": [],
   "source": [
    "# save time\n",
    "#fcstds.to_netcdf('fcstds.nc')\n",
    "#fcstds = xr.open_dataset('fcstds.nc',use_cftime=True)"
   ]
  },
  {
   "cell_type": "markdown",
   "metadata": {},
   "source": [
    "### Skill for a single `init.dayofyear`"
   ]
  },
  {
   "cell_type": "code",
   "execution_count": 11,
   "metadata": {},
   "outputs": [
    {
     "data": {
      "text/plain": [
       "<matplotlib.collections.QuadMesh at 0x7fc083488fd0>"
      ]
     },
     "execution_count": 11,
     "metadata": {},
     "output_type": "execute_result"
    },
    {
     "data": {
      "image/png": "[encoded data removed]",
      "text/plain": [
       "<Figure size 432x288 with 2 Axes>"
      ]
     },
     "metadata": {
      "needs_background": "light"
     },
     "output_type": "display_data"
    },
    {
     "data": {
      "application/javascript": [
       "\n",
       "            setTimeout(function() {\n",
       "                var nbb_cell_id = 11;\n",
       "                var nbb_unformatted_code = \"d='08'\\nm='02'\\ny='2021'\\n\\nfcstds.sel(init=f'{y}-{m}-{d}').squeeze().rmm1.mean('member').plot()\";\n",
       "                var nbb_formatted_code = \"d = \\\"08\\\"\\nm = \\\"02\\\"\\ny = \\\"2021\\\"\\n\\nfcstds.sel(init=f\\\"{y}-{m}-{d}\\\").squeeze().rmm1.mean(\\\"member\\\").plot()\";\n",
       "                var nbb_cells = Jupyter.notebook.get_cells();\n",
       "                for (var i = 0; i < nbb_cells.length; ++i) {\n",
       "                    if (nbb_cells[i].input_prompt_number == nbb_cell_id) {\n",
       "                        if (nbb_cells[i].get_text() == nbb_unformatted_code) {\n",
       "                             nbb_cells[i].set_text(nbb_formatted_code);\n",
       "                        }\n",
       "                        break;\n",
       "                    }\n",
       "                }\n",
       "            }, 500);\n",
       "            "
      ],
      "text/plain": [
       "<IPython.core.display.Javascript object>"
      ]
     },
     "metadata": {},
     "output_type": "display_data"
    }
   ],
   "source": [
    "d = \"08\"\n",
    "m = \"02\"\n",
    "y = \"2021\"\n",
    "\n",
    "fcstds.sel(init=f\"{y}-{m}-{d}\").squeeze().rmm1.mean(\"member\").plot()"
   ]
  },
  {
   "cell_type": "code",
   "execution_count": 12,
   "metadata": {},
   "outputs": [
    {
     "data": {
      "application/javascript": [
       "\n",
       "            setTimeout(function() {\n",
       "                var nbb_cell_id = 12;\n",
       "                var nbb_unformatted_code = \"import cftime\\n# create a new init coordinate\\nnew_init = xr.concat([xr.DataArray(cftime.DatetimeProlepticGregorian(int(h.dt.year.values),int(m),int(d))) for h in fcstds.hdate],'init')\\n\\n# select new inits for same dayofyear, drop all NaNs\\nfcstds_date = fcstds.sel(init=f'{y}-{m}-{d}',drop=True).squeeze(drop=True).assign_coords(hdate=new_init).rename({'hdate':'init'}).dropna('init',how='all')\";\n",
       "                var nbb_formatted_code = \"import cftime\\n\\n# create a new init coordinate\\nnew_init = xr.concat(\\n    [\\n        xr.DataArray(\\n            cftime.DatetimeProlepticGregorian(int(h.dt.year.values), int(m), int(d))\\n        )\\n        for h in fcstds.hdate\\n    ],\\n    \\\"init\\\",\\n)\\n\\n# select new inits for same dayofyear, drop all NaNs\\nfcstds_date = (\\n    fcstds.sel(init=f\\\"{y}-{m}-{d}\\\", drop=True)\\n    .squeeze(drop=True)\\n    .assign_coords(hdate=new_init)\\n    .rename({\\\"hdate\\\": \\\"init\\\"})\\n    .dropna(\\\"init\\\", how=\\\"all\\\")\\n)\";\n",
       "                var nbb_cells = Jupyter.notebook.get_cells();\n",
       "                for (var i = 0; i < nbb_cells.length; ++i) {\n",
       "                    if (nbb_cells[i].input_prompt_number == nbb_cell_id) {\n",
       "                        if (nbb_cells[i].get_text() == nbb_unformatted_code) {\n",
       "                             nbb_cells[i].set_text(nbb_formatted_code);\n",
       "                        }\n",
       "                        break;\n",
       "                    }\n",
       "                }\n",
       "            }, 500);\n",
       "            "
      ],
      "text/plain": [
       "<IPython.core.display.Javascript object>"
      ]
     },
     "metadata": {},
     "output_type": "display_data"
    }
   ],
   "source": [
    "import cftime\n",
    "\n",
    "# create a new init coordinate\n",
    "new_init = xr.concat(\n",
    "    [\n",
    "        xr.DataArray(\n",
    "            cftime.DatetimeProlepticGregorian(int(h.dt.year.values), int(m), int(d))\n",
    "        )\n",
    "        for h in fcstds.hdate\n",
    "    ],\n",
    "    \"init\",\n",
    ")\n",
    "\n",
    "# select new inits for same dayofyear, drop all NaNs\n",
    "fcstds_date = (\n",
    "    fcstds.sel(init=f\"{y}-{m}-{d}\", drop=True)\n",
    "    .squeeze(drop=True)\n",
    "    .assign_coords(hdate=new_init)\n",
    "    .rename({\"hdate\": \"init\"})\n",
    "    .dropna(\"init\", how=\"all\")\n",
    ")"
   ]
  },
  {
   "cell_type": "code",
   "execution_count": 19,
   "metadata": {},
   "outputs": [
    {
     "data": {
      "application/javascript": [
       "\n",
       "            setTimeout(function() {\n",
       "                var nbb_cell_id = 19;\n",
       "                var nbb_unformatted_code = \"fcstds_date[\\\"lead\\\"] = np.arange(1, 1 + fcstds_date[\\\"lead\\\"].size)\\nfcstds_date.lead.attrs[\\\"units\\\"] = \\\"days\\\"\";\n",
       "                var nbb_formatted_code = \"fcstds_date[\\\"lead\\\"] = np.arange(1, 1 + fcstds_date[\\\"lead\\\"].size)\\nfcstds_date.lead.attrs[\\\"units\\\"] = \\\"days\\\"\";\n",
       "                var nbb_cells = Jupyter.notebook.get_cells();\n",
       "                for (var i = 0; i < nbb_cells.length; ++i) {\n",
       "                    if (nbb_cells[i].input_prompt_number == nbb_cell_id) {\n",
       "                        if (nbb_cells[i].get_text() == nbb_unformatted_code) {\n",
       "                             nbb_cells[i].set_text(nbb_formatted_code);\n",
       "                        }\n",
       "                        break;\n",
       "                    }\n",
       "                }\n",
       "            }, 500);\n",
       "            "
      ],
      "text/plain": [
       "<IPython.core.display.Javascript object>"
      ]
     },
     "metadata": {},
     "output_type": "display_data"
    }
   ],
   "source": [
    "fcstds_date[\"lead\"] = np.arange(1, 1 + fcstds_date[\"lead\"].size)\n",
    "fcstds_date.lead.attrs[\"units\"] = \"days\""
   ]
  },
  {
   "cell_type": "code",
   "execution_count": 20,
   "metadata": {},
   "outputs": [
    {
     "data": {
      "application/javascript": [
       "\n",
       "            setTimeout(function() {\n",
       "                var nbb_cell_id = 20;\n",
       "                var nbb_unformatted_code = \"hindcast = HindcastEnsemble(fcstds_date)\\nhindcast = hindcast.add_observations(obsds)\";\n",
       "                var nbb_formatted_code = \"hindcast = HindcastEnsemble(fcstds_date)\\nhindcast = hindcast.add_observations(obsds)\";\n",
       "                var nbb_cells = Jupyter.notebook.get_cells();\n",
       "                for (var i = 0; i < nbb_cells.length; ++i) {\n",
       "                    if (nbb_cells[i].input_prompt_number == nbb_cell_id) {\n",
       "                        if (nbb_cells[i].get_text() == nbb_unformatted_code) {\n",
       "                             nbb_cells[i].set_text(nbb_formatted_code);\n",
       "                        }\n",
       "                        break;\n",
       "                    }\n",
       "                }\n",
       "            }, 500);\n",
       "            "
      ],
      "text/plain": [
       "<IPython.core.display.Javascript object>"
      ]
     },
     "metadata": {},
     "output_type": "display_data"
    }
   ],
   "source": [
    "hindcast = HindcastEnsemble(fcstds_date)\n",
    "hindcast = hindcast.add_observations(obsds)"
   ]
  },
  {
   "cell_type": "code",
   "execution_count": 21,
   "metadata": {},
   "outputs": [
    {
     "name": "stdout",
     "output_type": "stream",
     "text": [
      "CPU times: user 1.51 s, sys: 11.3 ms, total: 1.52 s\n",
      "Wall time: 1.55 s\n"
     ]
    },
    {
     "data": {
      "application/javascript": [
       "\n",
       "            setTimeout(function() {\n",
       "                var nbb_cell_id = 21;\n",
       "                var nbb_unformatted_code = \"%time skill = hindcast.verify(metric='acc', comparison='e2o', dim='init', alignment='maximize')\";\n",
       "                var nbb_formatted_code = \"%time skill = hindcast.verify(metric='acc', comparison='e2o', dim='init', alignment='maximize')\";\n",
       "                var nbb_cells = Jupyter.notebook.get_cells();\n",
       "                for (var i = 0; i < nbb_cells.length; ++i) {\n",
       "                    if (nbb_cells[i].input_prompt_number == nbb_cell_id) {\n",
       "                        if (nbb_cells[i].get_text() == nbb_unformatted_code) {\n",
       "                             nbb_cells[i].set_text(nbb_formatted_code);\n",
       "                        }\n",
       "                        break;\n",
       "                    }\n",
       "                }\n",
       "            }, 500);\n",
       "            "
      ],
      "text/plain": [
       "<IPython.core.display.Javascript object>"
      ]
     },
     "metadata": {},
     "output_type": "display_data"
    }
   ],
   "source": [
    "%time skill = hindcast.verify(metric='acc', comparison='e2o', dim='init', alignment='maximize')"
   ]
  },
  {
   "cell_type": "code",
   "execution_count": 22,
   "metadata": {},
   "outputs": [
    {
     "data": {
      "text/plain": [
       "Text(0.5, 1.0, 'RMM1 daily initialized 02-08 ACC')"
      ]
     },
     "execution_count": 22,
     "metadata": {},
     "output_type": "execute_result"
    },
    {
     "data": {
      "image/png": "[encoded data removed]",
      "text/plain": [
       "<Figure size 432x288 with 1 Axes>"
      ]
     },
     "metadata": {
      "needs_background": "light"
     },
     "output_type": "display_data"
    },
    {
     "data": {
      "application/javascript": [
       "\n",
       "            setTimeout(function() {\n",
       "                var nbb_cell_id = 22;\n",
       "                var nbb_unformatted_code = \"skill.rmm1.plot()\\nplt.title(f'RMM1 daily initialized {m}-{d} ACC')\";\n",
       "                var nbb_formatted_code = \"skill.rmm1.plot()\\nplt.title(f\\\"RMM1 daily initialized {m}-{d} ACC\\\")\";\n",
       "                var nbb_cells = Jupyter.notebook.get_cells();\n",
       "                for (var i = 0; i < nbb_cells.length; ++i) {\n",
       "                    if (nbb_cells[i].input_prompt_number == nbb_cell_id) {\n",
       "                        if (nbb_cells[i].get_text() == nbb_unformatted_code) {\n",
       "                             nbb_cells[i].set_text(nbb_formatted_code);\n",
       "                        }\n",
       "                        break;\n",
       "                    }\n",
       "                }\n",
       "            }, 500);\n",
       "            "
      ],
      "text/plain": [
       "<IPython.core.display.Javascript object>"
      ]
     },
     "metadata": {},
     "output_type": "display_data"
    }
   ],
   "source": [
    "skill.rmm1.plot()\n",
    "plt.title(f\"RMM1 daily initialized {m}-{d} ACC\")"
   ]
  },
  {
   "cell_type": "markdown",
   "metadata": {},
   "source": [
    "### skill over all inits\n",
    "create large dataarray with all `hdate` stacked into `init`"
   ]
  },
  {
   "cell_type": "code",
   "execution_count": 23,
   "metadata": {},
   "outputs": [
    {
     "data": {
      "application/javascript": [
       "\n",
       "            setTimeout(function() {\n",
       "                var nbb_cell_id = 23;\n",
       "                var nbb_unformatted_code = \"fcstds_dates=[]\\nfor s in fcstds.init:\\n    d=str(s.init.dt.day.values).zfill(2)\\n    m=str(s.init.dt.month.values).zfill(2)\\n    y=s.init.dt.year.values\\n    if d=='29' and m=='02':\\n        continue\\n    new_init = xr.concat([xr.DataArray(cftime.DatetimeProlepticGregorian(int(h.dt.year.values),int(m),int(d))) for h in fcstds.hdate],'init')\\n    # select new inits for same dayofyear, drop all NaNs\\n    fcstds_date = fcstds.sel(init=f'{y}-{m}-{d}',drop=True).squeeze(drop=True).assign_coords(hdate=new_init).rename({'hdate':'init'}).dropna('init',how='all')\\n    if fcstds_date.init.size > 0:\\n        fcstds_dates.append(fcstds_date)\\n        #print('add',d,m,y)\";\n",
       "                var nbb_formatted_code = \"fcstds_dates = []\\nfor s in fcstds.init:\\n    d = str(s.init.dt.day.values).zfill(2)\\n    m = str(s.init.dt.month.values).zfill(2)\\n    y = s.init.dt.year.values\\n    if d == \\\"29\\\" and m == \\\"02\\\":\\n        continue\\n    new_init = xr.concat(\\n        [\\n            xr.DataArray(\\n                cftime.DatetimeProlepticGregorian(int(h.dt.year.values), int(m), int(d))\\n            )\\n            for h in fcstds.hdate\\n        ],\\n        \\\"init\\\",\\n    )\\n    # select new inits for same dayofyear, drop all NaNs\\n    fcstds_date = (\\n        fcstds.sel(init=f\\\"{y}-{m}-{d}\\\", drop=True)\\n        .squeeze(drop=True)\\n        .assign_coords(hdate=new_init)\\n        .rename({\\\"hdate\\\": \\\"init\\\"})\\n        .dropna(\\\"init\\\", how=\\\"all\\\")\\n    )\\n    if fcstds_date.init.size > 0:\\n        fcstds_dates.append(fcstds_date)\\n        # print('add',d,m,y)\";\n",
       "                var nbb_cells = Jupyter.notebook.get_cells();\n",
       "                for (var i = 0; i < nbb_cells.length; ++i) {\n",
       "                    if (nbb_cells[i].input_prompt_number == nbb_cell_id) {\n",
       "                        if (nbb_cells[i].get_text() == nbb_unformatted_code) {\n",
       "                             nbb_cells[i].set_text(nbb_formatted_code);\n",
       "                        }\n",
       "                        break;\n",
       "                    }\n",
       "                }\n",
       "            }, 500);\n",
       "            "
      ],
      "text/plain": [
       "<IPython.core.display.Javascript object>"
      ]
     },
     "metadata": {},
     "output_type": "display_data"
    }
   ],
   "source": [
    "fcstds_dates = []\n",
    "for s in fcstds.init:\n",
    "    d = str(s.init.dt.day.values).zfill(2)\n",
    "    m = str(s.init.dt.month.values).zfill(2)\n",
    "    y = s.init.dt.year.values\n",
    "    if d == \"29\" and m == \"02\":\n",
    "        continue\n",
    "    new_init = xr.concat(\n",
    "        [\n",
    "            xr.DataArray(\n",
    "                cftime.DatetimeProlepticGregorian(int(h.dt.year.values), int(m), int(d))\n",
    "            )\n",
    "            for h in fcstds.hdate\n",
    "        ],\n",
    "        \"init\",\n",
    "    )\n",
    "    # select new inits for same dayofyear, drop all NaNs\n",
    "    fcstds_date = (\n",
    "        fcstds.sel(init=f\"{y}-{m}-{d}\", drop=True)\n",
    "        .squeeze(drop=True)\n",
    "        .assign_coords(hdate=new_init)\n",
    "        .rename({\"hdate\": \"init\"})\n",
    "        .dropna(\"init\", how=\"all\")\n",
    "    )\n",
    "    if fcstds_date.init.size > 0:\n",
    "        fcstds_dates.append(fcstds_date)\n",
    "        # print('add',d,m,y)"
   ]
  },
  {
   "cell_type": "code",
   "execution_count": 24,
   "metadata": {},
   "outputs": [
    {
     "data": {
      "application/javascript": [
       "\n",
       "            setTimeout(function() {\n",
       "                var nbb_cell_id = 24;\n",
       "                var nbb_unformatted_code = \"fcstds_dates = xr.concat(fcstds_dates, 'init')\";\n",
       "                var nbb_formatted_code = \"fcstds_dates = xr.concat(fcstds_dates, \\\"init\\\")\";\n",
       "                var nbb_cells = Jupyter.notebook.get_cells();\n",
       "                for (var i = 0; i < nbb_cells.length; ++i) {\n",
       "                    if (nbb_cells[i].input_prompt_number == nbb_cell_id) {\n",
       "                        if (nbb_cells[i].get_text() == nbb_unformatted_code) {\n",
       "                             nbb_cells[i].set_text(nbb_formatted_code);\n",
       "                        }\n",
       "                        break;\n",
       "                    }\n",
       "                }\n",
       "            }, 500);\n",
       "            "
      ],
      "text/plain": [
       "<IPython.core.display.Javascript object>"
      ]
     },
     "metadata": {},
     "output_type": "display_data"
    }
   ],
   "source": [
    "fcstds_dates = xr.concat(fcstds_dates, \"init\")"
   ]
  },
  {
   "cell_type": "code",
   "execution_count": 25,
   "metadata": {},
   "outputs": [
    {
     "data": {
      "application/javascript": [
       "\n",
       "            setTimeout(function() {\n",
       "                var nbb_cell_id = 25;\n",
       "                var nbb_unformatted_code = \"fcstds_dates = fcstds_dates.sortby(fcstds_dates.init)\";\n",
       "                var nbb_formatted_code = \"fcstds_dates = fcstds_dates.sortby(fcstds_dates.init)\";\n",
       "                var nbb_cells = Jupyter.notebook.get_cells();\n",
       "                for (var i = 0; i < nbb_cells.length; ++i) {\n",
       "                    if (nbb_cells[i].input_prompt_number == nbb_cell_id) {\n",
       "                        if (nbb_cells[i].get_text() == nbb_unformatted_code) {\n",
       "                             nbb_cells[i].set_text(nbb_formatted_code);\n",
       "                        }\n",
       "                        break;\n",
       "                    }\n",
       "                }\n",
       "            }, 500);\n",
       "            "
      ],
      "text/plain": [
       "<IPython.core.display.Javascript object>"
      ]
     },
     "metadata": {},
     "output_type": "display_data"
    }
   ],
   "source": [
    "fcstds_dates = fcstds_dates.sortby(fcstds_dates.init)"
   ]
  },
  {
   "cell_type": "code",
   "execution_count": 26,
   "metadata": {},
   "outputs": [
    {
     "data": {
      "application/javascript": [
       "\n",
       "            setTimeout(function() {\n",
       "                var nbb_cell_id = 26;\n",
       "                var nbb_unformatted_code = \"# drop duplicates, unnecessary?\\n#_, index = np.unique(fcstds_dates.init, return_index=True)\\n#fcstds_dates = fcstds_dates.isel(init=index)\";\n",
       "                var nbb_formatted_code = \"# drop duplicates, unnecessary?\\n# _, index = np.unique(fcstds_dates.init, return_index=True)\\n# fcstds_dates = fcstds_dates.isel(init=index)\";\n",
       "                var nbb_cells = Jupyter.notebook.get_cells();\n",
       "                for (var i = 0; i < nbb_cells.length; ++i) {\n",
       "                    if (nbb_cells[i].input_prompt_number == nbb_cell_id) {\n",
       "                        if (nbb_cells[i].get_text() == nbb_unformatted_code) {\n",
       "                             nbb_cells[i].set_text(nbb_formatted_code);\n",
       "                        }\n",
       "                        break;\n",
       "                    }\n",
       "                }\n",
       "            }, 500);\n",
       "            "
      ],
      "text/plain": [
       "<IPython.core.display.Javascript object>"
      ]
     },
     "metadata": {},
     "output_type": "display_data"
    }
   ],
   "source": [
    "# drop duplicates, unnecessary?\n",
    "# _, index = np.unique(fcstds_dates.init, return_index=True)\n",
    "# fcstds_dates = fcstds_dates.isel(init=index)"
   ]
  },
  {
   "cell_type": "code",
   "execution_count": 29,
   "metadata": {},
   "outputs": [
    {
     "data": {
      "application/javascript": [
       "\n",
       "            setTimeout(function() {\n",
       "                var nbb_cell_id = 29;\n",
       "                var nbb_unformatted_code = \"fcstds_dates[\\\"lead\\\"] = np.arange(1, 1 + fcstds_dates[\\\"lead\\\"].size)\\nfcstds_dates.lead.attrs[\\\"units\\\"] = \\\"days\\\"\";\n",
       "                var nbb_formatted_code = \"fcstds_dates[\\\"lead\\\"] = np.arange(1, 1 + fcstds_dates[\\\"lead\\\"].size)\\nfcstds_dates.lead.attrs[\\\"units\\\"] = \\\"days\\\"\";\n",
       "                var nbb_cells = Jupyter.notebook.get_cells();\n",
       "                for (var i = 0; i < nbb_cells.length; ++i) {\n",
       "                    if (nbb_cells[i].input_prompt_number == nbb_cell_id) {\n",
       "                        if (nbb_cells[i].get_text() == nbb_unformatted_code) {\n",
       "                             nbb_cells[i].set_text(nbb_formatted_code);\n",
       "                        }\n",
       "                        break;\n",
       "                    }\n",
       "                }\n",
       "            }, 500);\n",
       "            "
      ],
      "text/plain": [
       "<IPython.core.display.Javascript object>"
      ]
     },
     "metadata": {},
     "output_type": "display_data"
    }
   ],
   "source": [
    "fcstds_dates[\"lead\"] = np.arange(1, 1 + fcstds_dates[\"lead\"].size)\n",
    "fcstds_dates.lead.attrs[\"units\"] = \"days\""
   ]
  },
  {
   "cell_type": "code",
   "execution_count": 30,
   "metadata": {},
   "outputs": [
    {
     "data": {
      "application/javascript": [
       "\n",
       "            setTimeout(function() {\n",
       "                var nbb_cell_id = 30;\n",
       "                var nbb_unformatted_code = \"hindcast = HindcastEnsemble(fcstds_dates)\\nhindcast = hindcast.add_observations(obsds)\";\n",
       "                var nbb_formatted_code = \"hindcast = HindcastEnsemble(fcstds_dates)\\nhindcast = hindcast.add_observations(obsds)\";\n",
       "                var nbb_cells = Jupyter.notebook.get_cells();\n",
       "                for (var i = 0; i < nbb_cells.length; ++i) {\n",
       "                    if (nbb_cells[i].input_prompt_number == nbb_cell_id) {\n",
       "                        if (nbb_cells[i].get_text() == nbb_unformatted_code) {\n",
       "                             nbb_cells[i].set_text(nbb_formatted_code);\n",
       "                        }\n",
       "                        break;\n",
       "                    }\n",
       "                }\n",
       "            }, 500);\n",
       "            "
      ],
      "text/plain": [
       "<IPython.core.display.Javascript object>"
      ]
     },
     "metadata": {},
     "output_type": "display_data"
    }
   ],
   "source": [
    "hindcast = HindcastEnsemble(fcstds_dates)\n",
    "hindcast = hindcast.add_observations(obsds)"
   ]
  },
  {
   "cell_type": "code",
   "execution_count": 31,
   "metadata": {},
   "outputs": [
    {
     "name": "stderr",
     "output_type": "stream",
     "text": [
      "/Users/aaron.spring/anaconda3/envs/climpred-dev/lib/python3.8/site-packages/climpred/classes.py:380: UserWarning: Error due to verification/control/uninitialized: xr.sel((), {'init': slice('2000', '2001', None)}) failed\n",
      "ValueError: dimensions or multi-index levels ['init'] do not exist\n",
      "  warnings.warn(\n"
     ]
    },
    {
     "name": "stdout",
     "output_type": "stream",
     "text": [
      "CPU times: user 1min 21s, sys: 406 ms, total: 1min 21s\n",
      "Wall time: 1min 23s\n"
     ]
    },
    {
     "data": {
      "text/plain": [
       "[<matplotlib.lines.Line2D at 0x7fc0a14b8190>]"
      ]
     },
     "execution_count": 31,
     "metadata": {},
     "output_type": "execute_result"
    },
    {
     "data": {
      "image/png": "[encoded data removed]",
      "text/plain": [
       "<Figure size 432x288 with 1 Axes>"
      ]
     },
     "metadata": {
      "needs_background": "light"
     },
     "output_type": "display_data"
    },
    {
     "data": {
      "application/javascript": [
       "\n",
       "            setTimeout(function() {\n",
       "                var nbb_cell_id = 31;\n",
       "                var nbb_unformatted_code = \"%time skill = hindcast.sel(init=slice('2000','2001')).verify(metric='acc', comparison='e2o', dim='init', alignment='maximize')\\n\\nskill.rmm1.plot()\";\n",
       "                var nbb_formatted_code = \"%time skill = hindcast.sel(init=slice('2000','2001')).verify(metric='acc', comparison='e2o', dim='init', alignment='maximize')\\n\\nskill.rmm1.plot()\";\n",
       "                var nbb_cells = Jupyter.notebook.get_cells();\n",
       "                for (var i = 0; i < nbb_cells.length; ++i) {\n",
       "                    if (nbb_cells[i].input_prompt_number == nbb_cell_id) {\n",
       "                        if (nbb_cells[i].get_text() == nbb_unformatted_code) {\n",
       "                             nbb_cells[i].set_text(nbb_formatted_code);\n",
       "                        }\n",
       "                        break;\n",
       "                    }\n",
       "                }\n",
       "            }, 500);\n",
       "            "
      ],
      "text/plain": [
       "<IPython.core.display.Javascript object>"
      ]
     },
     "metadata": {},
     "output_type": "display_data"
    }
   ],
   "source": [
    "%time skill = hindcast.sel(init=slice('2000','2001')).verify(metric='acc', comparison='e2o', dim='init', alignment='maximize')\n",
    "\n",
    "skill.rmm1.plot()"
   ]
  },
  {
   "cell_type": "markdown",
   "metadata": {},
   "source": [
    "### skill when initialized in different months"
   ]
  },
  {
   "cell_type": "code",
   "execution_count": 32,
   "metadata": {},
   "outputs": [
    {
     "name": "stderr",
     "output_type": "stream",
     "text": [
      "/Users/aaron.spring/anaconda3/envs/climpred-dev/lib/python3.8/site-packages/climpred/classes.py:380: UserWarning: Error due to verification/control/uninitialized: xr.sel((), {'init': <xarray.DataArray 'month' (init: 12020)>\n",
      "array([False, False, False, ..., False, False, False])\n",
      "Coordinates:\n",
      "  * init     (init) object 1995-05-14 00:00:00 ... 2020-02-15 00:00:00}) failed\n",
      "ValueError: dimensions or multi-index levels ['init'] do not exist\n",
      "  warnings.warn(\n",
      "/Users/aaron.spring/anaconda3/envs/climpred-dev/lib/python3.8/site-packages/climpred/classes.py:380: UserWarning: Error due to verification/control/uninitialized: xr.sel((), {'init': <xarray.DataArray 'month' (init: 12020)>\n",
      "array([False, False, False, ..., False, False, False])\n",
      "Coordinates:\n",
      "  * init     (init) object 1995-05-14 00:00:00 ... 2020-02-15 00:00:00}) failed\n",
      "ValueError: dimensions or multi-index levels ['init'] do not exist\n",
      "  warnings.warn(\n",
      "/Users/aaron.spring/anaconda3/envs/climpred-dev/lib/python3.8/site-packages/climpred/classes.py:380: UserWarning: Error due to verification/control/uninitialized: xr.sel((), {'init': <xarray.DataArray 'month' (init: 12020)>\n",
      "array([False, False, False, ..., False, False, False])\n",
      "Coordinates:\n",
      "  * init     (init) object 1995-05-14 00:00:00 ... 2020-02-15 00:00:00}) failed\n",
      "ValueError: dimensions or multi-index levels ['init'] do not exist\n",
      "  warnings.warn(\n",
      "/Users/aaron.spring/anaconda3/envs/climpred-dev/lib/python3.8/site-packages/climpred/classes.py:380: UserWarning: Error due to verification/control/uninitialized: xr.sel((), {'init': <xarray.DataArray 'month' (init: 12020)>\n",
      "array([False, False, False, ..., False, False, False])\n",
      "Coordinates:\n",
      "  * init     (init) object 1995-05-14 00:00:00 ... 2020-02-15 00:00:00}) failed\n",
      "ValueError: dimensions or multi-index levels ['init'] do not exist\n",
      "  warnings.warn(\n"
     ]
    },
    {
     "data": {
      "text/plain": [
       "<matplotlib.legend.Legend at 0x7fc07751da30>"
      ]
     },
     "execution_count": 32,
     "metadata": {},
     "output_type": "execute_result"
    },
    {
     "data": {
      "image/png": "[encoded data removed]",
      "text/plain": [
       "<Figure size 432x288 with 1 Axes>"
      ]
     },
     "metadata": {
      "needs_background": "light"
     },
     "output_type": "display_data"
    },
    {
     "data": {
      "application/javascript": [
       "\n",
       "            setTimeout(function() {\n",
       "                var nbb_cell_id = 32;\n",
       "                var nbb_unformatted_code = \"for m in np.arange(1,13,3):\\n    skill = hindcast.sel(init=fcstds_dates.init.dt.month==m).verify(metric='acc', comparison='e2o', dim='init', alignment='maximize')\\n    skill.rmm1.plot(label=f'month = {m}')\\nplt.legend()\";\n",
       "                var nbb_formatted_code = \"for m in np.arange(1, 13, 3):\\n    skill = hindcast.sel(init=fcstds_dates.init.dt.month == m).verify(\\n        metric=\\\"acc\\\", comparison=\\\"e2o\\\", dim=\\\"init\\\", alignment=\\\"maximize\\\"\\n    )\\n    skill.rmm1.plot(label=f\\\"month = {m}\\\")\\nplt.legend()\";\n",
       "                var nbb_cells = Jupyter.notebook.get_cells();\n",
       "                for (var i = 0; i < nbb_cells.length; ++i) {\n",
       "                    if (nbb_cells[i].input_prompt_number == nbb_cell_id) {\n",
       "                        if (nbb_cells[i].get_text() == nbb_unformatted_code) {\n",
       "                             nbb_cells[i].set_text(nbb_formatted_code);\n",
       "                        }\n",
       "                        break;\n",
       "                    }\n",
       "                }\n",
       "            }, 500);\n",
       "            "
      ],
      "text/plain": [
       "<IPython.core.display.Javascript object>"
      ]
     },
     "metadata": {},
     "output_type": "display_data"
    }
   ],
   "source": [
    "for m in np.arange(1, 13, 3):\n",
    "    skill = hindcast.sel(init=fcstds_dates.init.dt.month == m).verify(\n",
    "        metric=\"acc\", comparison=\"e2o\", dim=\"init\", alignment=\"maximize\"\n",
    "    )\n",
    "    skill.rmm1.plot(label=f\"month = {m}\")\n",
    "plt.legend()"
   ]
  },
  {
   "cell_type": "code",
   "execution_count": null,
   "metadata": {},
   "outputs": [],
   "source": []
  },
  {
   "cell_type": "markdown",
   "metadata": {},
   "source": [
    "### skill over certain `init.dayofyear`"
   ]
  },
  {
   "cell_type": "code",
   "execution_count": 33,
   "metadata": {},
   "outputs": [
    {
     "name": "stderr",
     "output_type": "stream",
     "text": [
      "/Users/aaron.spring/anaconda3/envs/climpred-dev/lib/python3.8/site-packages/climpred/classes.py:380: UserWarning: Error due to verification/control/uninitialized: xr.sel((), {'init': <xarray.DataArray 'dayofyear' (init: 12020)>\n",
      "array([False, False, False, ...,  True, False, False])\n",
      "Coordinates:\n",
      "  * init     (init) object 1995-05-14 00:00:00 ... 2020-02-15 00:00:00}) failed\n",
      "ValueError: dimensions or multi-index levels ['init'] do not exist\n",
      "  warnings.warn(\n"
     ]
    },
    {
     "name": "stdout",
     "output_type": "stream",
     "text": [
      "CPU times: user 3.93 s, sys: 69 ms, total: 4 s\n",
      "Wall time: 4 s\n"
     ]
    },
    {
     "data": {
      "text/plain": [
       "Text(0.5, 1.0, 'RMM1 daily initialized 2-8 ACC')"
      ]
     },
     "execution_count": 33,
     "metadata": {},
     "output_type": "execute_result"
    },
    {
     "data": {
      "image/png": "[encoded data removed]",
      "text/plain": [
       "<Figure size 432x288 with 1 Axes>"
      ]
     },
     "metadata": {
      "needs_background": "light"
     },
     "output_type": "display_data"
    },
    {
     "data": {
      "application/javascript": [
       "\n",
       "            setTimeout(function() {\n",
       "                var nbb_cell_id = 33;\n",
       "                var nbb_unformatted_code = \"# take 39th dayofyear, i.e. feb 8 only\\nhindcast2 = hindcast.sel(init=hindcast.get_initialized().init.dt.dayofyear==39)\\n%time skill = hindcast2.verify(metric='acc', comparison='e2o', dim='init', alignment='maximize')\\nskill.rmm1.plot()\\ni = hindcast2.get_initialized().init\\nm = int(i.dt.month[0].values)\\nd = int(i.dt.day[0].values)\\nplt.title(f'RMM1 daily initialized {m}-{d} ACC')\";\n",
       "                var nbb_formatted_code = \"# take 39th dayofyear, i.e. feb 8 only\\nhindcast2 = hindcast.sel(init=hindcast.get_initialized().init.dt.dayofyear == 39)\\n%time skill = hindcast2.verify(metric='acc', comparison='e2o', dim='init', alignment='maximize')\\nskill.rmm1.plot()\\ni = hindcast2.get_initialized().init\\nm = int(i.dt.month[0].values)\\nd = int(i.dt.day[0].values)\\nplt.title(f\\\"RMM1 daily initialized {m}-{d} ACC\\\")\";\n",
       "                var nbb_cells = Jupyter.notebook.get_cells();\n",
       "                for (var i = 0; i < nbb_cells.length; ++i) {\n",
       "                    if (nbb_cells[i].input_prompt_number == nbb_cell_id) {\n",
       "                        if (nbb_cells[i].get_text() == nbb_unformatted_code) {\n",
       "                             nbb_cells[i].set_text(nbb_formatted_code);\n",
       "                        }\n",
       "                        break;\n",
       "                    }\n",
       "                }\n",
       "            }, 500);\n",
       "            "
      ],
      "text/plain": [
       "<IPython.core.display.Javascript object>"
      ]
     },
     "metadata": {},
     "output_type": "display_data"
    }
   ],
   "source": [
    "# take 39th dayofyear, i.e. feb 8 only\n",
    "hindcast2 = hindcast.sel(init=hindcast.get_initialized().init.dt.dayofyear == 39)\n",
    "%time skill = hindcast2.verify(metric='acc', comparison='e2o', dim='init', alignment='maximize')\n",
    "skill.rmm1.plot()\n",
    "i = hindcast2.get_initialized().init\n",
    "m = int(i.dt.month[0].values)\n",
    "d = int(i.dt.day[0].values)\n",
    "plt.title(f\"RMM1 daily initialized {m}-{d} ACC\")"
   ]
  },
  {
   "cell_type": "markdown",
   "metadata": {},
   "source": [
    "## models without \"on-the-fly\" reforecasts\n",
    "very similar workflow as in the `SubX` examples as there is no `hdate` coordinate\n",
    "\n",
    "S2S models:\n",
    "- CRNM\n",
    "- ..."
   ]
  },
  {
   "cell_type": "code",
   "execution_count": 34,
   "metadata": {},
   "outputs": [
    {
     "data": {
      "application/javascript": [
       "\n",
       "            setTimeout(function() {\n",
       "                var nbb_cell_id = 34;\n",
       "                var nbb_unformatted_code = \"ds = xr.open_dataset('https://iridl.ldeo.columbia.edu/SOURCES/.ECMWF/.S2S/.CNRM/.reforecast/.RMMS/.ensembles/.RMM1/dods', decode_times=True).compute()\\n\\nds = ds.dropna('S',how='all')\";\n",
       "                var nbb_formatted_code = \"ds = xr.open_dataset(\\n    \\\"https://iridl.ldeo.columbia.edu/SOURCES/.ECMWF/.S2S/.CNRM/.reforecast/.RMMS/.ensembles/.RMM1/dods\\\",\\n    decode_times=True,\\n).compute()\\n\\nds = ds.dropna(\\\"S\\\", how=\\\"all\\\")\";\n",
       "                var nbb_cells = Jupyter.notebook.get_cells();\n",
       "                for (var i = 0; i < nbb_cells.length; ++i) {\n",
       "                    if (nbb_cells[i].input_prompt_number == nbb_cell_id) {\n",
       "                        if (nbb_cells[i].get_text() == nbb_unformatted_code) {\n",
       "                             nbb_cells[i].set_text(nbb_formatted_code);\n",
       "                        }\n",
       "                        break;\n",
       "                    }\n",
       "                }\n",
       "            }, 500);\n",
       "            "
      ],
      "text/plain": [
       "<IPython.core.display.Javascript object>"
      ]
     },
     "metadata": {},
     "output_type": "display_data"
    }
   ],
   "source": [
    "ds = xr.open_dataset(\n",
    "    \"https://iridl.ldeo.columbia.edu/SOURCES/.ECMWF/.S2S/.CNRM/.reforecast/.RMMS/.ensembles/.RMM1/dods\",\n",
    "    decode_times=True,\n",
    ").compute()\n",
    "\n",
    "ds = ds.dropna(\"S\", how=\"all\")"
   ]
  },
  {
   "cell_type": "code",
   "execution_count": 35,
   "metadata": {},
   "outputs": [
    {
     "data": {
      "application/javascript": [
       "\n",
       "            setTimeout(function() {\n",
       "                var nbb_cell_id = 35;\n",
       "                var nbb_unformatted_code = \"fcstds = ds.rename({'S': 'init','L': 'lead','M': 'member', 'RMM1' : 'rmm1'})\\nfcstds['lead'] = np.arange(1,1+fcstds['lead'].size)\\nfcstds['lead'].attrs={'units': 'days'}\";\n",
       "                var nbb_formatted_code = \"fcstds = ds.rename({\\\"S\\\": \\\"init\\\", \\\"L\\\": \\\"lead\\\", \\\"M\\\": \\\"member\\\", \\\"RMM1\\\": \\\"rmm1\\\"})\\nfcstds[\\\"lead\\\"] = np.arange(1, 1 + fcstds[\\\"lead\\\"].size)\\nfcstds[\\\"lead\\\"].attrs = {\\\"units\\\": \\\"days\\\"}\";\n",
       "                var nbb_cells = Jupyter.notebook.get_cells();\n",
       "                for (var i = 0; i < nbb_cells.length; ++i) {\n",
       "                    if (nbb_cells[i].input_prompt_number == nbb_cell_id) {\n",
       "                        if (nbb_cells[i].get_text() == nbb_unformatted_code) {\n",
       "                             nbb_cells[i].set_text(nbb_formatted_code);\n",
       "                        }\n",
       "                        break;\n",
       "                    }\n",
       "                }\n",
       "            }, 500);\n",
       "            "
      ],
      "text/plain": [
       "<IPython.core.display.Javascript object>"
      ]
     },
     "metadata": {},
     "output_type": "display_data"
    }
   ],
   "source": [
    "fcstds = ds.rename({\"S\": \"init\", \"L\": \"lead\", \"M\": \"member\", \"RMM1\": \"rmm1\"})\n",
    "fcstds[\"lead\"] = np.arange(1, 1 + fcstds[\"lead\"].size)\n",
    "fcstds[\"lead\"].attrs = {\"units\": \"days\"}"
   ]
  },
  {
   "cell_type": "code",
   "execution_count": 36,
   "metadata": {},
   "outputs": [
    {
     "data": {
      "application/javascript": [
       "\n",
       "            setTimeout(function() {\n",
       "                var nbb_cell_id = 36;\n",
       "                var nbb_unformatted_code = \"hindcast = HindcastEnsemble(fcstds)\\nhindcast = hindcast.add_observations(obsds)\";\n",
       "                var nbb_formatted_code = \"hindcast = HindcastEnsemble(fcstds)\\nhindcast = hindcast.add_observations(obsds)\";\n",
       "                var nbb_cells = Jupyter.notebook.get_cells();\n",
       "                for (var i = 0; i < nbb_cells.length; ++i) {\n",
       "                    if (nbb_cells[i].input_prompt_number == nbb_cell_id) {\n",
       "                        if (nbb_cells[i].get_text() == nbb_unformatted_code) {\n",
       "                             nbb_cells[i].set_text(nbb_formatted_code);\n",
       "                        }\n",
       "                        break;\n",
       "                    }\n",
       "                }\n",
       "            }, 500);\n",
       "            "
      ],
      "text/plain": [
       "<IPython.core.display.Javascript object>"
      ]
     },
     "metadata": {},
     "output_type": "display_data"
    }
   ],
   "source": [
    "hindcast = HindcastEnsemble(fcstds)\n",
    "hindcast = hindcast.add_observations(obsds)"
   ]
  },
  {
   "cell_type": "code",
   "execution_count": 37,
   "metadata": {},
   "outputs": [
    {
     "name": "stdout",
     "output_type": "stream",
     "text": [
      "CPU times: user 43 s, sys: 259 ms, total: 43.3 s\n",
      "Wall time: 43.8 s\n"
     ]
    },
    {
     "data": {
      "application/javascript": [
       "\n",
       "            setTimeout(function() {\n",
       "                var nbb_cell_id = 37;\n",
       "                var nbb_unformatted_code = \"%time skill = hindcast.verify(metric='acc', comparison='e2o', dim='init', alignment='maximize')\";\n",
       "                var nbb_formatted_code = \"%time skill = hindcast.verify(metric='acc', comparison='e2o', dim='init', alignment='maximize')\";\n",
       "                var nbb_cells = Jupyter.notebook.get_cells();\n",
       "                for (var i = 0; i < nbb_cells.length; ++i) {\n",
       "                    if (nbb_cells[i].input_prompt_number == nbb_cell_id) {\n",
       "                        if (nbb_cells[i].get_text() == nbb_unformatted_code) {\n",
       "                             nbb_cells[i].set_text(nbb_formatted_code);\n",
       "                        }\n",
       "                        break;\n",
       "                    }\n",
       "                }\n",
       "            }, 500);\n",
       "            "
      ],
      "text/plain": [
       "<IPython.core.display.Javascript object>"
      ]
     },
     "metadata": {},
     "output_type": "display_data"
    }
   ],
   "source": [
    "%time skill = hindcast.verify(metric='acc', comparison='e2o', dim='init', alignment='maximize')"
   ]
  },
  {
   "cell_type": "code",
   "execution_count": 38,
   "metadata": {},
   "outputs": [
    {
     "data": {
      "text/plain": [
       "[<matplotlib.lines.Line2D at 0x7fc0a1494820>]"
      ]
     },
     "execution_count": 38,
     "metadata": {},
     "output_type": "execute_result"
    },
    {
     "data": {
      "image/png": "[encoded data removed]",
      "text/plain": [
       "<Figure size 432x288 with 1 Axes>"
      ]
     },
     "metadata": {
      "needs_background": "light"
     },
     "output_type": "display_data"
    },
    {
     "data": {
      "application/javascript": [
       "\n",
       "            setTimeout(function() {\n",
       "                var nbb_cell_id = 38;\n",
       "                var nbb_unformatted_code = \"skill.rmm1.plot()\";\n",
       "                var nbb_formatted_code = \"skill.rmm1.plot()\";\n",
       "                var nbb_cells = Jupyter.notebook.get_cells();\n",
       "                for (var i = 0; i < nbb_cells.length; ++i) {\n",
       "                    if (nbb_cells[i].input_prompt_number == nbb_cell_id) {\n",
       "                        if (nbb_cells[i].get_text() == nbb_unformatted_code) {\n",
       "                             nbb_cells[i].set_text(nbb_formatted_code);\n",
       "                        }\n",
       "                        break;\n",
       "                    }\n",
       "                }\n",
       "            }, 500);\n",
       "            "
      ],
      "text/plain": [
       "<IPython.core.display.Javascript object>"
      ]
     },
     "metadata": {},
     "output_type": "display_data"
    }
   ],
   "source": [
    "skill.rmm1.plot()"
   ]
  },
  {
   "cell_type": "code",
   "execution_count": null,
   "metadata": {},
   "outputs": [],
   "source": []
  }
 ],
 "metadata": {
  "kernelspec": {
   "display_name": "Python 3",
   "language": "python",
   "name": "python3"
  },
  "language_info": {
   "codemirror_mode": {
    "name": "ipython",
    "version": 3
   },
   "file_extension": ".py",
   "mimetype": "text/x-python",
   "name": "python",
   "nbconvert_exporter": "python",
   "pygments_lexer": "ipython3",
   "version": "3.6.12"
  }
 },
 "nbformat": 4,
 "nbformat_minor": 4
}
