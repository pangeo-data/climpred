{
 "cells": [
  {
   "cell_type": "code",
   "execution_count": 1,
   "id": "breathing-location",
   "metadata": {},
   "outputs": [],
   "source": [
    "#!conda install intake fsspec intake-xarray -c conda-forge -y"
   ]
  },
  {
   "cell_type": "code",
   "execution_count": 2,
   "id": "1be16c36-b5e4-4093-af6c-bf0813378d06",
   "metadata": {},
   "outputs": [],
   "source": [
    "#!pip install climetlab\n",
    "\n",
    "#!pip install climetlab_s2s_ai_challenge"
   ]
  },
  {
   "cell_type": "code",
   "execution_count": 3,
   "id": "progressive-intent",
   "metadata": {},
   "outputs": [
    {
     "data": {
      "application/javascript": [
       "\n",
       "            setTimeout(function() {\n",
       "                var nbb_cell_id = 3;\n",
       "                var nbb_unformatted_code = \"# linting\\n%load_ext nb_black\\n%load_ext lab_black\";\n",
       "                var nbb_formatted_code = \"# linting\\n%load_ext nb_black\\n%load_ext lab_black\";\n",
       "                var nbb_cells = Jupyter.notebook.get_cells();\n",
       "                for (var i = 0; i < nbb_cells.length; ++i) {\n",
       "                    if (nbb_cells[i].input_prompt_number == nbb_cell_id) {\n",
       "                        if (nbb_cells[i].get_text() == nbb_unformatted_code) {\n",
       "                             nbb_cells[i].set_text(nbb_formatted_code);\n",
       "                        }\n",
       "                        break;\n",
       "                    }\n",
       "                }\n",
       "            }, 500);\n",
       "            "
      ],
      "text/plain": [
       "<IPython.core.display.Javascript object>"
      ]
     },
     "metadata": {},
     "output_type": "display_data"
    }
   ],
   "source": [
    "# linting\n",
    "%load_ext nb_black\n",
    "%load_ext lab_black"
   ]
  },
  {
   "cell_type": "markdown",
   "id": "black-grove",
   "metadata": {},
   "source": [
    "## Calculate skill of S2S model ECMWF for daily global reforecasts"
   ]
  },
  {
   "cell_type": "code",
   "execution_count": 4,
   "id": "aquatic-treasure",
   "metadata": {},
   "outputs": [
    {
     "data": {
      "application/javascript": [
       "\n",
       "            setTimeout(function() {\n",
       "                var nbb_cell_id = 4;\n",
       "                var nbb_unformatted_code = \"import climpred\\nimport xarray as xr\";\n",
       "                var nbb_formatted_code = \"import climpred\\nimport xarray as xr\";\n",
       "                var nbb_cells = Jupyter.notebook.get_cells();\n",
       "                for (var i = 0; i < nbb_cells.length; ++i) {\n",
       "                    if (nbb_cells[i].input_prompt_number == nbb_cell_id) {\n",
       "                        if (nbb_cells[i].get_text() == nbb_unformatted_code) {\n",
       "                             nbb_cells[i].set_text(nbb_formatted_code);\n",
       "                        }\n",
       "                        break;\n",
       "                    }\n",
       "                }\n",
       "            }, 500);\n",
       "            "
      ],
      "text/plain": [
       "<IPython.core.display.Javascript object>"
      ]
     },
     "metadata": {},
     "output_type": "display_data"
    }
   ],
   "source": [
    "import climpred\n",
    "import xarray as xr"
   ]
  },
  {
   "cell_type": "markdown",
   "id": "headed-shopping",
   "metadata": {},
   "source": [
    "### Get hindcast"
   ]
  },
  {
   "cell_type": "markdown",
   "id": "loaded-jerusalem",
   "metadata": {},
   "source": [
    "S2S output is hosted on the ECMWF S3 cloud, see https://github.com/ecmwf-lab/climetlab-s2s-ai-challenge\n",
    "\n",
    "Two ways to access:\n",
    "\n",
    "- direct access via `intake_xarray` and integrated caching via `fsspec`\n",
    "- `climetlab` with integrated caching\n",
    "\n",
    "Resources:\n",
    "\n",
    "- https://intake.readthedocs.io/en/latest/\n",
    "- https://intake-xarray.readthedocs.io/en/latest/\n",
    "- https://intake-thredds.readthedocs.io/en/latest/\n",
    "- https://filesystem-spec.readthedocs.io/en/latest/\n",
    "- https://climetlab.readthedocs.io/en/latest/\n",
    "\n",
    "Hindcasts/Reforecasts are stored in `netcdf` or `grib` format.\n",
    "For each initialization `init` (CF convention: `standard_name=forecast_reference_time`) in the year 2020 (see `dates`), reforecasts are available started on the same `dayofyear` from 2000-2019.\n",
    "\n",
    "Here we get the reforecast skill for 2m temperature of forecasts initialized 2nd Jan 2000-2019."
   ]
  },
  {
   "cell_type": "code",
   "execution_count": 5,
   "id": "sunset-count",
   "metadata": {},
   "outputs": [
    {
     "data": {
      "application/javascript": [
       "\n",
       "            setTimeout(function() {\n",
       "                var nbb_cell_id = 5;\n",
       "                var nbb_unformatted_code = \"dates = xr.cftime_range(start=\\\"2020-01-02\\\", freq=\\\"7D\\\", end=\\\"2020-12-31\\\")\";\n",
       "                var nbb_formatted_code = \"dates = xr.cftime_range(start=\\\"2020-01-02\\\", freq=\\\"7D\\\", end=\\\"2020-12-31\\\")\";\n",
       "                var nbb_cells = Jupyter.notebook.get_cells();\n",
       "                for (var i = 0; i < nbb_cells.length; ++i) {\n",
       "                    if (nbb_cells[i].input_prompt_number == nbb_cell_id) {\n",
       "                        if (nbb_cells[i].get_text() == nbb_unformatted_code) {\n",
       "                             nbb_cells[i].set_text(nbb_formatted_code);\n",
       "                        }\n",
       "                        break;\n",
       "                    }\n",
       "                }\n",
       "            }, 500);\n",
       "            "
      ],
      "text/plain": [
       "<IPython.core.display.Javascript object>"
      ]
     },
     "metadata": {},
     "output_type": "display_data"
    }
   ],
   "source": [
    "dates = xr.cftime_range(start=\"2020-01-02\", freq=\"7D\", end=\"2020-12-31\")"
   ]
  },
  {
   "cell_type": "code",
   "execution_count": 6,
   "id": "eight-amendment",
   "metadata": {},
   "outputs": [
    {
     "data": {
      "text/plain": [
       "'20200102'"
      ]
     },
     "execution_count": 6,
     "metadata": {},
     "output_type": "execute_result"
    },
    {
     "data": {
      "application/javascript": [
       "\n",
       "            setTimeout(function() {\n",
       "                var nbb_cell_id = 6;\n",
       "                var nbb_unformatted_code = \"var = \\\"t2m\\\"\\ndate = dates[0].strftime(\\\"%Y%m%d\\\")\\ndate\";\n",
       "                var nbb_formatted_code = \"var = \\\"t2m\\\"\\ndate = dates[0].strftime(\\\"%Y%m%d\\\")\\ndate\";\n",
       "                var nbb_cells = Jupyter.notebook.get_cells();\n",
       "                for (var i = 0; i < nbb_cells.length; ++i) {\n",
       "                    if (nbb_cells[i].input_prompt_number == nbb_cell_id) {\n",
       "                        if (nbb_cells[i].get_text() == nbb_unformatted_code) {\n",
       "                             nbb_cells[i].set_text(nbb_formatted_code);\n",
       "                        }\n",
       "                        break;\n",
       "                    }\n",
       "                }\n",
       "            }, 500);\n",
       "            "
      ],
      "text/plain": [
       "<IPython.core.display.Javascript object>"
      ]
     },
     "metadata": {},
     "output_type": "display_data"
    }
   ],
   "source": [
    "var = \"t2m\"\n",
    "date = dates[0].strftime(\"%Y%m%d\")\n",
    "date"
   ]
  },
  {
   "cell_type": "markdown",
   "id": "adverse-standing",
   "metadata": {},
   "source": [
    "#### `intake_xarray`"
   ]
  },
  {
   "cell_type": "code",
   "execution_count": 7,
   "id": "brief-village",
   "metadata": {},
   "outputs": [
    {
     "data": {
      "application/javascript": [
       "\n",
       "            setTimeout(function() {\n",
       "                var nbb_cell_id = 7;\n",
       "                var nbb_unformatted_code = \"import intake\\nimport fsspec\\nfrom aiohttp import ClientSession, ClientTimeout\\n\\ntimeout = ClientTimeout(total=600)\\nfsspec.config.conf[\\\"https\\\"] = dict(client_kwargs={\\\"timeout\\\": timeout})\\n\\nimport intake_xarray\\n\\ncache_path = \\\"my_caching_folder\\\"\\nfsspec.config.conf[\\\"simplecache\\\"] = {\\\"cache_storage\\\": cache_path, \\\"same_names\\\": True}\";\n",
       "                var nbb_formatted_code = \"import intake\\nimport fsspec\\nfrom aiohttp import ClientSession, ClientTimeout\\n\\ntimeout = ClientTimeout(total=600)\\nfsspec.config.conf[\\\"https\\\"] = dict(client_kwargs={\\\"timeout\\\": timeout})\\n\\nimport intake_xarray\\n\\ncache_path = \\\"my_caching_folder\\\"\\nfsspec.config.conf[\\\"simplecache\\\"] = {\\\"cache_storage\\\": cache_path, \\\"same_names\\\": True}\";\n",
       "                var nbb_cells = Jupyter.notebook.get_cells();\n",
       "                for (var i = 0; i < nbb_cells.length; ++i) {\n",
       "                    if (nbb_cells[i].input_prompt_number == nbb_cell_id) {\n",
       "                        if (nbb_cells[i].get_text() == nbb_unformatted_code) {\n",
       "                             nbb_cells[i].set_text(nbb_formatted_code);\n",
       "                        }\n",
       "                        break;\n",
       "                    }\n",
       "                }\n",
       "            }, 500);\n",
       "            "
      ],
      "text/plain": [
       "<IPython.core.display.Javascript object>"
      ]
     },
     "metadata": {},
     "output_type": "display_data"
    }
   ],
   "source": [
    "import intake\n",
    "import fsspec\n",
    "from aiohttp import ClientSession, ClientTimeout\n",
    "\n",
    "timeout = ClientTimeout(total=600)\n",
    "fsspec.config.conf[\"https\"] = dict(client_kwargs={\"timeout\": timeout})\n",
    "\n",
    "import intake_xarray\n",
    "\n",
    "cache_path = \"my_caching_folder\"\n",
    "fsspec.config.conf[\"simplecache\"] = {\"cache_storage\": cache_path, \"same_names\": True}"
   ]
  },
  {
   "cell_type": "code",
   "execution_count": 8,
   "id": "latin-convention",
   "metadata": {},
   "outputs": [
    {
     "data": {
      "application/javascript": [
       "\n",
       "            setTimeout(function() {\n",
       "                var nbb_cell_id = 8;\n",
       "                var nbb_unformatted_code = \"hind = intake_xarray.NetCDFSource(\\n    f\\\"simplecache::https://storage.ecmwf.europeanweather.cloud/s2s-ai-challenge/data/training-input/ecmwf-hindcast/0.3.0/netcdf/ecmwf-hindcast-{var}-{date}.nc\\\"\\n).to_dask()\";\n",
       "                var nbb_formatted_code = \"hind = intake_xarray.NetCDFSource(\\n    f\\\"simplecache::https://storage.ecmwf.europeanweather.cloud/s2s-ai-challenge/data/training-input/ecmwf-hindcast/0.3.0/netcdf/ecmwf-hindcast-{var}-{date}.nc\\\"\\n).to_dask()\";\n",
       "                var nbb_cells = Jupyter.notebook.get_cells();\n",
       "                for (var i = 0; i < nbb_cells.length; ++i) {\n",
       "                    if (nbb_cells[i].input_prompt_number == nbb_cell_id) {\n",
       "                        if (nbb_cells[i].get_text() == nbb_unformatted_code) {\n",
       "                             nbb_cells[i].set_text(nbb_formatted_code);\n",
       "                        }\n",
       "                        break;\n",
       "                    }\n",
       "                }\n",
       "            }, 500);\n",
       "            "
      ],
      "text/plain": [
       "<IPython.core.display.Javascript object>"
      ]
     },
     "metadata": {},
     "output_type": "display_data"
    }
   ],
   "source": [
    "hind = intake_xarray.NetCDFSource(\n",
    "    f\"simplecache::https://storage.ecmwf.europeanweather.cloud/s2s-ai-challenge/data/training-input/ecmwf-hindcast/0.3.0/netcdf/ecmwf-hindcast-{var}-{date}.nc\"\n",
    ").to_dask()"
   ]
  },
  {
   "cell_type": "markdown",
   "id": "systematic-dance",
   "metadata": {},
   "source": [
    "#### `climetlab`\n",
    "\n",
    "`climetlab` wraps `cdsapi` to download from the Copernicus Climate Data Store (CDS) and from plug-in sources:\n",
    "\n",
    "- https://climetlab.readthedocs.io/en/latest/\n",
    "- https://github.com/ecmwf-lab/climetlab-s2s-ai-challenge\n",
    "- https://cds.climate.copernicus.eu/cdsapp#!/home\n",
    "- https://github.com/ecmwf/cdsapi/"
   ]
  },
  {
   "cell_type": "code",
   "execution_count": 9,
   "id": "acting-projector",
   "metadata": {},
   "outputs": [
    {
     "data": {
      "application/javascript": [
       "\n",
       "            setTimeout(function() {\n",
       "                var nbb_cell_id = 9;\n",
       "                var nbb_unformatted_code = \"import climetlab\";\n",
       "                var nbb_formatted_code = \"import climetlab\";\n",
       "                var nbb_cells = Jupyter.notebook.get_cells();\n",
       "                for (var i = 0; i < nbb_cells.length; ++i) {\n",
       "                    if (nbb_cells[i].input_prompt_number == nbb_cell_id) {\n",
       "                        if (nbb_cells[i].get_text() == nbb_unformatted_code) {\n",
       "                             nbb_cells[i].set_text(nbb_formatted_code);\n",
       "                        }\n",
       "                        break;\n",
       "                    }\n",
       "                }\n",
       "            }, 500);\n",
       "            "
      ],
      "text/plain": [
       "<IPython.core.display.Javascript object>"
      ]
     },
     "metadata": {},
     "output_type": "display_data"
    }
   ],
   "source": [
    "import climetlab"
   ]
  },
  {
   "cell_type": "code",
   "execution_count": 10,
   "id": "controlled-hostel",
   "metadata": {},
   "outputs": [
    {
     "name": "stdout",
     "output_type": "stream",
     "text": [
      "By downloading data from this dataset, you agree to the terms and conditions defined at https://apps.ecmwf.int/datasets/data/s2s/licence/. If you do not agree with such terms, do not download the data. \n"
     ]
    },
    {
     "data": {
      "application/vnd.jupyter.widget-view+json": {
       "model_id": "8dff96a56155480b8f903bd211b00fa1",
       "version_major": 2,
       "version_minor": 0
      },
      "text/plain": [
       "  0%|          | 0/1 [00:00<?, ?it/s]"
      ]
     },
     "metadata": {},
     "output_type": "display_data"
    },
    {
     "data": {
      "application/javascript": [
       "\n",
       "            setTimeout(function() {\n",
       "                var nbb_cell_id = 10;\n",
       "                var nbb_unformatted_code = \"hind_climetlab = climetlab.load_dataset(\\n    \\\"s2s-ai-challenge-training-input\\\",\\n    origin=\\\"ecmwf\\\",\\n    date=date,\\n    parameter=var,\\n    format=\\\"netcdf\\\",\\n).to_xarray()\";\n",
       "                var nbb_formatted_code = \"hind_climetlab = climetlab.load_dataset(\\n    \\\"s2s-ai-challenge-training-input\\\",\\n    origin=\\\"ecmwf\\\",\\n    date=date,\\n    parameter=var,\\n    format=\\\"netcdf\\\",\\n).to_xarray()\";\n",
       "                var nbb_cells = Jupyter.notebook.get_cells();\n",
       "                for (var i = 0; i < nbb_cells.length; ++i) {\n",
       "                    if (nbb_cells[i].input_prompt_number == nbb_cell_id) {\n",
       "                        if (nbb_cells[i].get_text() == nbb_unformatted_code) {\n",
       "                             nbb_cells[i].set_text(nbb_formatted_code);\n",
       "                        }\n",
       "                        break;\n",
       "                    }\n",
       "                }\n",
       "            }, 500);\n",
       "            "
      ],
      "text/plain": [
       "<IPython.core.display.Javascript object>"
      ]
     },
     "metadata": {},
     "output_type": "display_data"
    }
   ],
   "source": [
    "hind_climetlab = climetlab.load_dataset(\n",
    "    \"s2s-ai-challenge-training-input\",\n",
    "    origin=\"ecmwf\",\n",
    "    date=date,\n",
    "    parameter=var,\n",
    "    format=\"netcdf\",\n",
    ").to_xarray()"
   ]
  },
  {
   "cell_type": "code",
   "execution_count": 11,
   "id": "enhanced-optics",
   "metadata": {},
   "outputs": [
    {
     "data": {
      "text/plain": [
       "Coordinates:\n",
       "  * realization    (realization) int64 0 1 2 3 4 5 6 7 8 9 10\n",
       "  * forecast_time  (forecast_time) datetime64[ns] 2000-01-02 ... 2019-01-02\n",
       "  * lead_time      (lead_time) timedelta64[ns] 1 days 2 days ... 45 days 46 days\n",
       "  * latitude       (latitude) float64 90.0 88.5 87.0 85.5 ... -87.0 -88.5 -90.0\n",
       "  * longitude      (longitude) float64 0.0 1.5 3.0 4.5 ... 355.5 357.0 358.5\n",
       "    valid_time     (forecast_time, lead_time) datetime64[ns] dask.array<chunksize=(20, 46), meta=np.ndarray>"
      ]
     },
     "execution_count": 11,
     "metadata": {},
     "output_type": "execute_result"
    },
    {
     "data": {
      "application/javascript": [
       "\n",
       "            setTimeout(function() {\n",
       "                var nbb_cell_id = 11;\n",
       "                var nbb_unformatted_code = \"hind_climetlab.coords\";\n",
       "                var nbb_formatted_code = \"hind_climetlab.coords\";\n",
       "                var nbb_cells = Jupyter.notebook.get_cells();\n",
       "                for (var i = 0; i < nbb_cells.length; ++i) {\n",
       "                    if (nbb_cells[i].input_prompt_number == nbb_cell_id) {\n",
       "                        if (nbb_cells[i].get_text() == nbb_unformatted_code) {\n",
       "                             nbb_cells[i].set_text(nbb_formatted_code);\n",
       "                        }\n",
       "                        break;\n",
       "                    }\n",
       "                }\n",
       "            }, 500);\n",
       "            "
      ],
      "text/plain": [
       "<IPython.core.display.Javascript object>"
      ]
     },
     "metadata": {},
     "output_type": "display_data"
    }
   ],
   "source": [
    "hind_climetlab.coords"
   ]
  },
  {
   "cell_type": "markdown",
   "id": "horizontal-convenience",
   "metadata": {},
   "source": [
    "### Get observations\n",
    "\n",
    "Choose from:\n",
    "\n",
    "- CPC\n",
    "- ERA5"
   ]
  },
  {
   "cell_type": "markdown",
   "id": "verbal-saver",
   "metadata": {},
   "source": [
    "#### CPC as observations\n",
    "compare against CPC observations: http://iridl.ldeo.columbia.edu/SOURCES/.NOAA/.NCEP/.CPC/.temperature/.daily/"
   ]
  },
  {
   "cell_type": "code",
   "execution_count": 12,
   "id": "assumed-prompt",
   "metadata": {},
   "outputs": [
    {
     "data": {
      "application/javascript": [
       "\n",
       "            setTimeout(function() {\n",
       "                var nbb_cell_id = 12;\n",
       "                var nbb_unformatted_code = \"cache = True\\nif not cache:\\n    start_year = 2000\\n    chunk_dim = \\\"T\\\"\\n    tmin = xr.open_dataset(\\n        \\\"http://iridl.ldeo.columbia.edu/SOURCES/.NOAA/.NCEP/.CPC/.temperature/.daily/.tmin/dods\\\",\\n        chunks={chunk_dim: \\\"auto\\\"},\\n    ).rename({\\\"tmin\\\": \\\"t\\\"})\\n    tmax = xr.open_dataset(\\n        \\\"http://iridl.ldeo.columbia.edu/SOURCES/.NOAA/.NCEP/.CPC/.temperature/.daily/.tmax/dods\\\",\\n        chunks={chunk_dim: \\\"auto\\\"},\\n    ).rename({\\\"tmax\\\": \\\"t\\\"})\\n    t = xr.concat([tmin, tmax], \\\"m\\\").mean(\\\"m\\\")\\n\\n    t[\\\"T\\\"] = xr.cftime_range(start=\\\"1979-01-01\\\", freq=\\\"1D\\\", periods=t.T.size)\\n\\n    t = t.rename({\\\"X\\\": \\\"longitude\\\", \\\"Y\\\": \\\"latitude\\\", \\\"T\\\": \\\"time\\\"}).sel(\\n        time=slice(f\\\"{start_year-1}-12-24\\\", None)\\n    )\\n\\n    t[\\\"t\\\"].attrs = tmin[\\\"t\\\"].attrs\\n    t[\\\"t\\\"].attrs[\\\"long_name\\\"] = \\\"Daily Temperature\\\"\\n    t = t.rename({\\\"t\\\": \\\"2t\\\"}) + 273.15  # convert to K\\n    t = t.interp_like(\\n        hind.isel(lead=0, member=0, init=0, drop=True)\\n    )  # algin spatial grid\\n    t.to_zarr(\\n        \\\"my_caching_folder/obs.zarr\\\", mode=\\\"w\\\", consolidated=True\\n    )  # save intermediate\\nelse:\\n    obs = xr.open_zarr(\\\"my_caching_folder/obs.zarr\\\").compute()\";\n",
       "                var nbb_formatted_code = \"cache = True\\nif not cache:\\n    start_year = 2000\\n    chunk_dim = \\\"T\\\"\\n    tmin = xr.open_dataset(\\n        \\\"http://iridl.ldeo.columbia.edu/SOURCES/.NOAA/.NCEP/.CPC/.temperature/.daily/.tmin/dods\\\",\\n        chunks={chunk_dim: \\\"auto\\\"},\\n    ).rename({\\\"tmin\\\": \\\"t\\\"})\\n    tmax = xr.open_dataset(\\n        \\\"http://iridl.ldeo.columbia.edu/SOURCES/.NOAA/.NCEP/.CPC/.temperature/.daily/.tmax/dods\\\",\\n        chunks={chunk_dim: \\\"auto\\\"},\\n    ).rename({\\\"tmax\\\": \\\"t\\\"})\\n    t = xr.concat([tmin, tmax], \\\"m\\\").mean(\\\"m\\\")\\n\\n    t[\\\"T\\\"] = xr.cftime_range(start=\\\"1979-01-01\\\", freq=\\\"1D\\\", periods=t.T.size)\\n\\n    t = t.rename({\\\"X\\\": \\\"longitude\\\", \\\"Y\\\": \\\"latitude\\\", \\\"T\\\": \\\"time\\\"}).sel(\\n        time=slice(f\\\"{start_year-1}-12-24\\\", None)\\n    )\\n\\n    t[\\\"t\\\"].attrs = tmin[\\\"t\\\"].attrs\\n    t[\\\"t\\\"].attrs[\\\"long_name\\\"] = \\\"Daily Temperature\\\"\\n    t = t.rename({\\\"t\\\": \\\"2t\\\"}) + 273.15  # convert to K\\n    t = t.interp_like(\\n        hind.isel(lead=0, member=0, init=0, drop=True)\\n    )  # algin spatial grid\\n    t.to_zarr(\\n        \\\"my_caching_folder/obs.zarr\\\", mode=\\\"w\\\", consolidated=True\\n    )  # save intermediate\\nelse:\\n    obs = xr.open_zarr(\\\"my_caching_folder/obs.zarr\\\").compute()\";\n",
       "                var nbb_cells = Jupyter.notebook.get_cells();\n",
       "                for (var i = 0; i < nbb_cells.length; ++i) {\n",
       "                    if (nbb_cells[i].input_prompt_number == nbb_cell_id) {\n",
       "                        if (nbb_cells[i].get_text() == nbb_unformatted_code) {\n",
       "                             nbb_cells[i].set_text(nbb_formatted_code);\n",
       "                        }\n",
       "                        break;\n",
       "                    }\n",
       "                }\n",
       "            }, 500);\n",
       "            "
      ],
      "text/plain": [
       "<IPython.core.display.Javascript object>"
      ]
     },
     "metadata": {},
     "output_type": "display_data"
    }
   ],
   "source": [
    "cache = True\n",
    "if not cache:\n",
    "    start_year = 2000\n",
    "    chunk_dim = \"T\"\n",
    "    tmin = xr.open_dataset(\n",
    "        \"http://iridl.ldeo.columbia.edu/SOURCES/.NOAA/.NCEP/.CPC/.temperature/.daily/.tmin/dods\",\n",
    "        chunks={chunk_dim: \"auto\"},\n",
    "    ).rename({\"tmin\": \"t\"})\n",
    "    tmax = xr.open_dataset(\n",
    "        \"http://iridl.ldeo.columbia.edu/SOURCES/.NOAA/.NCEP/.CPC/.temperature/.daily/.tmax/dods\",\n",
    "        chunks={chunk_dim: \"auto\"},\n",
    "    ).rename({\"tmax\": \"t\"})\n",
    "    t = xr.concat([tmin, tmax], \"m\").mean(\"m\")\n",
    "\n",
    "    t[\"T\"] = xr.cftime_range(start=\"1979-01-01\", freq=\"1D\", periods=t.T.size)\n",
    "\n",
    "    t = t.rename({\"X\": \"longitude\", \"Y\": \"latitude\", \"T\": \"time\"}).sel(\n",
    "        time=slice(f\"{start_year-1}-12-24\", None)\n",
    "    )\n",
    "\n",
    "    t[\"t\"].attrs = tmin[\"t\"].attrs\n",
    "    t[\"t\"].attrs[\"long_name\"] = \"Daily Temperature\"\n",
    "    t = t.rename({\"t\": \"2t\"}) + 273.15  # convert to K\n",
    "    t = t.interp_like(\n",
    "        hind.isel(lead=0, member=0, init=0, drop=True)\n",
    "    )  # algin spatial grid\n",
    "    t.to_zarr(\n",
    "        \"my_caching_folder/obs.zarr\", mode=\"w\", consolidated=True\n",
    "    )  # save intermediate\n",
    "else:\n",
    "    obs = xr.open_zarr(\"my_caching_folder/obs.zarr\").compute()"
   ]
  },
  {
   "cell_type": "markdown",
   "id": "cellular-indonesia",
   "metadata": {},
   "source": [
    "#### ERA5 as observations\n",
    "\n",
    "compare against ERA5 reanalysis"
   ]
  },
  {
   "cell_type": "code",
   "execution_count": 13,
   "id": "4f507218-27c6-4a7d-a949-f1d5e2d45b66",
   "metadata": {},
   "outputs": [
    {
     "data": {
      "application/javascript": [
       "\n",
       "            setTimeout(function() {\n",
       "                var nbb_cell_id = 13;\n",
       "                var nbb_unformatted_code = \"hind_times = hind.set_coords(\\\"valid_time\\\").valid_time.values.flatten()\\n\\n# takes a while, continue with obs from above\\nobs_era = climetlab.load_source(\\n    \\\"cds\\\",\\n    \\\"reanalysis-era5-single-levels\\\",\\n    product_type=\\\"reanalysis\\\",\\n    time=[\\\"00:00\\\"],\\n    grid=[1.5, 1.5],\\n    param=\\\"2t\\\",\\n    date=hind_times,\\n).to_xarray()\";\n",
       "                var nbb_formatted_code = \"hind_times = hind.set_coords(\\\"valid_time\\\").valid_time.values.flatten()\\n\\n# takes a while, continue with obs from above\\nobs_era = climetlab.load_source(\\n    \\\"cds\\\",\\n    \\\"reanalysis-era5-single-levels\\\",\\n    product_type=\\\"reanalysis\\\",\\n    time=[\\\"00:00\\\"],\\n    grid=[1.5, 1.5],\\n    param=\\\"2t\\\",\\n    date=hind_times,\\n).to_xarray()\";\n",
       "                var nbb_cells = Jupyter.notebook.get_cells();\n",
       "                for (var i = 0; i < nbb_cells.length; ++i) {\n",
       "                    if (nbb_cells[i].input_prompt_number == nbb_cell_id) {\n",
       "                        if (nbb_cells[i].get_text() == nbb_unformatted_code) {\n",
       "                             nbb_cells[i].set_text(nbb_formatted_code);\n",
       "                        }\n",
       "                        break;\n",
       "                    }\n",
       "                }\n",
       "            }, 500);\n",
       "            "
      ],
      "text/plain": [
       "<IPython.core.display.Javascript object>"
      ]
     },
     "metadata": {},
     "output_type": "display_data"
    }
   ],
   "source": [
    "hind_times = hind.set_coords(\"valid_time\").valid_time.values.flatten()\n",
    "\n",
    "# takes a while, continue with obs from above\n",
    "obs_era = climetlab.load_source(\n",
    "    \"cds\",\n",
    "    \"reanalysis-era5-single-levels\",\n",
    "    product_type=\"reanalysis\",\n",
    "    time=[\"00:00\"],\n",
    "    grid=[1.5, 1.5],\n",
    "    param=\"2t\",\n",
    "    date=hind_times,\n",
    ").to_xarray()"
   ]
  },
  {
   "cell_type": "markdown",
   "id": "practical-authority",
   "metadata": {},
   "source": [
    "### Forecast verification with `climpred.HindcastEnsemble`"
   ]
  },
  {
   "cell_type": "code",
   "execution_count": 14,
   "id": "5a0dcf01-b94c-4fa7-afae-fd19814ded66",
   "metadata": {},
   "outputs": [
    {
     "data": {
      "text/plain": [
       "Coordinates:\n",
       "  * realization    (realization) int64 0 1\n",
       "  * forecast_time  (forecast_time) datetime64[ns] 2000-01-02 ... 2019-01-02\n",
       "  * lead_time      (lead_time) timedelta64[ns] 1 days 2 days 3 days\n",
       "  * latitude       (latitude) float64 90.0 88.5 87.0 85.5 ... -87.0 -88.5 -90.0\n",
       "  * longitude      (longitude) float64 0.0 1.5 3.0 4.5 ... 355.5 357.0 358.5"
      ]
     },
     "execution_count": 14,
     "metadata": {},
     "output_type": "execute_result"
    },
    {
     "data": {
      "application/javascript": [
       "\n",
       "            setTimeout(function() {\n",
       "                var nbb_cell_id = 14;\n",
       "                var nbb_unformatted_code = \"# PredictionEnsemble converts `lead_time` to `lead` due to standard_name 'forecast_period' and\\n#                             pd.Timedelta to `int` and set lead.attrs['units'] accordingly\\nhind.coords\";\n",
       "                var nbb_formatted_code = \"# PredictionEnsemble converts `lead_time` to `lead` due to standard_name 'forecast_period' and\\n#                             pd.Timedelta to `int` and set lead.attrs['units'] accordingly\\nhind.coords\";\n",
       "                var nbb_cells = Jupyter.notebook.get_cells();\n",
       "                for (var i = 0; i < nbb_cells.length; ++i) {\n",
       "                    if (nbb_cells[i].input_prompt_number == nbb_cell_id) {\n",
       "                        if (nbb_cells[i].get_text() == nbb_unformatted_code) {\n",
       "                             nbb_cells[i].set_text(nbb_formatted_code);\n",
       "                        }\n",
       "                        break;\n",
       "                    }\n",
       "                }\n",
       "            }, 500);\n",
       "            "
      ],
      "text/plain": [
       "<IPython.core.display.Javascript object>"
      ]
     },
     "metadata": {},
     "output_type": "display_data"
    }
   ],
   "source": [
    "# PredictionEnsemble converts `lead_time` to `lead` due to standard_name 'forecast_period' and\n",
    "#                             pd.Timedelta to `int` and set lead.attrs['units'] accordingly\n",
    "hind.coords"
   ]
  },
  {
   "cell_type": "code",
   "execution_count": 15,
   "id": "sexual-blues",
   "metadata": {},
   "outputs": [
    {
     "name": "stderr",
     "output_type": "stream",
     "text": [
      "/Users/aaron.spring/Coding/climpred/climpred/checks.py:234: UserWarning: Did not find dimension \"init\", but renamed dimension forecast_time with CF-complying standard_name \"forecast_reference_time\" to init.\n",
      "  warnings.warn(\n",
      "/Users/aaron.spring/Coding/climpred/climpred/checks.py:234: UserWarning: Did not find dimension \"member\", but renamed dimension realization with CF-complying standard_name \"realization\" to member.\n",
      "  warnings.warn(\n",
      "/Users/aaron.spring/Coding/climpred/climpred/checks.py:234: UserWarning: Did not find dimension \"lead\", but renamed dimension lead_time with CF-complying standard_name \"forecast_period\" to lead.\n",
      "  warnings.warn(\n"
     ]
    },
    {
     "data": {
      "application/javascript": [
       "\n",
       "            setTimeout(function() {\n",
       "                var nbb_cell_id = 15;\n",
       "                var nbb_unformatted_code = \"hindcast = climpred.HindcastEnsemble(hind.drop(\\\"valid_time\\\")).add_observations(obs)\\n\\nmetric_kwargs = dict(\\n    metric=\\\"rmse\\\", comparison=\\\"e2o\\\", alignment=\\\"same_inits\\\", dim=\\\"init\\\"\\n)\";\n",
       "                var nbb_formatted_code = \"hindcast = climpred.HindcastEnsemble(hind.drop(\\\"valid_time\\\")).add_observations(obs)\\n\\nmetric_kwargs = dict(\\n    metric=\\\"rmse\\\", comparison=\\\"e2o\\\", alignment=\\\"same_inits\\\", dim=\\\"init\\\"\\n)\";\n",
       "                var nbb_cells = Jupyter.notebook.get_cells();\n",
       "                for (var i = 0; i < nbb_cells.length; ++i) {\n",
       "                    if (nbb_cells[i].input_prompt_number == nbb_cell_id) {\n",
       "                        if (nbb_cells[i].get_text() == nbb_unformatted_code) {\n",
       "                             nbb_cells[i].set_text(nbb_formatted_code);\n",
       "                        }\n",
       "                        break;\n",
       "                    }\n",
       "                }\n",
       "            }, 500);\n",
       "            "
      ],
      "text/plain": [
       "<IPython.core.display.Javascript object>"
      ]
     },
     "metadata": {},
     "output_type": "display_data"
    }
   ],
   "source": [
    "hindcast = climpred.HindcastEnsemble(hind.drop(\"valid_time\")).add_observations(obs)\n",
    "\n",
    "metric_kwargs = dict(\n",
    "    metric=\"rmse\", comparison=\"e2o\", alignment=\"same_inits\", dim=\"init\"\n",
    ")"
   ]
  },
  {
   "cell_type": "code",
   "execution_count": 16,
   "id": "furnished-margin",
   "metadata": {},
   "outputs": [
    {
     "data": {
      "text/plain": [
       "<xarray.plot.facetgrid.FacetGrid at 0x14a588130>"
      ]
     },
     "execution_count": 16,
     "metadata": {},
     "output_type": "execute_result"
    },
    {
     "data": {
      "image/png": "[encoded data removed]",
      "text/plain": [
       "<Figure size 720x216 with 4 Axes>"
      ]
     },
     "metadata": {
      "needs_background": "light"
     },
     "output_type": "display_data"
    },
    {
     "data": {
      "application/javascript": [
       "\n",
       "            setTimeout(function() {\n",
       "                var nbb_cell_id = 16;\n",
       "                var nbb_unformatted_code = \"skill = hindcast.verify(**metric_kwargs)\\nskill[var].plot(col=\\\"lead\\\", robust=True)\";\n",
       "                var nbb_formatted_code = \"skill = hindcast.verify(**metric_kwargs)\\nskill[var].plot(col=\\\"lead\\\", robust=True)\";\n",
       "                var nbb_cells = Jupyter.notebook.get_cells();\n",
       "                for (var i = 0; i < nbb_cells.length; ++i) {\n",
       "                    if (nbb_cells[i].input_prompt_number == nbb_cell_id) {\n",
       "                        if (nbb_cells[i].get_text() == nbb_unformatted_code) {\n",
       "                             nbb_cells[i].set_text(nbb_formatted_code);\n",
       "                        }\n",
       "                        break;\n",
       "                    }\n",
       "                }\n",
       "            }, 500);\n",
       "            "
      ],
      "text/plain": [
       "<IPython.core.display.Javascript object>"
      ]
     },
     "metadata": {},
     "output_type": "display_data"
    }
   ],
   "source": [
    "skill = hindcast.verify(**metric_kwargs)\n",
    "skill[var].plot(col=\"lead\", robust=True)"
   ]
  },
  {
   "cell_type": "code",
   "execution_count": 17,
   "id": "damaged-meter",
   "metadata": {},
   "outputs": [
    {
     "name": "stderr",
     "output_type": "stream",
     "text": [
      "/Users/aaron.spring/Coding/climpred/climpred/bias_removal.py:138: UserWarning: HindcastEnsemble.remove_bias() is still experimental and is only tested for annual leads. Please consider contributing to https://github.com/pangeo-data/climpred/issues/605\n",
      "  warnings.warn(\n"
     ]
    },
    {
     "data": {
      "application/javascript": [
       "\n",
       "            setTimeout(function() {\n",
       "                var nbb_cell_id = 17;\n",
       "                var nbb_unformatted_code = \"# still experimental, help appreciated https://github.com/pangeo-data/climpred/issues/605\\nwith climpred.set_options(seasonality=\\\"month\\\"):\\n    hindcast = hindcast.remove_bias(metric_kwargs[\\\"alignment\\\"], cross_validate=False)\";\n",
       "                var nbb_formatted_code = \"# still experimental, help appreciated https://github.com/pangeo-data/climpred/issues/605\\nwith climpred.set_options(seasonality=\\\"month\\\"):\\n    hindcast = hindcast.remove_bias(metric_kwargs[\\\"alignment\\\"], cross_validate=False)\";\n",
       "                var nbb_cells = Jupyter.notebook.get_cells();\n",
       "                for (var i = 0; i < nbb_cells.length; ++i) {\n",
       "                    if (nbb_cells[i].input_prompt_number == nbb_cell_id) {\n",
       "                        if (nbb_cells[i].get_text() == nbb_unformatted_code) {\n",
       "                             nbb_cells[i].set_text(nbb_formatted_code);\n",
       "                        }\n",
       "                        break;\n",
       "                    }\n",
       "                }\n",
       "            }, 500);\n",
       "            "
      ],
      "text/plain": [
       "<IPython.core.display.Javascript object>"
      ]
     },
     "metadata": {},
     "output_type": "display_data"
    }
   ],
   "source": [
    "# still experimental, help appreciated https://github.com/pangeo-data/climpred/issues/605\n",
    "with climpred.set_options(seasonality=\"month\"):\n",
    "    hindcast = hindcast.remove_bias(metric_kwargs[\"alignment\"], cross_validate=False)"
   ]
  },
  {
   "cell_type": "code",
   "execution_count": 18,
   "id": "sixth-rough",
   "metadata": {},
   "outputs": [
    {
     "data": {
      "text/plain": [
       "<xarray.plot.facetgrid.FacetGrid at 0x14a468910>"
      ]
     },
     "execution_count": 18,
     "metadata": {},
     "output_type": "execute_result"
    },
    {
     "data": {
      "image/png": "[encoded data removed]",
      "text/plain": [
       "<Figure size 720x216 with 4 Axes>"
      ]
     },
     "metadata": {
      "needs_background": "light"
     },
     "output_type": "display_data"
    },
    {
     "data": {
      "application/javascript": [
       "\n",
       "            setTimeout(function() {\n",
       "                var nbb_cell_id = 18;\n",
       "                var nbb_unformatted_code = \"skill = hindcast.verify(**metric_kwargs)\\nskill[var].plot(col=\\\"lead\\\", robust=True)\";\n",
       "                var nbb_formatted_code = \"skill = hindcast.verify(**metric_kwargs)\\nskill[var].plot(col=\\\"lead\\\", robust=True)\";\n",
       "                var nbb_cells = Jupyter.notebook.get_cells();\n",
       "                for (var i = 0; i < nbb_cells.length; ++i) {\n",
       "                    if (nbb_cells[i].input_prompt_number == nbb_cell_id) {\n",
       "                        if (nbb_cells[i].get_text() == nbb_unformatted_code) {\n",
       "                             nbb_cells[i].set_text(nbb_formatted_code);\n",
       "                        }\n",
       "                        break;\n",
       "                    }\n",
       "                }\n",
       "            }, 500);\n",
       "            "
      ],
      "text/plain": [
       "<IPython.core.display.Javascript object>"
      ]
     },
     "metadata": {},
     "output_type": "display_data"
    }
   ],
   "source": [
    "skill = hindcast.verify(**metric_kwargs)\n",
    "skill[var].plot(col=\"lead\", robust=True)"
   ]
  },
  {
   "cell_type": "code",
   "execution_count": null,
   "id": "d43dd4ae-b0b0-4ff5-8c77-f91b042a9b89",
   "metadata": {},
   "outputs": [],
   "source": []
  }
 ],
 "metadata": {
  "kernelspec": {
   "display_name": "Python 3",
   "language": "python",
   "name": "python3"
  },
  "language_info": {
   "codemirror_mode": {
    "name": "ipython",
    "version": 3
   },
   "file_extension": ".py",
   "mimetype": "text/x-python",
   "name": "python",
   "nbconvert_exporter": "python",
   "pygments_lexer": "ipython3",
   "version": "3.7.10"
  }
 },
 "nbformat": 4,
 "nbformat_minor": 5
}
