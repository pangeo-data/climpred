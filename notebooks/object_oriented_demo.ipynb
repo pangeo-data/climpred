{
 "cells": [
  {
   "cell_type": "markdown",
   "metadata": {},
   "source": [
    "# Object-Oriented Demo\n",
    "\n",
    "---\n",
    "\n",
    "How `climpred` would look with an object-oriented philosophy."
   ]
  },
  {
   "cell_type": "code",
   "execution_count": 1,
   "metadata": {},
   "outputs": [],
   "source": [
    "import numpy as np\n",
    "import xarray as xr\n",
    "import climpred as cp\n",
    "import matplotlib.pyplot as plt\n",
    "%matplotlib inline"
   ]
  },
  {
   "cell_type": "markdown",
   "metadata": {},
   "source": [
    "Load in demo datasets and process them"
   ]
  },
  {
   "cell_type": "code",
   "execution_count": 2,
   "metadata": {},
   "outputs": [],
   "source": [
    "def _load_dple():\n",
    "    dple = xr.open_dataset('/Users/ribr5703/Desktop/climpred/sample_data/prediction/' +\n",
    "                     'CESM-DP-LE.SST.annmean.anom.nc')['anom']\n",
    "    dple = dple.sel(S=slice(1955, 2015))\n",
    "    dple = dple.mean('M')\n",
    "    dple = dple.rename({'S': 'initialization', 'L': 'time'})\n",
    "    dple.name = 'SST'\n",
    "    return dple\n",
    "\n",
    "def _load_fosi():\n",
    "    fosi = xr.open_dataset('/Users/ribr5703/Desktop/climpred/sample_data/prediction/' +\n",
    "                       'g.e11_LENS.GECOIAF.T62_g16.009.pop.h.SST.024901-031612.nc')['SST']\n",
    "    fosi = fosi.sel(time=slice('1955', '2015'))\n",
    "    fosi = fosi.groupby('time.year').mean('time')\n",
    "    fosi = fosi.rename({'year': 'initialization'})\n",
    "    return fosi\n",
    "\n",
    "def _load_data():\n",
    "    data = xr.open_dataset('/Users/ribr5703/Desktop/climpred/sample_data/prediction/' +\n",
    "                           'ERSSTv4.global.mean.nc')['sst']\n",
    "    data = data.rename({'year': 'initialization'})\n",
    "    data.name = 'SST'\n",
    "    return data\n",
    "\n",
    "dple = _load_dple().to_dataset()\n",
    "fosi = _load_fosi().to_dataset()\n",
    "data = _load_data().to_dataset()"
   ]
  },
  {
   "cell_type": "markdown",
   "metadata": {},
   "source": [
    "There are currently two types of objects (like `dataset` and `dataarray`). One is the `ReferenceEnsemble`, which are ensembles that are initialized off of something like a reconstruction or data. The other is a `PerfectModelEnsemble`, like MPI's setup."
   ]
  },
  {
   "cell_type": "code",
   "execution_count": 3,
   "metadata": {},
   "outputs": [
    {
     "name": "stdout",
     "output_type": "stream",
     "text": [
      "<climpred.ReferenceEnsemble>\n",
      "Initialized Ensemble:\n",
      "    SST      (initialization, time) float32 -0.20294695 -0.1434082 ... 0.587774\n",
      "References:\n",
      "    None\n"
     ]
    }
   ],
   "source": [
    "dp = cp.ReferenceEnsemble(dple)\n",
    "print(dp)"
   ]
  },
  {
   "cell_type": "markdown",
   "metadata": {},
   "source": [
    "For a `ReferenceEnsemble` type, you can add multiple references. Here, we will add the reconstruction (FOSI) and a dataset (ERSST). Multiple checks go into play here under the hood, ensuring that dimensions are named according to our rules and that references match all initialized dimensions (except for `time`). \n",
    "\n",
    "We can also have multiple variables per reference and decadal prediction object."
   ]
  },
  {
   "cell_type": "code",
   "execution_count": 4,
   "metadata": {},
   "outputs": [],
   "source": [
    "dple['SALT'] = _load_dple()\n",
    "fosi['SALT'] = ('initialization', np.random.randn(61))\n",
    "data['SALT'] = ('initialization', np.random.randn(61))"
   ]
  },
  {
   "cell_type": "code",
   "execution_count": 5,
   "metadata": {},
   "outputs": [
    {
     "name": "stdout",
     "output_type": "stream",
     "text": [
      "<climpred.ReferenceEnsemble>\n",
      "Initialized Ensemble:\n",
      "    SST      (initialization, time) float32 -0.20294695 -0.1434082 ... 0.587774\n",
      "    SALT     (initialization, time) float32 -0.20294695 -0.1434082 ... 0.587774\n",
      "FOSI:\n",
      "    SST      (initialization) float32 16.255846 16.252129 ... 16.714994\n",
      "    SALT     (initialization) float64 0.04307 0.1246 0.9466 ... -1.998 2.304\n",
      "ERSST:\n",
      "    SST      (initialization) float32 ...\n",
      "    SALT     (initialization) float64 -0.2143 0.0452 1.27 ... 1.071 0.08761\n"
     ]
    }
   ],
   "source": [
    "dp = cp.ReferenceEnsemble(dple)\n",
    "dp.add_reference(fosi, 'FOSI')\n",
    "dp.add_reference(data, 'ERSST')\n",
    "print(dp)"
   ]
  },
  {
   "cell_type": "markdown",
   "metadata": {},
   "source": [
    "Now we can apply our functions to our `ReferenceEnsemble` object. You can call `compute_skill` in two different ways:\n",
    "\n",
    "1. Declaring a single reference you want to compute skill with regard to (this returns a single xr.Dataset with skill results for that\n",
    "\n",
    "2. Running `compute_skill` with no arguments, which computes skill for all available references. This returns a dictionary with each of your reference results."
   ]
  },
  {
   "cell_type": "code",
   "execution_count": 6,
   "metadata": {},
   "outputs": [
    {
     "name": "stdout",
     "output_type": "stream",
     "text": [
      "<xarray.Dataset>\n",
      "Dimensions:  (time: 10)\n",
      "Coordinates:\n",
      "    z_t      float32 500.0\n",
      "  * time     (time) int64 1 2 3 4 5 6 7 8 9 10\n",
      "Data variables:\n",
      "    SST      (time) float32 0.85391504 0.7564817 ... 0.7252849 0.7146723\n",
      "    SALT     (time) float64 -0.1346 -0.05851 -0.08545 ... -0.04915 -0.03644\n"
     ]
    }
   ],
   "source": [
    "# only want skill for FOSI.\n",
    "skill = dp.compute_skill('FOSI')\n",
    "print(skill)"
   ]
  },
  {
   "cell_type": "code",
   "execution_count": 7,
   "metadata": {},
   "outputs": [
    {
     "name": "stdout",
     "output_type": "stream",
     "text": [
      "<xarray.Dataset>\n",
      "Dimensions:  (time: 10)\n",
      "Coordinates:\n",
      "    z_t      float32 500.0\n",
      "  * time     (time) int64 1 2 3 4 5 6 7 8 9 10\n",
      "Data variables:\n",
      "    SST      (time) float32 0.85391504 0.7564817 ... 0.7252849 0.7146723\n",
      "    SALT     (time) float64 -0.1346 -0.05851 -0.08545 ... -0.04915 -0.03644\n",
      "<xarray.Dataset>\n",
      "Dimensions:  (time: 10)\n",
      "Coordinates:\n",
      "  * time     (time) int64 1 2 3 4 5 6 7 8 9 10\n",
      "Data variables:\n",
      "    SST      (time) float32 0.92809033 0.8993258 ... 0.915254 0.91362256\n",
      "    SALT     (time) float64 0.1225 0.05945 0.0847 ... 0.1077 0.0888 0.1262\n"
     ]
    }
   ],
   "source": [
    "# want skill for all references\n",
    "skill = dp.compute_skill()\n",
    "print(skill['FOSI'])\n",
    "print(skill['ERSST'])"
   ]
  },
  {
   "cell_type": "markdown",
   "metadata": {},
   "source": [
    "We can also compute a persistence forecast."
   ]
  },
  {
   "cell_type": "code",
   "execution_count": 8,
   "metadata": {},
   "outputs": [
    {
     "data": {
      "text/plain": [
       "<xarray.Dataset>\n",
       "Dimensions:  (time: 10)\n",
       "Coordinates:\n",
       "    z_t      float32 500.0\n",
       "  * time     (time) int64 1 2 3 4 5 6 7 8 9 10\n",
       "Data variables:\n",
       "    SST      (time) float32 0.7159944 0.5045179 ... 0.44596496 0.5347486\n",
       "    SALT     (time) float64 0.09441 -0.1138 -0.1492 ... -0.1933 -0.01634 0.07843"
      ]
     },
     "execution_count": 8,
     "metadata": {},
     "output_type": "execute_result"
    }
   ],
   "source": [
    "dp.compute_persistence('FOSI')"
   ]
  },
  {
   "cell_type": "code",
   "execution_count": 9,
   "metadata": {},
   "outputs": [
    {
     "name": "stdout",
     "output_type": "stream",
     "text": [
      "<xarray.Dataset>\n",
      "Dimensions:  (time: 10)\n",
      "Coordinates:\n",
      "    z_t      float32 500.0\n",
      "  * time     (time) int64 1 2 3 4 5 6 7 8 9 10\n",
      "Data variables:\n",
      "    SST      (time) float32 0.7159944 0.5045179 ... 0.44596496 0.5347486\n",
      "    SALT     (time) float64 0.09441 -0.1138 -0.1492 ... -0.1933 -0.01634 0.07843\n",
      "<xarray.Dataset>\n",
      "Dimensions:  (time: 10)\n",
      "Coordinates:\n",
      "  * time     (time) int64 1 2 3 4 5 6 7 8 9 10\n",
      "Data variables:\n",
      "    SST      (time) float32 0.91231585 0.83529794 ... 0.83016926 0.8554033\n",
      "    SALT     (time) float64 -0.05742 -0.1514 -0.1056 ... -0.1529 -0.06572 0.2229\n"
     ]
    }
   ],
   "source": [
    "persist = dp.compute_persistence()\n",
    "print(persist['FOSI'])\n",
    "print(persist['ERSST'])"
   ]
  },
  {
   "cell_type": "code",
   "execution_count": 10,
   "metadata": {},
   "outputs": [
    {
     "data": {
      "text/plain": [
       "<matplotlib.legend.Legend at 0x1c1e314ef0>"
      ]
     },
     "execution_count": 10,
     "metadata": {},
     "output_type": "execute_result"
    },
    {
     "data": {
      "image/png": "[encoded data removed]",
      "text/plain": [
       "<Figure size 432x288 with 1 Axes>"
      ]
     },
     "metadata": {
      "needs_background": "light"
     },
     "output_type": "display_data"
    }
   ],
   "source": [
    "plt.plot(persist['FOSI'].SST, color='r', linestyle='--', label='FOSI')\n",
    "plt.plot(persist['ERSST'].SST, color='b', linestyle='--', label='ERSST')\n",
    "plt.legend()"
   ]
  }
 ],
 "metadata": {
  "kernelspec": {
   "display_name": "Python 3",
   "language": "python",
   "name": "python3"
  },
  "language_info": {
   "codemirror_mode": {
    "name": "ipython",
    "version": 3
   },
   "file_extension": ".py",
   "mimetype": "text/x-python",
   "name": "python",
   "nbconvert_exporter": "python",
   "pygments_lexer": "ipython3",
   "version": "3.6.6"
  },
  "toc": {
   "base_numbering": 1,
   "nav_menu": {},
   "number_sections": true,
   "sideBar": true,
   "skip_h1_title": false,
   "title_cell": "Table of Contents",
   "title_sidebar": "Contents",
   "toc_cell": false,
   "toc_position": {},
   "toc_section_display": true,
   "toc_window_display": false
  },
  "varInspector": {
   "cols": {
    "lenName": 16,
    "lenType": 16,
    "lenVar": 40
   },
   "kernels_config": {
    "python": {
     "delete_cmd_postfix": "",
     "delete_cmd_prefix": "del ",
     "library": "var_list.py",
     "varRefreshCmd": "print(var_dic_list())"
    },
    "r": {
     "delete_cmd_postfix": ") ",
     "delete_cmd_prefix": "rm(",
     "library": "var_list.r",
     "varRefreshCmd": "cat(var_dic_list()) "
    }
   },
   "types_to_exclude": [
    "module",
    "function",
    "builtin_function_or_method",
    "instance",
    "_Feature"
   ],
   "window_display": false
  }
 },
 "nbformat": 4,
 "nbformat_minor": 2
}
