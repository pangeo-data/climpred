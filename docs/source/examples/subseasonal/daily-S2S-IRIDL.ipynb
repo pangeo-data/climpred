{
 "cells": [
  {
   "cell_type": "markdown",
   "metadata": {},
   "source": [
    "## Calculate skill of a MJO Index of S2S models as function of daily lead time"
   ]
  },
  {
   "cell_type": "code",
   "execution_count": 1,
   "metadata": {},
   "outputs": [
    {
     "data": {
      "application/javascript": [
       "\n",
       "            setTimeout(function() {\n",
       "                var nbb_cell_id = 1;\n",
       "                var nbb_unformatted_code = \"# linting\\n%load_ext nb_black\\n%load_ext lab_black\";\n",
       "                var nbb_formatted_code = \"# linting\\n%load_ext nb_black\\n%load_ext lab_black\";\n",
       "                var nbb_cells = Jupyter.notebook.get_cells();\n",
       "                for (var i = 0; i < nbb_cells.length; ++i) {\n",
       "                    if (nbb_cells[i].input_prompt_number == nbb_cell_id) {\n",
       "                        if (nbb_cells[i].get_text() == nbb_unformatted_code) {\n",
       "                             nbb_cells[i].set_text(nbb_formatted_code);\n",
       "                        }\n",
       "                        break;\n",
       "                    }\n",
       "                }\n",
       "            }, 500);\n",
       "            "
      ],
      "text/plain": [
       "<IPython.core.display.Javascript object>"
      ]
     },
     "metadata": {},
     "output_type": "display_data"
    }
   ],
   "source": [
    "# linting\n",
    "%load_ext nb_black\n",
    "%load_ext lab_black"
   ]
  },
  {
   "cell_type": "code",
   "execution_count": 2,
   "metadata": {},
   "outputs": [
    {
     "name": "stdout",
     "output_type": "stream",
     "text": [
      "Warning: ecCodes 2.21.0 or higher is recommended. You are running version 2.20.0\n"
     ]
    },
    {
     "data": {
      "application/javascript": [
       "\n",
       "            setTimeout(function() {\n",
       "                var nbb_cell_id = 2;\n",
       "                var nbb_unformatted_code = \"import xarray as xr\\n\\nxr.set_options(display_style=\\\"html\\\")\\n\\nimport numpy as np\\nimport matplotlib.pyplot as plt\\nfrom climpred import HindcastEnsemble\\nimport climpred\";\n",
       "                var nbb_formatted_code = \"import xarray as xr\\n\\nxr.set_options(display_style=\\\"html\\\")\\n\\nimport numpy as np\\nimport matplotlib.pyplot as plt\\nfrom climpred import HindcastEnsemble\\nimport climpred\";\n",
       "                var nbb_cells = Jupyter.notebook.get_cells();\n",
       "                for (var i = 0; i < nbb_cells.length; ++i) {\n",
       "                    if (nbb_cells[i].input_prompt_number == nbb_cell_id) {\n",
       "                        if (nbb_cells[i].get_text() == nbb_unformatted_code) {\n",
       "                             nbb_cells[i].set_text(nbb_formatted_code);\n",
       "                        }\n",
       "                        break;\n",
       "                    }\n",
       "                }\n",
       "            }, 500);\n",
       "            "
      ],
      "text/plain": [
       "<IPython.core.display.Javascript object>"
      ]
     },
     "metadata": {},
     "output_type": "display_data"
    }
   ],
   "source": [
    "import xarray as xr\n",
    "\n",
    "xr.set_options(display_style=\"html\")\n",
    "\n",
    "import numpy as np\n",
    "import matplotlib.pyplot as plt\n",
    "from climpred import HindcastEnsemble\n",
    "import climpred"
   ]
  },
  {
   "cell_type": "markdown",
   "metadata": {},
   "source": [
    "IRIDL hosts various subseasonal initialized forecast and hindcast simulations:\n",
    "\n",
    "- `S2S project`:\n",
    "    - http://iridl.ldeo.columbia.edu/SOURCES/.ECMWF/.S2S/\n",
    "        - hindcast/reforecast: one variable, one model: ~ 80 GB\n",
    "        - login required\n",
    "- `SubX project`:\n",
    "    - http://iridl.ldeo.columbia.edu/SOURCES/.Models/.SubX/\n",
    "        - hindcast/reforecast: one variable, one model: ~ 100 GB\n",
    "        - login not required\n",
    "\n",
    "---"
   ]
  },
  {
   "cell_type": "markdown",
   "metadata": {},
   "source": [
    "Here, we demonstrate how to set a cookie for IRIDL and access the skill of RMM1 subseasonal reforecasts.\n",
    "\n",
    "---"
   ]
  },
  {
   "cell_type": "markdown",
   "metadata": {},
   "source": [
    "Here are instructions for configuring xarray to open protected Data Library datasets, after you have created a Data Library account and accepted the terms and conditions for the dataset.\n",
    "1. Visit https://iridl.ldeo.columbia.edu/auth/genkey . Log in to the Data Library. Copy the key from the response.\n",
    "\n",
    "2. Create a file with the following content, substituting the key from step 1 for `\"xxxx\"`:\n",
    "`Set-Cookie: __dlauth_id=xxxx; domain=.iridl.ldeo.columbia.edu`\n",
    "\n",
    "3. Put the following in `~/.daprc`, which is `/home/jovyan/.daprc` on renku, substituting the path to the above file for `/path/to/cookie/file`:\n",
    "`HTTP.COOKIEJAR=/path/to/cookie/file`. You may need to copy `.daprc` to `/home/jovyan` on renku, because `/home/jovyan` is not tracked by `git`."
   ]
  },
  {
   "cell_type": "code",
   "execution_count": 3,
   "metadata": {},
   "outputs": [
    {
     "name": "stdout",
     "output_type": "stream",
     "text": [
      "HTTP.COOKIEJAR=/Users/aaron.spring/.cookie_iridl\n"
     ]
    },
    {
     "data": {
      "application/javascript": [
       "\n",
       "            setTimeout(function() {\n",
       "                var nbb_cell_id = 3;\n",
       "                var nbb_unformatted_code = \"!cat ~/.daprc\";\n",
       "                var nbb_formatted_code = \"!cat ~/.daprc\";\n",
       "                var nbb_cells = Jupyter.notebook.get_cells();\n",
       "                for (var i = 0; i < nbb_cells.length; ++i) {\n",
       "                    if (nbb_cells[i].input_prompt_number == nbb_cell_id) {\n",
       "                        if (nbb_cells[i].get_text() == nbb_unformatted_code) {\n",
       "                             nbb_cells[i].set_text(nbb_formatted_code);\n",
       "                        }\n",
       "                        break;\n",
       "                    }\n",
       "                }\n",
       "            }, 500);\n",
       "            "
      ],
      "text/plain": [
       "<IPython.core.display.Javascript object>"
      ]
     },
     "metadata": {},
     "output_type": "display_data"
    }
   ],
   "source": [
    "!cat ~/.daprc"
   ]
  },
  {
   "cell_type": "code",
   "execution_count": 4,
   "metadata": {},
   "outputs": [
    {
     "data": {
      "application/javascript": [
       "\n",
       "            setTimeout(function() {\n",
       "                var nbb_cell_id = 4;\n",
       "                var nbb_unformatted_code = \"#%writefile ~/.cookie_iridl\\n# Set-Cookie: __dlauth_id=xxxx; domain=.iridl.ldeo.columbia.edu\";\n",
       "                var nbb_formatted_code = \"#%writefile ~/.cookie_iridl\\n# Set-Cookie: __dlauth_id=xxxx; domain=.iridl.ldeo.columbia.edu\";\n",
       "                var nbb_cells = Jupyter.notebook.get_cells();\n",
       "                for (var i = 0; i < nbb_cells.length; ++i) {\n",
       "                    if (nbb_cells[i].input_prompt_number == nbb_cell_id) {\n",
       "                        if (nbb_cells[i].get_text() == nbb_unformatted_code) {\n",
       "                             nbb_cells[i].set_text(nbb_formatted_code);\n",
       "                        }\n",
       "                        break;\n",
       "                    }\n",
       "                }\n",
       "            }, 500);\n",
       "            "
      ],
      "text/plain": [
       "<IPython.core.display.Javascript object>"
      ]
     },
     "metadata": {},
     "output_type": "display_data"
    }
   ],
   "source": [
    "#%writefile ~/.cookie_iridl\n",
    "# Set-Cookie: __dlauth_id=xxxx; domain=.iridl.ldeo.columbia.edu"
   ]
  },
  {
   "cell_type": "markdown",
   "metadata": {},
   "source": [
    "### Get observations"
   ]
  },
  {
   "cell_type": "code",
   "execution_count": 5,
   "metadata": {},
   "outputs": [
    {
     "data": {
      "application/javascript": [
       "\n",
       "            setTimeout(function() {\n",
       "                var nbb_cell_id = 5;\n",
       "                var nbb_unformatted_code = \"# pre-computed\\nobsds = climpred.tutorial.load_dataset(\\\"RMM-INTERANN-OBS\\\")[\\n    \\\"rmm1\\\"\\n].to_dataset()  # only until 2017\\nobsds = obsds.dropna(\\\"time\\\").sel(time=slice(\\\"1995\\\", None))  # Get rid of missing times.\";\n",
       "                var nbb_formatted_code = \"# pre-computed\\nobsds = climpred.tutorial.load_dataset(\\\"RMM-INTERANN-OBS\\\")[\\n    \\\"rmm1\\\"\\n].to_dataset()  # only until 2017\\nobsds = obsds.dropna(\\\"time\\\").sel(time=slice(\\\"1995\\\", None))  # Get rid of missing times.\";\n",
       "                var nbb_cells = Jupyter.notebook.get_cells();\n",
       "                for (var i = 0; i < nbb_cells.length; ++i) {\n",
       "                    if (nbb_cells[i].input_prompt_number == nbb_cell_id) {\n",
       "                        if (nbb_cells[i].get_text() == nbb_unformatted_code) {\n",
       "                             nbb_cells[i].set_text(nbb_formatted_code);\n",
       "                        }\n",
       "                        break;\n",
       "                    }\n",
       "                }\n",
       "            }, 500);\n",
       "            "
      ],
      "text/plain": [
       "<IPython.core.display.Javascript object>"
      ]
     },
     "metadata": {},
     "output_type": "display_data"
    }
   ],
   "source": [
    "# pre-computed\n",
    "obsds = climpred.tutorial.load_dataset(\"RMM-INTERANN-OBS\")[\n",
    "    \"rmm1\"\n",
    "].to_dataset()  # only until 2017\n",
    "obsds = obsds.dropna(\"time\").sel(time=slice(\"1995\", None))  # Get rid of missing times."
   ]
  },
  {
   "cell_type": "markdown",
   "metadata": {},
   "source": [
    "### Get `on-the-fly` reforecasts\n",
    "\n",
    "S2S models:\n",
    "\n",
    "- `ECMF`\n",
    "- `ECCC`\n",
    "- `HMCR`\n",
    "- `KMA`\n",
    "- `UKMO`"
   ]
  },
  {
   "cell_type": "markdown",
   "metadata": {},
   "source": [
    "There are a set of reforecasts of the ECMWF model that match each real time forecast. They are made \"on the fly\" when a real time forecast is issued. So for S=0000 8 Feb 2021, there are reforecasts initialized on 0000 8 Feb 2020 and the 19 previous years on 8 Feb."
   ]
  },
  {
   "cell_type": "code",
   "execution_count": 13,
   "metadata": {},
   "outputs": [
    {
     "name": "stdout",
     "output_type": "stream",
     "text": [
      "CPU times: user 613 ms, sys: 1.06 s, total: 1.67 s\n",
      "Wall time: 24.6 s\n"
     ]
    },
    {
     "data": {
      "application/javascript": [
       "\n",
       "            setTimeout(function() {\n",
       "                var nbb_cell_id = 13;\n",
       "                var nbb_unformatted_code = \"%%time \\nfcstds = xr.open_dataset(\\n    \\\"https://iridl.ldeo.columbia.edu/SOURCES/.ECMWF/.S2S/.ECMF/.reforecast/.RMMS/.ensembles/.RMM1/dods\\\",\\n    decode_times=False,\\n    chunks=None,\\n).compute()\";\n",
       "                var nbb_formatted_code = \"%%time \\nfcstds = xr.open_dataset(\\n    \\\"https://iridl.ldeo.columbia.edu/SOURCES/.ECMWF/.S2S/.ECMF/.reforecast/.RMMS/.ensembles/.RMM1/dods\\\",\\n    decode_times=False,\\n    chunks=None,\\n).compute()\";\n",
       "                var nbb_cells = Jupyter.notebook.get_cells();\n",
       "                for (var i = 0; i < nbb_cells.length; ++i) {\n",
       "                    if (nbb_cells[i].input_prompt_number == nbb_cell_id) {\n",
       "                        if (nbb_cells[i].get_text() == nbb_unformatted_code) {\n",
       "                             nbb_cells[i].set_text(nbb_formatted_code);\n",
       "                        }\n",
       "                        break;\n",
       "                    }\n",
       "                }\n",
       "            }, 500);\n",
       "            "
      ],
      "text/plain": [
       "<IPython.core.display.Javascript object>"
      ]
     },
     "metadata": {},
     "output_type": "display_data"
    }
   ],
   "source": [
    "%%time \n",
    "fcstds = xr.open_dataset(\n",
    "    \"https://iridl.ldeo.columbia.edu/SOURCES/.ECMWF/.S2S/.ECMF/.reforecast/.RMMS/.ensembles/.RMM1/dods\",\n",
    "    decode_times=False,\n",
    "    chunks=None,\n",
    ").compute()"
   ]
  },
  {
   "cell_type": "code",
   "execution_count": 14,
   "metadata": {},
   "outputs": [
    {
     "data": {
      "application/javascript": [
       "\n",
       "            setTimeout(function() {\n",
       "                var nbb_cell_id = 14;\n",
       "                var nbb_unformatted_code = \"# calendar '360' not recognized, but '360_day'\\nif fcstds.hdate.attrs[\\\"calendar\\\"] == \\\"360\\\":\\n    fcstds.hdate.attrs[\\\"calendar\\\"] = \\\"360_day\\\"\";\n",
       "                var nbb_formatted_code = \"# calendar '360' not recognized, but '360_day'\\nif fcstds.hdate.attrs[\\\"calendar\\\"] == \\\"360\\\":\\n    fcstds.hdate.attrs[\\\"calendar\\\"] = \\\"360_day\\\"\";\n",
       "                var nbb_cells = Jupyter.notebook.get_cells();\n",
       "                for (var i = 0; i < nbb_cells.length; ++i) {\n",
       "                    if (nbb_cells[i].input_prompt_number == nbb_cell_id) {\n",
       "                        if (nbb_cells[i].get_text() == nbb_unformatted_code) {\n",
       "                             nbb_cells[i].set_text(nbb_formatted_code);\n",
       "                        }\n",
       "                        break;\n",
       "                    }\n",
       "                }\n",
       "            }, 500);\n",
       "            "
      ],
      "text/plain": [
       "<IPython.core.display.Javascript object>"
      ]
     },
     "metadata": {},
     "output_type": "display_data"
    }
   ],
   "source": [
    "# calendar '360' not recognized, but '360_day'\n",
    "if fcstds.hdate.attrs[\"calendar\"] == \"360\":\n",
    "    fcstds.hdate.attrs[\"calendar\"] = \"360_day\""
   ]
  },
  {
   "cell_type": "markdown",
   "metadata": {},
   "source": [
    "The S2S data dimensions correspond to the following `climpred` dimension definitions: `M=member`, `S=init`.  We will rename the dimensions to their `climpred` names."
   ]
  },
  {
   "cell_type": "code",
   "execution_count": 15,
   "metadata": {},
   "outputs": [
    {
     "data": {
      "application/javascript": [
       "\n",
       "            setTimeout(function() {\n",
       "                var nbb_cell_id = 15;\n",
       "                var nbb_unformatted_code = \"# rename to match climpred dims: https://climpred.readthedocs.io/en/stable/setting-up-data.html\\nfcstds = fcstds.rename({\\\"S\\\": \\\"init\\\", \\\"L\\\": \\\"lead\\\", \\\"M\\\": \\\"member\\\", \\\"RMM1\\\": \\\"rmm1\\\"})\";\n",
       "                var nbb_formatted_code = \"# rename to match climpred dims: https://climpred.readthedocs.io/en/stable/setting-up-data.html\\nfcstds = fcstds.rename({\\\"S\\\": \\\"init\\\", \\\"L\\\": \\\"lead\\\", \\\"M\\\": \\\"member\\\", \\\"RMM1\\\": \\\"rmm1\\\"})\";\n",
       "                var nbb_cells = Jupyter.notebook.get_cells();\n",
       "                for (var i = 0; i < nbb_cells.length; ++i) {\n",
       "                    if (nbb_cells[i].input_prompt_number == nbb_cell_id) {\n",
       "                        if (nbb_cells[i].get_text() == nbb_unformatted_code) {\n",
       "                             nbb_cells[i].set_text(nbb_formatted_code);\n",
       "                        }\n",
       "                        break;\n",
       "                    }\n",
       "                }\n",
       "            }, 500);\n",
       "            "
      ],
      "text/plain": [
       "<IPython.core.display.Javascript object>"
      ]
     },
     "metadata": {},
     "output_type": "display_data"
    }
   ],
   "source": [
    "# rename to match climpred dims: https://climpred.readthedocs.io/en/stable/setting-up-data.html\n",
    "fcstds = fcstds.rename({\"S\": \"init\", \"L\": \"lead\", \"M\": \"member\", \"RMM1\": \"rmm1\"})"
   ]
  },
  {
   "cell_type": "code",
   "execution_count": 16,
   "metadata": {},
   "outputs": [
    {
     "data": {
      "text/plain": [
       "Coordinates:\n",
       "  * hdate    (hdate) object 1995-07-01 00:00:00 ... 2020-07-01 00:00:00\n",
       "  * init     (init) object 2015-05-14 00:00:00 ... 2021-02-15 00:00:00\n",
       "  * member   (member) float32 0.0 1.0 2.0 3.0 4.0 5.0 6.0 7.0 8.0 9.0 10.0\n",
       "  * lead     (lead) timedelta64[ns] 1 days 2 days 3 days ... 45 days 46 days"
      ]
     },
     "execution_count": 16,
     "metadata": {},
     "output_type": "execute_result"
    },
    {
     "data": {
      "application/javascript": [
       "\n",
       "            setTimeout(function() {\n",
       "                var nbb_cell_id = 16;\n",
       "                var nbb_unformatted_code = \"fcstds = xr.decode_cf(fcstds, use_cftime=True)\\nfcstds.coords\";\n",
       "                var nbb_formatted_code = \"fcstds = xr.decode_cf(fcstds, use_cftime=True)\\nfcstds.coords\";\n",
       "                var nbb_cells = Jupyter.notebook.get_cells();\n",
       "                for (var i = 0; i < nbb_cells.length; ++i) {\n",
       "                    if (nbb_cells[i].input_prompt_number == nbb_cell_id) {\n",
       "                        if (nbb_cells[i].get_text() == nbb_unformatted_code) {\n",
       "                             nbb_cells[i].set_text(nbb_formatted_code);\n",
       "                        }\n",
       "                        break;\n",
       "                    }\n",
       "                }\n",
       "            }, 500);\n",
       "            "
      ],
      "text/plain": [
       "<IPython.core.display.Javascript object>"
      ]
     },
     "metadata": {},
     "output_type": "display_data"
    }
   ],
   "source": [
    "fcstds = xr.decode_cf(fcstds, use_cftime=True)\n",
    "fcstds.coords"
   ]
  },
  {
   "cell_type": "markdown",
   "metadata": {},
   "source": [
    "#### Skill for a single real-time forecast from corresponding reforecasts"
   ]
  },
  {
   "cell_type": "code",
   "execution_count": 20,
   "metadata": {},
   "outputs": [
    {
     "data": {
      "text/plain": [
       "<matplotlib.collections.QuadMesh at 0x7ff84ebf9d90>"
      ]
     },
     "execution_count": 20,
     "metadata": {},
     "output_type": "execute_result"
    },
    {
     "data": {
      "image/png": "[encoded data removed]",
      "text/plain": [
       "<Figure size 432x288 with 2 Axes>"
      ]
     },
     "metadata": {
      "needs_background": "light"
     },
     "output_type": "display_data"
    },
    {
     "data": {
      "application/javascript": [
       "\n",
       "            setTimeout(function() {\n",
       "                var nbb_cell_id = 20;\n",
       "                var nbb_unformatted_code = \"# assessing the skill of the reforecasts done annually from 8 Feb 2001 to 8 Feb 2020\\n# for the real-time forecast 8 Feb 2021\\nd = \\\"08\\\"\\nm = \\\"02\\\"\\ny = \\\"2021\\\"\\n\\nfcstds.sel(init=f\\\"{y}-{m}-{d}\\\").squeeze().rmm1.mean(\\\"member\\\").plot()\";\n",
       "                var nbb_formatted_code = \"# assessing the skill of the reforecasts done annually from 8 Feb 2001 to 8 Feb 2020\\n# for the real-time forecast 8 Feb 2021\\nd = \\\"08\\\"\\nm = \\\"02\\\"\\ny = \\\"2021\\\"\\n\\nfcstds.sel(init=f\\\"{y}-{m}-{d}\\\").squeeze().rmm1.mean(\\\"member\\\").plot()\";\n",
       "                var nbb_cells = Jupyter.notebook.get_cells();\n",
       "                for (var i = 0; i < nbb_cells.length; ++i) {\n",
       "                    if (nbb_cells[i].input_prompt_number == nbb_cell_id) {\n",
       "                        if (nbb_cells[i].get_text() == nbb_unformatted_code) {\n",
       "                             nbb_cells[i].set_text(nbb_formatted_code);\n",
       "                        }\n",
       "                        break;\n",
       "                    }\n",
       "                }\n",
       "            }, 500);\n",
       "            "
      ],
      "text/plain": [
       "<IPython.core.display.Javascript object>"
      ]
     },
     "metadata": {},
     "output_type": "display_data"
    }
   ],
   "source": [
    "# assessing the skill of the reforecasts done annually from 8 Feb 2001 to 8 Feb 2020\n",
    "# for the real-time forecast 8 Feb 2021\n",
    "d = \"08\"\n",
    "m = \"02\"\n",
    "y = \"2021\"\n",
    "\n",
    "fcstds.sel(init=f\"{y}-{m}-{d}\").squeeze().rmm1.mean(\"member\").plot()"
   ]
  },
  {
   "cell_type": "code",
   "execution_count": 21,
   "metadata": {},
   "outputs": [
    {
     "data": {
      "application/javascript": [
       "\n",
       "            setTimeout(function() {\n",
       "                var nbb_cell_id = 21;\n",
       "                var nbb_unformatted_code = \"import cftime\\n\\n# create a new init coordinate\\nnew_init = xr.concat(\\n    [\\n        xr.DataArray(\\n            cftime.DatetimeProlepticGregorian(int(h.dt.year.values), int(m), int(d))\\n        )\\n        for h in fcstds.hdate\\n    ],\\n    \\\"init\\\",\\n)\\n\\n# select new inits for same dayofyear, drop all NaNs\\nfcstds_date = (\\n    fcstds.sel(init=f\\\"{y}-{m}-{d}\\\", drop=True)\\n    .squeeze(drop=True)\\n    .assign_coords(hdate=new_init)\\n    .rename({\\\"hdate\\\": \\\"init\\\"})\\n    .dropna(\\\"init\\\", how=\\\"all\\\")\\n)\";\n",
       "                var nbb_formatted_code = \"import cftime\\n\\n# create a new init coordinate\\nnew_init = xr.concat(\\n    [\\n        xr.DataArray(\\n            cftime.DatetimeProlepticGregorian(int(h.dt.year.values), int(m), int(d))\\n        )\\n        for h in fcstds.hdate\\n    ],\\n    \\\"init\\\",\\n)\\n\\n# select new inits for same dayofyear, drop all NaNs\\nfcstds_date = (\\n    fcstds.sel(init=f\\\"{y}-{m}-{d}\\\", drop=True)\\n    .squeeze(drop=True)\\n    .assign_coords(hdate=new_init)\\n    .rename({\\\"hdate\\\": \\\"init\\\"})\\n    .dropna(\\\"init\\\", how=\\\"all\\\")\\n)\";\n",
       "                var nbb_cells = Jupyter.notebook.get_cells();\n",
       "                for (var i = 0; i < nbb_cells.length; ++i) {\n",
       "                    if (nbb_cells[i].input_prompt_number == nbb_cell_id) {\n",
       "                        if (nbb_cells[i].get_text() == nbb_unformatted_code) {\n",
       "                             nbb_cells[i].set_text(nbb_formatted_code);\n",
       "                        }\n",
       "                        break;\n",
       "                    }\n",
       "                }\n",
       "            }, 500);\n",
       "            "
      ],
      "text/plain": [
       "<IPython.core.display.Javascript object>"
      ]
     },
     "metadata": {},
     "output_type": "display_data"
    }
   ],
   "source": [
    "import cftime\n",
    "\n",
    "# create a new init coordinate\n",
    "new_init = xr.concat(\n",
    "    [\n",
    "        xr.DataArray(\n",
    "            cftime.DatetimeProlepticGregorian(int(h.dt.year.values), int(m), int(d))\n",
    "        )\n",
    "        for h in fcstds.hdate\n",
    "    ],\n",
    "    \"init\",\n",
    ")\n",
    "\n",
    "# select new inits for same dayofyear, drop all NaNs\n",
    "fcstds_date = (\n",
    "    fcstds.sel(init=f\"{y}-{m}-{d}\", drop=True)\n",
    "    .squeeze(drop=True)\n",
    "    .assign_coords(hdate=new_init)\n",
    "    .rename({\"hdate\": \"init\"})\n",
    "    .dropna(\"init\", how=\"all\")\n",
    ")"
   ]
  },
  {
   "cell_type": "code",
   "execution_count": 23,
   "metadata": {},
   "outputs": [
    {
     "data": {
      "application/javascript": [
       "\n",
       "            setTimeout(function() {\n",
       "                var nbb_cell_id = 23;\n",
       "                var nbb_unformatted_code = \"hindcast = HindcastEnsemble(fcstds_date)\\nhindcast = hindcast.add_observations(obsds)\";\n",
       "                var nbb_formatted_code = \"hindcast = HindcastEnsemble(fcstds_date)\\nhindcast = hindcast.add_observations(obsds)\";\n",
       "                var nbb_cells = Jupyter.notebook.get_cells();\n",
       "                for (var i = 0; i < nbb_cells.length; ++i) {\n",
       "                    if (nbb_cells[i].input_prompt_number == nbb_cell_id) {\n",
       "                        if (nbb_cells[i].get_text() == nbb_unformatted_code) {\n",
       "                             nbb_cells[i].set_text(nbb_formatted_code);\n",
       "                        }\n",
       "                        break;\n",
       "                    }\n",
       "                }\n",
       "            }, 500);\n",
       "            "
      ],
      "text/plain": [
       "<IPython.core.display.Javascript object>"
      ]
     },
     "metadata": {},
     "output_type": "display_data"
    }
   ],
   "source": [
    "hindcast = HindcastEnsemble(fcstds_date)\n",
    "hindcast = hindcast.add_observations(obsds)"
   ]
  },
  {
   "cell_type": "code",
   "execution_count": 24,
   "metadata": {},
   "outputs": [
    {
     "name": "stdout",
     "output_type": "stream",
     "text": [
      "CPU times: user 1.8 s, sys: 24.5 ms, total: 1.82 s\n",
      "Wall time: 1.99 s\n"
     ]
    },
    {
     "data": {
      "application/javascript": [
       "\n",
       "            setTimeout(function() {\n",
       "                var nbb_cell_id = 24;\n",
       "                var nbb_unformatted_code = \"%time skill = hindcast.verify(metric='acc', comparison='e2o', dim='init', alignment='maximize')\";\n",
       "                var nbb_formatted_code = \"%time skill = hindcast.verify(metric='acc', comparison='e2o', dim='init', alignment='maximize')\";\n",
       "                var nbb_cells = Jupyter.notebook.get_cells();\n",
       "                for (var i = 0; i < nbb_cells.length; ++i) {\n",
       "                    if (nbb_cells[i].input_prompt_number == nbb_cell_id) {\n",
       "                        if (nbb_cells[i].get_text() == nbb_unformatted_code) {\n",
       "                             nbb_cells[i].set_text(nbb_formatted_code);\n",
       "                        }\n",
       "                        break;\n",
       "                    }\n",
       "                }\n",
       "            }, 500);\n",
       "            "
      ],
      "text/plain": [
       "<IPython.core.display.Javascript object>"
      ]
     },
     "metadata": {},
     "output_type": "display_data"
    }
   ],
   "source": [
    "%time skill = hindcast.verify(metric='acc', comparison='e2o', dim='init', alignment='maximize')"
   ]
  },
  {
   "cell_type": "code",
   "execution_count": 25,
   "metadata": {},
   "outputs": [
    {
     "data": {
      "text/plain": [
       "Text(0.5, 1.0, 'ACC: RMM1 daily initialized 02-08')"
      ]
     },
     "execution_count": 25,
     "metadata": {},
     "output_type": "execute_result"
    },
    {
     "data": {
      "image/png": "[encoded data removed]",
      "text/plain": [
       "<Figure size 432x288 with 1 Axes>"
      ]
     },
     "metadata": {
      "needs_background": "light"
     },
     "output_type": "display_data"
    },
    {
     "data": {
      "application/javascript": [
       "\n",
       "            setTimeout(function() {\n",
       "                var nbb_cell_id = 25;\n",
       "                var nbb_unformatted_code = \"skill.rmm1.plot()\\nplt.title(f\\\"ACC: RMM1 daily initialized {m}-{d}\\\")\";\n",
       "                var nbb_formatted_code = \"skill.rmm1.plot()\\nplt.title(f\\\"ACC: RMM1 daily initialized {m}-{d}\\\")\";\n",
       "                var nbb_cells = Jupyter.notebook.get_cells();\n",
       "                for (var i = 0; i < nbb_cells.length; ++i) {\n",
       "                    if (nbb_cells[i].input_prompt_number == nbb_cell_id) {\n",
       "                        if (nbb_cells[i].get_text() == nbb_unformatted_code) {\n",
       "                             nbb_cells[i].set_text(nbb_formatted_code);\n",
       "                        }\n",
       "                        break;\n",
       "                    }\n",
       "                }\n",
       "            }, 500);\n",
       "            "
      ],
      "text/plain": [
       "<IPython.core.display.Javascript object>"
      ]
     },
     "metadata": {},
     "output_type": "display_data"
    }
   ],
   "source": [
    "skill.rmm1.plot()\n",
    "plt.title(f\"ACC: RMM1 daily initialized {m}-{d}\")"
   ]
  },
  {
   "cell_type": "markdown",
   "metadata": {},
   "source": [
    "#### skill over many initializations\n",
    "create large `xr.DataArray` with all `hdate` stacked into `init`"
   ]
  },
  {
   "cell_type": "code",
   "execution_count": 26,
   "metadata": {},
   "outputs": [
    {
     "data": {
      "application/javascript": [
       "\n",
       "            setTimeout(function() {\n",
       "                var nbb_cell_id = 26;\n",
       "                var nbb_unformatted_code = \"# restricting myself to years 2001-2003 for faster computation\\nfcstds = fcstds.sel(hdate=slice('2001','2003'))\\nobs_ds = obsds.sel(time=slice('2001','2004'))\";\n",
       "                var nbb_formatted_code = \"# restricting myself to years 2001-2003 for faster computation\\nfcstds = fcstds.sel(hdate=slice(\\\"2001\\\", \\\"2003\\\"))\\nobs_ds = obsds.sel(time=slice(\\\"2001\\\", \\\"2004\\\"))\";\n",
       "                var nbb_cells = Jupyter.notebook.get_cells();\n",
       "                for (var i = 0; i < nbb_cells.length; ++i) {\n",
       "                    if (nbb_cells[i].input_prompt_number == nbb_cell_id) {\n",
       "                        if (nbb_cells[i].get_text() == nbb_unformatted_code) {\n",
       "                             nbb_cells[i].set_text(nbb_formatted_code);\n",
       "                        }\n",
       "                        break;\n",
       "                    }\n",
       "                }\n",
       "            }, 500);\n",
       "            "
      ],
      "text/plain": [
       "<IPython.core.display.Javascript object>"
      ]
     },
     "metadata": {},
     "output_type": "display_data"
    }
   ],
   "source": [
    "# restricting myself to years 2001-2003 for faster computation\n",
    "fcstds = fcstds.sel(hdate=slice(\"2001\", \"2003\"))\n",
    "obs_ds = obsds.sel(time=slice(\"2001\", \"2004\"))"
   ]
  },
  {
   "cell_type": "code",
   "execution_count": 27,
   "metadata": {},
   "outputs": [
    {
     "name": "stdout",
     "output_type": "stream",
     "text": [
      "CPU times: user 17.4 s, sys: 243 ms, total: 17.7 s\n",
      "Wall time: 19.7 s\n"
     ]
    },
    {
     "data": {
      "application/javascript": [
       "\n",
       "            setTimeout(function() {\n",
       "                var nbb_cell_id = 27;\n",
       "                var nbb_unformatted_code = \"%%time\\nfcstds_dates = []\\n# loop over all inits, ignoring leap day\\nfor s in fcstds.init:\\n    d = str(s.init.dt.day.values).zfill(2)\\n    m = str(s.init.dt.month.values).zfill(2)\\n    y = s.init.dt.year.values\\n    if d == \\\"29\\\" and m == \\\"02\\\":\\n        continue\\n    new_init = xr.concat(\\n        [\\n            xr.DataArray(\\n                cftime.DatetimeProlepticGregorian(int(h.dt.year.values), int(m), int(d))\\n            )\\n            for h in fcstds.hdate\\n        ],\\n        \\\"init\\\",\\n    )\\n    # select new inits for same dayofyear, drop all NaNs\\n    fcstds_date = (\\n        fcstds.sel(init=f\\\"{y}-{m}-{d}\\\", drop=True)\\n        .squeeze(drop=True)\\n        .assign_coords(hdate=new_init)\\n        .rename({\\\"hdate\\\": \\\"init\\\"})\\n        .dropna(\\\"init\\\", how=\\\"all\\\")\\n    )\\n    if fcstds_date.init.size > 0:  # not empty\\n        fcstds_dates.append(fcstds_date)\\n\\nfcstds_dates = xr.concat(fcstds_dates, \\\"init\\\")\\n\\nfcstds_dates = fcstds_dates.sortby(fcstds_dates.init)\";\n",
       "                var nbb_formatted_code = \"%%time\\nfcstds_dates = []\\n# loop over all inits, ignoring leap day\\nfor s in fcstds.init:\\n    d = str(s.init.dt.day.values).zfill(2)\\n    m = str(s.init.dt.month.values).zfill(2)\\n    y = s.init.dt.year.values\\n    if d == \\\"29\\\" and m == \\\"02\\\":\\n        continue\\n    new_init = xr.concat(\\n        [\\n            xr.DataArray(\\n                cftime.DatetimeProlepticGregorian(int(h.dt.year.values), int(m), int(d))\\n            )\\n            for h in fcstds.hdate\\n        ],\\n        \\\"init\\\",\\n    )\\n    # select new inits for same dayofyear, drop all NaNs\\n    fcstds_date = (\\n        fcstds.sel(init=f\\\"{y}-{m}-{d}\\\", drop=True)\\n        .squeeze(drop=True)\\n        .assign_coords(hdate=new_init)\\n        .rename({\\\"hdate\\\": \\\"init\\\"})\\n        .dropna(\\\"init\\\", how=\\\"all\\\")\\n    )\\n    if fcstds_date.init.size > 0:  # not empty\\n        fcstds_dates.append(fcstds_date)\\n\\nfcstds_dates = xr.concat(fcstds_dates, \\\"init\\\")\\n\\nfcstds_dates = fcstds_dates.sortby(fcstds_dates.init)\";\n",
       "                var nbb_cells = Jupyter.notebook.get_cells();\n",
       "                for (var i = 0; i < nbb_cells.length; ++i) {\n",
       "                    if (nbb_cells[i].input_prompt_number == nbb_cell_id) {\n",
       "                        if (nbb_cells[i].get_text() == nbb_unformatted_code) {\n",
       "                             nbb_cells[i].set_text(nbb_formatted_code);\n",
       "                        }\n",
       "                        break;\n",
       "                    }\n",
       "                }\n",
       "            }, 500);\n",
       "            "
      ],
      "text/plain": [
       "<IPython.core.display.Javascript object>"
      ]
     },
     "metadata": {},
     "output_type": "display_data"
    }
   ],
   "source": [
    "%%time\n",
    "fcstds_dates = []\n",
    "# loop over all inits, ignoring leap day\n",
    "for s in fcstds.init:\n",
    "    d = str(s.init.dt.day.values).zfill(2)\n",
    "    m = str(s.init.dt.month.values).zfill(2)\n",
    "    y = s.init.dt.year.values\n",
    "    if d == \"29\" and m == \"02\":\n",
    "        continue\n",
    "    new_init = xr.concat(\n",
    "        [\n",
    "            xr.DataArray(\n",
    "                cftime.DatetimeProlepticGregorian(int(h.dt.year.values), int(m), int(d))\n",
    "            )\n",
    "            for h in fcstds.hdate\n",
    "        ],\n",
    "        \"init\",\n",
    "    )\n",
    "    # select new inits for same dayofyear, drop all NaNs\n",
    "    fcstds_date = (\n",
    "        fcstds.sel(init=f\"{y}-{m}-{d}\", drop=True)\n",
    "        .squeeze(drop=True)\n",
    "        .assign_coords(hdate=new_init)\n",
    "        .rename({\"hdate\": \"init\"})\n",
    "        .dropna(\"init\", how=\"all\")\n",
    "    )\n",
    "    if fcstds_date.init.size > 0:  # not empty\n",
    "        fcstds_dates.append(fcstds_date)\n",
    "\n",
    "fcstds_dates = xr.concat(fcstds_dates, \"init\")\n",
    "\n",
    "fcstds_dates = fcstds_dates.sortby(fcstds_dates.init)"
   ]
  },
  {
   "cell_type": "code",
   "execution_count": null,
   "metadata": {},
   "outputs": [],
   "source": [
    "# drop duplicates, unnecessary?\n",
    "# _, index = np.unique(fcstds_dates.init, return_index=True)\n",
    "# fcstds_dates = fcstds_dates.isel(init=index)"
   ]
  },
  {
   "cell_type": "code",
   "execution_count": 29,
   "metadata": {},
   "outputs": [
    {
     "data": {
      "application/javascript": [
       "\n",
       "            setTimeout(function() {\n",
       "                var nbb_cell_id = 29;\n",
       "                var nbb_unformatted_code = \"hindcast = HindcastEnsemble(fcstds_dates)\\nhindcast = hindcast.add_observations(obs_ds)\";\n",
       "                var nbb_formatted_code = \"hindcast = HindcastEnsemble(fcstds_dates)\\nhindcast = hindcast.add_observations(obs_ds)\";\n",
       "                var nbb_cells = Jupyter.notebook.get_cells();\n",
       "                for (var i = 0; i < nbb_cells.length; ++i) {\n",
       "                    if (nbb_cells[i].input_prompt_number == nbb_cell_id) {\n",
       "                        if (nbb_cells[i].get_text() == nbb_unformatted_code) {\n",
       "                             nbb_cells[i].set_text(nbb_formatted_code);\n",
       "                        }\n",
       "                        break;\n",
       "                    }\n",
       "                }\n",
       "            }, 500);\n",
       "            "
      ],
      "text/plain": [
       "<IPython.core.display.Javascript object>"
      ]
     },
     "metadata": {},
     "output_type": "display_data"
    }
   ],
   "source": [
    "hindcast = HindcastEnsemble(fcstds_dates)\n",
    "hindcast = hindcast.add_observations(obs_ds)"
   ]
  },
  {
   "cell_type": "code",
   "execution_count": 30,
   "metadata": {},
   "outputs": [
    {
     "name": "stdout",
     "output_type": "stream",
     "text": [
      "CPU times: user 55.2 s, sys: 576 ms, total: 55.7 s\n",
      "Wall time: 1min 1s\n"
     ]
    },
    {
     "data": {
      "text/plain": [
       "[<matplotlib.lines.Line2D at 0x7ff81c3af460>]"
      ]
     },
     "execution_count": 30,
     "metadata": {},
     "output_type": "execute_result"
    },
    {
     "data": {
      "image/png": "[encoded data removed]",
      "text/plain": [
       "<Figure size 432x288 with 1 Axes>"
      ]
     },
     "metadata": {
      "needs_background": "light"
     },
     "output_type": "display_data"
    },
    {
     "data": {
      "application/javascript": [
       "\n",
       "            setTimeout(function() {\n",
       "                var nbb_cell_id = 30;\n",
       "                var nbb_unformatted_code = \"%time skill_all = hindcast.verify(metric='acc', comparison='e2o', dim='init', alignment='maximize')\\n\\nskill_all.rmm1.plot()\";\n",
       "                var nbb_formatted_code = \"%time skill_all = hindcast.verify(metric='acc', comparison='e2o', dim='init', alignment='maximize')\\n\\nskill_all.rmm1.plot()\";\n",
       "                var nbb_cells = Jupyter.notebook.get_cells();\n",
       "                for (var i = 0; i < nbb_cells.length; ++i) {\n",
       "                    if (nbb_cells[i].input_prompt_number == nbb_cell_id) {\n",
       "                        if (nbb_cells[i].get_text() == nbb_unformatted_code) {\n",
       "                             nbb_cells[i].set_text(nbb_formatted_code);\n",
       "                        }\n",
       "                        break;\n",
       "                    }\n",
       "                }\n",
       "            }, 500);\n",
       "            "
      ],
      "text/plain": [
       "<IPython.core.display.Javascript object>"
      ]
     },
     "metadata": {},
     "output_type": "display_data"
    }
   ],
   "source": [
    "%time skill_all = hindcast.verify(metric='acc', comparison='e2o', dim='init', alignment='maximize')\n",
    "\n",
    "skill_all.rmm1.plot()"
   ]
  },
  {
   "cell_type": "markdown",
   "metadata": {},
   "source": [
    "#### skill when initialized in different months"
   ]
  },
  {
   "cell_type": "code",
   "execution_count": 31,
   "metadata": {},
   "outputs": [
    {
     "data": {
      "application/javascript": [
       "\n",
       "            setTimeout(function() {\n",
       "                var nbb_cell_id = 31;\n",
       "                var nbb_unformatted_code = \"import warnings\\n\\nwarnings.filterwarnings(\\n    \\\"ignore\\\"\\n)  # ignore climpred UserWarnings triggered by verification.sel(init)\";\n",
       "                var nbb_formatted_code = \"import warnings\\n\\nwarnings.filterwarnings(\\n    \\\"ignore\\\"\\n)  # ignore climpred UserWarnings triggered by verification.sel(init)\";\n",
       "                var nbb_cells = Jupyter.notebook.get_cells();\n",
       "                for (var i = 0; i < nbb_cells.length; ++i) {\n",
       "                    if (nbb_cells[i].input_prompt_number == nbb_cell_id) {\n",
       "                        if (nbb_cells[i].get_text() == nbb_unformatted_code) {\n",
       "                             nbb_cells[i].set_text(nbb_formatted_code);\n",
       "                        }\n",
       "                        break;\n",
       "                    }\n",
       "                }\n",
       "            }, 500);\n",
       "            "
      ],
      "text/plain": [
       "<IPython.core.display.Javascript object>"
      ]
     },
     "metadata": {},
     "output_type": "display_data"
    }
   ],
   "source": [
    "import warnings\n",
    "\n",
    "warnings.filterwarnings(\n",
    "    \"ignore\"\n",
    ")  # ignore climpred UserWarnings triggered by verification.sel(init)"
   ]
  },
  {
   "cell_type": "code",
   "execution_count": 32,
   "metadata": {},
   "outputs": [
    {
     "name": "stdout",
     "output_type": "stream",
     "text": [
      "CPU times: user 11.1 s, sys: 124 ms, total: 11.2 s\n",
      "Wall time: 12.4 s\n"
     ]
    },
    {
     "data": {
      "text/plain": [
       "<matplotlib.legend.Legend at 0x7ff81beeb190>"
      ]
     },
     "execution_count": 32,
     "metadata": {},
     "output_type": "execute_result"
    },
    {
     "data": {
      "image/png": "[encoded data removed]",
      "text/plain": [
       "<Figure size 432x288 with 1 Axes>"
      ]
     },
     "metadata": {
      "needs_background": "light"
     },
     "output_type": "display_data"
    },
    {
     "data": {
      "application/javascript": [
       "\n",
       "            setTimeout(function() {\n",
       "                var nbb_cell_id = 32;\n",
       "                var nbb_unformatted_code = \"%%time\\nfor m in np.arange(1, 13, 3):\\n    hindcast_month = hindcast.sel(init=fcstds_dates.init.dt.month == m)\\n    month_name = hindcast_month.get_initialized().init[:2].to_index().strftime(\\\"%b\\\")[0]\\n    skill = (\\n        hindcast_month.verify(metric=\\\"acc\\\", comparison=\\\"e2o\\\", dim=\\\"init\\\", alignment=\\\"maximize\\\")\\n    )\\n    skill.rmm1.plot(label=f\\\"month = {month_name}\\\")\\nskill_all.rmm1.plot(label='all months',c='k')\\nplt.legend()\";\n",
       "                var nbb_formatted_code = \"%%time\\nfor m in np.arange(1, 13, 3):\\n    hindcast_month = hindcast.sel(init=fcstds_dates.init.dt.month == m)\\n    month_name = hindcast_month.get_initialized().init[:2].to_index().strftime(\\\"%b\\\")[0]\\n    skill = (\\n        hindcast_month.verify(metric=\\\"acc\\\", comparison=\\\"e2o\\\", dim=\\\"init\\\", alignment=\\\"maximize\\\")\\n    )\\n    skill.rmm1.plot(label=f\\\"month = {month_name}\\\")\\nskill_all.rmm1.plot(label='all months',c='k')\\nplt.legend()\";\n",
       "                var nbb_cells = Jupyter.notebook.get_cells();\n",
       "                for (var i = 0; i < nbb_cells.length; ++i) {\n",
       "                    if (nbb_cells[i].input_prompt_number == nbb_cell_id) {\n",
       "                        if (nbb_cells[i].get_text() == nbb_unformatted_code) {\n",
       "                             nbb_cells[i].set_text(nbb_formatted_code);\n",
       "                        }\n",
       "                        break;\n",
       "                    }\n",
       "                }\n",
       "            }, 500);\n",
       "            "
      ],
      "text/plain": [
       "<IPython.core.display.Javascript object>"
      ]
     },
     "metadata": {},
     "output_type": "display_data"
    }
   ],
   "source": [
    "%%time\n",
    "for m in np.arange(1, 13, 3):\n",
    "    hindcast_month = hindcast.sel(init=fcstds_dates.init.dt.month == m)\n",
    "    month_name = hindcast_month.get_initialized().init[:2].to_index().strftime(\"%b\")[0]\n",
    "    skill = (\n",
    "        hindcast_month.verify(metric=\"acc\", comparison=\"e2o\", dim=\"init\", alignment=\"maximize\")\n",
    "    )\n",
    "    skill.rmm1.plot(label=f\"month = {month_name}\")\n",
    "skill_all.rmm1.plot(label='all months',c='k')\n",
    "plt.legend()"
   ]
  },
  {
   "cell_type": "markdown",
   "metadata": {},
   "source": [
    "### Get reforecasts without `on-the-fly`\n",
    "very similar workflow as in the `SubX` examples as there is no `hdate` coordinate: [subseasonal SubX examples](examples.html#subseasonal)\n",
    "\n",
    "S2S models:\n",
    "\n",
    "- `CRNM`\n",
    "- `CMA`\n",
    "- `BOM`\n",
    "- `ISAC`\n",
    "- `JMA`\n",
    "- `NCEP`"
   ]
  },
  {
   "cell_type": "code",
   "execution_count": 33,
   "metadata": {},
   "outputs": [
    {
     "name": "stdout",
     "output_type": "stream",
     "text": [
      "CPU times: user 454 ms, sys: 804 ms, total: 1.26 s\n",
      "Wall time: 21.2 s\n"
     ]
    },
    {
     "data": {
      "application/javascript": [
       "\n",
       "            setTimeout(function() {\n",
       "                var nbb_cell_id = 33;\n",
       "                var nbb_unformatted_code = \"%%time\\nfcstds = xr.open_dataset(\\n    \\\"https://iridl.ldeo.columbia.edu/SOURCES/.ECMWF/.S2S/.CNRM/.reforecast/.RMMS/.ensembles/.RMM1/dods\\\",\\n    decode_times=True,\\n).compute()\\n\\nfcstds = fcstds.dropna(\\\"S\\\", how=\\\"all\\\")\";\n",
       "                var nbb_formatted_code = \"%%time\\nfcstds = xr.open_dataset(\\n    \\\"https://iridl.ldeo.columbia.edu/SOURCES/.ECMWF/.S2S/.CNRM/.reforecast/.RMMS/.ensembles/.RMM1/dods\\\",\\n    decode_times=True,\\n).compute()\\n\\nfcstds = fcstds.dropna(\\\"S\\\", how=\\\"all\\\")\";\n",
       "                var nbb_cells = Jupyter.notebook.get_cells();\n",
       "                for (var i = 0; i < nbb_cells.length; ++i) {\n",
       "                    if (nbb_cells[i].input_prompt_number == nbb_cell_id) {\n",
       "                        if (nbb_cells[i].get_text() == nbb_unformatted_code) {\n",
       "                             nbb_cells[i].set_text(nbb_formatted_code);\n",
       "                        }\n",
       "                        break;\n",
       "                    }\n",
       "                }\n",
       "            }, 500);\n",
       "            "
      ],
      "text/plain": [
       "<IPython.core.display.Javascript object>"
      ]
     },
     "metadata": {},
     "output_type": "display_data"
    }
   ],
   "source": [
    "%%time\n",
    "fcstds = xr.open_dataset(\n",
    "    \"https://iridl.ldeo.columbia.edu/SOURCES/.ECMWF/.S2S/.CNRM/.reforecast/.RMMS/.ensembles/.RMM1/dods\",\n",
    "    decode_times=True,\n",
    ").compute()\n",
    "\n",
    "fcstds = fcstds.dropna(\"S\", how=\"all\")"
   ]
  },
  {
   "cell_type": "code",
   "execution_count": 34,
   "metadata": {},
   "outputs": [
    {
     "data": {
      "application/javascript": [
       "\n",
       "            setTimeout(function() {\n",
       "                var nbb_cell_id = 34;\n",
       "                var nbb_unformatted_code = \"# rename to match climpred dims: https://climpred.readthedocs.io/en/stable/setting-up-data.html\\nfcstds = fcstds.rename({\\\"S\\\": \\\"init\\\", \\\"L\\\": \\\"lead\\\", \\\"M\\\": \\\"member\\\", \\\"RMM1\\\": \\\"rmm1\\\"})\\n\\n# convert datetime lead to int and lead.attrs['units'] pd.Timedelta string\\nfcstds[\\\"lead\\\"] = (fcstds.lead * 1e-9 / 60 / 60 / 24).astype(int)\\nfcstds[\\\"lead\\\"].attrs[\\\"units\\\"] = \\\"days\\\"\";\n",
       "                var nbb_formatted_code = \"# rename to match climpred dims: https://climpred.readthedocs.io/en/stable/setting-up-data.html\\nfcstds = fcstds.rename({\\\"S\\\": \\\"init\\\", \\\"L\\\": \\\"lead\\\", \\\"M\\\": \\\"member\\\", \\\"RMM1\\\": \\\"rmm1\\\"})\\n\\n# convert datetime lead to int and lead.attrs['units'] pd.Timedelta string\\nfcstds[\\\"lead\\\"] = (fcstds.lead * 1e-9 / 60 / 60 / 24).astype(int)\\nfcstds[\\\"lead\\\"].attrs[\\\"units\\\"] = \\\"days\\\"\";\n",
       "                var nbb_cells = Jupyter.notebook.get_cells();\n",
       "                for (var i = 0; i < nbb_cells.length; ++i) {\n",
       "                    if (nbb_cells[i].input_prompt_number == nbb_cell_id) {\n",
       "                        if (nbb_cells[i].get_text() == nbb_unformatted_code) {\n",
       "                             nbb_cells[i].set_text(nbb_formatted_code);\n",
       "                        }\n",
       "                        break;\n",
       "                    }\n",
       "                }\n",
       "            }, 500);\n",
       "            "
      ],
      "text/plain": [
       "<IPython.core.display.Javascript object>"
      ]
     },
     "metadata": {},
     "output_type": "display_data"
    }
   ],
   "source": [
    "# rename to match climpred dims: https://climpred.readthedocs.io/en/stable/setting-up-data.html\n",
    "fcstds = fcstds.rename({\"S\": \"init\", \"L\": \"lead\", \"M\": \"member\", \"RMM1\": \"rmm1\"})"
   ]
  },
  {
   "cell_type": "code",
   "execution_count": 35,
   "metadata": {},
   "outputs": [
    {
     "data": {
      "application/javascript": [
       "\n",
       "            setTimeout(function() {\n",
       "                var nbb_cell_id = 35;\n",
       "                var nbb_unformatted_code = \"hindcast = HindcastEnsemble(fcstds)\\nhindcast = hindcast.add_observations(obsds)\";\n",
       "                var nbb_formatted_code = \"hindcast = HindcastEnsemble(fcstds)\\nhindcast = hindcast.add_observations(obsds)\";\n",
       "                var nbb_cells = Jupyter.notebook.get_cells();\n",
       "                for (var i = 0; i < nbb_cells.length; ++i) {\n",
       "                    if (nbb_cells[i].input_prompt_number == nbb_cell_id) {\n",
       "                        if (nbb_cells[i].get_text() == nbb_unformatted_code) {\n",
       "                             nbb_cells[i].set_text(nbb_formatted_code);\n",
       "                        }\n",
       "                        break;\n",
       "                    }\n",
       "                }\n",
       "            }, 500);\n",
       "            "
      ],
      "text/plain": [
       "<IPython.core.display.Javascript object>"
      ]
     },
     "metadata": {},
     "output_type": "display_data"
    }
   ],
   "source": [
    "hindcast = HindcastEnsemble(fcstds)\n",
    "hindcast = hindcast.add_observations(obsds)"
   ]
  },
  {
   "cell_type": "code",
   "execution_count": 36,
   "metadata": {},
   "outputs": [
    {
     "name": "stdout",
     "output_type": "stream",
     "text": [
      "CPU times: user 54.3 s, sys: 688 ms, total: 55 s\n",
      "Wall time: 1min 6s\n"
     ]
    },
    {
     "data": {
      "application/javascript": [
       "\n",
       "            setTimeout(function() {\n",
       "                var nbb_cell_id = 36;\n",
       "                var nbb_unformatted_code = \"%time skill = hindcast.verify(metric='acc', comparison='e2o', dim='init', alignment='maximize')\";\n",
       "                var nbb_formatted_code = \"%time skill = hindcast.verify(metric='acc', comparison='e2o', dim='init', alignment='maximize')\";\n",
       "                var nbb_cells = Jupyter.notebook.get_cells();\n",
       "                for (var i = 0; i < nbb_cells.length; ++i) {\n",
       "                    if (nbb_cells[i].input_prompt_number == nbb_cell_id) {\n",
       "                        if (nbb_cells[i].get_text() == nbb_unformatted_code) {\n",
       "                             nbb_cells[i].set_text(nbb_formatted_code);\n",
       "                        }\n",
       "                        break;\n",
       "                    }\n",
       "                }\n",
       "            }, 500);\n",
       "            "
      ],
      "text/plain": [
       "<IPython.core.display.Javascript object>"
      ]
     },
     "metadata": {},
     "output_type": "display_data"
    }
   ],
   "source": [
    "%time skill = hindcast.verify(metric='acc', comparison='e2o', dim='init', alignment='maximize')"
   ]
  },
  {
   "cell_type": "code",
   "execution_count": 37,
   "metadata": {},
   "outputs": [
    {
     "data": {
      "text/plain": [
       "[<matplotlib.lines.Line2D at 0x7ff81bdf5be0>]"
      ]
     },
     "execution_count": 37,
     "metadata": {},
     "output_type": "execute_result"
    },
    {
     "data": {
      "image/png": "[encoded data removed]",
      "text/plain": [
       "<Figure size 432x288 with 1 Axes>"
      ]
     },
     "metadata": {
      "needs_background": "light"
     },
     "output_type": "display_data"
    },
    {
     "data": {
      "application/javascript": [
       "\n",
       "            setTimeout(function() {\n",
       "                var nbb_cell_id = 37;\n",
       "                var nbb_unformatted_code = \"skill.rmm1.plot()\";\n",
       "                var nbb_formatted_code = \"skill.rmm1.plot()\";\n",
       "                var nbb_cells = Jupyter.notebook.get_cells();\n",
       "                for (var i = 0; i < nbb_cells.length; ++i) {\n",
       "                    if (nbb_cells[i].input_prompt_number == nbb_cell_id) {\n",
       "                        if (nbb_cells[i].get_text() == nbb_unformatted_code) {\n",
       "                             nbb_cells[i].set_text(nbb_formatted_code);\n",
       "                        }\n",
       "                        break;\n",
       "                    }\n",
       "                }\n",
       "            }, 500);\n",
       "            "
      ],
      "text/plain": [
       "<IPython.core.display.Javascript object>"
      ]
     },
     "metadata": {},
     "output_type": "display_data"
    }
   ],
   "source": [
    "skill.rmm1.plot()"
   ]
  }
 ],
 "metadata": {
  "kernelspec": {
   "display_name": "Python 3",
   "language": "python",
   "name": "python3"
  },
  "language_info": {
   "codemirror_mode": {
    "name": "ipython",
    "version": 3
   },
   "file_extension": ".py",
   "mimetype": "text/x-python",
   "name": "python",
   "nbconvert_exporter": "python",
   "pygments_lexer": "ipython3",
   "version": "3.7.10"
  }
 },
 "nbformat": 4,
 "nbformat_minor": 4
}
