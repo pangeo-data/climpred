{
 "cells": [
  {
   "cell_type": "code",
   "execution_count": 187,
   "metadata": {},
   "outputs": [],
   "source": [
    "import matplotlib.pyplot as plt\n",
    "import xarray as xr\n",
    "import pandas as pd\n",
    "import numpy as np\n",
    "from climpred import HindcastEnsemble\n",
    "import climpred"
   ]
  },
  {
   "cell_type": "code",
   "execution_count": 188,
   "metadata": {},
   "outputs": [],
   "source": [
    "def decode_cf(ds, time_var):\n",
    "    if ds[time_var].attrs['calendar'] == '360':\n",
    "        ds[time_var].attrs['calendar'] = '360_day'\n",
    "    ds = xr.decode_cf(ds, decode_times=True)\n",
    "    return ds"
   ]
  },
  {
   "cell_type": "code",
   "execution_count": 189,
   "metadata": {},
   "outputs": [],
   "source": [
    "# Nino34 box\n",
    "minlon=190\n",
    "maxlon=240\n",
    "minlat=-5\n",
    "maxlat=5\n",
    "\n",
    "# Years\n",
    "yrmin = '1982-01-01'\n",
    "yrmax = '2010-12-01'\n",
    "\n",
    "# Months per year\n",
    "nmpyr=12"
   ]
  },
  {
   "cell_type": "code",
   "execution_count": 190,
   "metadata": {},
   "outputs": [],
   "source": [
    "# Get NMME data for NCEP-CFSv2, SST\n",
    "url = 'http://iridl.ldeo.columbia.edu/SOURCES/.Models/.NMME/NCEP-CFSv2/.HINDCAST/.MONTHLY/.sst/dods'\n",
    "fullda = decode_cf(xr.open_dataset(url, decode_times=False, chunks={'S': 1, 'L': 12}), 'S')"
   ]
  },
  {
   "cell_type": "code",
   "execution_count": 191,
   "metadata": {},
   "outputs": [],
   "source": [
    "# Make S (init) Dimension datetime & use first of month for date time step (e.g. Monthly Mean for Jan 1982 is 1982-01-01)\n",
    "fullda['S']=pd.to_datetime(fullda.S.values.astype(str))\n",
    "fullda['S']=pd.to_datetime(fullda['S'].dt.strftime('%Y%m01 00:00'))"
   ]
  },
  {
   "cell_type": "code",
   "execution_count": 192,
   "metadata": {},
   "outputs": [],
   "source": [
    "# Make sure lead is an integer: NMME leads are 0.5, 1.5, 2.5, etc, which correspond to 0, 1, 2, ... months since initialization, I think\n",
    "fullda['L']=(fullda['L']-0.5).astype('int')"
   ]
  },
  {
   "cell_type": "code",
   "execution_count": 193,
   "metadata": {},
   "outputs": [],
   "source": [
    "# Rename dimensions for clim pred Hindcast Ensemble object\n",
    "fcst=fullda.rename({'S': 'init','L': 'lead','M': 'member', 'X': 'lon', 'Y': 'lat'})\n",
    "fcst['lead'].attrs={'units': 'months'}"
   ]
  },
  {
   "cell_type": "code",
   "execution_count": 194,
   "metadata": {},
   "outputs": [],
   "source": [
    "# Calculate nino34\n",
    "fcst=fcst.sel(lat=slice(minlat,maxlat),lon=slice(minlon,maxlon)).mean(['lat','lon'])"
   ]
  },
  {
   "cell_type": "code",
   "execution_count": 195,
   "metadata": {},
   "outputs": [],
   "source": [
    "# Subset lead, and times\n",
    "fcst=fcst.sel(init=slice(yrmin,yrmax))"
   ]
  },
  {
   "cell_type": "code",
   "execution_count": 196,
   "metadata": {},
   "outputs": [],
   "source": [
    "# Make anomalies\n",
    "fcstclimo = fcst.groupby('init.month').mean('init')\n",
    "fcstanoms = (fcst.groupby('init.month') - fcstclimo)"
   ]
  },
  {
   "cell_type": "code",
   "execution_count": 197,
   "metadata": {},
   "outputs": [],
   "source": [
    "# Get verification data\n",
    "obsurl='http://iridl.ldeo.columbia.edu/SOURCES/.Models/.NMME/.OIv2_SST/.sst/dods'\n",
    "obsda = decode_cf(xr.open_dataset(obsurl, decode_times=False),'T')\n",
    "obsda['T']=pd.to_datetime(obsda.T.values.astype(str))\n",
    "obsda['T']=pd.to_datetime(obsda['T'].dt.strftime('%Y%m01 00:00'))"
   ]
  },
  {
   "cell_type": "code",
   "execution_count": 198,
   "metadata": {},
   "outputs": [],
   "source": [
    "# Rename dimensions for clim pred Hindcast Ensemble object\n",
    "obs=obsda.rename({'T': 'time','X': 'lon', 'Y': 'lat'})"
   ]
  },
  {
   "cell_type": "code",
   "execution_count": 199,
   "metadata": {},
   "outputs": [],
   "source": [
    "# Calculate nino34\n",
    "obs=obs.sel(lat=slice(minlat,maxlat),lon=slice(minlon,maxlon)).mean(['lat','lon'])"
   ]
  },
  {
   "cell_type": "code",
   "execution_count": 200,
   "metadata": {},
   "outputs": [],
   "source": [
    "# Subset data time\n",
    "obs=obs.sel(time=slice(yrmin,yrmax))"
   ]
  },
  {
   "cell_type": "code",
   "execution_count": 201,
   "metadata": {},
   "outputs": [],
   "source": [
    "# Make anomalies\n",
    "obsclimo = obs.groupby('time.month').mean('time')\n",
    "obsanoms = obs.groupby('time.month') - obsclimo"
   ]
  },
  {
   "cell_type": "code",
   "execution_count": 202,
   "metadata": {},
   "outputs": [],
   "source": [
    "# Calculate the skill by month\n",
    "skill=np.zeros((fcstanoms['lead'].size, nmpyr))\n",
    "for im in np.arange(0,nmpyr):\n",
    "    hindcast = HindcastEnsemble(fcstanoms.sel(init=fcstanoms['init.month']==im+1))\n",
    "    hindcast = hindcast.add_reference(obsanoms, 'observations')\n",
    "    skillds = hindcast.compute_metric(metric='acc')\n",
    "    skill[:,im]=skillds['sst'].values"
   ]
  },
  {
   "cell_type": "code",
   "execution_count": 203,
   "metadata": {},
   "outputs": [
    {
     "data": {
      "text/plain": [
       "Text(0, 0.5, 'Lead Time (Months)')"
      ]
     },
     "execution_count": 203,
     "metadata": {},
     "output_type": "execute_result"
    },
    {
     "data": {
      "image/png": "[encoded data removed]",
      "text/plain": [
       "<Figure size 432x288 with 2 Axes>"
      ]
     },
     "metadata": {
      "needs_background": "light"
     },
     "output_type": "display_data"
    }
   ],
   "source": [
    "# Plot initial vs. Lead ACC Skill\n",
    "plt.pcolormesh(skill,cmap=plt.cm.YlOrRd,vmin=0.0,vmax=1.0)\n",
    "plt.colorbar()\n",
    "plt.title('CFSv2 Nino34 ACC')\n",
    "plt.xlabel('Initial Month')\n",
    "plt.ylabel('Lead Time (Months)')"
   ]
  }
 ],
 "metadata": {
  "kernelspec": {
   "display_name": "climpred-dev",
   "language": "python",
   "name": "climpred-dev"
  },
  "language_info": {
   "codemirror_mode": {
    "name": "ipython",
    "version": 3
   },
   "file_extension": ".py",
   "mimetype": "text/x-python",
   "name": "python",
   "nbconvert_exporter": "python",
   "pygments_lexer": "ipython3",
   "version": "3.6.7"
  }
 },
 "nbformat": 4,
 "nbformat_minor": 4
}
