{
 "cells": [
  {
   "cell_type": "code",
   "execution_count": 1,
   "metadata": {},
   "outputs": [],
   "source": [
    "import matplotlib.pyplot as plt\n",
    "import xarray as xr\n",
    "import pandas as pd\n",
    "import numpy as np\n",
    "from climpred import HindcastEnsemble\n",
    "import climpred"
   ]
  },
  {
   "cell_type": "code",
   "execution_count": 2,
   "metadata": {},
   "outputs": [],
   "source": [
    "# Decode times for 360 day calendars\n",
    "def decode_cf(ds, time_var):\n",
    "    if ds[time_var].attrs['calendar'] == '360':\n",
    "        ds[time_var].attrs['calendar'] = '360_day'\n",
    "    ds = xr.decode_cf(ds, decode_times=True)\n",
    "    return ds"
   ]
  },
  {
   "cell_type": "code",
   "execution_count": 3,
   "metadata": {},
   "outputs": [],
   "source": [
    "# Select skill score\n",
    "score='acc'"
   ]
  },
  {
   "cell_type": "code",
   "execution_count": 4,
   "metadata": {},
   "outputs": [
    {
     "name": "stdout",
     "output_type": "stream",
     "text": [
      "           rmm1      rmm2       time\n",
      "0      1.867320  1.162380 1974-06-03\n",
      "1      1.868380  1.122380 1974-06-04\n",
      "2      1.923860  1.404810 1974-06-05\n",
      "3      1.574160  1.744920 1974-06-06\n",
      "4      0.977483  1.856400 1974-06-07\n",
      "...         ...       ...        ...\n",
      "15608  0.665826 -1.181078 2017-07-20\n",
      "15609  0.778615 -0.953263 2017-07-21\n",
      "15610  0.891819 -0.704285 2017-07-22\n",
      "15611  0.902347 -0.338409 2017-07-23\n",
      "15612  1.027518 -0.029707 2017-07-24\n",
      "\n",
      "[15613 rows x 3 columns]\n"
     ]
    }
   ],
   "source": [
    "#Read Obs File\n",
    "obsurl='/shared/ccsm4/kpegion/obs2/RMM/rmmint1979-Present.txt'\n",
    "cols=['year','month','day','rmm1','rmm2','phase','amp','datasource']\n",
    "obspd=pd.read_table(obsurl,skiprows=2,delim_whitespace=True,header=None,names=cols)\n",
    "obspd['time']=pd.to_datetime(obspd[['year','month','day']])\n",
    "obspd=obspd.drop(columns=['year','month','day','datasource','phase','amp'])\n",
    "print(obspd)"
   ]
  },
  {
   "cell_type": "code",
   "execution_count": 5,
   "metadata": {},
   "outputs": [],
   "source": [
    "groups=['GMAO'] #,'RSMAS','ESRL','ECCC','NRL','EMC']           \n",
    "models=['GEOS_V2p1'] #,'CCSM4','FIMr1p1','GEM','NESM','GEFS']  \n",
    "varnames=['RMM1'] #,'RMM2']"
   ]
  },
  {
   "cell_type": "code",
   "execution_count": 6,
   "metadata": {},
   "outputs": [
    {
     "name": "stdout",
     "output_type": "stream",
     "text": [
      "RMM1\n",
      "GEOS_V2p1\n",
      "<xarray.Dataset>\n",
      "Dimensions:  (init: 510, lead: 41, member: 4)\n",
      "Coordinates:\n",
      "  * member   (member) float32 1.0 2.0 3.0 4.0\n",
      "  * lead     (lead) int64 4 5 6 7 8 9 10 11 12 13 ... 36 37 38 39 40 41 42 43 44\n",
      "  * init     (init) datetime64[ns] 1999-01-01 1999-01-06 ... 2015-12-27\n",
      "Data variables:\n",
      "    rmm1     (init, member, lead) float32 dask.array<chunksize=(1, 4, 41), meta=np.ndarray>\n",
      "(510, 4, 9)\n",
      "9\n",
      "<xarray.Dataset>\n",
      "Dimensions:  (lead: 9)\n",
      "Coordinates:\n",
      "  * lead     (lead) int64 1 2 3 4 5 6 7 8 9\n",
      "Data variables:\n",
      "    rmm1     (lead) float64 dask.array<chunksize=(1,), meta=np.ndarray>\n",
      "Attributes:\n",
      "    prediction_skill:              calculated by climpred https://climpred.re...\n",
      "    skill_calculated_by_function:  compute_hindcast\n",
      "    number_of_initializations:     510\n",
      "    number_of_members:             4\n",
      "    metric:                        pearson_r\n",
      "    comparison:                    e2r\n",
      "    units:                         None\n",
      "    created:                       2019-11-15 17:34:17\n"
     ]
    },
    {
     "data": {
      "image/png": "[encoded data removed]",
      "text/plain": [
       "<Figure size 612x792 with 1 Axes>"
      ]
     },
     "metadata": {
      "needs_background": "light"
     },
     "output_type": "display_data"
    }
   ],
   "source": [
    "# Create the figure\n",
    "plt.figure(figsize=(8.5,11))\n",
    "\n",
    "# Loop over all variables\n",
    "for i,varname in enumerate(varnames, start=1):\n",
    "    \n",
    "    print(varname)\n",
    "    \n",
    "    # Set the subplot\n",
    "    plt.subplot(2,1,i)\n",
    "    \n",
    "    # Read the obs data, only keeping the desired variable\n",
    "    obspd2=obspd[['time',varname.lower()]].set_index('time').to_xarray() \n",
    "    \n",
    "    # Handle missing\n",
    "    obspd2 = obspd2.where(obspd2[varname.lower()] <= 1e10)  \n",
    "    \n",
    "    # Make weekly averages \n",
    "    obspd3=obspd2.rolling(time=5,center=False).mean().dropna(dim='time')\n",
    "\n",
    "        \n",
    "    # Loop over all groups and models\n",
    "    for group,model in zip(groups,models):\n",
    "\n",
    "        print(model)\n",
    "        \n",
    "        # Read data from IRI Server\n",
    "        url = 'http://iridl.ldeo.columbia.edu/SOURCES/.Models/.SubX/.'+group+'/.'+model+'/.hindcast/.RMM/.'+varname+'/dods/'\n",
    "        fullda = xr.open_dataset(url, decode_times=False, chunks={'S': 1, 'L': 45}).dropna(dim='S',how='all')\n",
    "        \n",
    "        # Make the lead an integer\n",
    "        fullda['L']=(fullda['L']-0.5).astype('int')\n",
    "        \n",
    "        # Convert times to datetime64\n",
    "        fullda = decode_cf(fullda, 'S')\n",
    "        fullda['S']=pd.to_datetime(fullda.S.values.astype(str))\n",
    "        fullda['S']=pd.to_datetime(fullda['S'].dt.strftime('%Y%m%d 00:00'))\n",
    "        \n",
    "        # Change dimension names to those needed by climpred\n",
    "        fcst=fullda.rename({'S': 'init','L': 'lead','M': 'member', varname : varname.lower()})\n",
    "        \n",
    "        # Make weekly averages\n",
    "        fcst2=fcst.rolling(lead=5,center=False).mean().dropna(dim='lead')\n",
    "        \n",
    "        # Create new xarray DataArray with weekly data\n",
    "        nleads=fcst2['lead'][::5].size\n",
    "        print(fcst2)\n",
    "        print(fcst2[varname.lower()][:,:,::5].shape)\n",
    "        print(nleads)\n",
    "        fcst3=xr.DataArray(fcst2[varname.lower()][:,:,::5], \n",
    "                           coords={'init' : fcst2['init'],\n",
    "                                   'member': fcst2['member'],\n",
    "                                   'lead': np.arange(1,nleads+1), \n",
    "                                   },\n",
    "                           dims=['init', 'member','lead'])\n",
    "        fcst3.name = varname.lower()\n",
    "        \n",
    "        # Set lead units to weeks as required by climpred\n",
    "        fcst3['lead'].attrs={'units': 'pentads'}\n",
    "        \n",
    "        # Create the Hindcast Ensemble object and add observations as the reference/verification\n",
    "        hindcast = HindcastEnsemble(fcst3)\n",
    "        hindcast=hindcast.add_reference(obspd3, 'observations')\n",
    "        \n",
    "        # Calculate the skill for this model\n",
    "        skill = hindcast.compute_metric(metric=score)\n",
    "        print(skill)\n",
    "        \n",
    "        #Plot skill for this model\n",
    "        x=np.arange(fcst3['lead'].size)\n",
    "        plt.bar(x,skill[varname.lower()])\n",
    "    \n",
    "    #Add plotting labels\n",
    "    plt.legend(models)\n",
    "    plt.title(varname+' Skill')\n",
    "    plt.xlabel('Forecast Pentads')\n",
    "    plt.ylabel('ACC')\n",
    "    plt.ylim(-0.2, 1)"
   ]
  },
  {
   "cell_type": "code",
   "execution_count": 7,
   "metadata": {},
   "outputs": [
    {
     "data": {
      "text/plain": [
       "array([ 0.90982471,  0.88359347,  0.62446822,  0.41337733,  0.27083631,\n",
       "        0.14189367,  0.03854586, -0.03373284, -0.06799449])"
      ]
     },
     "execution_count": 7,
     "metadata": {},
     "output_type": "execute_result"
    }
   ],
   "source": [
    "skill[varname.lower()].values"
   ]
  },
  {
   "cell_type": "code",
   "execution_count": null,
   "metadata": {},
   "outputs": [],
   "source": []
  }
 ],
 "metadata": {
  "kernelspec": {
   "display_name": "climpred-dev",
   "language": "python",
   "name": "climpred-dev"
  },
  "language_info": {
   "codemirror_mode": {
    "name": "ipython",
    "version": 3
   },
   "file_extension": ".py",
   "mimetype": "text/x-python",
   "name": "python",
   "nbconvert_exporter": "python",
   "pygments_lexer": "ipython3",
   "version": "3.6.7"
  }
 },
 "nbformat": 4,
 "nbformat_minor": 4
}
