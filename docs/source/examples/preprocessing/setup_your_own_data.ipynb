{
 "cells": [
  {
   "cell_type": "markdown",
   "metadata": {},
   "source": [
    "# Demo of `create_climpred_data`\n",
    "\n",
    "This demo demonstrates how you setup your raw output from a climate model to match `climpred`'s expectations."
   ]
  },
  {
   "cell_type": "code",
   "execution_count": null,
   "metadata": {},
   "outputs": [],
   "source": [
    "from dask.distributed import Client\n",
    "import multiprocessing\n",
    "ncpu = multiprocessing.cpu_count()\n",
    "threads = 6\n",
    "nworker = ncpu//threads\n",
    "print(f'Number of CPUs: {ncpu}, number of threads: {threads}, number of workers: {nworker}')"
   ]
  },
  {
   "cell_type": "code",
   "execution_count": null,
   "metadata": {
    "ExecuteTime": {
     "end_time": "2019-04-29T20:09:41.074645Z",
     "start_time": "2019-04-29T20:09:40.250487Z"
    }
   },
   "outputs": [],
   "source": [
    "%matplotlib inline\n",
    "import matplotlib.pyplot as plt\n",
    "import numpy as np\n",
    "import xarray as xr\n",
    "\n",
    "import climpred"
   ]
  },
  {
   "cell_type": "code",
   "execution_count": null,
   "metadata": {},
   "outputs": [],
   "source": [
    "from climpred.preprocessing.shared import load_hindcast, climpred_preprocess_internal\n",
    "from climpred.preprocessing.mpi import get_path"
   ]
  },
  {
   "cell_type": "markdown",
   "metadata": {},
   "source": [
    "Assuming your raw model output is stored in multiple files per member and initialization, `load_hindcast` is a nice wrapper function based on `get_path` designed for the output format of `MPI-ESM` to aggregated all hindcast output into one file as expected by `climpred`.\n",
    "\n",
    "The basic idea is to look over the output of all members and concatinate, then loop over all initializations and concatinate. Before concatination, it is important to align the `time` dimension.\n",
    "\n",
    "To reduce the data size, use the `preprocess` function provided to `xr.open_mfdataset` wisely in combination with `set_integer_axis`, e.g. additionally extracting only a certain region or only few variables for a multi-variable input file as in MPI-ESM standard output."
   ]
  },
  {
   "cell_type": "code",
   "execution_count": null,
   "metadata": {},
   "outputs": [],
   "source": [
    "get_path?"
   ]
  },
  {
   "cell_type": "code",
   "execution_count": null,
   "metadata": {},
   "outputs": [],
   "source": [
    "set_integer_axis?"
   ]
  },
  {
   "cell_type": "code",
   "execution_count": null,
   "metadata": {},
   "outputs": [],
   "source": [
    "load_hindcast?"
   ]
  },
  {
   "cell_type": "code",
   "execution_count": null,
   "metadata": {},
   "outputs": [],
   "source": [
    "def preprocess_1var(ds, v=\"global_primary_production\"):\n",
    "    return ds[v].to_dataset(name=v).squeeze()"
   ]
  },
  {
   "cell_type": "code",
   "execution_count": null,
   "metadata": {},
   "outputs": [],
   "source": [
    "%time ds = load_hindcast(preprocess=preprocess_1var)"
   ]
  },
  {
   "cell_type": "code",
   "execution_count": 7,
   "metadata": {},
   "outputs": [
    {
     "name": "stdout",
     "output_type": "stream",
     "text": [
      "Processing init 1961 ...\n",
      "Processing init 1962 ...\n",
      "Processing init 1963 ...\n",
      "Processing init 1964 ...\n"
     ]
    },
    {
     "data": {
      "text/plain": [
       "Coordinates:\n",
       "    lat      float64 0.0\n",
       "    lon      float64 0.0\n",
       "    depth    float64 0.0\n",
       "  * lead     (lead) int64 1 2 3 4 5 6 7 8 9 10\n",
       "  * member   (member) int64 1 2\n",
       "  * init     (init) int64 1961 1962 1963 1964"
      ]
     },
     "execution_count": 7,
     "metadata": {},
     "output_type": "execute_result"
    }
   ],
   "source": [
    "ds.coords"
   ]
  },
  {
   "cell_type": "code",
   "execution_count": 8,
   "metadata": {},
   "outputs": [
    {
     "data": {
      "text/html": [
       "<pre>&lt;xarray.Dataset&gt;\n",
       "Dimensions:                    (lead: 10)\n",
       "Coordinates:\n",
       "    lat                        float64 0.0\n",
       "    lon                        float64 0.0\n",
       "    depth                      float64 0.0\n",
       "  * lead                       (lead) int64 1 2 3 4 5 6 7 8 9 10\n",
       "Data variables:\n",
       "    global_primary_production  (lead) float64 -0.1276 0.593 ... 0.09196 0.5038\n",
       "Attributes:\n",
       "    prediction_skill:              calculated by climpred https://climpred.re...\n",
       "    skill_calculated_by_function:  compute_perfect_model\n",
       "    number_of_initializations:     4\n",
       "    number_of_members:             2\n",
       "    metric:                        pearson_r\n",
       "    comparison:                    m2e\n",
       "    units:                         None\n",
       "    created:                       2020-01-06 15:49:17</pre>"
      ],
      "text/plain": [
       "<xarray.Dataset>\n",
       "Dimensions:                    (lead: 10)\n",
       "Coordinates:\n",
       "    lat                        float64 0.0\n",
       "    lon                        float64 0.0\n",
       "    depth                      float64 0.0\n",
       "  * lead                       (lead) int64 1 2 3 4 5 6 7 8 9 10\n",
       "Data variables:\n",
       "    global_primary_production  (lead) float64 -0.1276 0.593 ... 0.09196 0.5038\n",
       "Attributes:\n",
       "    prediction_skill:              calculated by climpred https://climpred.re...\n",
       "    skill_calculated_by_function:  compute_perfect_model\n",
       "    number_of_initializations:     4\n",
       "    number_of_members:             2\n",
       "    metric:                        pearson_r\n",
       "    comparison:                    m2e\n",
       "    units:                         None\n",
       "    created:                       2020-01-06 15:49:17"
      ]
     },
     "execution_count": 8,
     "metadata": {},
     "output_type": "execute_result"
    }
   ],
   "source": [
    "# calc skill lazily\n",
    "climpred.prediction.compute_perfect_model(ds, ds.rename({'lead':'time'}))"
   ]
  },
  {
   "cell_type": "code",
   "execution_count": 7,
   "metadata": {},
   "outputs": [],
   "source": [
    "# loading the data into memory\n",
    "%time ds = ds.load()"
   ]
  },
  {
   "cell_type": "markdown",
   "metadata": {},
   "source": [
    "# `intake-esm` for cmorized output"
   ]
  },
  {
   "cell_type": "markdown",
   "metadata": {},
   "source": [
    "In case you have access to cmorized output of CMIP experiments, consider using `intake-esm`. With the `preprocess` function you can align the `time` dimension of the output. Finally, `climpred_preprocess_post` only renames."
   ]
  },
  {
   "cell_type": "code",
   "execution_count": 9,
   "metadata": {},
   "outputs": [],
   "source": [
    "from climpred.create_climpred_data import rename_to_climpred_dims, climpred_preprocess_internal"
   ]
  },
  {
   "cell_type": "code",
   "execution_count": 10,
   "metadata": {},
   "outputs": [],
   "source": [
    "import intake"
   ]
  },
  {
   "cell_type": "code",
   "execution_count": 11,
   "metadata": {},
   "outputs": [],
   "source": [
    "col_url = \"/home/mpim/m300524/intake-esm-datastore/catalogs/mistral-cmip6.json\"\n",
    "col = intake.open_esm_datastore(col_url)"
   ]
  },
  {
   "cell_type": "code",
   "execution_count": 19,
   "metadata": {},
   "outputs": [
    {
     "data": {
      "text/plain": [
       "Index(['activity_id', 'institution_id', 'source_id', 'experiment_id',\n",
       "       'member_id', 'table_id', 'variable_id', 'grid_label', 'dcpp_init_year',\n",
       "       'version', 'time_range', 'path'],\n",
       "      dtype='object')"
      ]
     },
     "execution_count": 19,
     "metadata": {},
     "output_type": "execute_result"
    }
   ],
   "source": [
    "col.df.columns"
   ]
  },
  {
   "cell_type": "code",
   "execution_count": 20,
   "metadata": {},
   "outputs": [],
   "source": [
    "# load 2 members for 2 inits from one model\n",
    "query = dict(experiment_id=[\n",
    "    'dcppA-hindcast'], table_id='Amon', member_id=['r1i1p1f1', 'r2i1p1f1'], dcpp_init_year=[1970, 1971],\n",
    "    variable_id='tas', source_id='MPI-ESM1-2-HR')\n",
    "cat = col.search(**query)\n",
    "cdf_kwargs = {'chunks': {'time': 12}, 'decode_times': False}"
   ]
  },
  {
   "cell_type": "code",
   "execution_count": 21,
   "metadata": {},
   "outputs": [
    {
     "data": {
      "text/html": [
       "<div>\n",
       "<style scoped>\n",
       "    .dataframe tbody tr th:only-of-type {\n",
       "        vertical-align: middle;\n",
       "    }\n",
       "\n",
       "    .dataframe tbody tr th {\n",
       "        vertical-align: top;\n",
       "    }\n",
       "\n",
       "    .dataframe thead th {\n",
       "        text-align: right;\n",
       "    }\n",
       "</style>\n",
       "<table border=\"1\" class=\"dataframe\">\n",
       "  <thead>\n",
       "    <tr style=\"text-align: right;\">\n",
       "      <th></th>\n",
       "      <th>activity_id</th>\n",
       "      <th>institution_id</th>\n",
       "      <th>source_id</th>\n",
       "      <th>experiment_id</th>\n",
       "      <th>member_id</th>\n",
       "      <th>table_id</th>\n",
       "      <th>variable_id</th>\n",
       "      <th>grid_label</th>\n",
       "      <th>dcpp_init_year</th>\n",
       "      <th>version</th>\n",
       "      <th>time_range</th>\n",
       "      <th>path</th>\n",
       "    </tr>\n",
       "  </thead>\n",
       "  <tbody>\n",
       "    <tr>\n",
       "      <th>0</th>\n",
       "      <td>DCPP</td>\n",
       "      <td>MPI-M</td>\n",
       "      <td>MPI-ESM1-2-HR</td>\n",
       "      <td>dcppA-hindcast</td>\n",
       "      <td>r1i1p1f1</td>\n",
       "      <td>Amon</td>\n",
       "      <td>tas</td>\n",
       "      <td>gn</td>\n",
       "      <td>1971.0</td>\n",
       "      <td>v20190906</td>\n",
       "      <td>197111-198112</td>\n",
       "      <td>/work/ik1017/CMIP6/data/CMIP6/DCPP/MPI-M/MPI-E...</td>\n",
       "    </tr>\n",
       "    <tr>\n",
       "      <th>1</th>\n",
       "      <td>DCPP</td>\n",
       "      <td>MPI-M</td>\n",
       "      <td>MPI-ESM1-2-HR</td>\n",
       "      <td>dcppA-hindcast</td>\n",
       "      <td>r1i1p1f1</td>\n",
       "      <td>Amon</td>\n",
       "      <td>tas</td>\n",
       "      <td>gn</td>\n",
       "      <td>1970.0</td>\n",
       "      <td>v20190906</td>\n",
       "      <td>197011-198012</td>\n",
       "      <td>/work/ik1017/CMIP6/data/CMIP6/DCPP/MPI-M/MPI-E...</td>\n",
       "    </tr>\n",
       "    <tr>\n",
       "      <th>2</th>\n",
       "      <td>DCPP</td>\n",
       "      <td>MPI-M</td>\n",
       "      <td>MPI-ESM1-2-HR</td>\n",
       "      <td>dcppA-hindcast</td>\n",
       "      <td>r2i1p1f1</td>\n",
       "      <td>Amon</td>\n",
       "      <td>tas</td>\n",
       "      <td>gn</td>\n",
       "      <td>1971.0</td>\n",
       "      <td>v20190906</td>\n",
       "      <td>197111-198112</td>\n",
       "      <td>/work/ik1017/CMIP6/data/CMIP6/DCPP/MPI-M/MPI-E...</td>\n",
       "    </tr>\n",
       "    <tr>\n",
       "      <th>3</th>\n",
       "      <td>DCPP</td>\n",
       "      <td>MPI-M</td>\n",
       "      <td>MPI-ESM1-2-HR</td>\n",
       "      <td>dcppA-hindcast</td>\n",
       "      <td>r2i1p1f1</td>\n",
       "      <td>Amon</td>\n",
       "      <td>tas</td>\n",
       "      <td>gn</td>\n",
       "      <td>1970.0</td>\n",
       "      <td>v20190906</td>\n",
       "      <td>197011-198012</td>\n",
       "      <td>/work/ik1017/CMIP6/data/CMIP6/DCPP/MPI-M/MPI-E...</td>\n",
       "    </tr>\n",
       "  </tbody>\n",
       "</table>\n",
       "</div>"
      ],
      "text/plain": [
       "  activity_id institution_id      source_id   experiment_id member_id  \\\n",
       "0        DCPP          MPI-M  MPI-ESM1-2-HR  dcppA-hindcast  r1i1p1f1   \n",
       "1        DCPP          MPI-M  MPI-ESM1-2-HR  dcppA-hindcast  r1i1p1f1   \n",
       "2        DCPP          MPI-M  MPI-ESM1-2-HR  dcppA-hindcast  r2i1p1f1   \n",
       "3        DCPP          MPI-M  MPI-ESM1-2-HR  dcppA-hindcast  r2i1p1f1   \n",
       "\n",
       "  table_id variable_id grid_label  dcpp_init_year    version     time_range  \\\n",
       "0     Amon         tas         gn          1971.0  v20190906  197111-198112   \n",
       "1     Amon         tas         gn          1970.0  v20190906  197011-198012   \n",
       "2     Amon         tas         gn          1971.0  v20190906  197111-198112   \n",
       "3     Amon         tas         gn          1970.0  v20190906  197011-198012   \n",
       "\n",
       "                                                path  \n",
       "0  /work/ik1017/CMIP6/data/CMIP6/DCPP/MPI-M/MPI-E...  \n",
       "1  /work/ik1017/CMIP6/data/CMIP6/DCPP/MPI-M/MPI-E...  \n",
       "2  /work/ik1017/CMIP6/data/CMIP6/DCPP/MPI-M/MPI-E...  \n",
       "3  /work/ik1017/CMIP6/data/CMIP6/DCPP/MPI-M/MPI-E...  "
      ]
     },
     "execution_count": 21,
     "metadata": {},
     "output_type": "execute_result"
    }
   ],
   "source": [
    "cat.df.head()"
   ]
  },
  {
   "cell_type": "code",
   "execution_count": 13,
   "metadata": {},
   "outputs": [],
   "source": [
    "def preprocess(ds):\n",
    "    # extract tiny spatial and temporal subset\n",
    "    ds = ds.isel(lon=[50, 51, 52], lat=[50, 51, 52],\n",
    "                 time=np.arange(12 * 2))\n",
    "    # make time dim identical\n",
    "    ds = climpred_preprocess_internal(ds)\n",
    "    return ds"
   ]
  },
  {
   "cell_type": "code",
   "execution_count": 14,
   "metadata": {},
   "outputs": [],
   "source": [
    "dset_dict = cat.to_dataset_dict(\n",
    "    cdf_kwargs=cdf_kwargs, preprocess=preprocess)"
   ]
  },
  {
   "cell_type": "code",
   "execution_count": 14,
   "metadata": {},
   "outputs": [
    {
     "name": "stdout",
     "output_type": "stream",
     "text": [
      "Progress: |███████████████████████████████████████████████████████████████████████████████| 100.0% \n",
      "\n",
      "--> The keys in the returned dictionary of datasets are constructed as follows:\n",
      "\t'activity_id.institution_id.source_id.experiment_id.table_id.grid_label'\n",
      "             \n",
      "--> There are 1 group(s)\n"
     ]
    },
    {
     "data": {
      "text/plain": [
       "Coordinates:\n",
       "    height          float64 2.0\n",
       "  * lon             (lon) float64 46.88 47.81 48.75\n",
       "  * dcpp_init_year  (dcpp_init_year) float64 1.97e+03 1.971e+03\n",
       "  * time            (time) int64 1 2 3 4 5 6 7 8 9 ... 17 18 19 20 21 22 23 24\n",
       "  * lat             (lat) float64 -42.55 -41.61 -40.68\n",
       "  * member_id       (member_id) <U8 'r1i1p1f1' 'r2i1p1f1'"
      ]
     },
     "execution_count": 14,
     "metadata": {},
     "output_type": "execute_result"
    }
   ],
   "source": [
    "# get first dict value\n",
    "_, ds = dset_dict.popitem()\n",
    "ds.coords"
   ]
  },
  {
   "cell_type": "code",
   "execution_count": 15,
   "metadata": {},
   "outputs": [
    {
     "data": {
      "text/plain": [
       "Coordinates:\n",
       "    height   float64 2.0\n",
       "  * lon      (lon) float64 46.88 47.81 48.75\n",
       "  * init     (init) float64 1.97e+03 1.971e+03\n",
       "  * lead     (lead) int64 1 2 3 4 5 6 7 8 9 10 ... 15 16 17 18 19 20 21 22 23 24\n",
       "  * lat      (lat) float64 -42.55 -41.61 -40.68\n",
       "  * member   (member) <U8 'r1i1p1f1' 'r2i1p1f1'"
      ]
     },
     "execution_count": 15,
     "metadata": {},
     "output_type": "execute_result"
    }
   ],
   "source": [
    "ds = rename_to_climpred_dims(ds)\n",
    "ds.coords"
   ]
  },
  {
   "cell_type": "code",
   "execution_count": 16,
   "metadata": {},
   "outputs": [
    {
     "name": "stderr",
     "output_type": "stream",
     "text": [
      "/work/mh0727/m300524/miniconda3/envs/climpred-dev/lib/python3.6/site-packages/xskillscore/core/np_deterministic.py:182: RuntimeWarning: invalid value encountered in true_divide\n",
      "  r = r_num / r_den\n"
     ]
    },
    {
     "data": {
      "text/html": [
       "<pre>&lt;xarray.Dataset&gt;\n",
       "Dimensions:    (bnds: 2, lat: 3, lead: 24, lon: 3)\n",
       "Coordinates:\n",
       "    height     float64 2.0\n",
       "  * lon        (lon) float64 46.88 47.81 48.75\n",
       "  * lead       (lead) int64 1 2 3 4 5 6 7 8 9 10 ... 16 17 18 19 20 21 22 23 24\n",
       "  * lat        (lat) float64 -42.55 -41.61 -40.68\n",
       "Dimensions without coordinates: bnds\n",
       "Data variables:\n",
       "    time_bnds  (lead, bnds) float64 nan nan nan nan nan ... nan nan nan nan nan\n",
       "    lat_bnds   (lead, lat, bnds) float64 nan nan nan nan nan ... nan nan nan nan\n",
       "    lon_bnds   (lead, lon, bnds) float64 nan nan nan nan nan ... nan nan nan nan\n",
       "    tas        (lead, lat, lon) float32 0.933643 0.88438606 ... -0.8581106\n",
       "Attributes:\n",
       "    external_variables:            areacella\n",
       "    table_id:                      Amon\n",
       "    intake_esm_varname:            tas\n",
       "    source:                        MPI-ESM1.2-HR (2017): \\naerosol: none, pre...\n",
       "    tracking_id:                   hdl:21.14100/f41d2fe5-bb1c-49d0-8afa-0cb9e...\n",
       "    license:                       CMIP6 model data produced by MPI-M is lice...\n",
       "    grid:                          spectral T127; 384 x 192 longitude/latitude\n",
       "    data_specs_version:            01.00.30\n",
       "    forcing_index:                 1\n",
       "    experiment_id:                 dcppA-hindcast\n",
       "    table_info:                    Creation Date:(09 May 2019) MD5:e6ef8ececc...\n",
       "    mip_era:                       CMIP6\n",
       "    frequency:                     mon\n",
       "    realm:                         atmos\n",
       "    initialization_index:          1\n",
       "    variable_id:                   tas\n",
       "    cmor_version:                  3.5.0\n",
       "    branch_method:                 standard lagged initialization\n",
       "    product:                       model-output\n",
       "    title:                         MPI-ESM1-2-HR output prepared for CMIP6\n",
       "    history:                       2019-09-06T14:20:04Z ; CMOR rewrote data t...\n",
       "    source_type:                   AOGCM\n",
       "    experiment:                    hindcast initialized based on observations...\n",
       "    Conventions:                   CF-1.7 CMIP-6.2\n",
       "    grid_label:                    gn\n",
       "    contact:                       cmip6-mpi-esm@dkrz.de\n",
       "    references:                    MPI-ESM: Mauritsen, T. et al. (2019), Deve...\n",
       "    physics_index:                 1\n",
       "    nominal_resolution:            100 km\n",
       "    institution:                   Max Planck Institute for Meteorology, Hamb...\n",
       "    source_id:                     MPI-ESM1-2-HR\n",
       "    project_id:                    CMIP6\n",
       "    activity_id:                   DCPP\n",
       "    institution_id:                MPI-M\n",
       "    prediction_skill:              calculated by climpred https://climpred.re...\n",
       "    skill_calculated_by_function:  compute_perfect_model\n",
       "    number_of_initializations:     2\n",
       "    number_of_members:             2\n",
       "    metric:                        pearson_r\n",
       "    comparison:                    m2e\n",
       "    units:                         None\n",
       "    created:                       2020-01-06 15:49:35</pre>"
      ],
      "text/plain": [
       "<xarray.Dataset>\n",
       "Dimensions:    (bnds: 2, lat: 3, lead: 24, lon: 3)\n",
       "Coordinates:\n",
       "    height     float64 2.0\n",
       "  * lon        (lon) float64 46.88 47.81 48.75\n",
       "  * lead       (lead) int64 1 2 3 4 5 6 7 8 9 10 ... 16 17 18 19 20 21 22 23 24\n",
       "  * lat        (lat) float64 -42.55 -41.61 -40.68\n",
       "Dimensions without coordinates: bnds\n",
       "Data variables:\n",
       "    time_bnds  (lead, bnds) float64 nan nan nan nan nan ... nan nan nan nan nan\n",
       "    lat_bnds   (lead, lat, bnds) float64 nan nan nan nan nan ... nan nan nan nan\n",
       "    lon_bnds   (lead, lon, bnds) float64 nan nan nan nan nan ... nan nan nan nan\n",
       "    tas        (lead, lat, lon) float32 0.933643 0.88438606 ... -0.8581106\n",
       "Attributes:\n",
       "    external_variables:            areacella\n",
       "    table_id:                      Amon\n",
       "    intake_esm_varname:            tas\n",
       "    source:                        MPI-ESM1.2-HR (2017): \\naerosol: none, pre...\n",
       "    tracking_id:                   hdl:21.14100/f41d2fe5-bb1c-49d0-8afa-0cb9e...\n",
       "    license:                       CMIP6 model data produced by MPI-M is lice...\n",
       "    grid:                          spectral T127; 384 x 192 longitude/latitude\n",
       "    data_specs_version:            01.00.30\n",
       "    forcing_index:                 1\n",
       "    experiment_id:                 dcppA-hindcast\n",
       "    table_info:                    Creation Date:(09 May 2019) MD5:e6ef8ececc...\n",
       "    mip_era:                       CMIP6\n",
       "    frequency:                     mon\n",
       "    realm:                         atmos\n",
       "    initialization_index:          1\n",
       "    variable_id:                   tas\n",
       "    cmor_version:                  3.5.0\n",
       "    branch_method:                 standard lagged initialization\n",
       "    product:                       model-output\n",
       "    title:                         MPI-ESM1-2-HR output prepared for CMIP6\n",
       "    history:                       2019-09-06T14:20:04Z ; CMOR rewrote data t...\n",
       "    source_type:                   AOGCM\n",
       "    experiment:                    hindcast initialized based on observations...\n",
       "    Conventions:                   CF-1.7 CMIP-6.2\n",
       "    grid_label:                    gn\n",
       "    contact:                       cmip6-mpi-esm@dkrz.de\n",
       "    references:                    MPI-ESM: Mauritsen, T. et al. (2019), Deve...\n",
       "    physics_index:                 1\n",
       "    nominal_resolution:            100 km\n",
       "    institution:                   Max Planck Institute for Meteorology, Hamb...\n",
       "    source_id:                     MPI-ESM1-2-HR\n",
       "    project_id:                    CMIP6\n",
       "    activity_id:                   DCPP\n",
       "    institution_id:                MPI-M\n",
       "    prediction_skill:              calculated by climpred https://climpred.re...\n",
       "    skill_calculated_by_function:  compute_perfect_model\n",
       "    number_of_initializations:     2\n",
       "    number_of_members:             2\n",
       "    metric:                        pearson_r\n",
       "    comparison:                    m2e\n",
       "    units:                         None\n",
       "    created:                       2020-01-06 15:49:35"
      ]
     },
     "execution_count": 16,
     "metadata": {},
     "output_type": "execute_result"
    }
   ],
   "source": [
    "# you may actually want to use `compute_hindcast` to calculate skill from hindcast.\n",
    "# for this you also need an `observation` to compare to\n",
    "# here `compute_perfect_model` compares one member to the ensemble mean of the remain members in turn\n",
    "climpred.prediction.compute_perfect_model(ds, ds.rename({'lead':'time'}))"
   ]
  },
  {
   "cell_type": "code",
   "execution_count": null,
   "metadata": {},
   "outputs": [],
   "source": [
    "# loading the data into memory\n",
    "%time ds = ds.load()"
   ]
  }
 ],
 "metadata": {
  "kernelspec": {
   "display_name": "Python [conda env:climpred-dev]",
   "language": "python",
   "name": "conda-env-climpred-dev-py"
  },
  "language_info": {
   "codemirror_mode": {
    "name": "ipython",
    "version": 3
   },
   "file_extension": ".py",
   "mimetype": "text/x-python",
   "name": "python",
   "nbconvert_exporter": "python",
   "pygments_lexer": "ipython3",
   "version": "3.6.7"
  },
  "latex_envs": {
   "LaTeX_envs_menu_present": false,
   "autoclose": true,
   "autocomplete": true,
   "bibliofile": "large.bib",
   "cite_by": "apalike",
   "current_citInitial": 1,
   "eqLabelWithNumbers": false,
   "eqNumInitial": 1,
   "hotkeys": {
    "equation": "Ctrl-E",
    "itemize": "Ctrl-I"
   },
   "labels_anchors": false,
   "latex_user_defs": false,
   "report_style_numbering": false,
   "user_envs_cfg": false
  },
  "toc": {
   "base_numbering": 1,
   "nav_menu": {},
   "number_sections": true,
   "sideBar": true,
   "skip_h1_title": false,
   "title_cell": "Table of Contents",
   "title_sidebar": "Contents",
   "toc_cell": false,
   "toc_position": {},
   "toc_section_display": true,
   "toc_window_display": false
  },
  "varInspector": {
   "cols": {
    "lenName": 16,
    "lenType": 16,
    "lenVar": 40
   },
   "kernels_config": {
    "python": {
     "delete_cmd_postfix": "",
     "delete_cmd_prefix": "del ",
     "library": "var_list.py",
     "varRefreshCmd": "print(var_dic_list())"
    },
    "r": {
     "delete_cmd_postfix": ") ",
     "delete_cmd_prefix": "rm(",
     "library": "var_list.r",
     "varRefreshCmd": "cat(var_dic_list()) "
    }
   },
   "types_to_exclude": [
    "module",
    "function",
    "builtin_function_or_method",
    "instance",
    "_Feature"
   ],
   "window_display": false
  }
 },
 "nbformat": 4,
 "nbformat_minor": 4
}
