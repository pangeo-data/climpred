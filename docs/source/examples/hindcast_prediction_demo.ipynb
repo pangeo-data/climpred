{
 "cells": [
  {
   "cell_type": "markdown",
   "metadata": {},
   "source": [
    "# Hindcast Prediction Demo\n",
    "\n",
    "---\n",
    "\n",
    "**Authors:** Riley Brady and Aaron Spring\n",
    "\n",
    "---\n",
    "\n",
    "This demo demonstrates the capabilities of the prediction module for a decadal prediction ensemble that is initialized off of a reconstruction. Note that we use the word \"reconstruction,\" but this could be replaced with \"hindcast\" or \"assimilation\" among other things. This differs from the \"perfect-model\" approach of, e.g., the MPI decadal prediction system. For a perfect-model approach, see `perfect-model_predictability.ipynb`.\n",
    "\n",
    "\n",
    "**CESM Decadal Prediction Large Ensemble**\n",
    "\n",
    "The prediction ensemble used here is the Community Earth System Model Decadal Prediction Large Ensemble (CESM-DPLE). It is initialized annually from 1954-2017 on November 1st from a Forced Ocean-Sea Ice (FOSI) reconstruction simulation.\n",
    "\n",
    "\n",
    "**References**:\n",
    "\n",
    "1. **Official manuscript of the CESM-DPLE release:** Yeager, S. G., et al. \"Predicting near-term changes in the Earth System: A large ensemble of initialized decadal prediction simulations using the Community Earth System Model.\" Bulletin of the American Meteorological Society 2018 (2018). \n",
    "\n",
    "\n",
    "2. **Applied case of the DPLE on air-sea CO$_{2}$ fluxes:** Lovenduski, N. S., Yeager, S. G., Lindsay, K., and Long, M. C.: Predicting near-term changes in ocean carbon uptake, Earth Syst. Dynam. Discuss., https://doi.org/10.5194/esd-2018-73, in review, 2018. \n",
    "\n",
    "\n",
    "3. **Broad overview of decadal climate prediction and terminology:** Meehl, Gerald A., et al. \"Decadal climate prediction: an update from the trenches.\" Bulletin of the American Meteorological Society 95.2 (2014): 243-267."
   ]
  },
  {
   "cell_type": "code",
   "execution_count": null,
   "metadata": {
    "ExecuteTime": {
     "end_time": "2019-05-09T17:43:32.231624Z",
     "start_time": "2019-05-09T17:43:30.939335Z"
    }
   },
   "outputs": [],
   "source": [
    "import numpy as np\n",
    "import xarray as xr\n",
    "from climpred.stats import rm_trend, corr\n",
    "from climpred.prediction import (compute_hindcast, compute_persistence,\n",
    "                                 compute_uninitialized)\n",
    "import matplotlib.pyplot as plt \n",
    "%matplotlib inline\n",
    "from climpred.tutorial import load_dataset"
   ]
  },
  {
   "cell_type": "code",
   "execution_count": null,
   "metadata": {
    "ExecuteTime": {
     "end_time": "2019-05-09T17:43:32.262323Z",
     "start_time": "2019-05-09T17:43:32.233592Z"
    }
   },
   "outputs": [],
   "source": [
    "load_dataset()"
   ]
  },
  {
   "cell_type": "markdown",
   "metadata": {},
   "source": [
    "For this demo, I'm using `proplot` from https://github.com/lukelbd/proplot. If you're compiling this notebook on your own, you need to run `plot.install_fonts()` and then restart your notebook."
   ]
  },
  {
   "cell_type": "markdown",
   "metadata": {},
   "source": [
    "## Load and process data\n",
    "\n",
    "`climpred` contains a folder with post-processed sample data for MPI and CESM ensembles. To avoid supplying massive files, these are all computed as global (area-weighted) averages of SST at annual resolution."
   ]
  },
  {
   "cell_type": "markdown",
   "metadata": {},
   "source": [
    "### Reconstruction\n",
    "\n",
    "The CESM-DPLE (Community Earth System Model-Decadal Prediction Large Ensemble) is initialized from a forced ocean sea-ice (FOSI) reconstruction. This reconstruction mainly uses CORE forcing (i.e., a data atmosphere), with active (or modeled) ocean and sea ice components. It has been shown to reasonably reproduce historical ocean conditions, including El Niño events.\n",
    "\n",
    "The reconstruction output is provided at monthly resolution, but for the purpose of this demo, we will just look at annual means."
   ]
  },
  {
   "cell_type": "code",
   "execution_count": null,
   "metadata": {
    "ExecuteTime": {
     "end_time": "2019-05-09T17:43:33.407343Z",
     "start_time": "2019-05-09T17:43:33.379036Z"
    }
   },
   "outputs": [],
   "source": [
    "def _load_reconstruction():\n",
    "    recon = load_dataset('FOSI-SST')\n",
    "    recon = recon.sel(time=slice(1955, 2015))     # Same timeframe as DPLE\n",
    "    recon = recon['SST']\n",
    "    recon.name = 'reconstruction'\n",
    "    return recon"
   ]
  },
  {
   "cell_type": "code",
   "execution_count": null,
   "metadata": {
    "ExecuteTime": {
     "end_time": "2019-05-09T17:43:35.160154Z",
     "start_time": "2019-05-09T17:43:34.347011Z"
    }
   },
   "outputs": [],
   "source": [
    "recon = _load_reconstruction()"
   ]
  },
  {
   "cell_type": "markdown",
   "metadata": {},
   "source": [
    "The reconstruction comes out as raw output, but we want to compare it directly to the anomalies provided by the DPLE. For annual averages, we just subtract the mean of the simulation. For monthly output, we have to remove monthly climatologies."
   ]
  },
  {
   "cell_type": "code",
   "execution_count": null,
   "metadata": {
    "ExecuteTime": {
     "end_time": "2019-05-09T17:43:35.189997Z",
     "start_time": "2019-05-09T17:43:35.161890Z"
    }
   },
   "outputs": [],
   "source": [
    "# The climatology for the DPLE was computed over 1964-2014 so we should\n",
    "# generate our anomalies with the same window.\n",
    "recon = recon - recon.sel(time=slice(1964, 2014)).mean('time')"
   ]
  },
  {
   "cell_type": "markdown",
   "metadata": {},
   "source": [
    "### CESM Decadal Prediction Large Ensemble\n",
    "\n",
    "Here, we load in the actual initialized CESM-DPLE to compute prediction metrics with (see intro to notebook)."
   ]
  },
  {
   "cell_type": "code",
   "execution_count": null,
   "metadata": {
    "ExecuteTime": {
     "end_time": "2019-05-09T17:43:35.247641Z",
     "start_time": "2019-05-09T17:43:35.219242Z"
    }
   },
   "outputs": [],
   "source": [
    "def _load_dple():\n",
    "    dple = load_dataset('CESM-DP-SST')\n",
    "    dple = dple.sel(init=slice(1955, 2015))\n",
    "    return dple"
   ]
  },
  {
   "cell_type": "code",
   "execution_count": null,
   "metadata": {
    "ExecuteTime": {
     "end_time": "2019-05-09T17:43:36.248022Z",
     "start_time": "2019-05-09T17:43:35.467085Z"
    }
   },
   "outputs": [],
   "source": [
    "dple = _load_dple()"
   ]
  },
  {
   "cell_type": "code",
   "execution_count": null,
   "metadata": {
    "ExecuteTime": {
     "end_time": "2019-05-09T17:43:36.278596Z",
     "start_time": "2019-05-09T17:43:36.249597Z"
    }
   },
   "outputs": [],
   "source": [
    "dple.info()\n",
    "dple = dple['SST'] # easier to work with DataArray since we don't have other variables\n",
    "dple.name = 'initialized'"
   ]
  },
  {
   "cell_type": "markdown",
   "metadata": {},
   "source": [
    "### CESM Large Ensemble\n",
    "\n",
    "This is the uninitialized companion ensemble to the Decadal Prediction Ensemble. Here we have an ensemble (40 members) of simulations that are generated from minor perturbations to the initial conditions of one member in 1920.\n",
    "\n",
    "This differs from the CESM-DPLE, as it is only initialized in 1920 and never again. It differs from FOSI, as it is a freely running ESM, *i.e.,* it is not being nudged/assimilated/forced by any data products.\n",
    "\n",
    "**Reference:**\n",
    "\n",
    "Kay, J. E., et al. \"The Community Earth System Model (CESM) large ensemble project: A community resource for studying climate change in the presence of internal climate variability.\" Bulletin of the American Meteorological Society 96.8 (2015): 1333-1349."
   ]
  },
  {
   "cell_type": "code",
   "execution_count": null,
   "metadata": {
    "ExecuteTime": {
     "end_time": "2019-05-09T17:43:50.354760Z",
     "start_time": "2019-05-09T17:43:50.323861Z"
    }
   },
   "outputs": [],
   "source": [
    "cesmLE = load_dataset('CESM-LE')['SST']\n",
    "# remove mean to generate anomaly like other\n",
    "cesmLE = cesmLE - cesmLE.sel(time=slice(1964, 2014)).mean('time')\n",
    "# take ensemble mean for this demo\n",
    "cesmLE = cesmLE.mean('member')\n",
    "cesmLE.name = 'uninitialized'\n",
    "cesmLE.to_dataset().info()"
   ]
  },
  {
   "cell_type": "markdown",
   "metadata": {},
   "source": [
    "### ERSSTv4 Observations\n",
    "\n",
    "It is useful to compare the DPLE to observations to get a sense of actual skill. When we correlate the DPLE with the FOSI, we get a sense of its potential to predict the Earth system (\"potential predictability\"), if the initial conditions and model equations were perfect, and the resolution sufficiently fine. If we correlate to ERSST, we get actual prediction skill.\n",
    "\n",
    "**Reference**:\n",
    "\n",
    "https://iridl.ldeo.columbia.edu/SOURCES/.NOAA/.NCDC/.ERSST/.version4/"
   ]
  },
  {
   "cell_type": "code",
   "execution_count": null,
   "metadata": {
    "ExecuteTime": {
     "end_time": "2019-05-09T17:43:52.581733Z",
     "start_time": "2019-05-09T17:43:51.810200Z"
    }
   },
   "outputs": [],
   "source": [
    "data = load_dataset('ERSST')['SST']\n",
    "data = data - data.sel(time=slice(1964, 2014)).mean('time')\n",
    "data.name = 'data'"
   ]
  },
  {
   "cell_type": "markdown",
   "metadata": {},
   "source": [
    "## High-level view of CESM-DPLE for Global SSTs\n",
    "\n",
    "To get the user comfortable with what a DPLE looks like, we provide some simple plots to look at the structure of global SSTs in CESM-DPLE. "
   ]
  },
  {
   "cell_type": "code",
   "execution_count": null,
   "metadata": {
    "ExecuteTime": {
     "end_time": "2019-05-09T17:43:52.610921Z",
     "start_time": "2019-05-09T17:43:52.583553Z"
    }
   },
   "outputs": [],
   "source": [
    "dple_mean = dple.mean('member')"
   ]
  },
  {
   "cell_type": "markdown",
   "metadata": {},
   "source": [
    "### Ensemble Mean View\n",
    "\n",
    "By taking the ensemble mean across all 40 members, we get a sense of what the best prediction is from the ensemble. This is like the thick black line on a spaghetti plot of individual hurricane forecasts. Note that we haven't detrended yet, so you will see the SST warming trend from 1955-2015."
   ]
  },
  {
   "cell_type": "code",
   "execution_count": null,
   "metadata": {},
   "outputs": [],
   "source": [
    "def set_mpl_aeshetics(ax, cb=None):\n",
    "    \"\"\"Sets fontsizes for matplotlib plots\"\"\"\n",
    "    ax.tick_params(labelsize=14)\n",
    "    if cb is not None:\n",
    "        cb.ax.tick_params(labelsize=12)"
   ]
  },
  {
   "cell_type": "code",
   "execution_count": null,
   "metadata": {},
   "outputs": [],
   "source": [
    "f, ax = plt.subplots()\n",
    "m = ax.pcolormesh(dple_mean.lead, dple_mean.init, dple_mean,\n",
    "                  cmap='RdBu_r', vmin=-0.6, vmax=0.6)\n",
    "cbar = plt.colorbar(m, boundaries=np.arange(-0.6, 0.61, 0.1))\n",
    "ax.set_title('DPLE Ensemble Mean SST', fontsize=18)\n",
    "ax.set_xlabel('Lead Year', fontsize=14)\n",
    "ax.set_ylabel('Initialization Year', fontsize=14)\n",
    "set_mpl_aeshetics(ax, cbar)"
   ]
  },
  {
   "cell_type": "markdown",
   "metadata": {},
   "source": [
    "### Initialized Predictions\n",
    "\n",
    "The whole point of CESM-DPLE is that the ensemble is initialized with \"data\" from the FOSI every single year and then run forward in a coupled ESM. The question this begs is, how well can a freely coupled ESM reproduce the reconstruction?\n",
    "\n",
    "Here is a look at what the spread of ensemble members looks like at a few initialization points. The thin pink lines are the individual 40 members, the dark pink line is the ensemble mean, and the black line is the FOSI that is trying to be replicated by CESM-DPLE.\n",
    "\n",
    "**NOTE**: You might notice that the CESM-DPLE starts at a point slightly different than the FOSI. This is because, per protocol, the CESM-DPLE was initialized in November of the preceding year, so it is slightly different than the annual means from the FOSI."
   ]
  },
  {
   "cell_type": "code",
   "execution_count": null,
   "metadata": {},
   "outputs": [],
   "source": [
    "f, ax = plt.subplots(figsize=(8,2))\n",
    "r = ax.plot(recon.time, recon, linewidth=1.5, color='k',\n",
    "            label='reconstruction')\n",
    "init_years = [1960, 1980, 1995]\n",
    "for iy in init_years:\n",
    "    case = dple.sel(init=iy)\n",
    "    case['lead'] = np.arange(iy, iy+10)\n",
    "    f = ax.plot(case.lead, case, color='#9932CC', linewidth=0.5, alpha=0.75,\n",
    "                label='individual forecasts')\n",
    "    fm = ax.plot(case.lead, case.mean('member'), linewidth=2, color='#4B0082',\n",
    "                 label='forecast mean', zorder=4)\n",
    "    ax.plot(iy, case.isel(lead=0).mean('member'), 'o', markersize=6,\n",
    "            color='#4B0082')\n",
    "\n",
    "ax.set_xlabel('Year', fontsize=12)\n",
    "ax.set_ylabel('SST Anomaly [K]', fontsize=12)\n",
    "ax.set_title('Initialized Forecasts of Global SST', fontsize=16)\n",
    "set_mpl_aeshetics(ax)"
   ]
  },
  {
   "cell_type": "markdown",
   "metadata": {},
   "source": [
    "## Basic Prediction Metrics\n",
    "\n",
    "Now, let's get into some predictability metrics (see intro for definitions). We aren't doing anything too advanced here; we are just correlating anomalies (trended and detrended) with the FOSI reference to get a sense of the skill of our predictions.\n",
    "\n",
    "\n",
    "**NOTE**: For each of the metrics, we will be plotting a version that retains the long-term warming trend and a version that is detrended. The latter is much more common and important in the prediction community: can we predict anomalies relative to the secular trend that are mostly produced by random fluctuations in the climate system?"
   ]
  },
  {
   "cell_type": "code",
   "execution_count": null,
   "metadata": {
    "ExecuteTime": {
     "end_time": "2019-05-09T17:43:55.564530Z",
     "start_time": "2019-05-09T17:43:55.426548Z"
    }
   },
   "outputs": [],
   "source": [
    "recon_dt = rm_trend(recon)\n",
    "recon_dt.name = 'reconstruction' # naming for easier plotting later\n",
    "dple_dt = rm_trend(dple_mean, dim='init')\n",
    "dple_dt.name = 'initialized'\n",
    "cesmLE_dt = rm_trend(cesmLE)\n",
    "cesmLE_dt.name = 'uninitialized'\n",
    "data_dt = rm_trend(data)\n",
    "data_dt.name = 'data'"
   ]
  },
  {
   "cell_type": "markdown",
   "metadata": {},
   "source": [
    "### Ensemble Mean Plots\n",
    "\n",
    "First, let's look at the ensemble mean (lead year 1 for CESM-DPLE) of each of our products: the initialized prediction ensemble, the uninitialized ensemble, the reconstruction, and our actual SST data.\n",
    "\n",
    "Here you see the power of the initialized ensemble. Compare the bottom panel's red line to the aqua line."
   ]
  },
  {
   "cell_type": "code",
   "execution_count": null,
   "metadata": {},
   "outputs": [],
   "source": [
    "COLORS = {'recon': '#000000', 'hind': '#790604',\n",
    "          'uninit': '#006994', 'data': '#a9957b'}\n",
    "\n",
    "f, ax = plt.subplots(nrows=2, sharex=True, sharey=True)\n",
    "\n",
    "\"\"\"\n",
    "TOP PANEL:\n",
    "Ensemble means for all four products without removing the trend.\n",
    "\"\"\"\n",
    "r = ax[0].plot(recon.time, recon, color=COLORS['recon'], linewidth=2, \n",
    "               label='reconstruction')\n",
    "i = ax[0].plot(dple.init, dple_mean.isel(lead=0), linewidth=2, \n",
    "               color=COLORS['hind'], label='initialized forecast')\n",
    "u = ax[0].plot(cesmLE.time, cesmLE, color=COLORS['uninit'], linewidth=2,\n",
    "               label='uninitialized forecast')\n",
    "d = ax[0].plot(data.time, data, color=COLORS['data'], linewidth=2,\n",
    "               label='ERRSTv4')\n",
    "ax[0].set_title('Raw SST Anomalies')\n",
    "ax[0].set_ylabel('SST Anomalies [K]')\n",
    "\n",
    "\n",
    "\"\"\"\n",
    "BOTTOM PANEL:\n",
    "Ensemble means for all four products after removing a linear trend.\n",
    "\"\"\"\n",
    "ax[1].plot(recon_dt.time, recon_dt, color=COLORS['recon'], linewidth=2)\n",
    "ax[1].plot(dple_dt.init, dple_dt.isel(lead=0), color=COLORS['hind'], linewidth=2)\n",
    "ax[1].plot(cesmLE_dt.time, cesmLE_dt, color=COLORS['uninit'], linewidth=2)\n",
    "ax[1].plot(data_dt.time, data_dt, color=COLORS['data'], linewidth=2)\n",
    "ax[1].set_title('Detrended SST Anomalies')\n",
    "ax[1].set_ylabel('SST Anomalies [K]')\n",
    "ax[1].set_xlabel('Year')\n",
    "\n",
    "plt.legend()\n",
    "plt.legend(bbox_to_anchor=(1.05, 1), loc=2, borderaxespad=0.)\n",
    "plt.setp(plt.gca().get_legend().get_texts(), fontsize=12)\n",
    "plt.show()"
   ]
  },
  {
   "cell_type": "markdown",
   "metadata": {},
   "source": [
    "### Potential Predictability and Skill\n",
    "\n",
    "Now we can leverage the simulations and data we have to compute potential predictability (in reference to the FOSI) and skill (in reference to ERSST)"
   ]
  },
  {
   "cell_type": "code",
   "execution_count": null,
   "metadata": {
    "ExecuteTime": {
     "end_time": "2019-05-09T17:43:57.888274Z",
     "start_time": "2019-05-09T17:43:57.850380Z"
    }
   },
   "outputs": [],
   "source": [
    "def _compute_skills(recon, dple, cesmLE, data, predType='potential'):\n",
    "    \"\"\"\n",
    "    Quick function to compute the predictability/skill given all\n",
    "    four datasets.\n",
    "    \n",
    "    predType should either be 'potential' for potential predictability\n",
    "    or 'skill' for true prediction skill.\n",
    "    \"\"\"\n",
    "    if 'member' in dple.dims:\n",
    "        dple = dple.mean('member')\n",
    "    if predType == 'potential':\n",
    "        # Initialized ensemble predictability\n",
    "        ip = compute_hindcast(dple, recon)\n",
    "        # Uninitialized ensemble predictability\n",
    "        up = compute_uninitialized(cesmLE, recon)\n",
    "        up = xr.concat([up]*10, 'lead')\n",
    "        # Persistence forecast\n",
    "        persist = compute_persistence(dple, recon)\n",
    "    elif predType == 'skill':\n",
    "        ip = compute_hindcast(dple, data)\n",
    "        up = corr(cesmLE, data)\n",
    "        up = xr.DataArray([np.asarray(up)]*10, dims='lead') # DP protocol\n",
    "        persist = compute_persistence(dple, data)\n",
    "    return ip, up, persist\n",
    "\n",
    "\n",
    "def _plot_skill(ax, result, color='k', linestyle='-', marker='o', \n",
    "                markersize=6, linewidth=2, **kwargs):\n",
    "    \"\"\"\n",
    "    Quick function to plot results of predictability analysis.\n",
    "    \"\"\"\n",
    "    if 'lead time' not in result.coords:\n",
    "        N = len(result)\n",
    "        result['lead'] = np.arange(1, N+1)\n",
    "    p = ax.plot(result['lead'], result, color=color, linestyle=linestyle, \n",
    "                marker=marker, markersize=markersize, linewidth=linewidth, \n",
    "                **kwargs)\n",
    "    return p"
   ]
  },
  {
   "cell_type": "code",
   "execution_count": null,
   "metadata": {},
   "outputs": [],
   "source": [
    "COLORS = {'recon': '#000000', 'hind': '#790604',\n",
    "          'uninit': '#006994', 'data': '#a9957b',\n",
    "          'persist': '#D3D3D3'}\n",
    "f, axs = plt.subplots(nrows=2, ncols=2, figsize=(12,4),\n",
    "                      sharey=True)\n",
    "\n",
    "trended_set = xr.merge([recon, dple, cesmLE, data])\n",
    "detrended_set = xr.merge([recon_dt, dple_dt, cesmLE_dt, data_dt])\n",
    "titles = ['trended predictability', 'trended skill',\n",
    "          'detrended predictability', 'detrended skill']\n",
    "\n",
    "for ax, predType, ds, title in zip(axs.ravel(), \n",
    "                            ['potential', 'skill', 'potential', 'skill'],\n",
    "                            [trended_set, trended_set, detrended_set, \n",
    "                            detrended_set], titles):\n",
    "    ip, up, persist = _compute_skills(ds.reconstruction, ds.initialized,\n",
    "                                      ds.uninitialized, ds.data, \n",
    "                                      predType=predType)\n",
    "    i = _plot_skill(ax, ip, color='r', label='initialized forecast')\n",
    "    u = _plot_skill(ax, up, color=COLORS['uninit'], linewidth=1.5,\n",
    "                    label='uninitialized forecast')\n",
    "    p = _plot_skill(ax, persist, color=COLORS['persist'], linestyle='--',\n",
    "                   label='persistence forecast')\n",
    "    ax.set_ylim([-1, 1.1])\n",
    "    \n",
    "f.suptitle('Global SST Predictability', fontsize=16)\n",
    "axs[0,0].set_title('potential predictability', fontsize=14)\n",
    "axs[0,1].set_title('skill', fontsize=14)\n",
    "axs[0,0].set_ylabel('trended ACC', fontsize=13)\n",
    "axs[1,0].set_ylabel('detrended ACC', fontsize=13)"
   ]
  }
 ],
 "metadata": {
  "kernelspec": {
   "display_name": "Python 3",
   "language": "python",
   "name": "python3"
  },
  "language_info": {
   "codemirror_mode": {
    "name": "ipython",
    "version": 3
   },
   "file_extension": ".py",
   "mimetype": "text/x-python",
   "name": "python",
   "nbconvert_exporter": "python",
   "pygments_lexer": "ipython3",
   "version": "3.6.6"
  },
  "toc": {
   "base_numbering": 1,
   "nav_menu": {},
   "number_sections": true,
   "sideBar": true,
   "skip_h1_title": false,
   "title_cell": "Table of Contents",
   "title_sidebar": "Contents",
   "toc_cell": false,
   "toc_position": {},
   "toc_section_display": true,
   "toc_window_display": false
  },
  "varInspector": {
   "cols": {
    "lenName": 16,
    "lenType": 16,
    "lenVar": 40
   },
   "kernels_config": {
    "python": {
     "delete_cmd_postfix": "",
     "delete_cmd_prefix": "del ",
     "library": "var_list.py",
     "varRefreshCmd": "print(var_dic_list())"
    },
    "r": {
     "delete_cmd_postfix": ") ",
     "delete_cmd_prefix": "rm(",
     "library": "var_list.r",
     "varRefreshCmd": "cat(var_dic_list()) "
    }
   },
   "types_to_exclude": [
    "module",
    "function",
    "builtin_function_or_method",
    "instance",
    "_Feature"
   ],
   "window_display": false
  }
 },
 "nbformat": 4,
 "nbformat_minor": 2
}
