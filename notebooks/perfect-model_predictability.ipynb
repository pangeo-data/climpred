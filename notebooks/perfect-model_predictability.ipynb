{
 "cells": [
  {
   "cell_type": "markdown",
   "metadata": {},
   "source": [
    "# Perfect-model predictability Module Demo\n",
    "\n",
    "Aaron Spring and Riley Brady\n",
    "\n",
    "---\n",
    "\n",
    "This demo demonstrates the capabilities of the prediction module for a perfect-model framework ensemble simulation."
   ]
  },
  {
   "cell_type": "markdown",
   "metadata": {},
   "source": [
    "# What's a perfect-model framework simulation?"
   ]
  },
  {
   "cell_type": "markdown",
   "metadata": {},
   "source": [
    "Technically:\n",
    "- a set of ensemble simulations based on an Earth-System-Model alone\n",
    "- no assimilation of any reanalysis or data product interfers with the model\n",
    "- any number of `members` are initialized from perturbed initial conditions is called `ensemble` (often the ensemble initialized in `1955`)\n",
    "- the control simulation can be viewed as just another member\n",
    "\n",
    "How to compare predictability skill score:\n",
    "- As no observational data interfers with the random climate evolution of the model, we cannot use a observation-based reference.\n",
    "- Therefore we can compare the members with each other (`m2m`) or against the ensemble mean (`m2e`) or the control (`m2c`) or the ensemble mean against the control (`e2c`).\n",
    "\n",
    "When to use:\n",
    "- you don't have a sufficiently long of observational records to use as a `reference`\n",
    "- you want to aviod biases between model climatology and reanalysis climatology\n",
    "- you want to aviod super sensitive reactions of biogeochemical cycles to disruptive changes in ocean physics due to assimilation\n",
    "- you want to delve into process understanding of predictability of a model without outside artefacts\n",
    "\n",
    "How does it look like?\n",
    "[See 4.2](#timeseries)\n",
    "\n",
    "---"
   ]
  },
  {
   "cell_type": "markdown",
   "metadata": {},
   "source": [
    "Some papers including perfect-model simulations:\n",
    "- Griffies, S. M., and K. Bryan. “A Predictability Study of Simulated North Atlantic Multidecadal Variability.” Climate Dynamics 13, no. 7–8 (August 1, 1997): 459–87. https://doi.org/10/ch4kc4.\n",
    "- Collins, Matthew, and Sinha Bablu. “Predictability of Decadal Variations in the Thermohaline Circulation and Climate.” Geophysical Research Letters 30, no. 6 (March 22, 2003). https://doi.org/10/cts3cr.\n",
    "- Pohlmann, Holger, Michael Botzet, Mojib Latif, Andreas Roesch, Martin Wild, and Peter Tschuck. “Estimating the Decadal Predictability of a Coupled AOGCM.” Journal of Climate 17, no. 22 (November 1, 2004): 4463–72. https://doi.org/10/d2qf62.\n",
    "- Hawkins, Ed, Steffen Tietsche, Jonathan J. Day, Nathanael Melia, Keith Haines, and Sarah Keeley. “Aspects of Designing and Evaluating Seasonal-to-Interannual Arctic Sea-Ice Prediction Systems.” Quarterly Journal of the Royal Meteorological Society 142, no. 695 (January 1, 2016): 672–83. https://doi.org/10/gfb3pn.\n",
    "- Bushuk, Mitchell, Rym Msadek, Michael Winton, Gabriel Vecchi, Xiaosong Yang, Anthony Rosati, and Rich Gudgel. “Regional Arctic Sea–Ice Prediction: Potential versus Operational Seasonal Forecast Skill.” Climate Dynamics, June 9, 2018. https://doi.org/10/gd7hfq.\n",
    "- Séférian, Roland, Sarah Berthet, and Matthieu Chevallier. “Assessing the Decadal Predictability of Land and Ocean Carbon Uptake.” Geophysical Research Letters, March 15, 2018. https://doi.org/10/gdb424. "
   ]
  },
  {
   "cell_type": "markdown",
   "metadata": {},
   "source": [
    "---\n",
    "**This demo:**\n",
    "\n",
    "Input:\n",
    "- 1-dimensional xr.Dataset timeseries output\n",
    "- 3-dimensional xr.DataArray maps output\n",
    "\n",
    "Shows:\n",
    "- skill score\n",
    "- predictability horizon\n",
    "- slow components of internal variability indicating potential predictability:\n",
    " - DPP\n",
    " - variance-weighted mean period\n",
    " - decorrelation time\n",
    "---"
   ]
  },
  {
   "cell_type": "code",
   "execution_count": 1,
   "metadata": {
    "ExecuteTime": {
     "end_time": "2019-04-05T21:08:05.559114Z",
     "start_time": "2019-04-05T21:08:04.795988Z"
    }
   },
   "outputs": [],
   "source": [
    "import xarray as xr\n",
    "import numpy as np\n",
    "import climpred as cp\n",
    "import matplotlib.pyplot as plt\n",
    "from climpred.prediction import (compute_perfect_model, \n",
    "                                 xr_predictability_horizon, \n",
    "                                 compute_persistence_pm)\n",
    "from climpred.bootstrap import bootstrap_perfect_model, _pseudo_ens\n",
    "from climpred.loadutils import get_datasets, open_dataset\n",
    "\n",
    "from climpred.stats import (xr_decorrelation_time, xr_varweighted_mean_period, \n",
    "                           xr_autocorr, DPP)\n",
    "%matplotlib inline"
   ]
  },
  {
   "cell_type": "markdown",
   "metadata": {},
   "source": [
    "# Load sample data\n",
    "Subset of ensembles and members from MPI-ESM-LR (CMIP6 version) esmControl simulation of an early state. vga0214 from year 3000 to 3300."
   ]
  },
  {
   "cell_type": "markdown",
   "metadata": {},
   "source": [
    "## 1-dimensional output"
   ]
  },
  {
   "cell_type": "markdown",
   "metadata": {},
   "source": [
    "1-d output contains datasets of timeseries of a certain averaging **area**s ('global, North_Atlantic') and averaging time **period** (ym, DJF, ...) for some lead **year**s (1..20).\n",
    "- ds: the ensemble dataset of all **member**s (1..10), **ensemble**s (initialization years: here 3014, 3023, ...), areas, periods and years\n",
    "- control: the control dataset of all areas, periods and years"
   ]
  },
  {
   "cell_type": "code",
   "execution_count": 2,
   "metadata": {
    "ExecuteTime": {
     "end_time": "2019-04-05T21:08:06.615902Z",
     "start_time": "2019-04-05T21:08:06.587434Z"
    }
   },
   "outputs": [],
   "source": [
    "ds = xr.open_dataset('../sample_data/prediction/PM_MPI-ESM-LR_ds.nc')\n",
    "control = xr.open_dataset('../sample_data/prediction/PM_MPI-ESM-LR_control.nc')"
   ]
  },
  {
   "cell_type": "markdown",
   "metadata": {},
   "source": [
    "### Choose varname, area, period"
   ]
  },
  {
   "cell_type": "code",
   "execution_count": 3,
   "metadata": {
    "ExecuteTime": {
     "end_time": "2019-04-05T21:08:08.189813Z",
     "start_time": "2019-04-05T21:08:08.187993Z"
    }
   },
   "outputs": [],
   "source": [
    "varname='tos'\n",
    "area='global'\n",
    "period='ym'"
   ]
  },
  {
   "cell_type": "code",
   "execution_count": 4,
   "metadata": {
    "ExecuteTime": {
     "end_time": "2019-04-05T21:08:09.695855Z",
     "start_time": "2019-04-05T21:08:09.691793Z"
    }
   },
   "outputs": [],
   "source": [
    "ds_ = ds.sel(area=area,period=period)[varname]\n",
    "control_ = control.sel(area=area,period=period)[varname]"
   ]
  },
  {
   "cell_type": "markdown",
   "metadata": {},
   "source": [
    "# Bootstrap with replacement\n",
    "Goddard et al. 2013"
   ]
  },
  {
   "cell_type": "code",
<<<<<<< HEAD
   "execution_count": 5,
   "metadata": {
    "ExecuteTime": {
     "end_time": "2019-04-05T21:08:21.172716Z",
     "start_time": "2019-04-05T21:08:10.875515Z"
    }
   },
=======
   "execution_count": 15,
   "metadata": {},
>>>>>>> 6e64c2d7b8f387c44006ece580638b628cf3f67b
   "outputs": [],
   "source": [
    "sig = 95\n",
    "pers_sig = 95\n",
<<<<<<< HEAD
    "bootstrap = 50 \n",
    "comparison='m2e'\n",
    "\n",
    "init_skill = compute_perfect_model(ds_, control_, metric='pearson_r', \n",
    "                                   comparison=comparison)\n",
    "ds_uninit = _pseudo_ens(ds_, control_)\n",
    "uninit_skill = compute_perfect_model(ds_uninit, control_, metric='pearson_r', \n",
    "                                     comparison=comparison).mean('time')\n",
    "result = bootstrap_perfect_model(ds_, control_, metric='pearson_r', \n",
    "                                 comparison=comparison, bootstrap=bootstrap, \n",
    "                                 sig=sig, compute_persistence_skill=True)"
=======
    "init_skill, init_ci, uninit_skill, uninit_ci, p_uninit_over_init, pers_skill, pers_ci, p_pers_over_init = bootstrap_perfect_model(\n",
    "    ds_, control_, bootstrap=500, pers_sig=pers_sig, sig=sig)"
>>>>>>> 6e64c2d7b8f387c44006ece580638b628cf3f67b
   ]
  },
  {
   "cell_type": "code",
<<<<<<< HEAD
   "execution_count": 7,
   "metadata": {
    "ExecuteTime": {
     "end_time": "2019-04-05T21:08:48.116912Z",
     "start_time": "2019-04-05T21:08:47.731490Z"
    }
   },
   "outputs": [
    {
     "data": {
      "image/png": "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\n",
=======
   "execution_count": 16,
   "metadata": {},
   "outputs": [
    {
     "data": {
      "image/png": "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\n",
>>>>>>> 6e64c2d7b8f387c44006ece580638b628cf3f67b
      "text/plain": [
       "<Figure size 720x288 with 1 Axes>"
      ]
     },
     "metadata": {
      "needs_background": "light"
     },
     "output_type": "display_data"
    }
   ],
   "source": [
    "from climpred.graphics import plot_bootstrapped_skill_over_leadyear\n",
    "plot_bootstrapped_skill_over_leadyear(init_skill,\n",
<<<<<<< HEAD
    "                                      result.init_ci,\n",
    "                                      uninit_skill,\n",
    "                                      result.uninit_ci,\n",
    "                                      sig,\n",
    "                                      p_uninit_over_init=result.p_uninit_over_init)\n"
=======
    "                                      init_ci,\n",
    "                                      uninit_skill,\n",
    "                                      uninit_ci,\n",
    "                                      sig,\n",
    "                                      p_uninit_over_init=p_uninit_over_init,\n",
    "                                      pers_skill=pers_skill,\n",
    "                                      pers_ci=pers_ci,\n",
    "                                      pers_sig=pers_sig,\n",
    "                                      p_pers_over_init=p_pers_over_init)"
>>>>>>> 6e64c2d7b8f387c44006ece580638b628cf3f67b
   ]
  },
  {
   "cell_type": "markdown",
   "metadata": {},
   "source": [
    "### Proposal to reduce returned objects\n",
    "sig and pers_sig can be obtained from pers.isel(results=1).results.values\n",
    "\n",
    "this would reduce bootstrap_perfect_model to return init, uninit, pers, where the later have also pvalues"
   ]
  },
  {
   "cell_type": "code",
<<<<<<< HEAD
   "execution_count": 8,
   "metadata": {
    "ExecuteTime": {
     "end_time": "2019-04-05T21:08:55.371837Z",
     "start_time": "2019-04-05T21:08:55.284077Z"
    }
   },
   "outputs": [],
   "source": [
    "pers_skill = compute_persistence_pm(ds_, control_, 20)"
   ]
  },
  {
   "cell_type": "code",
   "execution_count": 9,
   "metadata": {
    "ExecuteTime": {
     "end_time": "2019-04-05T21:08:55.435728Z",
     "start_time": "2019-04-05T21:08:55.427038Z"
    }
   },
   "outputs": [
    {
     "ename": "NameError",
     "evalue": "name 'p_pers_over_init' is not defined",
     "output_type": "error",
     "traceback": [
      "\u001b[0;31m---------------------------------------------------------------------------\u001b[0m",
      "\u001b[0;31mNameError\u001b[0m                                 Traceback (most recent call last)",
      "\u001b[0;32m<ipython-input-9-659f38d1bac3>\u001b[0m in \u001b[0;36m<module>\u001b[0;34m\u001b[0m\n\u001b[0;32m----> 1\u001b[0;31m \u001b[0mp_pers_over_init\u001b[0m\u001b[0;34m=\u001b[0m\u001b[0mp_pers_over_init\u001b[0m\u001b[0;34m.\u001b[0m\u001b[0mexpand_dims\u001b[0m\u001b[0;34m(\u001b[0m\u001b[0;34m'quantile'\u001b[0m\u001b[0;34m)\u001b[0m\u001b[0;34m\u001b[0m\u001b[0;34m\u001b[0m\u001b[0m\n\u001b[0m\u001b[1;32m      2\u001b[0m \u001b[0mp_pers_over_init\u001b[0m\u001b[0;34m[\u001b[0m\u001b[0;34m'quantile'\u001b[0m\u001b[0;34m]\u001b[0m\u001b[0;34m=\u001b[0m\u001b[0;34m[\u001b[0m\u001b[0;34m'p'\u001b[0m\u001b[0;34m]\u001b[0m\u001b[0;34m\u001b[0m\u001b[0;34m\u001b[0m\u001b[0m\n\u001b[1;32m      3\u001b[0m \u001b[0mpers_skill\u001b[0m\u001b[0;34m=\u001b[0m\u001b[0mpers_skill\u001b[0m\u001b[0;34m.\u001b[0m\u001b[0mexpand_dims\u001b[0m\u001b[0;34m(\u001b[0m\u001b[0;34m'quantile'\u001b[0m\u001b[0;34m)\u001b[0m\u001b[0;34m\u001b[0m\u001b[0;34m\u001b[0m\u001b[0m\n\u001b[1;32m      4\u001b[0m \u001b[0mpers_skill\u001b[0m\u001b[0;34m[\u001b[0m\u001b[0;34m'quantile'\u001b[0m\u001b[0;34m]\u001b[0m\u001b[0;34m=\u001b[0m\u001b[0;34m[\u001b[0m\u001b[0;34m'skill'\u001b[0m\u001b[0;34m]\u001b[0m\u001b[0;34m\u001b[0m\u001b[0;34m\u001b[0m\u001b[0m\n\u001b[1;32m      5\u001b[0m \u001b[0mpers\u001b[0m\u001b[0;34m=\u001b[0m\u001b[0mxr\u001b[0m\u001b[0;34m.\u001b[0m\u001b[0mmerge\u001b[0m\u001b[0;34m(\u001b[0m\u001b[0;34m[\u001b[0m\u001b[0mpers_skill\u001b[0m\u001b[0;34m,\u001b[0m \u001b[0mpers_ci\u001b[0m\u001b[0;34m,\u001b[0m\u001b[0mp_pers_over_init\u001b[0m\u001b[0;34m]\u001b[0m\u001b[0;34m)\u001b[0m\u001b[0;34m.\u001b[0m\u001b[0mrename\u001b[0m\u001b[0;34m(\u001b[0m\u001b[0;34m{\u001b[0m\u001b[0;34m'quantile'\u001b[0m\u001b[0;34m:\u001b[0m\u001b[0;34m'results'\u001b[0m\u001b[0;34m}\u001b[0m\u001b[0;34m)\u001b[0m\u001b[0;34m\u001b[0m\u001b[0;34m\u001b[0m\u001b[0m\n",
      "\u001b[0;31mNameError\u001b[0m: name 'p_pers_over_init' is not defined"
     ]
=======
   "execution_count": 12,
   "metadata": {},
   "outputs": [
    {
     "data": {
      "text/plain": [
       "<xarray.Dataset>\n",
       "Dimensions:  (results: 4, time: 20)\n",
       "Coordinates:\n",
       "  * results  (results) object 'skill' 0.25 0.75 'p'\n",
       "  * time     (time) int64 1 2 3 4 5 6 7 8 9 10 11 12 13 14 15 16 17 18 19 20\n",
       "Data variables:\n",
       "    tos      (results, time) float64 0.1736 0.1024 0.3675 ... 0.17 0.4 0.27"
      ]
     },
     "execution_count": 12,
     "metadata": {},
     "output_type": "execute_result"
>>>>>>> 6e64c2d7b8f387c44006ece580638b628cf3f67b
    }
   ],
   "source": [
    "p_pers_over_init=p_pers_over_init.expand_dims('quantile')\n",
    "p_pers_over_init['quantile']=['p']\n",
    "pers_skill=pers_skill.expand_dims('quantile')\n",
    "pers_skill['quantile']=['skill']\n",
    "pers=xr.merge([pers_skill, pers_ci,p_pers_over_init]).rename({'quantile':'results'})\n",
    "pers.drop(['area','period'])"
   ]
  },
  {
   "cell_type": "markdown",
   "metadata": {},
   "source": [
    "### How does a perfect-model framework simulation look like?"
   ]
  },
  {
   "cell_type": "markdown",
   "metadata": {},
   "source": [
    "<a id='timeseries'></a>"
   ]
  },
  {
   "cell_type": "code",
   "execution_count": null,
   "metadata": {
    "ExecuteTime": {
     "end_time": "2019-04-05T20:44:21.616450Z",
     "start_time": "2019-04-05T20:44:21.612316Z"
    }
   },
   "outputs": [],
   "source": [
    "def _get_limit_sig(metric='pearson_r',sig=99):\n",
    "    \"\"\"Adjust limit and significance level for bootstrapping to metric.\"\"\"\n",
    "    if metric in ['pearson_r', 'ppp', 'msss', 'nrmse', 'nmse']:\n",
    "        limit = 'upper'\n",
    "        sigl = sig\n",
    "    else:\n",
    "        limit = 'lower'\n",
    "        sigl = 100 - sig\n",
    "    return limit, sigl\n",
    "\n",
    "def _plot_skill(ax, result, color='k', linestyle='-', marker='o', \n",
    "                markersize=6, linewidth=2, **kwargs):\n",
    "    \"\"\"\n",
    "    Quick function to plot results of predictability analysis.\n",
    "    \"\"\"\n",
    "    p = ax.plot(result.time, result, color=color, linestyle=linestyle, \n",
    "                marker=marker, markersize=markersize, linewidth=linewidth, \n",
    "                **kwargs)\n",
    "    return p"
   ]
  },
  {
   "cell_type": "code",
   "execution_count": null,
   "metadata": {
    "ExecuteTime": {
     "end_time": "2019-04-05T20:44:57.201652Z",
     "start_time": "2019-04-05T20:44:21.971163Z"
    }
   },
   "outputs": [],
   "source": [
    "comparison='m2e'\n",
    "sig=99\n",
    "bootstrap=100\n",
    "# Main plot.\n",
    "metrics = ['pearson_r', 'rmse', 'mse', 'ppp', 'nrmse','nmse']\n",
    "f, axs = plt.subplots(nrows=len(metrics), ncols=1,figsize=(8,12))\n",
    "\n",
    "for ax, metric in zip(axs, metrics):\n",
    "    ip = compute_perfect_model(ds_, control_, metric=metric, comparison=comparison)\n",
    "    limit, sigl = _get_limit_sig(metric=metric, sig=sig)\n",
    "    up = bootstrap_perfect_model(ds_, control_, metric=metric, comparison=comparison, sig=sigl).values\n",
    "    if metric in ['rmse', 'mse', 'pearson_r']:\n",
    "        persist = compute_persistence(control_, dim='time', nlags=ds_.time.size, metric=metric)\n",
    "        persist['time'] = persist['time']\n",
    "        p = _plot_skill(ax, persist, color='gray', linestyle='--', label='persistence forecast')\n",
    "    i = _plot_skill(ax, ip, color='r', label='initialized forecast')\n",
    "    u = ax.axhline(y=up, color='blue', linewidth=1.5, label='uninitialized forecast')\n",
    "    # predictability horizon\n",
    "    ph = xr_predictability_horizon(ip, up, limit=limit, perfect_model=True).values\n",
    "    php = ax.axvline(x=ph, color='blue', alpha=.5, ls='-.', label='predictability horizon')\n",
    "\n",
    "    fac = 1.1\n",
    "    #ax.set_ylim([fac * min(0, up, ip.min('time'),persist.min('time')),fac * max(up, ip.max('time'),persist.max('time'))])\n",
    "    ax.set_xlim([0.8, 10.2])\n",
    "    ax.set_xticks(np.arange(1.,11.),minor=False)\n",
    "    ax.set_ylabel(metric)\n",
    "    persist=persist-persist\n",
    "\n",
    "plt.suptitle('Perfect-model potential Predictability global SST')\n",
    "\n",
    "plt.legend([i[0], p[0], u, php],ncol=2)\n",
    "plt.tight_layout()"
   ]
  },
  {
   "cell_type": "markdown",
   "metadata": {},
   "source": [
    "## Different comparisons lead to different skill score magnitude by design"
   ]
  },
  {
   "cell_type": "code",
   "execution_count": null,
   "metadata": {
    "ExecuteTime": {
     "end_time": "2019-02-19T18:12:55.763461Z",
     "start_time": "2019-02-19T18:12:52.885930Z"
    }
   },
   "outputs": [],
   "source": [
    "for c in ['e2c','m2c','m2e','m2m']:\n",
    "    compute_perfect_model(ds_, control_, metric='pearson_r', comparison=c).plot(label=c)\n",
    "compute_persistence(control_,nlags=20, dim='time').plot(label='persistence', ls=':')\n",
    "plt.ylabel('ACC')\n",
    "plt.xticks(np.arange(1,21))\n",
    "plt.legend()\n",
    "plt.title('Different forecast-reference comparisons for pearson_r \\n lead to systematically different magnitude of skill score')\n",
    "plt.show()"
   ]
  },
  {
   "cell_type": "markdown",
   "metadata": {},
   "source": [
    "Can we adapt persistence forecast to the references? What's a fair comparison for persistence?"
   ]
  },
  {
   "cell_type": "markdown",
   "metadata": {},
   "source": [
    "# 3-dimensional"
   ]
  },
  {
   "cell_type": "markdown",
   "metadata": {},
   "source": [
    "## 3-dimensional output\n",
    "Data is stored on curvilinear grid: lon(y, x), lat(y, x)"
   ]
  },
  {
   "cell_type": "code",
   "execution_count": null,
   "metadata": {
    "ExecuteTime": {
     "end_time": "2019-02-19T18:12:55.779611Z",
     "start_time": "2019-02-19T18:12:55.764817Z"
    }
   },
   "outputs": [],
   "source": [
    "ds3d = xr.open_dataset('../sample_data/prediction/PM_MPI-ESM-LR_ds3d.nc')\n",
    "control3d = xr.open_dataset('../sample_data/prediction/PM_MPI-ESM-LR_control3d.nc')"
   ]
  },
  {
   "cell_type": "markdown",
   "metadata": {},
   "source": [
    "## Choose predictability metric and comparison"
   ]
  },
  {
   "cell_type": "code",
   "execution_count": null,
   "metadata": {
    "ExecuteTime": {
     "end_time": "2019-02-19T18:12:55.783436Z",
     "start_time": "2019-02-19T18:12:55.780878Z"
    }
   },
   "outputs": [],
   "source": [
    "metric='pearson_r'\n",
    "comparison='m2e'\n",
    "sig=99\n",
    "bootstrap=10\n",
    "limit, sigl = _get_limit_sig(metric=metric, sig=sig)"
   ]
  },
  {
   "cell_type": "markdown",
   "metadata": {},
   "source": [
    "## Skill for Lead Year"
   ]
  },
  {
   "cell_type": "code",
   "execution_count": null,
   "metadata": {
    "ExecuteTime": {
     "end_time": "2019-02-19T18:12:55.922241Z",
     "start_time": "2019-02-19T18:12:55.785199Z"
    }
   },
   "outputs": [],
   "source": [
    "skill3d = compute_perfect_model(ds3d[varname], control3d[varname], metric=metric, comparison=comparison)"
   ]
  },
  {
   "cell_type": "code",
   "execution_count": null,
   "metadata": {
    "ExecuteTime": {
     "end_time": "2019-02-19T18:12:56.706889Z",
     "start_time": "2019-02-19T18:12:55.924084Z"
    }
   },
   "outputs": [],
   "source": [
    "skill3d.plot(robust=True,yincrease=False, col='time')"
   ]
  },
  {
   "cell_type": "markdown",
   "metadata": {},
   "source": [
    "## Bootstrapped threshold and Predictability Horizon map"
   ]
  },
  {
   "cell_type": "code",
   "execution_count": null,
   "metadata": {
    "ExecuteTime": {
     "end_time": "2019-02-19T18:12:59.853352Z",
     "start_time": "2019-02-19T18:12:56.708193Z"
    }
   },
   "outputs": [],
   "source": [
    "threshold3d = bootstrap_perfect_model(ds3d[varname], control3d[varname], metric=metric, comparison=comparison, \n",
    "                     sig=sigl, bootstrap=bootstrap)\n",
    "# threshold3d.plot(robust=True,yincrease=False)"
   ]
  },
  {
   "cell_type": "code",
   "execution_count": null,
   "metadata": {
    "ExecuteTime": {
     "end_time": "2019-02-19T18:12:59.861122Z",
     "start_time": "2019-02-19T18:12:59.854687Z"
    }
   },
   "outputs": [],
   "source": [
    "if limit == 'upper':\n",
    "    masked3d = skill3d.where(skill3d > threshold3d)\n",
    "elif limit == 'lower':\n",
    "    masked3d = skill3d.where(skill3d < threshold3d)\n",
    "\n",
    "#masked3d.plot(yincrease=False, col='time')\n",
    "#plt.suptitle('Skill score if above threshold')"
   ]
  },
  {
   "cell_type": "code",
   "execution_count": null,
   "metadata": {
    "ExecuteTime": {
     "end_time": "2019-02-19T18:13:00.103777Z",
     "start_time": "2019-02-19T18:12:59.862544Z"
    }
   },
   "outputs": [],
   "source": [
    "ph3d = xr_predictability_horizon(masked3d, threshold3d, limit=limit, perfect_model=True)\n",
    "ph3d.name = 'Lead Years'\n",
    "\n",
    "ph3d.where(ph3d>0).plot(robust=False,yincrease=False)\n",
    "plt.title('Predictability Horizon '+varname)"
   ]
  },
  {
   "cell_type": "markdown",
   "metadata": {},
   "source": [
    "## Persistence\n",
    "Plot skill where larger than persistence."
   ]
  },
  {
   "cell_type": "code",
   "execution_count": null,
   "metadata": {
    "ExecuteTime": {
     "end_time": "2019-02-19T18:13:01.007770Z",
     "start_time": "2019-02-19T18:13:00.105015Z"
    }
   },
   "outputs": [],
   "source": [
    "persistence_skill3d = compute_persistence(control3d[varname], nlags=ds3d.time.size,metric=metric, dim='time')\n",
    "beat_persistence = skill3d.where(skill3d>persistence_skill3d)\n",
    "beat_persistence.plot(col='time',yincrease=False)"
   ]
  },
  {
   "cell_type": "markdown",
   "metadata": {},
   "source": [
    "# Slow components of internal variability indicating potential predictability"
   ]
  },
  {
   "cell_type": "markdown",
   "metadata": {},
   "source": [
    "Set of methods to show regions indicating chances of predictability:\n",
    "- Decadal Potential Predictability\n",
    "- Variance-weighted mean period\n",
    "- Lag1 autocorrelation\n",
    "- Decorrelation time"
   ]
  },
  {
   "cell_type": "markdown",
   "metadata": {},
   "source": [
    "## DPP"
   ]
  },
  {
   "cell_type": "code",
   "execution_count": null,
   "metadata": {
    "ExecuteTime": {
     "end_time": "2019-02-19T18:13:01.012186Z",
     "start_time": "2019-02-19T18:13:01.009117Z"
    }
   },
   "outputs": [],
   "source": [
    "help(DPP)"
   ]
  },
  {
   "cell_type": "markdown",
   "metadata": {},
   "source": [
    "### Resplandy 2015, Seferian 2018 method"
   ]
  },
  {
   "cell_type": "code",
   "execution_count": null,
   "metadata": {
    "ExecuteTime": {
     "end_time": "2019-02-19T18:13:01.289033Z",
     "start_time": "2019-02-19T18:13:01.014102Z"
    }
   },
   "outputs": [],
   "source": [
    "DPP10 = DPP(control3d[varname], m=10, chunk=False)\n",
    "DPP10.where(DPP10>0).plot(yincrease=False,vmax=.6)"
   ]
  },
  {
   "cell_type": "markdown",
   "metadata": {},
   "source": [
    "### Original Boer 2004 implementation"
   ]
  },
  {
   "cell_type": "code",
   "execution_count": null,
   "metadata": {
    "ExecuteTime": {
     "end_time": "2019-02-19T18:13:01.664500Z",
     "start_time": "2019-02-19T18:13:01.292158Z"
    }
   },
   "outputs": [],
   "source": [
    "DPP10 = DPP(control3d[varname], m=10, chunk=True)\n",
    "DPP10.where(DPP10>0).plot(yincrease=False,vmax=.6)"
   ]
  },
  {
   "cell_type": "markdown",
   "metadata": {},
   "source": [
    "yields similar results"
   ]
  },
  {
   "cell_type": "markdown",
   "metadata": {},
   "source": [
    "## varweigthed mean period"
   ]
  },
  {
   "cell_type": "code",
   "execution_count": null,
   "metadata": {
    "ExecuteTime": {
     "end_time": "2019-02-19T18:13:01.669604Z",
     "start_time": "2019-02-19T18:13:01.666278Z"
    }
   },
   "outputs": [],
   "source": [
    "help(xr_varweighted_mean_period)"
   ]
  },
  {
   "cell_type": "code",
   "execution_count": null,
   "metadata": {
    "ExecuteTime": {
     "end_time": "2019-02-19T18:13:02.005436Z",
     "start_time": "2019-02-19T18:13:01.672275Z"
    }
   },
   "outputs": [],
   "source": [
    "from climpred.stats import xr_varweighted_mean_period as xvmp\n",
    "varweighted_mean_period = xvmp(control3d[varname],time_dim='time')\n",
    "varweighted_mean_period.plot(yincrease=False)"
   ]
  },
  {
   "cell_type": "markdown",
   "metadata": {},
   "source": [
    "## Lag1 autocorrelation"
   ]
  },
  {
   "cell_type": "code",
   "execution_count": null,
   "metadata": {
    "ExecuteTime": {
     "end_time": "2019-02-19T18:13:02.009670Z",
     "start_time": "2019-02-19T18:13:02.006926Z"
    }
   },
   "outputs": [],
   "source": [
    "help(xr_autocorr)"
   ]
  },
  {
   "cell_type": "code",
   "execution_count": null,
   "metadata": {
    "ExecuteTime": {
     "end_time": "2019-02-19T18:13:02.295067Z",
     "start_time": "2019-02-19T18:13:02.011642Z"
    }
   },
   "outputs": [],
   "source": [
    "corr_ef = xr_autocorr(control3d[varname],dim='time')\n",
    "corr_ef.where(corr_ef>0).plot(yincrease=False, robust=False)"
   ]
  },
  {
   "cell_type": "markdown",
   "metadata": {},
   "source": [
    "## Decorrelation time"
   ]
  },
  {
   "cell_type": "code",
   "execution_count": null,
   "metadata": {
    "ExecuteTime": {
     "end_time": "2019-02-19T18:13:02.299891Z",
     "start_time": "2019-02-19T18:13:02.296763Z"
    }
   },
   "outputs": [],
   "source": [
    "help(xr_decorrelation_time)"
   ]
  },
  {
   "cell_type": "code",
   "execution_count": null,
   "metadata": {
    "ExecuteTime": {
     "end_time": "2019-02-19T18:13:02.926189Z",
     "start_time": "2019-02-19T18:13:02.301736Z"
    }
   },
   "outputs": [],
   "source": [
    "decorr_time = xr_decorrelation_time(control3d[varname])\n",
    "decorr_time.where(decorr_time>0).plot(yincrease=False, robust=False)"
   ]
  }
 ],
 "metadata": {
  "kernelspec": {
   "display_name": "Python 3",
   "language": "python",
   "name": "python3"
  },
  "language_info": {
   "codemirror_mode": {
    "name": "ipython",
    "version": 3
   },
   "file_extension": ".py",
   "mimetype": "text/x-python",
   "name": "python",
   "nbconvert_exporter": "python",
   "pygments_lexer": "ipython3",
   "version": "3.6.8"
  },
  "latex_envs": {
   "LaTeX_envs_menu_present": false,
   "autoclose": true,
   "autocomplete": true,
   "bibliofile": "large.bib",
   "cite_by": "apalike",
   "current_citInitial": 1,
   "eqLabelWithNumbers": false,
   "eqNumInitial": 1,
   "hotkeys": {
    "equation": "Ctrl-E",
    "itemize": "Ctrl-I"
   },
   "labels_anchors": false,
   "latex_user_defs": false,
   "report_style_numbering": false,
   "user_envs_cfg": false
  },
  "toc": {
   "base_numbering": 1,
   "nav_menu": {},
   "number_sections": true,
   "sideBar": true,
   "skip_h1_title": false,
   "title_cell": "Table of Contents",
   "title_sidebar": "Contents",
   "toc_cell": false,
   "toc_position": {},
   "toc_section_display": true,
   "toc_window_display": false
  },
  "varInspector": {
   "cols": {
    "lenName": 16,
    "lenType": 16,
    "lenVar": 40
   },
   "kernels_config": {
    "python": {
     "delete_cmd_postfix": "",
     "delete_cmd_prefix": "del ",
     "library": "var_list.py",
     "varRefreshCmd": "print(var_dic_list())"
    },
    "r": {
     "delete_cmd_postfix": ") ",
     "delete_cmd_prefix": "rm(",
     "library": "var_list.r",
     "varRefreshCmd": "cat(var_dic_list()) "
    }
   },
   "types_to_exclude": [
    "module",
    "function",
    "builtin_function_or_method",
    "instance",
    "_Feature"
   ],
   "window_display": false
  }
 },
 "nbformat": 4,
 "nbformat_minor": 2
}
