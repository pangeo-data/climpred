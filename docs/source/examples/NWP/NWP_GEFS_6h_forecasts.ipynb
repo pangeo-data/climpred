{
 "cells": [
  {
   "cell_type": "code",
   "execution_count": 1,
   "id": "chronic-heading",
   "metadata": {},
   "outputs": [],
   "source": [
    "#!conda install intake fsspec intake-xarray intake-thredds -c conda-forge -y"
   ]
  },
  {
   "cell_type": "code",
   "execution_count": 2,
   "id": "instrumental-financing",
   "metadata": {},
   "outputs": [],
   "source": [
    "#!conda install eccodes cfgrib -c conda-forge -y"
   ]
  },
  {
   "cell_type": "code",
   "execution_count": 3,
   "id": "civic-tumor",
   "metadata": {},
   "outputs": [],
   "source": [
    "#!pip install climetlab --quiet"
   ]
  },
  {
   "cell_type": "code",
   "execution_count": 4,
   "id": "descending-disease",
   "metadata": {},
   "outputs": [
    {
     "data": {
      "application/javascript": [
       "\n",
       "            setTimeout(function() {\n",
       "                var nbb_cell_id = 4;\n",
       "                var nbb_unformatted_code = \"# linting\\n%load_ext nb_black\\n%load_ext lab_black\";\n",
       "                var nbb_formatted_code = \"# linting\\n%load_ext nb_black\\n%load_ext lab_black\";\n",
       "                var nbb_cells = Jupyter.notebook.get_cells();\n",
       "                for (var i = 0; i < nbb_cells.length; ++i) {\n",
       "                    if (nbb_cells[i].input_prompt_number == nbb_cell_id) {\n",
       "                        if (nbb_cells[i].get_text() == nbb_unformatted_code) {\n",
       "                             nbb_cells[i].set_text(nbb_formatted_code);\n",
       "                        }\n",
       "                        break;\n",
       "                    }\n",
       "                }\n",
       "            }, 500);\n",
       "            "
      ],
      "text/plain": [
       "<IPython.core.display.Javascript object>"
      ]
     },
     "metadata": {},
     "output_type": "display_data"
    }
   ],
   "source": [
    "# linting\n",
    "%load_ext nb_black\n",
    "%load_ext lab_black"
   ]
  },
  {
   "cell_type": "markdown",
   "id": "smart-knock",
   "metadata": {},
   "source": [
    "# Calculate skill for NWP model GEFS for 6-hourly global forecasts"
   ]
  },
  {
   "cell_type": "code",
   "execution_count": 5,
   "id": "insured-feeding",
   "metadata": {},
   "outputs": [
    {
     "name": "stdout",
     "output_type": "stream",
     "text": [
      "Warning: ecCodes 2.21.0 or higher is recommended. You are running version 2.20.0\n"
     ]
    },
    {
     "data": {
      "application/javascript": [
       "\n",
       "            setTimeout(function() {\n",
       "                var nbb_cell_id = 5;\n",
       "                var nbb_unformatted_code = \"import intake\\nimport fsspec  # caching downloads\\n# specify caching location, where to store files to with their original names\\nfsspec.config.conf['simplecache'] = {'cache_storage': '../my_caching_folder', 'same_names': True}\\nimport intake_xarray  # access files hosted via THREDDS\\nimport climetlab  # download ERA5\\n\\nimport xarray as xr\\nimport numpy as np\\n\\nimport climpred  # forecast verification\";\n",
       "                var nbb_formatted_code = \"import intake\\nimport fsspec  # caching downloads\\n\\n# specify caching location, where to store files to with their original names\\nfsspec.config.conf[\\\"simplecache\\\"] = {\\n    \\\"cache_storage\\\": \\\"../my_caching_folder\\\",\\n    \\\"same_names\\\": True,\\n}\\nimport intake_xarray  # access files hosted via THREDDS\\nimport climetlab  # download ERA5\\n\\nimport xarray as xr\\nimport numpy as np\\n\\nimport climpred  # forecast verification\";\n",
       "                var nbb_cells = Jupyter.notebook.get_cells();\n",
       "                for (var i = 0; i < nbb_cells.length; ++i) {\n",
       "                    if (nbb_cells[i].input_prompt_number == nbb_cell_id) {\n",
       "                        if (nbb_cells[i].get_text() == nbb_unformatted_code) {\n",
       "                             nbb_cells[i].set_text(nbb_formatted_code);\n",
       "                        }\n",
       "                        break;\n",
       "                    }\n",
       "                }\n",
       "            }, 500);\n",
       "            "
      ],
      "text/plain": [
       "<IPython.core.display.Javascript object>"
      ]
     },
     "metadata": {},
     "output_type": "display_data"
    }
   ],
   "source": [
    "import intake\n",
    "import fsspec  # caching downloads\n",
    "\n",
    "# specify caching location, where to store files to with their original names\n",
    "fsspec.config.conf[\"simplecache\"] = {\n",
    "    \"cache_storage\": \"../my_caching_folder\",\n",
    "    \"same_names\": True,\n",
    "}\n",
    "import intake_xarray  # access files hosted via THREDDS\n",
    "import climetlab  # download ERA5\n",
    "\n",
    "import xarray as xr\n",
    "import numpy as np\n",
    "\n",
    "import climpred  # forecast verification"
   ]
  },
  {
   "cell_type": "markdown",
   "id": "viral-neutral",
   "metadata": {},
   "source": [
    "## Find the data"
   ]
  },
  {
   "cell_type": "markdown",
   "id": "excellent-asthma",
   "metadata": {},
   "source": [
    "GEFS output can be found on a `THREDDS` server: https://www.ncei.noaa.gov/thredds/catalog/model-gefs-003/202008/20200831/catalog.html\n",
    "\n",
    "Here, we use `intake-thredds` to access the THREDDS catalog, `intake-xarray` to access the files and cache them with `fsspec`. However, you can also download the files manually, e.g. with `wget`:\n",
    "\n",
    "- https://intake.readthedocs.io/en/latest/\n",
    "- https://intake-xarray.readthedocs.io/en/latest/\n",
    "- https://intake-thredds.readthedocs.io/en/latest/\n",
    "- https://filesystem-spec.readthedocs.io/en/latest/"
   ]
  },
  {
   "cell_type": "code",
   "execution_count": 6,
   "id": "durable-keeping",
   "metadata": {},
   "outputs": [
    {
     "name": "stderr",
     "output_type": "stream",
     "text": [
      "/Users/aaron.spring/anaconda3/envs/climpred-dev/lib/python3.8/site-packages/siphon/catalog.py:292: UserWarning: URL https://www.ncei.noaa.gov/thredds/catalog/model-gefs-003/202008/20200831/catalog.html returned HTML. Changing to: https://www.ncei.noaa.gov/thredds/catalog/model-gefs-003/202008/20200831/catalog.xml\n",
      "  warnings.warn('URL {} returned HTML. Changing to: {}'.format(self.catalog_url,\n"
     ]
    },
    {
     "data": {
      "application/yaml": "No name found:\n  args:\n    url: https://www.ncei.noaa.gov/thredds/catalog/model-gefs-003/202008/20200831/catalog.html\n  description: ''\n  driver: intake_thredds.cat.ThreddsCatalog\n  metadata:\n    authority:\n    - gov.noaa.ncdc\n    contributor:\n      Scientific Contact:\n      - Zoltar Toth\n      Technical Contact:\n      - Yuejian Zhu\n    creator:\n    - {}\n    dataType: GRID\n    date:\n    - type: created\n      value: '2007-03-27'\n    - type: issued\n      value: '2007-10-01'\n    documentation:\n      abstract:\n      - The Global Ensemble Forecast System (GEFS) is a weather forecast model made\n        up of 21 separate forecasts, or ensemble members. The National Centers for\n        Environmental Prediction (NCEP) started the GEFS to address the nature of\n        uncertainty in weather observations, which are used to initialize weather\n        forecast models. The proverbial butterfly flapping her wings can have a cascading\n        effect leading to wind gusts thousands of miles away. This extreme example\n        illustrates that tiny, unnoticeable differences between reality and what is\n        actually measured can, over time, lead to noticeable differences between what\n        a weather model forecast predicts and reality itself. The GEFS attempts to\n        quantify the amount of uncertainty in a forecast by generating an ensemble\n        of multiple forecasts, each minutely different, or perturbed, from the original\n        observations. With global coverage, GEFS is produced four times a day with\n        weather forecasts going out to 16 days and a 6 hour temporal resolution.\n      comment:\n      - Quantify the amount of uncertainty in mesoscale guidance by generating an\n        ensemble of multiple forecasts, each minutely different, or perturbed, from\n        the original observations.\n      format:\n      - GRIB 2\n      funding:\n      - DOC/NOAA/NWS/NCEP/EMC > Environmental Modeling Center, National Centers for\n        Environmental Prediction, National Weather Service, NOAA, U.S. Department\n        of Commerce\n      rights:\n      - Electronic downloads of the data are free, however fees apply for data certification\n        and distribution of the data on physical media. Fees vary based on order specifications.\n      summary:\n      - The Global Ensemble Forecast System (GEFS) is a weather forecast model made\n        up of 21 separate forecasts, or ensemble members. The National Centers for\n        Environmental Prediction (NCEP) started the GEFS to address the nature of\n        uncertainty in weather observations, which are used to initialize weather\n        forecast models. The proverbial butterfly flapping her wings can have a cascading\n        effect leading to wind gusts thousands of miles away. This extreme example\n        illustrates that tiny, unnoticeable differences between reality and what is\n        actually measured can, over time, lead to noticeable differences between what\n        a weather model forecast predicts and reality itself. The GEFS attempts to\n        quantify the amount of uncertainty in a forecast by generating an ensemble\n        of multiple forecasts, each minutely different, or perturbed, from the original\n        observations. With global coverage, GEFS is produced four times a day with\n        weather forecasts going out to 16 days and a 6 hour temporal resolution. This\n        dataset has 1.0 degree horizontal resolution.\n      xlink:\n      - href: http://www.nco.ncep.noaa.gov/pmb/docs/grib2/\n        title: Format Specification\n      - href: http://www.emc.ncep.noaa.gov/gmb/ens/ens_info.html\n        title: Reference Papers\n    external_metadata:\n      ISO 19115-2:2009(E) - Collection Level Metadata: http://gis.ncdc.noaa.gov/geoportal/rest/document?id=%7B643C822F-67BC-4357-B280-C9A8821B91D3%7D\n    geospatialCoverage:\n    - {}\n    inherited: true\n    keyword:\n    - name: \"GOVERNMENT AGENCIES-U.S. FEDERAL AGENCIES, DOC, NOAA, DOC/NOAA/NESDIS/NCEI,\\\n        \\ \\n\\t  National Centers for Environmental Information, NESDIS, U.S. Department\\\n        \\ of Commerce, \\n\\t  EARTH SCIENCE SERVICES, MODELS, EARTH SCIENCE REANALYSES/ASSIMILATION\\\n        \\ MODELS\"\n      vocabulary: GCMD\n    project:\n    - name: Global Ensemble Forecast System (GEFS)\n    publisher:\n    - {}\n    serviceName: ALL\n    timeCoverage:\n    - {}\n",
      "text/plain": [
       "No name found:\n",
       "  args:\n",
       "    url: https://www.ncei.noaa.gov/thredds/catalog/model-gefs-003/202008/20200831/catalog.html\n",
       "  description: ''\n",
       "  driver: intake_thredds.cat.ThreddsCatalog\n",
       "  metadata:\n",
       "    authority:\n",
       "    - gov.noaa.ncdc\n",
       "    contributor:\n",
       "      Scientific Contact:\n",
       "      - Zoltar Toth\n",
       "      Technical Contact:\n",
       "      - Yuejian Zhu\n",
       "    creator:\n",
       "    - {}\n",
       "    dataType: GRID\n",
       "    date:\n",
       "    - type: created\n",
       "      value: '2007-03-27'\n",
       "    - type: issued\n",
       "      value: '2007-10-01'\n",
       "    documentation:\n",
       "      abstract:\n",
       "      - The Global Ensemble Forecast System (GEFS) is a weather forecast model made\n",
       "        up of 21 separate forecasts, or ensemble members. The National Centers for\n",
       "        Environmental Prediction (NCEP) started the GEFS to address the nature of\n",
       "        uncertainty in weather observations, which are used to initialize weather\n",
       "        forecast models. The proverbial butterfly flapping her wings can have a cascading\n",
       "        effect leading to wind gusts thousands of miles away. This extreme example\n",
       "        illustrates that tiny, unnoticeable differences between reality and what is\n",
       "        actually measured can, over time, lead to noticeable differences between what\n",
       "        a weather model forecast predicts and reality itself. The GEFS attempts to\n",
       "        quantify the amount of uncertainty in a forecast by generating an ensemble\n",
       "        of multiple forecasts, each minutely different, or perturbed, from the original\n",
       "        observations. With global coverage, GEFS is produced four times a day with\n",
       "        weather forecasts going out to 16 days and a 6 hour temporal resolution.\n",
       "      comment:\n",
       "      - Quantify the amount of uncertainty in mesoscale guidance by generating an\n",
       "        ensemble of multiple forecasts, each minutely different, or perturbed, from\n",
       "        the original observations.\n",
       "      format:\n",
       "      - GRIB 2\n",
       "      funding:\n",
       "      - DOC/NOAA/NWS/NCEP/EMC > Environmental Modeling Center, National Centers for\n",
       "        Environmental Prediction, National Weather Service, NOAA, U.S. Department\n",
       "        of Commerce\n",
       "      rights:\n",
       "      - Electronic downloads of the data are free, however fees apply for data certification\n",
       "        and distribution of the data on physical media. Fees vary based on order specifications.\n",
       "      summary:\n",
       "      - The Global Ensemble Forecast System (GEFS) is a weather forecast model made\n",
       "        up of 21 separate forecasts, or ensemble members. The National Centers for\n",
       "        Environmental Prediction (NCEP) started the GEFS to address the nature of\n",
       "        uncertainty in weather observations, which are used to initialize weather\n",
       "        forecast models. The proverbial butterfly flapping her wings can have a cascading\n",
       "        effect leading to wind gusts thousands of miles away. This extreme example\n",
       "        illustrates that tiny, unnoticeable differences between reality and what is\n",
       "        actually measured can, over time, lead to noticeable differences between what\n",
       "        a weather model forecast predicts and reality itself. The GEFS attempts to\n",
       "        quantify the amount of uncertainty in a forecast by generating an ensemble\n",
       "        of multiple forecasts, each minutely different, or perturbed, from the original\n",
       "        observations. With global coverage, GEFS is produced four times a day with\n",
       "        weather forecasts going out to 16 days and a 6 hour temporal resolution. This\n",
       "        dataset has 1.0 degree horizontal resolution.\n",
       "      xlink:\n",
       "      - href: http://www.nco.ncep.noaa.gov/pmb/docs/grib2/\n",
       "        title: Format Specification\n",
       "      - href: http://www.emc.ncep.noaa.gov/gmb/ens/ens_info.html\n",
       "        title: Reference Papers\n",
       "    external_metadata:\n",
       "      ISO 19115-2:2009(E) - Collection Level Metadata: http://gis.ncdc.noaa.gov/geoportal/rest/document?id=%7B643C822F-67BC-4357-B280-C9A8821B91D3%7D\n",
       "    geospatialCoverage:\n",
       "    - {}\n",
       "    inherited: true\n",
       "    keyword:\n",
       "    - name: \"GOVERNMENT AGENCIES-U.S. FEDERAL AGENCIES, DOC, NOAA, DOC/NOAA/NESDIS/NCEI,\\\n",
       "        \\ \\n\\t  National Centers for Environmental Information, NESDIS, U.S. Department\\\n",
       "        \\ of Commerce, \\n\\t  EARTH SCIENCE SERVICES, MODELS, EARTH SCIENCE REANALYSES/ASSIMILATION\\\n",
       "        \\ MODELS\"\n",
       "      vocabulary: GCMD\n",
       "    project:\n",
       "    - name: Global Ensemble Forecast System (GEFS)\n",
       "    publisher:\n",
       "    - {}\n",
       "    serviceName: ALL\n",
       "    timeCoverage:\n",
       "    - {}\n"
      ]
     },
     "metadata": {
      "application/json": {
       "root": "No name found"
      }
     },
     "output_type": "display_data"
    },
    {
     "data": {
      "application/javascript": [
       "\n",
       "            setTimeout(function() {\n",
       "                var nbb_cell_id = 6;\n",
       "                var nbb_unformatted_code = \"# all the metadata about GEFS\\ncat = intake.open_thredds_cat('https://www.ncei.noaa.gov/thredds/catalog/model-gefs-003/202008/20200831/catalog.html')\\ncat\";\n",
       "                var nbb_formatted_code = \"# all the metadata about GEFS\\ncat = intake.open_thredds_cat(\\n    \\\"https://www.ncei.noaa.gov/thredds/catalog/model-gefs-003/202008/20200831/catalog.html\\\"\\n)\\ncat\";\n",
       "                var nbb_cells = Jupyter.notebook.get_cells();\n",
       "                for (var i = 0; i < nbb_cells.length; ++i) {\n",
       "                    if (nbb_cells[i].input_prompt_number == nbb_cell_id) {\n",
       "                        if (nbb_cells[i].get_text() == nbb_unformatted_code) {\n",
       "                             nbb_cells[i].set_text(nbb_formatted_code);\n",
       "                        }\n",
       "                        break;\n",
       "                    }\n",
       "                }\n",
       "            }, 500);\n",
       "            "
      ],
      "text/plain": [
       "<IPython.core.display.Javascript object>"
      ]
     },
     "metadata": {},
     "output_type": "display_data"
    }
   ],
   "source": [
    "# all the metadata about GEFS\n",
    "cat = intake.open_thredds_cat(\n",
    "    \"https://www.ncei.noaa.gov/thredds/catalog/model-gefs-003/202008/20200831/catalog.html\"\n",
    ")\n",
    "cat"
   ]
  },
  {
   "cell_type": "markdown",
   "id": "inside-practitioner",
   "metadata": {},
   "source": [
    "Opening without `backend_kwargs` raised `DatasetBuildError`. Need to specify variable by `filter_by_keys` for `grib` files.\n",
    "\n",
    "DatasetBuildError: multiple values for unique key, try re-open the file with one of:\n",
    "\n",
    "- filter_by_keys={'typeOfLevel': 'isobaricInhPa'}\n",
    "- filter_by_keys={'typeOfLevel': 'surface'}\n",
    "- filter_by_keys={'typeOfLevel': 'depthBelowLandLayer'}\n",
    "- filter_by_keys={'typeOfLevel': 'heightAboveGround'}\n",
    "- filter_by_keys={'typeOfLevel': 'atmosphereSingleLayer'}\n",
    "- filter_by_keys={'typeOfLevel': 'atmosphere'}\n",
    "- filter_by_keys={'typeOfLevel': 'nominalTop'}\n",
    "- filter_by_keys={'typeOfLevel': 'pressureFromGroundLayer'}\n",
    "- filter_by_keys={'typeOfLevel': 'meanSea'}"
   ]
  },
  {
   "cell_type": "code",
   "execution_count": 7,
   "id": "prospective-swimming",
   "metadata": {},
   "outputs": [
    {
     "data": {
      "text/plain": [
       "Coordinates:\n",
       "    number             int64 ...\n",
       "    time               datetime64[ns] ...\n",
       "    step               timedelta64[ns] ...\n",
       "    heightAboveGround  float64 ...\n",
       "  * latitude           (latitude) float64 90.0 89.0 88.0 ... -88.0 -89.0 -90.0\n",
       "  * longitude          (longitude) float64 0.0 1.0 2.0 3.0 ... 357.0 358.0 359.0\n",
       "    valid_time         datetime64[ns] ..."
      ]
     },
     "execution_count": 7,
     "metadata": {},
     "output_type": "execute_result"
    },
    {
     "data": {
      "application/javascript": [
       "\n",
       "            setTimeout(function() {\n",
       "                var nbb_cell_id = 7;\n",
       "                var nbb_unformatted_code = \"# how to open grib files: https://github.com/ecmwf/cfgrib/issues/170\\nintake_xarray.NetCDFSource('simplecache::https://www.ncei.noaa.gov/thredds/fileServer/model-gefs-003/202008/20200831/gens-a_3_20200831_1800_000_20.grb2',\\n                               xarray_kwargs=dict(engine='cfgrib', backend_kwargs=dict(filter_by_keys={'typeOfLevel': 'heightAboveGround', 'shortName':'2t'})),\\n    ).to_dask().coords\";\n",
       "                var nbb_formatted_code = \"# how to open grib files: https://github.com/ecmwf/cfgrib/issues/170\\nintake_xarray.NetCDFSource(\\n    \\\"simplecache::https://www.ncei.noaa.gov/thredds/fileServer/model-gefs-003/202008/20200831/gens-a_3_20200831_1800_000_20.grb2\\\",\\n    xarray_kwargs=dict(\\n        engine=\\\"cfgrib\\\",\\n        backend_kwargs=dict(\\n            filter_by_keys={\\\"typeOfLevel\\\": \\\"heightAboveGround\\\", \\\"shortName\\\": \\\"2t\\\"}\\n        ),\\n    ),\\n).to_dask().coords\";\n",
       "                var nbb_cells = Jupyter.notebook.get_cells();\n",
       "                for (var i = 0; i < nbb_cells.length; ++i) {\n",
       "                    if (nbb_cells[i].input_prompt_number == nbb_cell_id) {\n",
       "                        if (nbb_cells[i].get_text() == nbb_unformatted_code) {\n",
       "                             nbb_cells[i].set_text(nbb_formatted_code);\n",
       "                        }\n",
       "                        break;\n",
       "                    }\n",
       "                }\n",
       "            }, 500);\n",
       "            "
      ],
      "text/plain": [
       "<IPython.core.display.Javascript object>"
      ]
     },
     "metadata": {},
     "output_type": "display_data"
    }
   ],
   "source": [
    "# how to open grib files: https://github.com/ecmwf/cfgrib/issues/170\n",
    "intake_xarray.NetCDFSource(\n",
    "    \"simplecache::https://www.ncei.noaa.gov/thredds/fileServer/model-gefs-003/202008/20200831/gens-a_3_20200831_1800_000_20.grb2\",\n",
    "    xarray_kwargs=dict(\n",
    "        engine=\"cfgrib\",\n",
    "        backend_kwargs=dict(\n",
    "            filter_by_keys={\"typeOfLevel\": \"heightAboveGround\", \"shortName\": \"2t\"}\n",
    "        ),\n",
    "    ),\n",
    ").to_dask().coords"
   ]
  },
  {
   "cell_type": "markdown",
   "id": "separated-cincinnati",
   "metadata": {},
   "source": [
    "## Get forecasts"
   ]
  },
  {
   "cell_type": "code",
   "execution_count": 8,
   "id": "durable-italic",
   "metadata": {},
   "outputs": [
    {
     "data": {
      "application/javascript": [
       "\n",
       "            setTimeout(function() {\n",
       "                var nbb_cell_id = 8;\n",
       "                var nbb_unformatted_code = \"inits_time='0000' # get forecasts started at 00:00\\ninits = ['20200829', '20200830', '20200831'] # four initial dates\\nmembers = range(5) # 5 members out of 20\\nleads = np.arange(0, 6 * 4 * 2 + 1, 6) # 6h lead forecasts, 9 leads upto 48h\";\n",
       "                var nbb_formatted_code = \"inits_time = \\\"0000\\\"  # get forecasts started at 00:00\\ninits = [\\\"20200829\\\", \\\"20200830\\\", \\\"20200831\\\"]  # four initial dates\\nmembers = range(5)  # 5 members out of 20\\nleads = np.arange(0, 6 * 4 * 2 + 1, 6)  # 6h lead forecasts, 9 leads upto 48h\";\n",
       "                var nbb_cells = Jupyter.notebook.get_cells();\n",
       "                for (var i = 0; i < nbb_cells.length; ++i) {\n",
       "                    if (nbb_cells[i].input_prompt_number == nbb_cell_id) {\n",
       "                        if (nbb_cells[i].get_text() == nbb_unformatted_code) {\n",
       "                             nbb_cells[i].set_text(nbb_formatted_code);\n",
       "                        }\n",
       "                        break;\n",
       "                    }\n",
       "                }\n",
       "            }, 500);\n",
       "            "
      ],
      "text/plain": [
       "<IPython.core.display.Javascript object>"
      ]
     },
     "metadata": {},
     "output_type": "display_data"
    }
   ],
   "source": [
    "inits_time = \"0000\"  # get forecasts started at 00:00\n",
    "inits = [\"20200829\", \"20200830\", \"20200831\"]  # four initial dates\n",
    "members = range(5)  # 5 members out of 20\n",
    "leads = np.arange(0, 6 * 4 * 2 + 1, 6)  # 6h lead forecasts, 9 leads upto 48h"
   ]
  },
  {
   "cell_type": "code",
   "execution_count": null,
   "id": "junior-average",
   "metadata": {},
   "outputs": [],
   "source": [
    "for init in inits:\n",
    "    for lead in leads:\n",
    "        for member in members:\n",
    "            try:\n",
    "                url = f'https://www.ncei.noaa.gov/thredds/fileServer/model-gefs-003/202008/{init}/gens-a_3_{init}_{inits_time}_{str(lead).zfill(3)}_{str(member).zfill(2)}.grb2'\n",
    "                #print(f'download init = {init}, lead = {lead}, member = {member}')\n",
    "                intake_xarray.NetCDFSource(f'simplecache::{url}',\n",
    "                                           xarray_kwargs=dict(engine='cfgrib', backend_kwargs=dict(filter_by_keys={'typeOfLevel': 'heightAboveGround', 'shortName':'2t'})),\n",
    "                ).to_dask()\n",
    "            except Exception as e:\n",
    "                print('failed', type(e).__name__, e)"
   ]
  },
  {
   "cell_type": "code",
   "execution_count": null,
   "id": "equipped-cowboy",
   "metadata": {},
   "outputs": [],
   "source": [
    "init = xr.concat(\n",
    "        [xr.concat(\n",
    "            [xr.open_mfdataset(f'../my_caching_folder/gens-a_3_{init}_{inits_time}_{str(lead).zfill(3)}_*.grb2',\n",
    "                               concat_dim='member', combine='nested',\n",
    "                               engine='cfgrib', backend_kwargs=dict(filter_by_keys={'typeOfLevel': 'heightAboveGround', 'shortName': '2t'}))\n",
    "             for lead in leads],\n",
    "             dim='step') for init in inits],\n",
    "        dim='time')"
   ]
  },
  {
   "cell_type": "code",
   "execution_count": null,
   "id": "broad-spirituality",
   "metadata": {},
   "outputs": [],
   "source": [
    "# save time when reproducing\n",
    "init = init.compute()\n",
    "init.to_netcdf('tmp_GEFS_a.nc')"
   ]
  },
  {
   "cell_type": "code",
   "execution_count": 11,
   "id": "likely-assistant",
   "metadata": {},
   "outputs": [
    {
     "data": {
      "application/javascript": [
       "\n",
       "            setTimeout(function() {\n",
       "                var nbb_cell_id = 11;\n",
       "                var nbb_unformatted_code = \"init = xr.open_dataset('tmp_GEFS_a.nc')\";\n",
       "                var nbb_formatted_code = \"init = xr.open_dataset(\\\"tmp_GEFS_a.nc\\\")\";\n",
       "                var nbb_cells = Jupyter.notebook.get_cells();\n",
       "                for (var i = 0; i < nbb_cells.length; ++i) {\n",
       "                    if (nbb_cells[i].input_prompt_number == nbb_cell_id) {\n",
       "                        if (nbb_cells[i].get_text() == nbb_unformatted_code) {\n",
       "                             nbb_cells[i].set_text(nbb_formatted_code);\n",
       "                        }\n",
       "                        break;\n",
       "                    }\n",
       "                }\n",
       "            }, 500);\n",
       "            "
      ],
      "text/plain": [
       "<IPython.core.display.Javascript object>"
      ]
     },
     "metadata": {},
     "output_type": "display_data"
    }
   ],
   "source": [
    "init = xr.open_dataset(\"tmp_GEFS_a.nc\")"
   ]
  },
  {
   "cell_type": "code",
   "execution_count": 12,
   "id": "excellent-county",
   "metadata": {},
   "outputs": [
    {
     "data": {
      "application/javascript": [
       "\n",
       "            setTimeout(function() {\n",
       "                var nbb_cell_id = 12;\n",
       "                var nbb_unformatted_code = \"# rename to climpred dims\\ninit = init.rename({'step':'lead','number':'member','time':'init'}) #.drop('valid_time')\";\n",
       "                var nbb_formatted_code = \"# rename to climpred dims\\ninit = init.rename(\\n    {\\\"step\\\": \\\"lead\\\", \\\"number\\\": \\\"member\\\", \\\"time\\\": \\\"init\\\"}\\n)  # .drop('valid_time')\";\n",
       "                var nbb_cells = Jupyter.notebook.get_cells();\n",
       "                for (var i = 0; i < nbb_cells.length; ++i) {\n",
       "                    if (nbb_cells[i].input_prompt_number == nbb_cell_id) {\n",
       "                        if (nbb_cells[i].get_text() == nbb_unformatted_code) {\n",
       "                             nbb_cells[i].set_text(nbb_formatted_code);\n",
       "                        }\n",
       "                        break;\n",
       "                    }\n",
       "                }\n",
       "            }, 500);\n",
       "            "
      ],
      "text/plain": [
       "<IPython.core.display.Javascript object>"
      ]
     },
     "metadata": {},
     "output_type": "display_data"
    }
   ],
   "source": [
    "# rename to climpred dims\n",
    "init = init.rename({'step':'lead','number':'member','time':'init'})"
   ]
  },
  {
   "cell_type": "code",
   "execution_count": 13,
   "id": "painted-guest",
   "metadata": {},
   "outputs": [
    {
     "data": {
      "application/javascript": [
       "\n",
       "            setTimeout(function() {\n",
       "                var nbb_cell_id = 13;\n",
       "                var nbb_unformatted_code = \"# set climpred lead units\\ninit['lead'] = np.arange(0, 6 * init.lead.size, 6)\\ninit.lead.attrs['units'] = 'hours'\";\n",
       "                var nbb_formatted_code = \"# set climpred lead units\\ninit[\\\"lead\\\"] = np.arange(0, 6 * init.lead.size, 6)\\ninit.lead.attrs[\\\"units\\\"] = \\\"hours\\\"\";\n",
       "                var nbb_cells = Jupyter.notebook.get_cells();\n",
       "                for (var i = 0; i < nbb_cells.length; ++i) {\n",
       "                    if (nbb_cells[i].input_prompt_number == nbb_cell_id) {\n",
       "                        if (nbb_cells[i].get_text() == nbb_unformatted_code) {\n",
       "                             nbb_cells[i].set_text(nbb_formatted_code);\n",
       "                        }\n",
       "                        break;\n",
       "                    }\n",
       "                }\n",
       "            }, 500);\n",
       "            "
      ],
      "text/plain": [
       "<IPython.core.display.Javascript object>"
      ]
     },
     "metadata": {},
     "output_type": "display_data"
    }
   ],
   "source": [
    "# set climpred lead units\n",
    "init[\"lead\"] = np.arange(0, 6 * init.lead.size, 6)\n",
    "init.lead.attrs[\"units\"] = \"hours\""
   ]
  },
  {
   "cell_type": "markdown",
   "id": "controlled-focus",
   "metadata": {},
   "source": [
    "## Get observations\n",
    "\n",
    "`climetlab` wraps `cdsapi` to download from the Copernicus Climate Data Store (CDS):\n",
    "\n",
    "- https://cds.climate.copernicus.eu/cdsapp#!/home\n",
    "- https://climetlab.readthedocs.io/en/latest/\n",
    "- https://github.com/ecmwf/cdsapi/"
   ]
  },
  {
   "cell_type": "code",
   "execution_count": 14,
   "id": "initial-thong",
   "metadata": {},
   "outputs": [
    {
     "data": {
      "application/javascript": [
       "\n",
       "            setTimeout(function() {\n",
       "                var nbb_cell_id = 14;\n",
       "                var nbb_unformatted_code = \"obs = climetlab.load_source(\\\"cds\\\",\\n        \\\"reanalysis-era5-single-levels\\\",\\n        product_type=\\\"reanalysis\\\",             \\n        time=[\\\"00:00\\\", \\\"06:00\\\", \\\"12:00\\\", \\\"18:00\\\"],\\n        grid=[1.0, 1.0],\\n        param=\\\"2t\\\",\\n        date=[\\\"2020-08-29\\\", \\\"2020-08-30\\\", \\\"2020-08-31\\\",\\n              \\\"2020-09-01\\\", \\\"2020-09-02\\\", \\\"2020-09-03\\\"]).to_xarray()\";\n",
       "                var nbb_formatted_code = \"obs = climetlab.load_source(\\n    \\\"cds\\\",\\n    \\\"reanalysis-era5-single-levels\\\",\\n    product_type=\\\"reanalysis\\\",\\n    time=[\\\"00:00\\\", \\\"06:00\\\", \\\"12:00\\\", \\\"18:00\\\"],\\n    grid=[1.0, 1.0],\\n    param=\\\"2t\\\",\\n    date=[\\n        \\\"2020-08-29\\\",\\n        \\\"2020-08-30\\\",\\n        \\\"2020-08-31\\\",\\n        \\\"2020-09-01\\\",\\n        \\\"2020-09-02\\\",\\n        \\\"2020-09-03\\\",\\n    ],\\n).to_xarray()\";\n",
       "                var nbb_cells = Jupyter.notebook.get_cells();\n",
       "                for (var i = 0; i < nbb_cells.length; ++i) {\n",
       "                    if (nbb_cells[i].input_prompt_number == nbb_cell_id) {\n",
       "                        if (nbb_cells[i].get_text() == nbb_unformatted_code) {\n",
       "                             nbb_cells[i].set_text(nbb_formatted_code);\n",
       "                        }\n",
       "                        break;\n",
       "                    }\n",
       "                }\n",
       "            }, 500);\n",
       "            "
      ],
      "text/plain": [
       "<IPython.core.display.Javascript object>"
      ]
     },
     "metadata": {},
     "output_type": "display_data"
    }
   ],
   "source": [
    "obs = climetlab.load_source(\n",
    "    \"cds\",\n",
    "    \"reanalysis-era5-single-levels\",\n",
    "    product_type=\"reanalysis\",\n",
    "    time=[\"00:00\", \"06:00\", \"12:00\", \"18:00\"],\n",
    "    grid=[1.0, 1.0],\n",
    "    param=\"2t\",\n",
    "    date=[\n",
    "        \"2020-08-29\",\n",
    "        \"2020-08-30\",\n",
    "        \"2020-08-31\",\n",
    "        \"2020-09-01\",\n",
    "        \"2020-09-02\",\n",
    "        \"2020-09-03\",\n",
    "    ],\n",
    ").to_xarray()"
   ]
  },
  {
   "cell_type": "code",
   "execution_count": 15,
   "id": "furnished-cocktail",
   "metadata": {},
   "outputs": [
    {
     "data": {
      "application/javascript": [
       "\n",
       "            setTimeout(function() {\n",
       "                var nbb_cell_id = 15;\n",
       "                var nbb_unformatted_code = \"# climetlab or cds enable logging.INFO\\nimport logging\\nlogger = logging.getLogger()\\nlogger.setLevel(logging.ERROR)\";\n",
       "                var nbb_formatted_code = \"# climetlab or cds enable logging.INFO\\nimport logging\\n\\nlogger = logging.getLogger()\\nlogger.setLevel(logging.ERROR)\";\n",
       "                var nbb_cells = Jupyter.notebook.get_cells();\n",
       "                for (var i = 0; i < nbb_cells.length; ++i) {\n",
       "                    if (nbb_cells[i].input_prompt_number == nbb_cell_id) {\n",
       "                        if (nbb_cells[i].get_text() == nbb_unformatted_code) {\n",
       "                             nbb_cells[i].set_text(nbb_formatted_code);\n",
       "                        }\n",
       "                        break;\n",
       "                    }\n",
       "                }\n",
       "            }, 500);\n",
       "            "
      ],
      "text/plain": [
       "<IPython.core.display.Javascript object>"
      ]
     },
     "metadata": {},
     "output_type": "display_data"
    }
   ],
   "source": [
    "# climetlab or cds enable logging.INFO\n",
    "import logging\n",
    "\n",
    "logger = logging.getLogger()\n",
    "logger.setLevel(logging.ERROR)"
   ]
  },
  {
   "cell_type": "code",
   "execution_count": 16,
   "id": "informed-sapphire",
   "metadata": {},
   "outputs": [
    {
     "data": {
      "application/javascript": [
       "\n",
       "            setTimeout(function() {\n",
       "                var nbb_cell_id = 16;\n",
       "                var nbb_unformatted_code = \"# observations should only have time and no coordinates about number/member, step/lead or valid_time \\nobs = obs.drop(['number', 'step', 'surface', 'valid_time'])\";\n",
       "                var nbb_formatted_code = \"# observations should only have time and no coordinates about number/member, step/lead or valid_time\\nobs = obs.drop([\\\"number\\\", \\\"step\\\", \\\"surface\\\", \\\"valid_time\\\"])\";\n",
       "                var nbb_cells = Jupyter.notebook.get_cells();\n",
       "                for (var i = 0; i < nbb_cells.length; ++i) {\n",
       "                    if (nbb_cells[i].input_prompt_number == nbb_cell_id) {\n",
       "                        if (nbb_cells[i].get_text() == nbb_unformatted_code) {\n",
       "                             nbb_cells[i].set_text(nbb_formatted_code);\n",
       "                        }\n",
       "                        break;\n",
       "                    }\n",
       "                }\n",
       "            }, 500);\n",
       "            "
      ],
      "text/plain": [
       "<IPython.core.display.Javascript object>"
      ]
     },
     "metadata": {},
     "output_type": "display_data"
    }
   ],
   "source": [
    "# observations should only have time and no coordinates about number/member, step/lead or valid_time\n",
    "obs = obs.drop([\"number\", \"step\", \"surface\", \"valid_time\"])"
   ]
  },
  {
   "cell_type": "markdown",
   "id": "molecular-chuck",
   "metadata": {},
   "source": [
    "## Forecast skill verification with `climpred.HindcastEnsemble`"
   ]
  },
  {
   "cell_type": "code",
   "execution_count": 17,
   "id": "ignored-prague",
   "metadata": {},
   "outputs": [
    {
     "data": {
      "application/javascript": [
       "\n",
       "            setTimeout(function() {\n",
       "                var nbb_cell_id = 17;\n",
       "                var nbb_unformatted_code = \"alignment='same_inits'\\nhindcast = climpred.HindcastEnsemble(init.drop('valid_time')).add_observations(obs)\";\n",
       "                var nbb_formatted_code = \"alignment = \\\"same_inits\\\"\\nhindcast = climpred.HindcastEnsemble(init.drop(\\\"valid_time\\\")).add_observations(obs)\";\n",
       "                var nbb_cells = Jupyter.notebook.get_cells();\n",
       "                for (var i = 0; i < nbb_cells.length; ++i) {\n",
       "                    if (nbb_cells[i].input_prompt_number == nbb_cell_id) {\n",
       "                        if (nbb_cells[i].get_text() == nbb_unformatted_code) {\n",
       "                             nbb_cells[i].set_text(nbb_formatted_code);\n",
       "                        }\n",
       "                        break;\n",
       "                    }\n",
       "                }\n",
       "            }, 500);\n",
       "            "
      ],
      "text/plain": [
       "<IPython.core.display.Javascript object>"
      ]
     },
     "metadata": {},
     "output_type": "display_data"
    }
   ],
   "source": [
    "alignment = \"same_inits\"\n",
    "hindcast = climpred.HindcastEnsemble(init.drop(\"valid_time\")).add_observations(obs)"
   ]
  },
  {
   "cell_type": "code",
   "execution_count": 18,
   "id": "living-bahamas",
   "metadata": {},
   "outputs": [
    {
     "data": {
      "application/javascript": [
       "\n",
       "            setTimeout(function() {\n",
       "                var nbb_cell_id = 18;\n",
       "                var nbb_unformatted_code = \"# still experimental, help appreciated https://github.com/pangeo-data/climpred/issues/605\\n# with climpred.set_options(seasonality='month'):\\n#     hindcast = hindcast.remove_bias(alignment=alignment, cross_validate=False, how='mean')\";\n",
       "                var nbb_formatted_code = \"# still experimental, help appreciated https://github.com/pangeo-data/climpred/issues/605\\n# with climpred.set_options(seasonality='month'):\\n#     hindcast = hindcast.remove_bias(alignment=alignment, cross_validate=False, how='mean')\";\n",
       "                var nbb_cells = Jupyter.notebook.get_cells();\n",
       "                for (var i = 0; i < nbb_cells.length; ++i) {\n",
       "                    if (nbb_cells[i].input_prompt_number == nbb_cell_id) {\n",
       "                        if (nbb_cells[i].get_text() == nbb_unformatted_code) {\n",
       "                             nbb_cells[i].set_text(nbb_formatted_code);\n",
       "                        }\n",
       "                        break;\n",
       "                    }\n",
       "                }\n",
       "            }, 500);\n",
       "            "
      ],
      "text/plain": [
       "<IPython.core.display.Javascript object>"
      ]
     },
     "metadata": {},
     "output_type": "display_data"
    }
   ],
   "source": [
    "# still experimental, help appreciated https://github.com/pangeo-data/climpred/issues/605\n",
    "# with climpred.set_options(seasonality='month'):\n",
    "#     hindcast = hindcast.remove_bias(alignment=alignment, cross_validate=False, how='mean')"
   ]
  },
  {
   "cell_type": "code",
   "execution_count": null,
   "id": "conceptual-richmond",
   "metadata": {},
   "outputs": [],
   "source": [
    "skill = hindcast.isel(lead=range(1, 9)).verify(\n",
    "    metric=\"crps\", comparison=\"m2o\", alignment=alignment, dim=[\"init\", \"member\"]\n",
    ")\n",
    "\n",
    "skill.t2m.plot(col=\"lead\", col_wrap=4, robust=True)"
   ]
  },
  {
   "cell_type": "code",
   "execution_count": null,
   "id": "colored-luther",
   "metadata": {},
   "outputs": [],
   "source": [
    "# zooming into north america\n",
    "skill.sel(longitude=slice(200, 320), latitude=slice(70, 15)).t2m.plot(\n",
    "    col=\"lead\", col_wrap=4, robust=True, aspect=2.5\n",
    ")"
   ]
  },
  {
   "cell_type": "code",
   "execution_count": null,
   "id": "identified-values",
   "metadata": {},
   "outputs": [],
   "source": []
  }
 ],
 "metadata": {
  "kernelspec": {
   "display_name": "Python 3",
   "language": "python",
   "name": "python3"
  },
  "language_info": {
   "codemirror_mode": {
    "name": "ipython",
    "version": 3
   },
   "file_extension": ".py",
   "mimetype": "text/x-python",
   "name": "python",
   "nbconvert_exporter": "python",
   "pygments_lexer": "ipython3",
   "version": "3.7.10"
  }
 },
 "nbformat": 4,
 "nbformat_minor": 5
}
