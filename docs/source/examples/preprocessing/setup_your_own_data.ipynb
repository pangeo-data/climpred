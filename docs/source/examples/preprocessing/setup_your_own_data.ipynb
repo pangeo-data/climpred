{
 "cells": [
  {
   "cell_type": "markdown",
   "metadata": {},
   "source": [
    "# Setting up your own output\n",
    "\n",
    "This demo demonstrates how you can setup your raw model output with ``climpred.preprocessing`` to match `climpred`'s expectations."
   ]
  },
  {
   "cell_type": "code",
   "execution_count": 1,
   "metadata": {},
   "outputs": [
    {
     "name": "stdout",
     "output_type": "stream",
     "text": [
      "Number of CPUs: 48, number of threads: 6, number of workers: 8\n"
     ]
    }
   ],
   "source": [
    "from dask.distributed import Client\n",
    "import multiprocessing\n",
    "ncpu = multiprocessing.cpu_count()\n",
    "threads = 6\n",
    "nworker = ncpu//threads\n",
    "print(f'Number of CPUs: {ncpu}, number of threads: {threads}, number of workers: {nworker}')"
   ]
  },
  {
   "cell_type": "code",
   "execution_count": 2,
   "metadata": {
    "ExecuteTime": {
     "end_time": "2019-04-29T20:09:41.074645Z",
     "start_time": "2019-04-29T20:09:40.250487Z"
    }
   },
   "outputs": [],
   "source": [
    "%matplotlib inline\n",
    "import matplotlib.pyplot as plt\n",
    "import numpy as np\n",
    "import xarray as xr\n",
    "\n",
    "import climpred"
   ]
  },
  {
   "cell_type": "code",
   "execution_count": 3,
   "metadata": {},
   "outputs": [],
   "source": [
    "from climpred.preprocessing.shared import load_hindcast, set_integer_time_axis\n",
    "from climpred.preprocessing.mpi import get_path"
   ]
  },
  {
   "cell_type": "markdown",
   "metadata": {},
   "source": [
    "Assuming your raw model output is stored in multiple files per member and initialization, `load_hindcast` is a nice wrapper function based on `get_path` designed for the output format of `MPI-ESM` to aggregated all hindcast output into one file as expected by `climpred`.\n",
    "\n",
    "The basic idea is to look over the output of all members and concatinate, then loop over all initializations and concatinate. Before concatination, it is important to make the `time` dimension identical in all input datasets for concatination.\n",
    "\n",
    "To reduce the data size, use the `preprocess` function provided to `xr.open_mfdataset` wisely in combination with `set_integer_axis`, e.g. additionally extracting only a certain region, time-step, time-aggregation or only few variables for a multi-variable input file as in MPI-ESM standard output."
   ]
  },
  {
   "cell_type": "code",
   "execution_count": 4,
   "metadata": {},
   "outputs": [],
   "source": [
    "# check the code of load_hindcast\n",
    "# load_hindcast??"
   ]
  },
  {
   "cell_type": "code",
   "execution_count": 5,
   "metadata": {},
   "outputs": [],
   "source": [
    "v = \"global_primary_production\"\n",
    "\n",
    "def preprocess_1var(ds, v=v):\n",
    "    \"\"\"Only leave one variable `v` in dataset \"\"\"\n",
    "    return ds[v].to_dataset(name=v).squeeze()"
   ]
  },
  {
   "cell_type": "code",
   "execution_count": 6,
   "metadata": {},
   "outputs": [
    {
     "name": "stdout",
     "output_type": "stream",
     "text": [
      "Processing init 1961 ...\n",
      "Processing init 1962 ...\n",
      "Processing init 1963 ...\n",
      "Processing init 1964 ...\n",
      "CPU times: user 5.07 s, sys: 2.06 s, total: 7.13 s\n",
      "Wall time: 5.19 s\n"
     ]
    }
   ],
   "source": [
    "# lead_offset because yearmean output\n",
    "%time ds = load_hindcast(inits=range(1961, 1965), members=range(1, 3), preprocess=preprocess_1var, get_path=get_path)"
   ]
  },
  {
   "cell_type": "code",
   "execution_count": 7,
   "metadata": {},
   "outputs": [
    {
     "data": {
      "text/plain": [
       "Coordinates:\n",
       "    depth    float64 0.0\n",
       "    lat      float64 0.0\n",
       "    lon      float64 0.0\n",
       "  * lead     (lead) int64 1 2 3 4 5 6 7 8 9 10\n",
       "  * member   (member) int64 1 2\n",
       "  * init     (init) int64 1961 1962 1963 1964"
      ]
     },
     "execution_count": 7,
     "metadata": {},
     "output_type": "execute_result"
    }
   ],
   "source": [
    "# what we need for climpred\n",
    "ds.coords"
   ]
  },
  {
   "cell_type": "code",
   "execution_count": 8,
   "metadata": {},
   "outputs": [
    {
     "data": {
      "text/html": [
       "<table>\n",
       "<tr>\n",
       "<td>\n",
       "<table>\n",
       "  <thead>\n",
       "    <tr><td> </td><th> Array </th><th> Chunk </th></tr>\n",
       "  </thead>\n",
       "  <tbody>\n",
       "    <tr><th> Bytes </th><td> 320 B </td> <td> 4 B </td></tr>\n",
       "    <tr><th> Shape </th><td> (4, 2, 10) </td> <td> (1, 1, 1) </td></tr>\n",
       "    <tr><th> Count </th><td> 720 Tasks </td><td> 80 Chunks </td></tr>\n",
       "    <tr><th> Type </th><td> float32 </td><td> numpy.ndarray </td></tr>\n",
       "  </tbody>\n",
       "</table>\n",
       "</td>\n",
       "<td>\n",
       "<svg width=\"208\" height=\"120\" style=\"stroke:rgb(0,0,0);stroke-width:1\" >\n",
       "\n",
       "  <!-- Horizontal lines -->\n",
       "  <line x1=\"10\" y1=\"0\" x2=\"38\" y2=\"28\" style=\"stroke-width:2\" />\n",
       "  <line x1=\"10\" y1=\"21\" x2=\"38\" y2=\"49\" />\n",
       "  <line x1=\"10\" y1=\"42\" x2=\"38\" y2=\"70\" style=\"stroke-width:2\" />\n",
       "\n",
       "  <!-- Vertical lines -->\n",
       "  <line x1=\"10\" y1=\"0\" x2=\"10\" y2=\"42\" style=\"stroke-width:2\" />\n",
       "  <line x1=\"17\" y1=\"7\" x2=\"17\" y2=\"49\" />\n",
       "  <line x1=\"24\" y1=\"14\" x2=\"24\" y2=\"56\" />\n",
       "  <line x1=\"31\" y1=\"21\" x2=\"31\" y2=\"63\" />\n",
       "  <line x1=\"38\" y1=\"28\" x2=\"38\" y2=\"70\" style=\"stroke-width:2\" />\n",
       "\n",
       "  <!-- Colored Rectangle -->\n",
       "  <polygon points=\"10.000000,0.000000 38.235294,28.235294 38.235294,70.245184 10.000000,42.009890\" style=\"fill:#ECB172A0;stroke-width:0\"/>\n",
       "\n",
       "  <!-- Horizontal lines -->\n",
       "  <line x1=\"10\" y1=\"0\" x2=\"130\" y2=\"0\" style=\"stroke-width:2\" />\n",
       "  <line x1=\"17\" y1=\"7\" x2=\"137\" y2=\"7\" />\n",
       "  <line x1=\"24\" y1=\"14\" x2=\"144\" y2=\"14\" />\n",
       "  <line x1=\"31\" y1=\"21\" x2=\"151\" y2=\"21\" />\n",
       "  <line x1=\"38\" y1=\"28\" x2=\"158\" y2=\"28\" style=\"stroke-width:2\" />\n",
       "\n",
       "  <!-- Vertical lines -->\n",
       "  <line x1=\"10\" y1=\"0\" x2=\"38\" y2=\"28\" style=\"stroke-width:2\" />\n",
       "  <line x1=\"22\" y1=\"0\" x2=\"50\" y2=\"28\" />\n",
       "  <line x1=\"34\" y1=\"0\" x2=\"62\" y2=\"28\" />\n",
       "  <line x1=\"46\" y1=\"0\" x2=\"74\" y2=\"28\" />\n",
       "  <line x1=\"58\" y1=\"0\" x2=\"86\" y2=\"28\" />\n",
       "  <line x1=\"70\" y1=\"0\" x2=\"98\" y2=\"28\" />\n",
       "  <line x1=\"82\" y1=\"0\" x2=\"110\" y2=\"28\" />\n",
       "  <line x1=\"94\" y1=\"0\" x2=\"122\" y2=\"28\" />\n",
       "  <line x1=\"106\" y1=\"0\" x2=\"134\" y2=\"28\" />\n",
       "  <line x1=\"118\" y1=\"0\" x2=\"146\" y2=\"28\" />\n",
       "  <line x1=\"130\" y1=\"0\" x2=\"158\" y2=\"28\" style=\"stroke-width:2\" />\n",
       "\n",
       "  <!-- Colored Rectangle -->\n",
       "  <polygon points=\"10.000000,0.000000 130.000000,0.000000 158.235294,28.235294 38.235294,28.235294\" style=\"fill:#ECB172A0;stroke-width:0\"/>\n",
       "\n",
       "  <!-- Horizontal lines -->\n",
       "  <line x1=\"38\" y1=\"28\" x2=\"158\" y2=\"28\" style=\"stroke-width:2\" />\n",
       "  <line x1=\"38\" y1=\"49\" x2=\"158\" y2=\"49\" />\n",
       "  <line x1=\"38\" y1=\"70\" x2=\"158\" y2=\"70\" style=\"stroke-width:2\" />\n",
       "\n",
       "  <!-- Vertical lines -->\n",
       "  <line x1=\"38\" y1=\"28\" x2=\"38\" y2=\"70\" style=\"stroke-width:2\" />\n",
       "  <line x1=\"50\" y1=\"28\" x2=\"50\" y2=\"70\" />\n",
       "  <line x1=\"62\" y1=\"28\" x2=\"62\" y2=\"70\" />\n",
       "  <line x1=\"74\" y1=\"28\" x2=\"74\" y2=\"70\" />\n",
       "  <line x1=\"86\" y1=\"28\" x2=\"86\" y2=\"70\" />\n",
       "  <line x1=\"98\" y1=\"28\" x2=\"98\" y2=\"70\" />\n",
       "  <line x1=\"110\" y1=\"28\" x2=\"110\" y2=\"70\" />\n",
       "  <line x1=\"122\" y1=\"28\" x2=\"122\" y2=\"70\" />\n",
       "  <line x1=\"134\" y1=\"28\" x2=\"134\" y2=\"70\" />\n",
       "  <line x1=\"146\" y1=\"28\" x2=\"146\" y2=\"70\" />\n",
       "  <line x1=\"158\" y1=\"28\" x2=\"158\" y2=\"70\" style=\"stroke-width:2\" />\n",
       "\n",
       "  <!-- Colored Rectangle -->\n",
       "  <polygon points=\"38.235294,28.235294 158.235294,28.235294 158.235294,70.245184 38.235294,70.245184\" style=\"fill:#ECB172A0;stroke-width:0\"/>\n",
       "\n",
       "  <!-- Text -->\n",
       "  <text x=\"98.235294\" y=\"90.245184\" font-size=\"1.0rem\" font-weight=\"100\" text-anchor=\"middle\" >10</text>\n",
       "  <text x=\"178.235294\" y=\"49.240239\" font-size=\"1.0rem\" font-weight=\"100\" text-anchor=\"middle\" transform=\"rotate(0,178.235294,49.240239)\">2</text>\n",
       "  <text x=\"14.117647\" y=\"76.127537\" font-size=\"1.0rem\" font-weight=\"100\" text-anchor=\"middle\" transform=\"rotate(45,14.117647,76.127537)\">4</text>\n",
       "</svg>\n",
       "</td>\n",
       "</tr>\n",
       "</table>"
      ],
      "text/plain": [
       "dask.array<concatenate, shape=(4, 2, 10), dtype=float32, chunksize=(1, 1, 1), chunktype=numpy.ndarray>"
      ]
     },
     "execution_count": 8,
     "metadata": {},
     "output_type": "execute_result"
    }
   ],
   "source": [
    "ds[v].data"
   ]
  },
  {
   "cell_type": "code",
   "execution_count": 9,
   "metadata": {},
   "outputs": [
    {
     "name": "stdout",
     "output_type": "stream",
     "text": [
      "CPU times: user 216 ms, sys: 44 ms, total: 260 ms\n",
      "Wall time: 220 ms\n"
     ]
    }
   ],
   "source": [
    "# loading the data into memory\n",
    "# if not rechunk\n",
    "%time ds = ds.load()"
   ]
  },
  {
   "cell_type": "code",
   "execution_count": 10,
   "metadata": {},
   "outputs": [
    {
     "data": {
      "text/html": [
       "<pre>&lt;xarray.Dataset&gt;\n",
       "Dimensions:                    (lead: 10)\n",
       "Coordinates:\n",
       "    depth                      float64 0.0\n",
       "    lon                        float64 0.0\n",
       "    lat                        float64 0.0\n",
       "  * lead                       (lead) int64 1 2 3 4 5 6 7 8 9 10\n",
       "Data variables:\n",
       "    global_primary_production  (lead) float64 -0.1276 0.593 ... 0.09196 0.5038\n",
       "Attributes:\n",
       "    prediction_skill:              calculated by climpred https://climpred.re...\n",
       "    skill_calculated_by_function:  compute_perfect_model\n",
       "    number_of_initializations:     4\n",
       "    number_of_members:             2\n",
       "    metric:                        pearson_r\n",
       "    comparison:                    m2e\n",
       "    dim:                           [&#x27;init&#x27;, &#x27;member&#x27;]\n",
       "    units:                         None\n",
       "    created:                       2020-02-07 18:27:28</pre>"
      ],
      "text/plain": [
       "<xarray.Dataset>\n",
       "Dimensions:                    (lead: 10)\n",
       "Coordinates:\n",
       "    depth                      float64 0.0\n",
       "    lon                        float64 0.0\n",
       "    lat                        float64 0.0\n",
       "  * lead                       (lead) int64 1 2 3 4 5 6 7 8 9 10\n",
       "Data variables:\n",
       "    global_primary_production  (lead) float64 -0.1276 0.593 ... 0.09196 0.5038\n",
       "Attributes:\n",
       "    prediction_skill:              calculated by climpred https://climpred.re...\n",
       "    skill_calculated_by_function:  compute_perfect_model\n",
       "    number_of_initializations:     4\n",
       "    number_of_members:             2\n",
       "    metric:                        pearson_r\n",
       "    comparison:                    m2e\n",
       "    dim:                           ['init', 'member']\n",
       "    units:                         None\n",
       "    created:                       2020-02-07 18:27:28"
      ]
     },
     "execution_count": 10,
     "metadata": {},
     "output_type": "execute_result"
    }
   ],
   "source": [
    "# you may actually want to use `compute_hindcast` to calculate skill from hindcast.\n",
    "# for this you also need an `observation` to compare to\n",
    "# here `compute_perfect_model` compares one member to the ensemble mean of the remain members in turn\n",
    "climpred.prediction.compute_perfect_model(ds, ds.rename({'lead':'time'}))"
   ]
  },
  {
   "cell_type": "markdown",
   "metadata": {},
   "source": [
    "# `intake-esm` for cmorized output"
   ]
  },
  {
   "cell_type": "markdown",
   "metadata": {},
   "source": [
    "In case you have access to cmorized output of CMIP experiments, consider using `intake-esm`. With the `preprocess` function you can align the `time` dimension of all input files. Finally, `rename_to_climpred_dims` only renames."
   ]
  },
  {
   "cell_type": "code",
   "execution_count": 11,
   "metadata": {},
   "outputs": [],
   "source": [
    "from climpred.preprocessing.shared import rename_to_climpred_dims, set_integer_time_axis"
   ]
  },
  {
   "cell_type": "code",
   "execution_count": 12,
   "metadata": {},
   "outputs": [],
   "source": [
    "# make to have intake-esm installed\n",
    "import intake # this is enough for intake-esm to work"
   ]
  },
  {
   "cell_type": "code",
   "execution_count": 13,
   "metadata": {},
   "outputs": [],
   "source": [
    "# https://github.com/NCAR/intake-esm-datastore/\n",
    "col_url = \"/home/mpim/m300524/intake-esm-datastore/catalogs/mistral-cmip6.json\"\n",
    "col = intake.open_esm_datastore(col_url)"
   ]
  },
  {
   "cell_type": "code",
   "execution_count": 14,
   "metadata": {},
   "outputs": [
    {
     "data": {
      "text/plain": [
       "Index(['activity_id', 'institution_id', 'source_id', 'experiment_id',\n",
       "       'member_id', 'table_id', 'variable_id', 'grid_label', 'dcpp_init_year',\n",
       "       'version', 'time_range', 'path'],\n",
       "      dtype='object')"
      ]
     },
     "execution_count": 14,
     "metadata": {},
     "output_type": "execute_result"
    }
   ],
   "source": [
    "col.df.columns"
   ]
  },
  {
   "cell_type": "code",
   "execution_count": 15,
   "metadata": {},
   "outputs": [],
   "source": [
    "# load 2 members for 2 inits for one variable from one model\n",
    "query = dict(experiment_id=[\n",
    "    'dcppA-hindcast'], table_id='Amon', member_id=['r1i1p1f1', 'r2i1p1f1'], dcpp_init_year=[1970, 1971],\n",
    "    variable_id='tas', source_id='MPI-ESM1-2-HR')\n",
    "cat = col.search(**query)\n",
    "cdf_kwargs = {'chunks': {'time': 12}, 'decode_times': False}"
   ]
  },
  {
   "cell_type": "code",
   "execution_count": 16,
   "metadata": {},
   "outputs": [
    {
     "data": {
      "text/html": [
       "<div>\n",
       "<style scoped>\n",
       "    .dataframe tbody tr th:only-of-type {\n",
       "        vertical-align: middle;\n",
       "    }\n",
       "\n",
       "    .dataframe tbody tr th {\n",
       "        vertical-align: top;\n",
       "    }\n",
       "\n",
       "    .dataframe thead th {\n",
       "        text-align: right;\n",
       "    }\n",
       "</style>\n",
       "<table border=\"1\" class=\"dataframe\">\n",
       "  <thead>\n",
       "    <tr style=\"text-align: right;\">\n",
       "      <th></th>\n",
       "      <th>activity_id</th>\n",
       "      <th>institution_id</th>\n",
       "      <th>source_id</th>\n",
       "      <th>experiment_id</th>\n",
       "      <th>member_id</th>\n",
       "      <th>table_id</th>\n",
       "      <th>variable_id</th>\n",
       "      <th>grid_label</th>\n",
       "      <th>dcpp_init_year</th>\n",
       "      <th>version</th>\n",
       "      <th>time_range</th>\n",
       "      <th>path</th>\n",
       "    </tr>\n",
       "  </thead>\n",
       "  <tbody>\n",
       "    <tr>\n",
       "      <th>0</th>\n",
       "      <td>DCPP</td>\n",
       "      <td>MPI-M</td>\n",
       "      <td>MPI-ESM1-2-HR</td>\n",
       "      <td>dcppA-hindcast</td>\n",
       "      <td>r1i1p1f1</td>\n",
       "      <td>Amon</td>\n",
       "      <td>tas</td>\n",
       "      <td>gn</td>\n",
       "      <td>1971.0</td>\n",
       "      <td>v20190906</td>\n",
       "      <td>197111-198112</td>\n",
       "      <td>/work/ik1017/CMIP6/data/CMIP6/DCPP/MPI-M/MPI-E...</td>\n",
       "    </tr>\n",
       "    <tr>\n",
       "      <th>1</th>\n",
       "      <td>DCPP</td>\n",
       "      <td>MPI-M</td>\n",
       "      <td>MPI-ESM1-2-HR</td>\n",
       "      <td>dcppA-hindcast</td>\n",
       "      <td>r1i1p1f1</td>\n",
       "      <td>Amon</td>\n",
       "      <td>tas</td>\n",
       "      <td>gn</td>\n",
       "      <td>1970.0</td>\n",
       "      <td>v20190906</td>\n",
       "      <td>197011-198012</td>\n",
       "      <td>/work/ik1017/CMIP6/data/CMIP6/DCPP/MPI-M/MPI-E...</td>\n",
       "    </tr>\n",
       "    <tr>\n",
       "      <th>2</th>\n",
       "      <td>DCPP</td>\n",
       "      <td>MPI-M</td>\n",
       "      <td>MPI-ESM1-2-HR</td>\n",
       "      <td>dcppA-hindcast</td>\n",
       "      <td>r2i1p1f1</td>\n",
       "      <td>Amon</td>\n",
       "      <td>tas</td>\n",
       "      <td>gn</td>\n",
       "      <td>1971.0</td>\n",
       "      <td>v20190906</td>\n",
       "      <td>197111-198112</td>\n",
       "      <td>/work/ik1017/CMIP6/data/CMIP6/DCPP/MPI-M/MPI-E...</td>\n",
       "    </tr>\n",
       "    <tr>\n",
       "      <th>3</th>\n",
       "      <td>DCPP</td>\n",
       "      <td>MPI-M</td>\n",
       "      <td>MPI-ESM1-2-HR</td>\n",
       "      <td>dcppA-hindcast</td>\n",
       "      <td>r2i1p1f1</td>\n",
       "      <td>Amon</td>\n",
       "      <td>tas</td>\n",
       "      <td>gn</td>\n",
       "      <td>1970.0</td>\n",
       "      <td>v20190906</td>\n",
       "      <td>197011-198012</td>\n",
       "      <td>/work/ik1017/CMIP6/data/CMIP6/DCPP/MPI-M/MPI-E...</td>\n",
       "    </tr>\n",
       "  </tbody>\n",
       "</table>\n",
       "</div>"
      ],
      "text/plain": [
       "  activity_id institution_id      source_id   experiment_id member_id  \\\n",
       "0        DCPP          MPI-M  MPI-ESM1-2-HR  dcppA-hindcast  r1i1p1f1   \n",
       "1        DCPP          MPI-M  MPI-ESM1-2-HR  dcppA-hindcast  r1i1p1f1   \n",
       "2        DCPP          MPI-M  MPI-ESM1-2-HR  dcppA-hindcast  r2i1p1f1   \n",
       "3        DCPP          MPI-M  MPI-ESM1-2-HR  dcppA-hindcast  r2i1p1f1   \n",
       "\n",
       "  table_id variable_id grid_label  dcpp_init_year    version     time_range  \\\n",
       "0     Amon         tas         gn          1971.0  v20190906  197111-198112   \n",
       "1     Amon         tas         gn          1970.0  v20190906  197011-198012   \n",
       "2     Amon         tas         gn          1971.0  v20190906  197111-198112   \n",
       "3     Amon         tas         gn          1970.0  v20190906  197011-198012   \n",
       "\n",
       "                                                path  \n",
       "0  /work/ik1017/CMIP6/data/CMIP6/DCPP/MPI-M/MPI-E...  \n",
       "1  /work/ik1017/CMIP6/data/CMIP6/DCPP/MPI-M/MPI-E...  \n",
       "2  /work/ik1017/CMIP6/data/CMIP6/DCPP/MPI-M/MPI-E...  \n",
       "3  /work/ik1017/CMIP6/data/CMIP6/DCPP/MPI-M/MPI-E...  "
      ]
     },
     "execution_count": 16,
     "metadata": {},
     "output_type": "execute_result"
    }
   ],
   "source": [
    "cat.df.head()"
   ]
  },
  {
   "cell_type": "code",
   "execution_count": 17,
   "metadata": {},
   "outputs": [],
   "source": [
    "def preprocess(ds):\n",
    "    # extract tiny spatial and temporal subset to make this fast\n",
    "    ds = ds.isel(lon=[50, 51, 52], lat=[50, 51, 52],\n",
    "                 time=np.arange(12 * 2))\n",
    "    # make time dim identical\n",
    "    ds = set_integer_time_axis(ds,time_dim='time')\n",
    "    return ds"
   ]
  },
  {
   "cell_type": "code",
   "execution_count": 18,
   "metadata": {},
   "outputs": [
    {
     "name": "stdout",
     "output_type": "stream",
     "text": [
      "Progress: |███████████████████████████████████████████████████████████████████████████████| 100.0% \n",
      "\n",
      "--> The keys in the returned dictionary of datasets are constructed as follows:\n",
      "\t'activity_id.institution_id.source_id.experiment_id.table_id.grid_label'\n",
      "             \n",
      "--> There are 1 group(s)\n"
     ]
    }
   ],
   "source": [
    "dset_dict = cat.to_dataset_dict(\n",
    "    cdf_kwargs=cdf_kwargs, preprocess=preprocess)"
   ]
  },
  {
   "cell_type": "code",
   "execution_count": 19,
   "metadata": {},
   "outputs": [
    {
     "data": {
      "text/plain": [
       "Coordinates:\n",
       "    height          float64 ...\n",
       "  * dcpp_init_year  (dcpp_init_year) float64 1.97e+03 1.971e+03\n",
       "  * lat             (lat) float64 -42.55 -41.61 -40.68\n",
       "  * time            (time) int64 1 2 3 4 5 6 7 8 9 ... 17 18 19 20 21 22 23 24\n",
       "  * lon             (lon) float64 46.88 47.81 48.75\n",
       "  * member_id       (member_id) <U8 'r1i1p1f1' 'r2i1p1f1'"
      ]
     },
     "execution_count": 19,
     "metadata": {},
     "output_type": "execute_result"
    }
   ],
   "source": [
    "# get first dict value\n",
    "_, ds = dset_dict.popitem()\n",
    "ds.coords"
   ]
  },
  {
   "cell_type": "code",
   "execution_count": 20,
   "metadata": {},
   "outputs": [],
   "source": [
    "# rename to comply with climpred's required dimension names\n",
    "ds = rename_to_climpred_dims(ds)"
   ]
  },
  {
   "cell_type": "code",
   "execution_count": 21,
   "metadata": {},
   "outputs": [
    {
     "data": {
      "text/plain": [
       "Coordinates:\n",
       "    height   float64 ...\n",
       "  * init     (init) float64 1.97e+03 1.971e+03\n",
       "  * lat      (lat) float64 -42.55 -41.61 -40.68\n",
       "  * lead     (lead) int64 1 2 3 4 5 6 7 8 9 10 ... 15 16 17 18 19 20 21 22 23 24\n",
       "  * lon      (lon) float64 46.88 47.81 48.75\n",
       "  * member   (member) <U8 'r1i1p1f1' 'r2i1p1f1'"
      ]
     },
     "execution_count": 21,
     "metadata": {},
     "output_type": "execute_result"
    }
   ],
   "source": [
    "# what we need for climpred\n",
    "ds.coords"
   ]
  },
  {
   "cell_type": "code",
   "execution_count": 22,
   "metadata": {},
   "outputs": [
    {
     "data": {
      "text/html": [
       "<table>\n",
       "<tr>\n",
       "<td>\n",
       "<table>\n",
       "  <thead>\n",
       "    <tr><td> </td><th> Array </th><th> Chunk </th></tr>\n",
       "  </thead>\n",
       "  <tbody>\n",
       "    <tr><th> Bytes </th><td> 3.46 kB </td> <td> 432 B </td></tr>\n",
       "    <tr><th> Shape </th><td> (2, 2, 24, 3, 3) </td> <td> (1, 1, 12, 3, 3) </td></tr>\n",
       "    <tr><th> Count </th><td> 176 Tasks </td><td> 8 Chunks </td></tr>\n",
       "    <tr><th> Type </th><td> float32 </td><td> numpy.ndarray </td></tr>\n",
       "  </tbody>\n",
       "</table>\n",
       "</td>\n",
       "<td>\n",
       "<svg width=\"374\" height=\"160\" style=\"stroke:rgb(0,0,0);stroke-width:1\" >\n",
       "\n",
       "  <!-- Horizontal lines -->\n",
       "  <line x1=\"0\" y1=\"0\" x2=\"37\" y2=\"0\" style=\"stroke-width:2\" />\n",
       "  <line x1=\"0\" y1=\"18\" x2=\"37\" y2=\"18\" />\n",
       "  <line x1=\"0\" y1=\"37\" x2=\"37\" y2=\"37\" style=\"stroke-width:2\" />\n",
       "\n",
       "  <!-- Vertical lines -->\n",
       "  <line x1=\"0\" y1=\"0\" x2=\"0\" y2=\"37\" style=\"stroke-width:2\" />\n",
       "  <line x1=\"18\" y1=\"0\" x2=\"18\" y2=\"37\" />\n",
       "  <line x1=\"37\" y1=\"0\" x2=\"37\" y2=\"37\" style=\"stroke-width:2\" />\n",
       "\n",
       "  <!-- Colored Rectangle -->\n",
       "  <polygon points=\"0.000000,0.000000 37.563587,0.000000 37.563587,37.563587 0.000000,37.563587\" style=\"fill:#ECB172A0;stroke-width:0\"/>\n",
       "\n",
       "  <!-- Text -->\n",
       "  <text x=\"18.781793\" y=\"57.563587\" font-size=\"1.0rem\" font-weight=\"100\" text-anchor=\"middle\" >2</text>\n",
       "  <text x=\"57.563587\" y=\"18.781793\" font-size=\"1.0rem\" font-weight=\"100\" text-anchor=\"middle\" transform=\"rotate(0,57.563587,18.781793)\">2</text>\n",
       "\n",
       "\n",
       "  <!-- Horizontal lines -->\n",
       "  <line x1=\"107\" y1=\"0\" x2=\"177\" y2=\"70\" style=\"stroke-width:2\" />\n",
       "  <line x1=\"107\" y1=\"39\" x2=\"177\" y2=\"110\" style=\"stroke-width:2\" />\n",
       "\n",
       "  <!-- Vertical lines -->\n",
       "  <line x1=\"107\" y1=\"0\" x2=\"107\" y2=\"39\" style=\"stroke-width:2\" />\n",
       "  <line x1=\"142\" y1=\"35\" x2=\"142\" y2=\"75\" />\n",
       "  <line x1=\"177\" y1=\"70\" x2=\"177\" y2=\"110\" style=\"stroke-width:2\" />\n",
       "\n",
       "  <!-- Colored Rectangle -->\n",
       "  <polygon points=\"107.000000,0.000000 177.588235,70.588235 177.588235,110.382170 107.000000,39.793935\" style=\"fill:#ECB172A0;stroke-width:0\"/>\n",
       "\n",
       "  <!-- Horizontal lines -->\n",
       "  <line x1=\"107\" y1=\"0\" x2=\"146\" y2=\"0\" style=\"stroke-width:2\" />\n",
       "  <line x1=\"142\" y1=\"35\" x2=\"182\" y2=\"35\" />\n",
       "  <line x1=\"177\" y1=\"70\" x2=\"217\" y2=\"70\" style=\"stroke-width:2\" />\n",
       "\n",
       "  <!-- Vertical lines -->\n",
       "  <line x1=\"107\" y1=\"0\" x2=\"177\" y2=\"70\" style=\"stroke-width:2\" />\n",
       "  <line x1=\"146\" y1=\"0\" x2=\"217\" y2=\"70\" style=\"stroke-width:2\" />\n",
       "\n",
       "  <!-- Colored Rectangle -->\n",
       "  <polygon points=\"107.000000,0.000000 146.793935,0.000000 217.382170,70.588235 177.588235,70.588235\" style=\"fill:#ECB172A0;stroke-width:0\"/>\n",
       "\n",
       "  <!-- Horizontal lines -->\n",
       "  <line x1=\"177\" y1=\"70\" x2=\"217\" y2=\"70\" style=\"stroke-width:2\" />\n",
       "  <line x1=\"177\" y1=\"110\" x2=\"217\" y2=\"110\" style=\"stroke-width:2\" />\n",
       "\n",
       "  <!-- Vertical lines -->\n",
       "  <line x1=\"177\" y1=\"70\" x2=\"177\" y2=\"110\" style=\"stroke-width:2\" />\n",
       "  <line x1=\"217\" y1=\"70\" x2=\"217\" y2=\"110\" style=\"stroke-width:2\" />\n",
       "\n",
       "  <!-- Colored Rectangle -->\n",
       "  <polygon points=\"177.588235,70.588235 217.382170,70.588235 217.382170,110.382170 177.588235,110.382170\" style=\"fill:#ECB172A0;stroke-width:0\"/>\n",
       "\n",
       "  <!-- Text -->\n",
       "  <text x=\"197.485203\" y=\"130.382170\" font-size=\"1.0rem\" font-weight=\"100\" text-anchor=\"middle\" >3</text>\n",
       "  <text x=\"237.382170\" y=\"90.485203\" font-size=\"1.0rem\" font-weight=\"100\" text-anchor=\"middle\" transform=\"rotate(0,237.382170,90.485203)\">3</text>\n",
       "  <text x=\"132.294118\" y=\"95.088053\" font-size=\"1.0rem\" font-weight=\"100\" text-anchor=\"middle\" transform=\"rotate(45,132.294118,95.088053)\">24</text>\n",
       "</svg>\n",
       "</td>\n",
       "</tr>\n",
       "</table>"
      ],
      "text/plain": [
       "dask.array<concatenate, shape=(2, 2, 24, 3, 3), dtype=float32, chunksize=(1, 1, 12, 3, 3), chunktype=numpy.ndarray>"
      ]
     },
     "execution_count": 22,
     "metadata": {},
     "output_type": "execute_result"
    }
   ],
   "source": [
    "ds['tas'].data"
   ]
  },
  {
   "cell_type": "code",
   "execution_count": 23,
   "metadata": {},
   "outputs": [
    {
     "name": "stdout",
     "output_type": "stream",
     "text": [
      "CPU times: user 218 ms, sys: 74 ms, total: 292 ms\n",
      "Wall time: 237 ms\n"
     ]
    }
   ],
   "source": [
    "# loading the data into memory\n",
    "# if not rechunk\n",
    "# this is here quite fast before we only select 9 grid cells\n",
    "%time ds = ds.load()"
   ]
  },
  {
   "cell_type": "code",
   "execution_count": 24,
   "metadata": {},
   "outputs": [
    {
     "name": "stderr",
     "output_type": "stream",
     "text": [
      "/work/mh0727/m300524/miniconda3/envs/climpred-dev/lib/python3.6/site-packages/xskillscore/core/np_deterministic.py:182: RuntimeWarning: invalid value encountered in true_divide\n",
      "  r = r_num / r_den\n"
     ]
    },
    {
     "data": {
      "text/html": [
       "<pre>&lt;xarray.Dataset&gt;\n",
       "Dimensions:    (bnds: 2, lat: 3, lead: 24, lon: 3)\n",
       "Coordinates:\n",
       "    height     float64 2.0\n",
       "  * lat        (lat) float64 -42.55 -41.61 -40.68\n",
       "  * lead       (lead) int64 1 2 3 4 5 6 7 8 9 10 ... 16 17 18 19 20 21 22 23 24\n",
       "  * lon        (lon) float64 46.88 47.81 48.75\n",
       "Dimensions without coordinates: bnds\n",
       "Data variables:\n",
       "    lat_bnds   (lead, lat, bnds) float64 nan nan nan nan nan ... nan nan nan nan\n",
       "    time_bnds  (lead, bnds) float64 nan nan nan nan nan ... nan nan nan nan nan\n",
       "    lon_bnds   (lead, lon, bnds) float64 nan nan nan nan nan ... nan nan nan nan\n",
       "    tas        (lead, lat, lon) float32 0.933643 0.88438606 ... -0.8581106\n",
       "Attributes:\n",
       "    nominal_resolution:            100 km\n",
       "    institution:                   Max Planck Institute for Meteorology, Hamb...\n",
       "    experiment_id:                 dcppA-hindcast\n",
       "    variable_id:                   tas\n",
       "    experiment:                    hindcast initialized based on observations...\n",
       "    tracking_id:                   hdl:21.14100/f41d2fe5-bb1c-49d0-8afa-0cb9e...\n",
       "    table_info:                    Creation Date:(09 May 2019) MD5:e6ef8ececc...\n",
       "    references:                    MPI-ESM: Mauritsen, T. et al. (2019), Deve...\n",
       "    frequency:                     mon\n",
       "    source_id:                     MPI-ESM1-2-HR\n",
       "    physics_index:                 1\n",
       "    initialization_index:          1\n",
       "    product:                       model-output\n",
       "    source_type:                   AOGCM\n",
       "    title:                         MPI-ESM1-2-HR output prepared for CMIP6\n",
       "    institution_id:                MPI-M\n",
       "    project_id:                    CMIP6\n",
       "    Conventions:                   CF-1.7 CMIP-6.2\n",
       "    intake_esm_varname:            tas\n",
       "    activity_id:                   DCPP\n",
       "    branch_method:                 standard lagged initialization\n",
       "    table_id:                      Amon\n",
       "    data_specs_version:            01.00.30\n",
       "    grid_label:                    gn\n",
       "    forcing_index:                 1\n",
       "    external_variables:            areacella\n",
       "    cmor_version:                  3.5.0\n",
       "    realm:                         atmos\n",
       "    history:                       2019-09-06T14:20:04Z ; CMOR rewrote data t...\n",
       "    grid:                          spectral T127; 384 x 192 longitude/latitude\n",
       "    license:                       CMIP6 model data produced by MPI-M is lice...\n",
       "    source:                        MPI-ESM1.2-HR (2017): \\naerosol: none, pre...\n",
       "    mip_era:                       CMIP6\n",
       "    contact:                       cmip6-mpi-esm@dkrz.de\n",
       "    prediction_skill:              calculated by climpred https://climpred.re...\n",
       "    skill_calculated_by_function:  compute_perfect_model\n",
       "    number_of_initializations:     2\n",
       "    number_of_members:             2\n",
       "    metric:                        pearson_r\n",
       "    comparison:                    m2e\n",
       "    dim:                           [&#x27;init&#x27;, &#x27;member&#x27;]\n",
       "    units:                         None\n",
       "    created:                       2020-02-07 18:27:51</pre>"
      ],
      "text/plain": [
       "<xarray.Dataset>\n",
       "Dimensions:    (bnds: 2, lat: 3, lead: 24, lon: 3)\n",
       "Coordinates:\n",
       "    height     float64 2.0\n",
       "  * lat        (lat) float64 -42.55 -41.61 -40.68\n",
       "  * lead       (lead) int64 1 2 3 4 5 6 7 8 9 10 ... 16 17 18 19 20 21 22 23 24\n",
       "  * lon        (lon) float64 46.88 47.81 48.75\n",
       "Dimensions without coordinates: bnds\n",
       "Data variables:\n",
       "    lat_bnds   (lead, lat, bnds) float64 nan nan nan nan nan ... nan nan nan nan\n",
       "    time_bnds  (lead, bnds) float64 nan nan nan nan nan ... nan nan nan nan nan\n",
       "    lon_bnds   (lead, lon, bnds) float64 nan nan nan nan nan ... nan nan nan nan\n",
       "    tas        (lead, lat, lon) float32 0.933643 0.88438606 ... -0.8581106\n",
       "Attributes:\n",
       "    nominal_resolution:            100 km\n",
       "    institution:                   Max Planck Institute for Meteorology, Hamb...\n",
       "    experiment_id:                 dcppA-hindcast\n",
       "    variable_id:                   tas\n",
       "    experiment:                    hindcast initialized based on observations...\n",
       "    tracking_id:                   hdl:21.14100/f41d2fe5-bb1c-49d0-8afa-0cb9e...\n",
       "    table_info:                    Creation Date:(09 May 2019) MD5:e6ef8ececc...\n",
       "    references:                    MPI-ESM: Mauritsen, T. et al. (2019), Deve...\n",
       "    frequency:                     mon\n",
       "    source_id:                     MPI-ESM1-2-HR\n",
       "    physics_index:                 1\n",
       "    initialization_index:          1\n",
       "    product:                       model-output\n",
       "    source_type:                   AOGCM\n",
       "    title:                         MPI-ESM1-2-HR output prepared for CMIP6\n",
       "    institution_id:                MPI-M\n",
       "    project_id:                    CMIP6\n",
       "    Conventions:                   CF-1.7 CMIP-6.2\n",
       "    intake_esm_varname:            tas\n",
       "    activity_id:                   DCPP\n",
       "    branch_method:                 standard lagged initialization\n",
       "    table_id:                      Amon\n",
       "    data_specs_version:            01.00.30\n",
       "    grid_label:                    gn\n",
       "    forcing_index:                 1\n",
       "    external_variables:            areacella\n",
       "    cmor_version:                  3.5.0\n",
       "    realm:                         atmos\n",
       "    history:                       2019-09-06T14:20:04Z ; CMOR rewrote data t...\n",
       "    grid:                          spectral T127; 384 x 192 longitude/latitude\n",
       "    license:                       CMIP6 model data produced by MPI-M is lice...\n",
       "    source:                        MPI-ESM1.2-HR (2017): \\naerosol: none, pre...\n",
       "    mip_era:                       CMIP6\n",
       "    contact:                       cmip6-mpi-esm@dkrz.de\n",
       "    prediction_skill:              calculated by climpred https://climpred.re...\n",
       "    skill_calculated_by_function:  compute_perfect_model\n",
       "    number_of_initializations:     2\n",
       "    number_of_members:             2\n",
       "    metric:                        pearson_r\n",
       "    comparison:                    m2e\n",
       "    dim:                           ['init', 'member']\n",
       "    units:                         None\n",
       "    created:                       2020-02-07 18:27:51"
      ]
     },
     "execution_count": 24,
     "metadata": {},
     "output_type": "execute_result"
    }
   ],
   "source": [
    "# you may actually want to use `compute_hindcast` to calculate skill from hindcast.\n",
    "# for this you also need an `observation` to compare to\n",
    "# here `compute_perfect_model` compares one member to the ensemble mean of the remain members in turn\n",
    "climpred.prediction.compute_perfect_model(ds, ds.rename({'lead':'time'}))"
   ]
  }
 ],
 "metadata": {
  "kernelspec": {
   "display_name": "Python [conda env:climpred-dev] *",
   "language": "python",
   "name": "conda-env-climpred-dev-py"
  },
  "language_info": {
   "codemirror_mode": {
    "name": "ipython",
    "version": 3
   },
   "file_extension": ".py",
   "mimetype": "text/x-python",
   "name": "python",
   "nbconvert_exporter": "python",
   "pygments_lexer": "ipython3",
   "version": "3.6.7"
  },
  "latex_envs": {
   "LaTeX_envs_menu_present": false,
   "autoclose": true,
   "autocomplete": true,
   "bibliofile": "large.bib",
   "cite_by": "apalike",
   "current_citInitial": 1,
   "eqLabelWithNumbers": false,
   "eqNumInitial": 1,
   "hotkeys": {
    "equation": "Ctrl-E",
    "itemize": "Ctrl-I"
   },
   "labels_anchors": false,
   "latex_user_defs": false,
   "report_style_numbering": false,
   "user_envs_cfg": false
  },
  "toc": {
   "base_numbering": 1,
   "nav_menu": {},
   "number_sections": true,
   "sideBar": true,
   "skip_h1_title": false,
   "title_cell": "Table of Contents",
   "title_sidebar": "Contents",
   "toc_cell": false,
   "toc_position": {},
   "toc_section_display": true,
   "toc_window_display": false
  },
  "varInspector": {
   "cols": {
    "lenName": 16,
    "lenType": 16,
    "lenVar": 40
   },
   "kernels_config": {
    "python": {
     "delete_cmd_postfix": "",
     "delete_cmd_prefix": "del ",
     "library": "var_list.py",
     "varRefreshCmd": "print(var_dic_list())"
    },
    "r": {
     "delete_cmd_postfix": ") ",
     "delete_cmd_prefix": "rm(",
     "library": "var_list.r",
     "varRefreshCmd": "cat(var_dic_list()) "
    }
   },
   "types_to_exclude": [
    "module",
    "function",
    "builtin_function_or_method",
    "instance",
    "_Feature"
   ],
   "window_display": false
  }
 },
 "nbformat": 4,
 "nbformat_minor": 4
}
