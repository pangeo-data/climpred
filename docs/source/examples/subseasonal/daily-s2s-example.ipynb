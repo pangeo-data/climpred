{
 "cells": [
  {
   "cell_type": "markdown",
   "metadata": {},
   "source": [
    "## Calculate the skill of a MJO Index as a function of lead time from the S2S project"
   ]
  },
  {
   "cell_type": "code",
   "execution_count": 1,
   "metadata": {},
   "outputs": [
    {
     "data": {
      "application/javascript": [
       "\n",
       "            setTimeout(function() {\n",
       "                var nbb_cell_id = 1;\n",
       "                var nbb_unformatted_code = \"# linting\\n%load_ext nb_black\\n%load_ext lab_black\";\n",
       "                var nbb_formatted_code = \"# linting\\n%load_ext nb_black\\n%load_ext lab_black\";\n",
       "                var nbb_cells = Jupyter.notebook.get_cells();\n",
       "                for (var i = 0; i < nbb_cells.length; ++i) {\n",
       "                    if (nbb_cells[i].input_prompt_number == nbb_cell_id) {\n",
       "                        if (nbb_cells[i].get_text() == nbb_unformatted_code) {\n",
       "                             nbb_cells[i].set_text(nbb_formatted_code);\n",
       "                        }\n",
       "                        break;\n",
       "                    }\n",
       "                }\n",
       "            }, 500);\n",
       "            "
      ],
      "text/plain": [
       "<IPython.core.display.Javascript object>"
      ]
     },
     "metadata": {},
     "output_type": "display_data"
    }
   ],
   "source": [
    "# linting\n",
    "%load_ext nb_black\n",
    "%load_ext lab_black"
   ]
  },
  {
   "cell_type": "code",
   "execution_count": 1,
   "metadata": {},
   "outputs": [
    {
     "data": {
      "text/plain": [
       "<xarray.core.options.set_options at 0x7fec5835fe80>"
      ]
     },
     "execution_count": 1,
     "metadata": {},
     "output_type": "execute_result"
    }
   ],
   "source": [
    "import xarray as xr\n",
    "xr.set_options(display_style='html')"
   ]
  },
  {
   "cell_type": "code",
   "execution_count": 144,
   "metadata": {},
   "outputs": [],
   "source": [
    "import matplotlib.pyplot as plt\n",
    "from climpred import HindcastEnsemble\n",
    "import climpred\n",
    "import numpy as np"
   ]
  },
  {
   "cell_type": "markdown",
   "metadata": {},
   "source": [
    "IRIDL hosts various subseasonal initialized forecast and hindcast simulations:\n",
    "- `S2S project`:\n",
    "    - http://iridl.ldeo.columbia.edu/SOURCES/.ECMWF/.S2S/\n",
    "        - hindcast/reforecast: one variable, one model: ~ 80 GB\n",
    "        - login required\n",
    "- `SubX project`:\n",
    "    - http://iridl.ldeo.columbia.edu/SOURCES/.Models/.SubX/\n",
    "        - hindcast/reforecast: one variable, one model: ~ 100 GB\n",
    "        - login not required\n",
    "\n",
    "---"
   ]
  },
  {
   "cell_type": "markdown",
   "metadata": {},
   "source": [
    "Here, we demonstrate how to set a cookie for IRIDL and access the skill of RMM1 subseasonal reforecasts.\n",
    "\n",
    "---"
   ]
  },
  {
   "cell_type": "markdown",
   "metadata": {},
   "source": [
    "Here are instructions for configuring xarray to open protected Data Library datasets, after you have created a Data Library account and accepted the terms and conditions for the dataset.\n",
    "1. Visit https://iridl.ldeo.columbia.edu/auth/genkey . Log in to the Data Library. Copy the key from the response.\n",
    "\n",
    "2. Create a file with the following content, substituting the key from step 1 for `\"xxxx\"`:\n",
    "`Set-Cookie: __dlauth_id=xxxx; domain=.iridl.ldeo.columbia.edu`\n",
    "\n",
    "3. Put the following in `~/.daprc`, which is `/home/jovyan/.daprc` on renku, substituting the path to the above file for `/path/to/cookie/file`:\n",
    "`HTTP.COOKIEJAR=/path/to/cookie/file`. You may need to copy `.daprc` to `/home/jovyan` on renku, because `/home/jovyan` is not tracked by `git`."
   ]
  },
  {
   "cell_type": "code",
   "execution_count": 2,
   "metadata": {},
   "outputs": [
    {
     "name": "stdout",
     "output_type": "stream",
     "text": [
      "HTTP.COOKIEJAR=/Users/aaron.spring/.cookie_iridl\n"
     ]
    }
   ],
   "source": [
    "!cat ~/.daprc"
   ]
  },
  {
   "cell_type": "code",
   "execution_count": 3,
   "metadata": {},
   "outputs": [],
   "source": [
    "#%writefile ~/.cookie_iridl\n",
    "#Set-Cookie: __dlauth_id=xxxx; domain=.iridl.ldeo.columbia.edu"
   ]
  },
  {
   "cell_type": "code",
   "execution_count": 278,
   "metadata": {},
   "outputs": [],
   "source": [
    "# observations\n",
    "obsds = climpred.tutorial.load_dataset('RMM-INTERANN-OBS')['rmm1'].to_dataset()\n",
    "obsds = obsds.dropna('time').sel(time=slice('1995',None)) # Get rid of missing times."
   ]
  },
  {
   "cell_type": "markdown",
   "metadata": {},
   "source": [
    "## \"on-the-fly\" reforecasts\n",
    "S2S models:\n",
    "- ECMF\n",
    "- ECCC\n",
    "- ..."
   ]
  },
  {
   "cell_type": "markdown",
   "metadata": {},
   "source": [
    "There are a set of reforecasts of the ECMWF model that match each real time forecast. They are made \"on the fly\" when a real time forecast is issued. So for S=0000 8 Feb 2021, there are reforecasts initialized on 0000 8 Feb 2020 and the 19 previous years on 8 Feb."
   ]
  },
  {
   "cell_type": "code",
   "execution_count": 7,
   "metadata": {},
   "outputs": [
    {
     "name": "stdout",
     "output_type": "stream",
     "text": [
      "CPU times: user 3.21 s, sys: 6.24 s, total: 9.45 s\n",
      "Wall time: 13min 13s\n"
     ]
    }
   ],
   "source": [
    "%%time\n",
    "ds = xr.open_dataset('https://iridl.ldeo.columbia.edu/SOURCES/.ECMWF/.S2S/.ECMF/.reforecast/.RMMS/.ensembles/.RMM1/dods',\n",
    "                    decode_times=False, chunks=None).compute()"
   ]
  },
  {
   "cell_type": "code",
   "execution_count": null,
   "metadata": {},
   "outputs": [],
   "source": [
    "# calendar '360' not recognized, but '360_day'\n",
    "if ds.hdate.attrs['calendar']=='360':\n",
    "    ds.hdate.attrs['calendar']='360_day'"
   ]
  },
  {
   "cell_type": "code",
   "execution_count": 16,
   "metadata": {},
   "outputs": [],
   "source": [
    "fcstds = ds.rename({'S': 'init','L': 'lead','M': 'member', 'RMM1' : 'rmm1'})"
   ]
  },
  {
   "cell_type": "code",
   "execution_count": 277,
   "metadata": {},
   "outputs": [],
   "source": [
    "fcstds['lead'] = np.arange(1,1+fcstds['lead'].size)\n",
    "fcstds['lead'].attrs={'units': 'days'}"
   ]
  },
  {
   "cell_type": "code",
   "execution_count": null,
   "metadata": {},
   "outputs": [],
   "source": [
    "fcstds = xr.decode_cf(fcstds)\n",
    "fcstds.coords"
   ]
  },
  {
   "cell_type": "code",
   "execution_count": 325,
   "metadata": {},
   "outputs": [
    {
     "data": {
      "text/plain": [
       "Coordinates:\n",
       "  * init     (init) object 2015-05-14 00:00:00 ... 2021-02-15 00:00:00\n",
       "  * member   (member) float32 0.0 1.0 2.0 3.0 4.0 5.0 6.0 7.0 8.0 9.0 10.0\n",
       "  * lead     (lead) int64 1 2 3 4 5 6 7 8 9 10 ... 37 38 39 40 41 42 43 44 45 46\n",
       "  * hdate    (hdate) object 1995-07-01 00:00:00 ... 2020-07-01 00:00:00"
      ]
     },
     "execution_count": 325,
     "metadata": {},
     "output_type": "execute_result"
    }
   ],
   "source": [
    "fcstds.coords"
   ]
  },
  {
   "cell_type": "markdown",
   "metadata": {},
   "source": [
    "The S2S data dimensions correspond to the following `climpred` dimension definitions: `M=member`, `S=init`.  We will rename the dimensions to their `climpred` names."
   ]
  },
  {
   "cell_type": "code",
   "execution_count": 217,
   "metadata": {},
   "outputs": [],
   "source": [
    "#fcstds.to_netcdf('fcstds.nc')\n",
    "\n",
    "# save time\n",
    "fcstds = xr.open_dataset('fcstds.nc',use_cftime=True)"
   ]
  },
  {
   "cell_type": "markdown",
   "metadata": {},
   "source": [
    "### Skill for a single `init.dayofyear`"
   ]
  },
  {
   "cell_type": "code",
   "execution_count": 337,
   "metadata": {},
   "outputs": [
    {
     "data": {
      "text/plain": [
       "Coordinates:\n",
       "  * init     (init) object 2015-05-14 00:00:00 ... 2021-02-15 00:00:00\n",
       "  * member   (member) float32 0.0 1.0 2.0 3.0 4.0 5.0 6.0 7.0 8.0 9.0 10.0\n",
       "  * lead     (lead) int64 1 2 3 4 5 6 7 8 9 10 ... 37 38 39 40 41 42 43 44 45 46\n",
       "  * hdate    (hdate) object 1995-07-01 00:00:00 ... 2020-07-01 00:00:00"
      ]
     },
     "execution_count": 337,
     "metadata": {},
     "output_type": "execute_result"
    }
   ],
   "source": [
    "fcstds.coords"
   ]
  },
  {
   "cell_type": "code",
   "execution_count": 330,
   "metadata": {},
   "outputs": [
    {
     "data": {
      "text/plain": [
       "<matplotlib.collections.QuadMesh at 0x7fec4029ffd0>"
      ]
     },
     "execution_count": 330,
     "metadata": {},
     "output_type": "execute_result"
    },
    {
     "data": {
      "image/png": "[encoded data removed]",
      "text/plain": [
       "<Figure size 432x288 with 2 Axes>"
      ]
     },
     "metadata": {
      "needs_background": "light"
     },
     "output_type": "display_data"
    }
   ],
   "source": [
    "d='08'\n",
    "m='02'\n",
    "y='2021'\n",
    "\n",
    "fcstds.sel(init=f'{y}-{m}-{d}').squeeze().rmm1.mean('member').plot()"
   ]
  },
  {
   "cell_type": "code",
   "execution_count": 339,
   "metadata": {},
   "outputs": [],
   "source": [
    "import cftime\n",
    "# create a new init coordinate\n",
    "new_init = xr.concat([xr.DataArray(cftime.DatetimeProlepticGregorian(int(h.dt.year.values),int(m),int(d))) for h in fcstds.hdate],'init')\n",
    "\n",
    "# select new inits for same dayofyear, drop all NaNs\n",
    "fcstds_date = fcstds.sel(init=f'{y}-{m}-{d}',drop=True).squeeze(drop=True).assign_coords(hdate=new_init).rename({'hdate':'init'}).dropna('init',how='all')"
   ]
  },
  {
   "cell_type": "code",
   "execution_count": 340,
   "metadata": {},
   "outputs": [],
   "source": [
    "hindcast = HindcastEnsemble(fcstds_date)\n",
    "hindcast = hindcast.add_observations(obsds)\n"
   ]
  },
  {
   "cell_type": "code",
   "execution_count": 341,
   "metadata": {},
   "outputs": [
    {
     "name": "stdout",
     "output_type": "stream",
     "text": [
      "CPU times: user 1.57 s, sys: 24.9 ms, total: 1.6 s\n",
      "Wall time: 1.64 s\n"
     ]
    }
   ],
   "source": [
    "%time skill = hindcast.verify(metric='acc', comparison='e2o', dim='init', alignment='maximize')"
   ]
  },
  {
   "cell_type": "code",
   "execution_count": 342,
   "metadata": {},
   "outputs": [
    {
     "data": {
      "text/plain": [
       "Text(0.5, 1.0, 'RMM1 daily initialized 02-08 ACC \\n reforecasts: 2001-2020')"
      ]
     },
     "execution_count": 342,
     "metadata": {},
     "output_type": "execute_result"
    },
    {
     "data": {
      "image/png": "[encoded data removed]",
      "text/plain": [
       "<Figure size 432x288 with 1 Axes>"
      ]
     },
     "metadata": {
      "needs_background": "light"
     },
     "output_type": "display_data"
    }
   ],
   "source": [
    "skill.rmm1.plot()\n",
    "plt.title(f'RMM1 daily initialized {m}-{d} ACC')"
   ]
  },
  {
   "cell_type": "markdown",
   "metadata": {},
   "source": [
    "### skill over all inits\n",
    "create large dataarray with all `hdate` stacked into `init`"
   ]
  },
  {
   "cell_type": "code",
   "execution_count": 343,
   "metadata": {},
   "outputs": [],
   "source": [
    "fcstds_dates=[]\n",
    "for s in fcstds.init:\n",
    "    d=str(s.init.dt.day.values).zfill(2)\n",
    "    m=str(s.init.dt.month.values).zfill(2)\n",
    "    y=s.init.dt.year.values\n",
    "    if d=='29' and m=='02':\n",
    "        continue\n",
    "    new_init = xr.concat([xr.DataArray(cftime.DatetimeProlepticGregorian(int(h.dt.year.values),int(m),int(d))) for h in fcstds.hdate],'init')\n",
    "    # select new inits for same dayofyear, drop all NaNs\n",
    "    fcstds_date = fcstds.sel(init=f'{y}-{m}-{d}',drop=True).squeeze(drop=True).assign_coords(hdate=new_init).rename({'hdate':'init'}).dropna('init',how='all')\n",
    "    if fcstds_date.init.size > 0:\n",
    "        fcstds_dates.append(fcstds_date)\n",
    "        #print('add',d,m,y)"
   ]
  },
  {
   "cell_type": "code",
   "execution_count": 344,
   "metadata": {},
   "outputs": [],
   "source": [
    "fcstds_dates = xr.concat(fcstds_dates, 'init')"
   ]
  },
  {
   "cell_type": "code",
   "execution_count": 345,
   "metadata": {},
   "outputs": [],
   "source": [
    "fcstds_dates = fcstds_dates.sortby(fcstds_dates.init)"
   ]
  },
  {
   "cell_type": "code",
   "execution_count": 346,
   "metadata": {},
   "outputs": [],
   "source": [
    "# drop duplicates, unnecessary?\n",
    "#_, index = np.unique(fcstds_dates.init, return_index=True)\n",
    "#fcstds_dates = fcstds_dates.isel(init=index)"
   ]
  },
  {
   "cell_type": "code",
   "execution_count": 347,
   "metadata": {},
   "outputs": [],
   "source": [
    "hindcast = HindcastEnsemble(fcstds_dates)\n",
    "hindcast = hindcast.add_observations(obsds)"
   ]
  },
  {
   "cell_type": "code",
   "execution_count": 348,
   "metadata": {},
   "outputs": [
    {
     "name": "stderr",
     "output_type": "stream",
     "text": [
      "/Users/aaron.spring/Coding/climpred/climpred/classes.py:380: UserWarning: Error due to verification/control/uninitialized: xr.sel((), {'init': slice('2000', '2001', None)}) failed\n",
      "ValueError: dimensions or multi-index levels ['init'] do not exist\n",
      "  warnings.warn(\n"
     ]
    },
    {
     "name": "stdout",
     "output_type": "stream",
     "text": [
      "CPU times: user 1min 22s, sys: 690 ms, total: 1min 23s\n",
      "Wall time: 1min 27s\n"
     ]
    },
    {
     "data": {
      "text/plain": [
       "[<matplotlib.lines.Line2D at 0x7fec35bc4190>]"
      ]
     },
     "execution_count": 348,
     "metadata": {},
     "output_type": "execute_result"
    },
    {
     "data": {
      "image/png": "[encoded data removed]",
      "text/plain": [
       "<Figure size 432x288 with 1 Axes>"
      ]
     },
     "metadata": {
      "needs_background": "light"
     },
     "output_type": "display_data"
    }
   ],
   "source": [
    "%time skill = hindcast.sel(init=slice('2000','2001')).verify(metric='acc', comparison='e2o', dim='init', alignment='maximize')\n",
    "\n",
    "skill.rmm1.plot()"
   ]
  },
  {
   "cell_type": "markdown",
   "metadata": {},
   "source": [
    "### skill when initialized in different months"
   ]
  },
  {
   "cell_type": "code",
   "execution_count": 355,
   "metadata": {},
   "outputs": [
    {
     "name": "stderr",
     "output_type": "stream",
     "text": [
      "/Users/aaron.spring/Coding/climpred/climpred/classes.py:380: UserWarning: Error due to verification/control/uninitialized: xr.sel((), {'init': <xarray.DataArray 'month' (init: 12020)>\n",
      "array([False, False, False, ..., False, False, False])\n",
      "Coordinates:\n",
      "  * init     (init) object 1995-05-14 00:00:00 ... 2020-02-15 00:00:00}) failed\n",
      "ValueError: dimensions or multi-index levels ['init'] do not exist\n",
      "  warnings.warn(\n",
      "/Users/aaron.spring/Coding/climpred/climpred/classes.py:380: UserWarning: Error due to verification/control/uninitialized: xr.sel((), {'init': <xarray.DataArray 'month' (init: 12020)>\n",
      "array([False, False, False, ..., False, False, False])\n",
      "Coordinates:\n",
      "  * init     (init) object 1995-05-14 00:00:00 ... 2020-02-15 00:00:00}) failed\n",
      "ValueError: dimensions or multi-index levels ['init'] do not exist\n",
      "  warnings.warn(\n",
      "/Users/aaron.spring/Coding/climpred/climpred/classes.py:380: UserWarning: Error due to verification/control/uninitialized: xr.sel((), {'init': <xarray.DataArray 'month' (init: 12020)>\n",
      "array([False, False, False, ..., False, False, False])\n",
      "Coordinates:\n",
      "  * init     (init) object 1995-05-14 00:00:00 ... 2020-02-15 00:00:00}) failed\n",
      "ValueError: dimensions or multi-index levels ['init'] do not exist\n",
      "  warnings.warn(\n",
      "/Users/aaron.spring/Coding/climpred/climpred/classes.py:380: UserWarning: Error due to verification/control/uninitialized: xr.sel((), {'init': <xarray.DataArray 'month' (init: 12020)>\n",
      "array([False, False, False, ..., False, False, False])\n",
      "Coordinates:\n",
      "  * init     (init) object 1995-05-14 00:00:00 ... 2020-02-15 00:00:00}) failed\n",
      "ValueError: dimensions or multi-index levels ['init'] do not exist\n",
      "  warnings.warn(\n"
     ]
    },
    {
     "data": {
      "text/plain": [
       "<matplotlib.legend.Legend at 0x7fec4557cca0>"
      ]
     },
     "execution_count": 355,
     "metadata": {},
     "output_type": "execute_result"
    },
    {
     "data": {
      "image/png": "[encoded data removed]",
      "text/plain": [
       "<Figure size 432x288 with 1 Axes>"
      ]
     },
     "metadata": {
      "needs_background": "light"
     },
     "output_type": "display_data"
    }
   ],
   "source": [
    "for m in np.arange(1,13,3):\n",
    "    skill = hindcast.sel(init=fcstds_dates.init.dt.month==m).verify(metric='acc', comparison='e2o', dim='init', alignment='maximize')\n",
    "    skill.rmm1.plot(label=f'month = {m}')\n",
    "plt.legend()"
   ]
  },
  {
   "cell_type": "code",
   "execution_count": null,
   "metadata": {},
   "outputs": [],
   "source": []
  },
  {
   "cell_type": "markdown",
   "metadata": {},
   "source": [
    "### skill over certain `init.dayofyear`"
   ]
  },
  {
   "cell_type": "code",
   "execution_count": 349,
   "metadata": {},
   "outputs": [
    {
     "name": "stderr",
     "output_type": "stream",
     "text": [
      "/Users/aaron.spring/Coding/climpred/climpred/classes.py:380: UserWarning: Error due to verification/control/uninitialized: xr.sel((), {'init': <xarray.DataArray 'dayofyear' (init: 12020)>\n",
      "array([False, False, False, ...,  True, False, False])\n",
      "Coordinates:\n",
      "  * init     (init) object 1995-05-14 00:00:00 ... 2020-02-15 00:00:00}) failed\n",
      "ValueError: dimensions or multi-index levels ['init'] do not exist\n",
      "  warnings.warn(\n"
     ]
    },
    {
     "name": "stdout",
     "output_type": "stream",
     "text": [
      "CPU times: user 4.04 s, sys: 55.5 ms, total: 4.1 s\n",
      "Wall time: 4.45 s\n"
     ]
    },
    {
     "data": {
      "text/plain": [
       "Text(0.5, 1.0, 'RMM1 daily initialized 2-8 ACC \\n reforecasts: 1996-2020')"
      ]
     },
     "execution_count": 349,
     "metadata": {},
     "output_type": "execute_result"
    },
    {
     "data": {
      "image/png": "[encoded data removed]",
      "text/plain": [
       "<Figure size 432x288 with 1 Axes>"
      ]
     },
     "metadata": {
      "needs_background": "light"
     },
     "output_type": "display_data"
    }
   ],
   "source": [
    "# take 39th dayofyear, i.e. feb 8 only\n",
    "hindcast2 = hindcast.sel(init=hindcast.get_initialized().init.dt.dayofyear==39)\n",
    "%time skill = hindcast2.verify(metric='acc', comparison='e2o', dim='init', alignment='maximize')\n",
    "skill.rmm1.plot()\n",
    "i = hindcast2.get_initialized().init\n",
    "m = int(i.dt.month[0].values)\n",
    "d = int(i.dt.day[0].values)\n",
    "plt.title(f'RMM1 daily initialized {m}-{d} ACC')"
   ]
  },
  {
   "cell_type": "markdown",
   "metadata": {},
   "source": [
    "## models without \"on-the-fly\" reforecasts\n",
    "very similar workflow as in the `SubX` examples as there is no `hdate` coordinate\n",
    "\n",
    "S2S models:\n",
    "- CRNM\n",
    "- ..."
   ]
  },
  {
   "cell_type": "code",
   "execution_count": 372,
   "metadata": {},
   "outputs": [],
   "source": [
    "ds = xr.open_dataset('https://iridl.ldeo.columbia.edu/SOURCES/.ECMWF/.S2S/.CNRM/.reforecast/.RMMS/.ensembles/.RMM1/dods', decode_times=True).compute()\n",
    "\n",
    "ds = ds.dropna('S',how='all')"
   ]
  },
  {
   "cell_type": "code",
   "execution_count": 373,
   "metadata": {},
   "outputs": [],
   "source": [
    "fcstds = ds.rename({'S': 'init','L': 'lead','M': 'member', 'RMM1' : 'rmm1'})\n",
    "fcstds['lead'] = np.arange(1,1+fcstds['lead'].size)\n",
    "fcstds['lead'].attrs={'units': 'days'}"
   ]
  },
  {
   "cell_type": "code",
   "execution_count": 374,
   "metadata": {},
   "outputs": [],
   "source": [
    "hindcast = HindcastEnsemble(fcstds)\n",
    "hindcast = hindcast.add_observations(obsds)"
   ]
  },
  {
   "cell_type": "code",
   "execution_count": 375,
   "metadata": {},
   "outputs": [
    {
     "name": "stdout",
     "output_type": "stream",
     "text": [
      "CPU times: user 43.2 s, sys: 299 ms, total: 43.5 s\n",
      "Wall time: 45.2 s\n"
     ]
    }
   ],
   "source": [
    "%time skill = hindcast.verify(metric='acc', comparison='e2o', dim='init', alignment='maximize')"
   ]
  },
  {
   "cell_type": "code",
   "execution_count": 376,
   "metadata": {},
   "outputs": [
    {
     "data": {
      "text/plain": [
       "[<matplotlib.lines.Line2D at 0x7fec284abaf0>]"
      ]
     },
     "execution_count": 376,
     "metadata": {},
     "output_type": "execute_result"
    },
    {
     "data": {
      "image/png": "[encoded data removed]",
      "text/plain": [
       "<Figure size 432x288 with 1 Axes>"
      ]
     },
     "metadata": {
      "needs_background": "light"
     },
     "output_type": "display_data"
    }
   ],
   "source": [
    "skill.rmm1.plot()"
   ]
  },
  {
   "cell_type": "code",
   "execution_count": null,
   "metadata": {},
   "outputs": [],
   "source": []
  }
 ],
 "metadata": {
  "kernelspec": {
   "display_name": "Python [conda env:climpred-dev] *",
   "language": "python",
   "name": "conda-env-climpred-dev-py"
  },
  "language_info": {
   "codemirror_mode": {
    "name": "ipython",
    "version": 3
   },
   "file_extension": ".py",
   "mimetype": "text/x-python",
   "name": "python",
   "nbconvert_exporter": "python",
   "pygments_lexer": "ipython3",
   "version": "3.8.8"
  }
 },
 "nbformat": 4,
 "nbformat_minor": 4
}
