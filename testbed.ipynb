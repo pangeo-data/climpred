{
 "cells": [
  {
   "cell_type": "code",
   "execution_count": 103,
   "metadata": {
    "ExecuteTime": {
     "end_time": "2019-12-18T19:25:39.693399Z",
     "start_time": "2019-12-18T19:25:39.690473Z"
    }
   },
   "outputs": [],
   "source": [
    "import numpy as np\n",
    "import xarray as xr\n",
    "import climpred\n",
    "from scipy.stats import t\n",
    "import scipy\n",
    "import xskillscore as xs"
   ]
  },
  {
   "cell_type": "code",
   "execution_count": 2,
   "metadata": {
    "ExecuteTime": {
     "end_time": "2019-12-18T19:06:52.554249Z",
     "start_time": "2019-12-18T19:06:52.550961Z"
    }
   },
   "outputs": [
    {
     "name": "stdout",
     "output_type": "stream",
     "text": [
      "'MPI-control-1D': area averages for the MPI control run of SST/SSS.\n",
      "'MPI-control-3D': lat/lon/time for the MPI control run of SST/SSS.\n",
      "'MPI-PM-DP-1D': perfect model decadal prediction ensemble area averages of SST/SSS/AMO.\n",
      "'MPI-PM-DP-3D': perfect model decadal prediction ensemble lat/lon/time of SST/SSS/AMO.\n",
      "'CESM-DP-SST': hindcast decadal prediction ensemble of global mean SSTs.\n",
      "'CESM-DP-SSS': hindcast decadal prediction ensemble of global mean SSS.\n",
      "'CESM-DP-SST-3D': hindcast decadal prediction ensemble of eastern Pacific SSTs.\n",
      "'CESM-LE': uninitialized ensemble of global mean SSTs.\n",
      "'MPIESM_miklip_baseline1-hind-SST-global': hindcast initialized ensemble of global mean SSTs\n",
      "'MPIESM_miklip_baseline1-hist-SST-global': uninitialized ensemble of global mean SSTs\n",
      "'MPIESM_miklip_baseline1-assim-SST-global': assimilation in MPI-ESM of global mean SSTs\n",
      "'ERSST': observations of global mean SSTs.\n",
      "'FOSI-SST': reconstruction of global mean SSTs.\n",
      "'FOSI-SSS': reconstruction of global mean SSS.\n",
      "'FOSI-SST-3D': reconstruction of eastern Pacific SSTs\n"
     ]
    }
   ],
   "source": [
    "climpred.tutorial.load_dataset()"
   ]
  },
  {
   "cell_type": "code",
   "execution_count": 3,
   "metadata": {
    "ExecuteTime": {
     "end_time": "2019-12-18T19:06:52.579432Z",
     "start_time": "2019-12-18T19:06:52.555846Z"
    }
   },
   "outputs": [],
   "source": [
    "hind = climpred.tutorial.load_dataset('CESM-DP-SST')\n",
    "fosi = climpred.tutorial.load_dataset('FOSI-SST')\n",
    "\n",
    "hindcast = climpred.HindcastEnsemble(hind)\n",
    "hindcast = hindcast.add_reference(fosi, 'fosi')"
   ]
  },
  {
   "cell_type": "code",
   "execution_count": 32,
   "metadata": {
    "ExecuteTime": {
     "end_time": "2019-12-18T19:09:47.127105Z",
     "start_time": "2019-12-18T19:09:46.986429Z"
    }
   },
   "outputs": [],
   "source": [
    "p_eff = hindcast.compute_metric(metric='pearson_r_eff_p_value', comparison='e2r')\n",
    "p = hindcast.compute_metric(metric='pearson_r_p_value')"
   ]
  },
  {
   "cell_type": "code",
   "execution_count": 33,
   "metadata": {
    "ExecuteTime": {
     "end_time": "2019-12-18T19:09:50.176033Z",
     "start_time": "2019-12-18T19:09:50.170108Z"
    }
   },
   "outputs": [],
   "source": [
    "n_eff = xr.open_dataset(\"n_eff.nc\")\n",
    "t = xr.open_dataset(\"t.nc\")"
   ]
  },
  {
   "cell_type": "code",
   "execution_count": 34,
   "metadata": {
    "ExecuteTime": {
     "end_time": "2019-12-18T19:09:50.475914Z",
     "start_time": "2019-12-18T19:09:50.473268Z"
    }
   },
   "outputs": [],
   "source": [
    "def _calculate_p(t, n):\n",
    "    return scipy.stats.t.sf(np.abs(t), n - 2) * 2"
   ]
  },
  {
   "cell_type": "code",
   "execution_count": 35,
   "metadata": {
    "ExecuteTime": {
     "end_time": "2019-12-18T19:09:50.596846Z",
     "start_time": "2019-12-18T19:09:50.593330Z"
    }
   },
   "outputs": [],
   "source": [
    "n = xr.zeros_like(n_eff)\n",
    "n = n + 64"
   ]
  },
  {
   "cell_type": "code",
   "execution_count": 36,
   "metadata": {
    "ExecuteTime": {
     "end_time": "2019-12-18T19:09:50.933797Z",
     "start_time": "2019-12-18T19:09:50.930024Z"
    }
   },
   "outputs": [],
   "source": [
    "p_from_custom = xr.apply_ufunc(_calculate_p,\n",
    "               t,\n",
    "               n,\n",
    "               dask=\"parallelized\",\n",
    "               output_dtypes=[float])"
   ]
  },
  {
   "cell_type": "code",
   "execution_count": 42,
   "metadata": {
    "ExecuteTime": {
     "end_time": "2019-12-18T19:10:56.682826Z",
     "start_time": "2019-12-18T19:10:56.579311Z"
    }
   },
   "outputs": [
    {
     "data": {
      "text/plain": [
       "[<matplotlib.lines.Line2D at 0x7fb981fbb0b8>]"
      ]
     },
     "execution_count": 42,
     "metadata": {},
     "output_type": "execute_result"
    },
    {
     "data": {
      "image/png": "[encoded data removed]",
      "text/plain": [
       "<Figure size 432x288 with 1 Axes>"
      ]
     },
     "metadata": {
      "needs_background": "light"
     },
     "output_type": "display_data"
    }
   ],
   "source": [
    "p.SST.plot()\n",
    "p_from_custom.SST.plot(color='r')"
   ]
  },
  {
   "cell_type": "markdown",
   "metadata": {},
   "source": [
    "Try scipy again"
   ]
  },
  {
   "cell_type": "code",
   "execution_count": 72,
   "metadata": {
    "ExecuteTime": {
     "end_time": "2019-12-18T19:13:34.666719Z",
     "start_time": "2019-12-18T19:13:34.656326Z"
    }
   },
   "outputs": [],
   "source": [
    "hind = climpred.tutorial.load_dataset('CESM-DP-SST')\n",
    "fosi = climpred.tutorial.load_dataset('FOSI-SST')\n",
    "\n",
    "hind = hind.mean('member')\n",
    "\n",
    "fosi = fosi.sel(time=slice(1955, 2017))\n",
    "# custom lead one correlation\n",
    "hind = hind.isel(lead=0, init=slice(None, -1))\n",
    "hind = hind.rename({'init': 'time'})\n",
    "hind['time'] = np.arange(1955, 2018)\n",
    "fosi['time'] = hind['time']"
   ]
  },
  {
   "cell_type": "code",
   "execution_count": 80,
   "metadata": {
    "ExecuteTime": {
     "end_time": "2019-12-18T19:14:01.715494Z",
     "start_time": "2019-12-18T19:14:01.711595Z"
    }
   },
   "outputs": [
    {
     "data": {
      "text/plain": [
       "8.063180801130821e-21"
      ]
     },
     "execution_count": 80,
     "metadata": {},
     "output_type": "execute_result"
    }
   ],
   "source": [
    "r, p = scipy.stats.pearsonr(hind.SST, fosi.SST)\n",
    "p"
   ]
  },
  {
   "cell_type": "code",
   "execution_count": 82,
   "metadata": {
    "ExecuteTime": {
     "end_time": "2019-12-18T19:14:12.762953Z",
     "start_time": "2019-12-18T19:14:12.759542Z"
    }
   },
   "outputs": [
    {
     "data": {
      "text/plain": [
       "<climpred.HindcastEnsemble>\n",
       "Initialized Ensemble:\n",
       "    SST      (init, lead, member) float64 -0.2404 -0.2085 ... 0.7442 0.7384\n",
       "fosi:\n",
       "    SST      (time) float64 ...\n",
       "Uninitialized:\n",
       "    None"
      ]
     },
     "execution_count": 82,
     "metadata": {},
     "output_type": "execute_result"
    }
   ],
   "source": [
    "hindcast"
   ]
  },
  {
   "cell_type": "code",
   "execution_count": 85,
   "metadata": {
    "ExecuteTime": {
     "end_time": "2019-12-18T19:14:25.600947Z",
     "start_time": "2019-12-18T19:14:25.496070Z"
    }
   },
   "outputs": [
    {
     "data": {
      "text/plain": [
       "<bound method Mapping.values of <xarray.Dataset>\n",
       "Dimensions:  ()\n",
       "Coordinates:\n",
       "    lead     int32 1\n",
       "Data variables:\n",
       "    SST      float64 0.0007646\n",
       "Attributes:\n",
       "    prediction_skill:              calculated by climpred https://climpred.re...\n",
       "    skill_calculated_by_function:  compute_hindcast\n",
       "    number_of_initializations:     64\n",
       "    number_of_members:             10\n",
       "    metric:                        pearson_r_eff_p_value\n",
       "    comparison:                    e2r\n",
       "    units:                         None\n",
       "    created:                       2019-12-18 12:14:25>"
      ]
     },
     "execution_count": 85,
     "metadata": {},
     "output_type": "execute_result"
    }
   ],
   "source": [
    "hindcast.compute_metric(metric='pacc').isel(lead=0).values"
   ]
  },
  {
   "cell_type": "code",
   "execution_count": 94,
   "metadata": {
    "ExecuteTime": {
     "end_time": "2019-12-18T19:17:11.260560Z",
     "start_time": "2019-12-18T19:17:11.257229Z"
    }
   },
   "outputs": [],
   "source": [
    "from climpred.metrics import Metric\n",
    "import scipy\n",
    "def _scipy_p(forecast, reference, dim=None, **metric_kwargs):\n",
    "    r, p = xr.apply_ufunc(scipy.stats.pearsonr,\n",
    "                          forecast.SST,\n",
    "                          reference.SST)\n",
    "    return p\n",
    "\n",
    "_scipy_p = Metric(\n",
    "    name='scipy_p',\n",
    "    function=_scipy_p,\n",
    "    probabilistic=False,\n",
    "    positive=False,\n",
    "    unit_power=0,\n",
    "    )"
   ]
  },
  {
   "cell_type": "code",
   "execution_count": 95,
   "metadata": {
    "ExecuteTime": {
     "end_time": "2019-12-18T19:17:11.521935Z",
     "start_time": "2019-12-18T19:17:11.489826Z"
    }
   },
   "outputs": [
    {
     "ename": "ValueError",
     "evalue": "applied function returned data with unexpected number of dimensions: 0 vs 1, for dimensions ('time',)",
     "output_type": "error",
     "traceback": [
      "\u001b[0;31m---------------------------------------------------------------------------\u001b[0m",
      "\u001b[0;31mValueError\u001b[0m                                Traceback (most recent call last)",
      "\u001b[0;32m<ipython-input-95-818c11213b87>\u001b[0m in \u001b[0;36m<module>\u001b[0;34m\u001b[0m\n\u001b[0;32m----> 1\u001b[0;31m \u001b[0mhindcast\u001b[0m\u001b[0;34m.\u001b[0m\u001b[0mcompute_metric\u001b[0m\u001b[0;34m(\u001b[0m\u001b[0mmetric\u001b[0m\u001b[0;34m=\u001b[0m\u001b[0m_scipy_p\u001b[0m\u001b[0;34m)\u001b[0m\u001b[0;34m\u001b[0m\u001b[0;34m\u001b[0m\u001b[0m\n\u001b[0m",
      "\u001b[0;32m~/Desktop/dev/climpred/climpred/classes.py\u001b[0m in \u001b[0;36mcompute_metric\u001b[0;34m(self, refname, metric, comparison, max_dof)\u001b[0m\n\u001b[1;32m    767\u001b[0m             \u001b[0mmetric\u001b[0m\u001b[0;34m=\u001b[0m\u001b[0mmetric\u001b[0m\u001b[0;34m,\u001b[0m\u001b[0;34m\u001b[0m\u001b[0;34m\u001b[0m\u001b[0m\n\u001b[1;32m    768\u001b[0m             \u001b[0mcomparison\u001b[0m\u001b[0;34m=\u001b[0m\u001b[0mcomparison\u001b[0m\u001b[0;34m,\u001b[0m\u001b[0;34m\u001b[0m\u001b[0;34m\u001b[0m\u001b[0m\n\u001b[0;32m--> 769\u001b[0;31m             \u001b[0mmax_dof\u001b[0m\u001b[0;34m=\u001b[0m\u001b[0mmax_dof\u001b[0m\u001b[0;34m,\u001b[0m\u001b[0;34m\u001b[0m\u001b[0;34m\u001b[0m\u001b[0m\n\u001b[0m\u001b[1;32m    770\u001b[0m         )\n\u001b[1;32m    771\u001b[0m \u001b[0;34m\u001b[0m\u001b[0m\n",
      "\u001b[0;32m~/Desktop/dev/climpred/climpred/classes.py\u001b[0m in \u001b[0;36m_apply_climpred_function\u001b[0;34m(self, func, input_dict, **kwargs)\u001b[0m\n\u001b[1;32m    623\u001b[0m                 \u001b[0mrefname\u001b[0m \u001b[0;34m=\u001b[0m \u001b[0mlist\u001b[0m\u001b[0;34m(\u001b[0m\u001b[0mreference\u001b[0m\u001b[0;34m.\u001b[0m\u001b[0mkeys\u001b[0m\u001b[0;34m(\u001b[0m\u001b[0;34m)\u001b[0m\u001b[0;34m)\u001b[0m\u001b[0;34m[\u001b[0m\u001b[0;36m0\u001b[0m\u001b[0;34m]\u001b[0m\u001b[0;34m\u001b[0m\u001b[0;34m\u001b[0m\u001b[0m\n\u001b[1;32m    624\u001b[0m                 \u001b[0mdrop_init\u001b[0m\u001b[0;34m,\u001b[0m \u001b[0mdrop_ref\u001b[0m \u001b[0;34m=\u001b[0m \u001b[0mself\u001b[0m\u001b[0;34m.\u001b[0m\u001b[0m_vars_to_drop\u001b[0m\u001b[0;34m(\u001b[0m\u001b[0mrefname\u001b[0m\u001b[0;34m,\u001b[0m \u001b[0minit\u001b[0m\u001b[0;34m=\u001b[0m\u001b[0minit\u001b[0m\u001b[0;34m)\u001b[0m\u001b[0;34m\u001b[0m\u001b[0;34m\u001b[0m\u001b[0m\n\u001b[0;32m--> 625\u001b[0;31m                 \u001b[0;32mreturn\u001b[0m \u001b[0mfunc\u001b[0m\u001b[0;34m(\u001b[0m\u001b[0mensemble\u001b[0m\u001b[0;34m,\u001b[0m \u001b[0mreference\u001b[0m\u001b[0;34m[\u001b[0m\u001b[0mrefname\u001b[0m\u001b[0;34m]\u001b[0m\u001b[0;34m,\u001b[0m \u001b[0;34m**\u001b[0m\u001b[0mkwargs\u001b[0m\u001b[0;34m)\u001b[0m\u001b[0;34m\u001b[0m\u001b[0;34m\u001b[0m\u001b[0m\n\u001b[0m\u001b[1;32m    626\u001b[0m             \u001b[0;31m# Loop through references, apply function, and store in dictionary.\u001b[0m\u001b[0;34m\u001b[0m\u001b[0;34m\u001b[0m\u001b[0;34m\u001b[0m\u001b[0m\n\u001b[1;32m    627\u001b[0m             \u001b[0;31m# TODO: Parallelize this process.\u001b[0m\u001b[0;34m\u001b[0m\u001b[0;34m\u001b[0m\u001b[0;34m\u001b[0m\u001b[0m\n",
      "\u001b[0;32m~/Desktop/dev/climpred/climpred/checks.py\u001b[0m in \u001b[0;36mwrapper\u001b[0;34m(*args, **kwargs)\u001b[0m\n\u001b[1;32m     53\u001b[0m         \u001b[0;31m# to the actual function call rather than showing a simple Exception\u001b[0m\u001b[0;34m\u001b[0m\u001b[0;34m\u001b[0m\u001b[0;34m\u001b[0m\u001b[0m\n\u001b[1;32m     54\u001b[0m         \u001b[0;31m# (probably IndexError from trying to subselect an empty dec_args list)\u001b[0m\u001b[0;34m\u001b[0m\u001b[0;34m\u001b[0m\u001b[0;34m\u001b[0m\u001b[0m\n\u001b[0;32m---> 55\u001b[0;31m         \u001b[0;32mreturn\u001b[0m \u001b[0mfunc\u001b[0m\u001b[0;34m(\u001b[0m\u001b[0;34m*\u001b[0m\u001b[0margs\u001b[0m\u001b[0;34m,\u001b[0m \u001b[0;34m**\u001b[0m\u001b[0mkwargs\u001b[0m\u001b[0;34m)\u001b[0m\u001b[0;34m\u001b[0m\u001b[0;34m\u001b[0m\u001b[0m\n\u001b[0m\u001b[1;32m     56\u001b[0m \u001b[0;34m\u001b[0m\u001b[0m\n\u001b[1;32m     57\u001b[0m     \u001b[0;32mreturn\u001b[0m \u001b[0mwrapper\u001b[0m\u001b[0;34m\u001b[0m\u001b[0;34m\u001b[0m\u001b[0m\n",
      "\u001b[0;32m~/Desktop/dev/climpred/climpred/prediction.py\u001b[0m in \u001b[0;36mcompute_hindcast\u001b[0;34m(hind, reference, metric, comparison, dim, max_dof, add_attrs, **metric_kwargs)\u001b[0m\n\u001b[1;32m    266\u001b[0m         plag.append(\n\u001b[1;32m    267\u001b[0m             metric.function(\n\u001b[0;32m--> 268\u001b[0;31m                 \u001b[0ma\u001b[0m\u001b[0;34m,\u001b[0m \u001b[0mb\u001b[0m\u001b[0;34m,\u001b[0m \u001b[0mdim\u001b[0m\u001b[0;34m=\u001b[0m\u001b[0mdim_to_apply_metric_to\u001b[0m\u001b[0;34m,\u001b[0m \u001b[0mcomparison\u001b[0m\u001b[0;34m=\u001b[0m\u001b[0mcomparison\u001b[0m\u001b[0;34m,\u001b[0m \u001b[0;34m**\u001b[0m\u001b[0mmetric_kwargs\u001b[0m\u001b[0;34m\u001b[0m\u001b[0;34m\u001b[0m\u001b[0m\n\u001b[0m\u001b[1;32m    269\u001b[0m             )\n\u001b[1;32m    270\u001b[0m         )\n",
      "\u001b[0;32m<ipython-input-94-943aff27dad3>\u001b[0m in \u001b[0;36m_scipy_p\u001b[0;34m(forecast, reference, dim, **metric_kwargs)\u001b[0m\n\u001b[1;32m      4\u001b[0m     r, p = xr.apply_ufunc(scipy.stats.pearsonr,\n\u001b[1;32m      5\u001b[0m                           \u001b[0mforecast\u001b[0m\u001b[0;34m.\u001b[0m\u001b[0mSST\u001b[0m\u001b[0;34m,\u001b[0m\u001b[0;34m\u001b[0m\u001b[0;34m\u001b[0m\u001b[0m\n\u001b[0;32m----> 6\u001b[0;31m                           reference.SST)\n\u001b[0m\u001b[1;32m      7\u001b[0m     \u001b[0;32mreturn\u001b[0m \u001b[0mp\u001b[0m\u001b[0;34m\u001b[0m\u001b[0;34m\u001b[0m\u001b[0m\n\u001b[1;32m      8\u001b[0m \u001b[0;34m\u001b[0m\u001b[0m\n",
      "\u001b[0;32m~/miniconda3/envs/climpred-dev/lib/python3.6/site-packages/xarray/core/computation.py\u001b[0m in \u001b[0;36mapply_ufunc\u001b[0;34m(func, input_core_dims, output_core_dims, exclude_dims, vectorize, join, dataset_join, dataset_fill_value, keep_attrs, kwargs, dask, output_dtypes, output_sizes, *args)\u001b[0m\n\u001b[1;32m   1040\u001b[0m             \u001b[0mjoin\u001b[0m\u001b[0;34m=\u001b[0m\u001b[0mjoin\u001b[0m\u001b[0;34m,\u001b[0m\u001b[0;34m\u001b[0m\u001b[0;34m\u001b[0m\u001b[0m\n\u001b[1;32m   1041\u001b[0m             \u001b[0mexclude_dims\u001b[0m\u001b[0;34m=\u001b[0m\u001b[0mexclude_dims\u001b[0m\u001b[0;34m,\u001b[0m\u001b[0;34m\u001b[0m\u001b[0;34m\u001b[0m\u001b[0m\n\u001b[0;32m-> 1042\u001b[0;31m             \u001b[0mkeep_attrs\u001b[0m\u001b[0;34m=\u001b[0m\u001b[0mkeep_attrs\u001b[0m\u001b[0;34m,\u001b[0m\u001b[0;34m\u001b[0m\u001b[0;34m\u001b[0m\u001b[0m\n\u001b[0m\u001b[1;32m   1043\u001b[0m         )\n\u001b[1;32m   1044\u001b[0m     \u001b[0;32melif\u001b[0m \u001b[0many\u001b[0m\u001b[0;34m(\u001b[0m\u001b[0misinstance\u001b[0m\u001b[0;34m(\u001b[0m\u001b[0ma\u001b[0m\u001b[0;34m,\u001b[0m \u001b[0mVariable\u001b[0m\u001b[0;34m)\u001b[0m \u001b[0;32mfor\u001b[0m \u001b[0ma\u001b[0m \u001b[0;32min\u001b[0m \u001b[0margs\u001b[0m\u001b[0;34m)\u001b[0m\u001b[0;34m:\u001b[0m\u001b[0;34m\u001b[0m\u001b[0;34m\u001b[0m\u001b[0m\n",
      "\u001b[0;32m~/miniconda3/envs/climpred-dev/lib/python3.6/site-packages/xarray/core/computation.py\u001b[0m in \u001b[0;36mapply_dataarray_vfunc\u001b[0;34m(func, signature, join, exclude_dims, keep_attrs, *args)\u001b[0m\n\u001b[1;32m    230\u001b[0m \u001b[0;34m\u001b[0m\u001b[0m\n\u001b[1;32m    231\u001b[0m     \u001b[0mdata_vars\u001b[0m \u001b[0;34m=\u001b[0m \u001b[0;34m[\u001b[0m\u001b[0mgetattr\u001b[0m\u001b[0;34m(\u001b[0m\u001b[0ma\u001b[0m\u001b[0;34m,\u001b[0m \u001b[0;34m\"variable\"\u001b[0m\u001b[0;34m,\u001b[0m \u001b[0ma\u001b[0m\u001b[0;34m)\u001b[0m \u001b[0;32mfor\u001b[0m \u001b[0ma\u001b[0m \u001b[0;32min\u001b[0m \u001b[0margs\u001b[0m\u001b[0;34m]\u001b[0m\u001b[0;34m\u001b[0m\u001b[0;34m\u001b[0m\u001b[0m\n\u001b[0;32m--> 232\u001b[0;31m     \u001b[0mresult_var\u001b[0m \u001b[0;34m=\u001b[0m \u001b[0mfunc\u001b[0m\u001b[0;34m(\u001b[0m\u001b[0;34m*\u001b[0m\u001b[0mdata_vars\u001b[0m\u001b[0;34m)\u001b[0m\u001b[0;34m\u001b[0m\u001b[0;34m\u001b[0m\u001b[0m\n\u001b[0m\u001b[1;32m    233\u001b[0m \u001b[0;34m\u001b[0m\u001b[0m\n\u001b[1;32m    234\u001b[0m     \u001b[0;32mif\u001b[0m \u001b[0msignature\u001b[0m\u001b[0;34m.\u001b[0m\u001b[0mnum_outputs\u001b[0m \u001b[0;34m>\u001b[0m \u001b[0;36m1\u001b[0m\u001b[0;34m:\u001b[0m\u001b[0;34m\u001b[0m\u001b[0;34m\u001b[0m\u001b[0m\n",
      "\u001b[0;32m~/miniconda3/envs/climpred-dev/lib/python3.6/site-packages/xarray/core/computation.py\u001b[0m in \u001b[0;36mapply_variable_ufunc\u001b[0;34m(func, signature, exclude_dims, dask, output_dtypes, output_sizes, keep_attrs, *args)\u001b[0m\n\u001b[1;32m    621\u001b[0m                 \u001b[0;34m\"applied function returned data with unexpected \"\u001b[0m\u001b[0;34m\u001b[0m\u001b[0;34m\u001b[0m\u001b[0m\n\u001b[1;32m    622\u001b[0m                 \"number of dimensions: {} vs {}, for dimensions {}\".format(\n\u001b[0;32m--> 623\u001b[0;31m                     \u001b[0mdata\u001b[0m\u001b[0;34m.\u001b[0m\u001b[0mndim\u001b[0m\u001b[0;34m,\u001b[0m \u001b[0mlen\u001b[0m\u001b[0;34m(\u001b[0m\u001b[0mdims\u001b[0m\u001b[0;34m)\u001b[0m\u001b[0;34m,\u001b[0m \u001b[0mdims\u001b[0m\u001b[0;34m\u001b[0m\u001b[0;34m\u001b[0m\u001b[0m\n\u001b[0m\u001b[1;32m    624\u001b[0m                 )\n\u001b[1;32m    625\u001b[0m             )\n",
      "\u001b[0;31mValueError\u001b[0m: applied function returned data with unexpected number of dimensions: 0 vs 1, for dimensions ('time',)"
     ]
    }
   ],
   "source": [
    "hindcast.compute_metric(metric=_scipy_p)"
   ]
  },
  {
   "cell_type": "markdown",
   "metadata": {},
   "source": [
    "**Try with a random time series**"
   ]
  },
  {
   "cell_type": "markdown",
   "metadata": {},
   "source": [
    "Show that `xskillscore` and `scipy` have the same p-value."
   ]
  },
  {
   "cell_type": "code",
   "execution_count": 97,
   "metadata": {
    "ExecuteTime": {
     "end_time": "2019-12-18T19:25:09.111518Z",
     "start_time": "2019-12-18T19:25:09.108799Z"
    }
   },
   "outputs": [],
   "source": [
    "a = xr.DataArray(np.random.rand(100,), dims=[\"time\"])\n",
    "b = xr.DataArray(np.random.rand(100,), dims=[\"time\"])"
   ]
  },
  {
   "cell_type": "code",
   "execution_count": 101,
   "metadata": {
    "ExecuteTime": {
     "end_time": "2019-12-18T19:25:19.504075Z",
     "start_time": "2019-12-18T19:25:19.501285Z"
    }
   },
   "outputs": [],
   "source": [
    "r, p = scipy.stats.pearsonr(a, b)"
   ]
  },
  {
   "cell_type": "code",
   "execution_count": 106,
   "metadata": {
    "ExecuteTime": {
     "end_time": "2019-12-18T19:25:55.073354Z",
     "start_time": "2019-12-18T19:25:55.069440Z"
    }
   },
   "outputs": [],
   "source": [
    "p2 = xs.pearson_r_p_value(a, b, \"time\")"
   ]
  },
  {
   "cell_type": "code",
   "execution_count": 108,
   "metadata": {
    "ExecuteTime": {
     "end_time": "2019-12-18T19:26:45.582059Z",
     "start_time": "2019-12-18T19:26:45.578951Z"
    }
   },
   "outputs": [
    {
     "data": {
      "text/plain": [
       "True"
      ]
     },
     "execution_count": 108,
     "metadata": {},
     "output_type": "execute_result"
    }
   ],
   "source": [
    "np.allclose(p, p2)"
   ]
  },
  {
   "cell_type": "markdown",
   "metadata": {},
   "source": [
    "Show that `climpred` and `xskillscore` return the same results for one with alignment."
   ]
  },
  {
   "cell_type": "code",
   "execution_count": 178,
   "metadata": {
    "ExecuteTime": {
     "end_time": "2019-12-18T20:04:24.826629Z",
     "start_time": "2019-12-18T20:04:24.822340Z"
    }
   },
   "outputs": [],
   "source": [
    "init = np.arange(1990, 2100)\n",
    "time = np.arange(1990, 2101)\n",
    "lead = np.arange(1, 2)\n",
    "hind = xr.DataArray(np.random.rand(len(init), len(lead)),\n",
    "                    dims=[\"init\", \"lead\"],\n",
    "                    coords=[init, lead])\n",
    "obs = xr.DataArray(np.random.rand(len(time)),\n",
    "                   dims=[\"time\"],\n",
    "                   coords=[time])"
   ]
  },
  {
   "cell_type": "code",
   "execution_count": 179,
   "metadata": {
    "ExecuteTime": {
     "end_time": "2019-12-18T20:04:25.850219Z",
     "start_time": "2019-12-18T20:04:25.828849Z"
    }
   },
   "outputs": [],
   "source": [
    "p1 = climpred.prediction.compute_hindcast(hind, obs, metric='pearson_r_p_value')"
   ]
  },
  {
   "cell_type": "code",
   "execution_count": 180,
   "metadata": {
    "ExecuteTime": {
     "end_time": "2019-12-18T20:04:25.968361Z",
     "start_time": "2019-12-18T20:04:25.965170Z"
    }
   },
   "outputs": [],
   "source": [
    "_, p2 = scipy.stats.pearsonr(hind.squeeze().values, obs.isel(time=slice(1, None)).values)"
   ]
  },
  {
   "cell_type": "code",
   "execution_count": 181,
   "metadata": {
    "ExecuteTime": {
     "end_time": "2019-12-18T20:04:26.313749Z",
     "start_time": "2019-12-18T20:04:26.310423Z"
    }
   },
   "outputs": [
    {
     "data": {
      "text/plain": [
       "True"
      ]
     },
     "execution_count": 181,
     "metadata": {},
     "output_type": "execute_result"
    }
   ],
   "source": [
    "np.allclose(p1, p2)"
   ]
  },
  {
   "cell_type": "markdown",
   "metadata": {},
   "source": [
    "Show that `climpred` effective p with N samples is the same as normal p."
   ]
  },
  {
   "cell_type": "code",
   "execution_count": 193,
   "metadata": {
    "ExecuteTime": {
     "end_time": "2019-12-18T20:05:12.021158Z",
     "start_time": "2019-12-18T20:05:12.013842Z"
    }
   },
   "outputs": [],
   "source": [
    "from xskillscore import pearson_r\n",
    "def _pearson_r_eff_p_value(forecast, reference, dim=None, **metric_kwargs):\n",
    "\n",
    "    def _compute_autocorr(v, dim, n):\n",
    "        \"\"\"\n",
    "        Return normal and shifted time series\n",
    "        with equal dimensions so as not to\n",
    "        throw an error.\n",
    "        \"\"\"\n",
    "        shifted = v.isel({dim: slice(1, n)})\n",
    "        normal = v.isel({dim: slice(0, n - 1)})\n",
    "        # see explanation in autocorr for this\n",
    "        if dim not in list(v.coords):\n",
    "            normal[dim] = np.arange(1, n)\n",
    "        shifted[dim] = normal[dim]\n",
    "        return pearson_r(shifted, normal, dim)\n",
    "\n",
    "    def _calculate_p(t, n):\n",
    "        \"\"\"Calculates the p-value.\n",
    "\n",
    "        Args:\n",
    "            t (ndarray): t-test statistic.\n",
    "            n (ndarray): number of samples.\n",
    "\n",
    "        Returns:\n",
    "            p (ndarray): p-value.\n",
    "        \"\"\"\n",
    "        return scipy.stats.t.sf(np.abs(t), n - 2) * 2\n",
    "\n",
    "    n = forecast[dim].size\n",
    "    # find autocorrelation\n",
    "    fa, ra = forecast - forecast.mean(dim), reference - reference.mean(dim)\n",
    "    fauto = _compute_autocorr(fa, dim, n)\n",
    "    rauto = _compute_autocorr(ra, dim, n)\n",
    "    # compute effective sample size\n",
    "    n_eff = n * (1 - fauto * rauto) / (1 + fauto * rauto)\n",
    "    n_eff = np.floor(n_eff)\n",
    "    # constrain n_eff to be at the maximum the total number of samples\n",
    "    n_eff = n_eff.where(n_eff <= n, n)\n",
    "    # compute t-statistic\n",
    "    weights = metric_kwargs.get('weights', None)\n",
    "    skipna = metric_kwargs.get('skipna', False)\n",
    "    r = pearson_r(forecast, reference, dim=dim, weights=weights, skipna=skipna)\n",
    "    t = r * np.sqrt((n_eff - 2) / (1 - r ** 2))\n",
    "    # compute effective p-value\n",
    "    p = xr.apply_ufunc(_calculate_p, t, n_eff, dask=\"parallelized\", output_dtypes=[float])\n",
    "    return p"
   ]
  },
  {
   "cell_type": "code",
   "execution_count": 183,
   "metadata": {
    "ExecuteTime": {
     "end_time": "2019-12-18T20:04:34.569250Z",
     "start_time": "2019-12-18T20:04:34.565637Z"
    }
   },
   "outputs": [],
   "source": [
    "a = hind.squeeze()\n",
    "a[\"init\"] = np.arange(1991, 2101)\n",
    "a = a.rename({'init': 'time'})"
   ]
  },
  {
   "cell_type": "code",
   "execution_count": 184,
   "metadata": {
    "ExecuteTime": {
     "end_time": "2019-12-18T20:04:43.568800Z",
     "start_time": "2019-12-18T20:04:43.565693Z"
    }
   },
   "outputs": [],
   "source": [
    "b = obs.sel(time=slice(1991, 2100))"
   ]
  },
  {
   "cell_type": "code",
   "execution_count": 188,
   "metadata": {
    "ExecuteTime": {
     "end_time": "2019-12-18T20:04:53.341695Z",
     "start_time": "2019-12-18T20:04:53.333038Z"
    }
   },
   "outputs": [],
   "source": [
    "p3 = _pearson_r_eff_p_value(a, b, dim=\"time\")"
   ]
  },
  {
   "cell_type": "code",
   "execution_count": 194,
   "metadata": {
    "ExecuteTime": {
     "end_time": "2019-12-18T20:05:12.910113Z",
     "start_time": "2019-12-18T20:05:12.900353Z"
    }
   },
   "outputs": [],
   "source": [
    "eff_p = _pearson_r_eff_p_value(a, b, dim=\"time\")"
   ]
  }
 ],
 "metadata": {
  "kernelspec": {
   "display_name": "Python 3",
   "language": "python",
   "name": "python3"
  },
  "language_info": {
   "codemirror_mode": {
    "name": "ipython",
    "version": 3
   },
   "file_extension": ".py",
   "mimetype": "text/x-python",
   "name": "python",
   "nbconvert_exporter": "python",
   "pygments_lexer": "ipython3",
   "version": "3.6.7"
  },
  "toc": {
   "base_numbering": 1,
   "nav_menu": {},
   "number_sections": true,
   "sideBar": true,
   "skip_h1_title": false,
   "title_cell": "Table of Contents",
   "title_sidebar": "Contents",
   "toc_cell": false,
   "toc_position": {},
   "toc_section_display": true,
   "toc_window_display": false
  }
 },
 "nbformat": 4,
 "nbformat_minor": 2
}
